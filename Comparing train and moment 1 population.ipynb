{
 "cells": [
  {
   "cell_type": "markdown",
   "id": "a91d16f2",
   "metadata": {},
   "source": [
    "# Imports"
   ]
  },
  {
   "cell_type": "code",
   "execution_count": 1,
   "id": "7fff49fb",
   "metadata": {},
   "outputs": [],
   "source": [
    "import os\n",
    "import base64\n",
    "import joblib\n",
    "import pandas as pd\n",
    "import numpy as np\n",
    "import category_encoders as ce\n",
    "import json\n",
    "import joblib\n",
    "import pickle\n",
    "import math\n",
    "import requests\n",
    "from copy import deepcopy\n",
    "import seaborn as sns\n",
    "from uuid import uuid4\n",
    "\n",
    "from sklearn.model_selection import train_test_split\n",
    "from sklearn.pipeline import make_pipeline, Pipeline\n",
    "from sklearn.model_selection import cross_val_score\n",
    "from category_encoders import OneHotEncoder\n",
    "from sklearn.impute import SimpleImputer\n",
    "from sklearn.preprocessing import StandardScaler, OneHotEncoder\n",
    "from sklearn.compose import ColumnTransformer\n",
    "from sklearn.model_selection import cross_val_score\n",
    "from sklearn.ensemble import RandomForestClassifier, GradientBoostingClassifier, GradientBoostingRegressor\n",
    "from sklearn.tree import DecisionTreeClassifier, DecisionTreeRegressor\n",
    "from sklearn.linear_model import LogisticRegression\n",
    "from sklearn.metrics import precision_score, recall_score, f1_score, accuracy_score, roc_auc_score\n",
    "\n",
    "from sklearn.base import BaseEstimator, TransformerMixin\n",
    "\n",
    "from pandas_profiling import ProfileReport\n",
    "\n",
    "import matplotlib.pyplot as plt\n",
    "import matplotlib.image as mpimg\n",
    "plt.style.use('ggplot')\n",
    "%matplotlib inline"
   ]
  },
  {
   "cell_type": "markdown",
   "id": "9b97a2d1",
   "metadata": {},
   "source": [
    "# Custom transformer imports"
   ]
  },
  {
   "cell_type": "code",
   "execution_count": 2,
   "id": "78aeb7e9",
   "metadata": {},
   "outputs": [],
   "source": [
    "# WIP preprocessor which assigns categories and compresses some code\n",
    "from custom_transformers.preprocessor import ColumnConverter\n",
    "\n",
    "# WIP ordinal category preprocessor\n",
    "from custom_transformers.custom_ordinal_encoder import custom_oe\n",
    "\n",
    "#WIP column selector\n",
    "from custom_transformers.featureselector import SelectColumns"
   ]
  },
  {
   "cell_type": "markdown",
   "id": "a1637c29",
   "metadata": {},
   "source": [
    "# Functions"
   ]
  },
  {
   "cell_type": "code",
   "execution_count": 3,
   "id": "d4102f25",
   "metadata": {},
   "outputs": [],
   "source": [
    "def load_train_data():\n",
    "    df = pd.read_csv(os.path.join(\"data\", \"train_data.csv\"))\n",
    "    return df\n",
    "\n",
    "data_train = load_train_data()"
   ]
  },
  {
   "cell_type": "code",
   "execution_count": 4,
   "id": "c2ec538d",
   "metadata": {},
   "outputs": [],
   "source": [
    "def assign_index(df, indexcol: str):\n",
    "    _df = df.copy()\n",
    "    _df = _df.set_index(indexcol)\n",
    "    return _df"
   ]
  },
  {
   "cell_type": "markdown",
   "id": "5a5fc9b8",
   "metadata": {},
   "source": [
    "### These function will be replaced by the preprocessors\n",
    "They have been left here in case I need to come back to them"
   ]
  },
  {
   "cell_type": "code",
   "execution_count": 5,
   "id": "93d93026",
   "metadata": {},
   "outputs": [],
   "source": [
    "def assign_categorical(df, column_list: []):\n",
    "    _df = df.copy()\n",
    "    for column in column_list:\n",
    "        _df[column] = _df[column].astype('category')\n",
    "    return _df"
   ]
  },
  {
   "cell_type": "code",
   "execution_count": 6,
   "id": "66624bdf",
   "metadata": {},
   "outputs": [],
   "source": [
    "def encode_unordered_categorical(df, column_list: []):\n",
    "    _df = df.copy()\n",
    "    ohe = ce.OneHotEncoder(verbose=1,\n",
    "                           cols=column_list,\n",
    "                           handle_missing=\"indicator\",\n",
    "                           use_cat_names=True)\n",
    "    _df = ohe.fit_transform(_df)\n",
    "    return _df"
   ]
  },
  {
   "cell_type": "code",
   "execution_count": 7,
   "id": "f57b0aaf",
   "metadata": {},
   "outputs": [],
   "source": [
    "def encode_ordinal_categorical(df, column_list: []):\n",
    "    _df = df.copy()\n",
    "    orde = ce.OrdinalEncoder(verbose=1,\n",
    "                             cols=column_list,\n",
    "                             handle_unknown='value',\n",
    "                             handle_missing='value')\n",
    "    _df = orde.fit_transform(_df)\n",
    "    return _df"
   ]
  },
  {
   "cell_type": "code",
   "execution_count": 8,
   "id": "aaaf75ee",
   "metadata": {},
   "outputs": [],
   "source": [
    "def build_target(df, target: str):\n",
    "    _df = df.copy()\n",
    "    _df[target] = np.where(_df[target]== 'Yes', True, False)\n",
    "    return _df[target]"
   ]
  },
  {
   "cell_type": "code",
   "execution_count": 9,
   "id": "81eadd8a",
   "metadata": {},
   "outputs": [],
   "source": [
    "def load_moment_1():\n",
    "    data = pd.read_csv(os.path.join(\"data\", \"moment_1_requests.csv\")).set_index('admission_id')\n",
    "    moment_1 = (data.observation.apply(json.loads)\n",
    "            .apply(pd.Series)\n",
    "            .drop('index', axis=1)\n",
    "            .drop('admission_id', axis=1))\n",
    "    moment_1['predicted_readmitted'] = data['predicted_readmitted']\n",
    "    moment_1['actual_readmitted'] = data['actual_readmitted']\n",
    "    moment_1 = moment_1.drop(index=moment_1.index[0], axis=0)\n",
    "    return moment_1"
   ]
  },
  {
   "cell_type": "markdown",
   "id": "2790e772",
   "metadata": {},
   "source": [
    "# Feature, index and targets\n",
    "The features are listed as their intended category type (based on the provided data dictionary):\n",
    "\n",
    "   1. numerical features\n",
    "   2. boolean/binary features (mostly treated as categorical)\n",
    "   3. unordered categories\n",
    "   4. ordinal categories\n",
    "   \n",
    "Times and dates were requested but are unavailable"
   ]
  },
  {
   "cell_type": "code",
   "execution_count": 10,
   "id": "e51f32a0",
   "metadata": {},
   "outputs": [],
   "source": [
    "target = 'readmitted'\n",
    "\n",
    "index_col = 'admission_id'\n",
    "\n",
    "all_features = ['patient_id',\n",
    "                'race',\n",
    "                'gender',\n",
    "                'age',\n",
    "                'weight',                \n",
    "                'admission_type_code', \n",
    "                'discharge_disposition_code',\n",
    "                'admission_source_code', \n",
    "                'time_in_hospital', \n",
    "                'payer_code',\n",
    "                'medical_specialty',\n",
    "                'has_prosthesis',\n",
    "                'complete_vaccination_status',\n",
    "                'num_lab_procedures',\n",
    "                'num_procedures',\n",
    "                'num_medications',\n",
    "                'number_outpatient',\n",
    "                'number_emergency',\n",
    "                'number_inpatient',\n",
    "                'diag_1',\n",
    "                'diag_2',\n",
    "                'diag_3',\n",
    "                'number_diagnoses',\n",
    "                'blood_type',\n",
    "                'hemoglobin_level',\n",
    "                'blood_transfusion',\n",
    "                'max_glu_serum',\n",
    "                'A1Cresult',\n",
    "                'diuretics',\n",
    "                'insulin',\n",
    "                'change',\n",
    "                'diabetesMed']\n",
    "\n",
    "num_features = ['time_in_hospital', \n",
    "                'num_lab_procedures',\n",
    "                'num_procedures',\n",
    "                'num_medications',\n",
    "                'number_outpatient',\n",
    "                'number_emergency',\n",
    "                'number_inpatient',\n",
    "                'number_diagnoses',\n",
    "                'hemoglobin_level']\n",
    "\n",
    "bool_features = ['has_prosthesis',\n",
    "                 'blood_transfusion',\n",
    "                 'diuretics',\n",
    "                 'insulin',\n",
    "                 'change',\n",
    "                 'diabetesMed']\n",
    "\n",
    "cat_features = ['race',\n",
    "                'gender',\n",
    "                'admission_type_code', \n",
    "                'discharge_disposition_code',\n",
    "                'admission_source_code', \n",
    "                'payer_code',\n",
    "                'medical_specialty',\n",
    "                #'diag_1',\n",
    "                #'diag_2',\n",
    "                #'diag_3',\n",
    "                #'blood_type',\n",
    "                ]\n",
    "\n",
    "ord_cat_features = ['age',\n",
    "                    'weight', #lots of missing or unknown values\n",
    "                    'max_glu_serum',\n",
    "                    'A1Cresult',\n",
    "                    'complete_vaccination_status',]\n",
    "# missing features: date of admission and date of release"
   ]
  },
  {
   "cell_type": "markdown",
   "id": "997fefd9",
   "metadata": {},
   "source": [
    "# Profile report after transforming data\n",
    "Transformation done using the same functions applied for model development\n",
    "No imputation or scaling "
   ]
  },
  {
   "cell_type": "code",
   "execution_count": 11,
   "id": "0d461a3b",
   "metadata": {},
   "outputs": [],
   "source": [
    "numeric_transformer = Pipeline(steps=[\n",
    "    ('imputer', SimpleImputer(strategy='median')),\n",
    "    ('scaler', StandardScaler())])\n",
    "categorical_transformer = Pipeline(steps=[\n",
    "    ('imputer', SimpleImputer(strategy='constant', fill_value='unknown')),\n",
    "    ('onehot', OneHotEncoder(handle_unknown='ignore', sparse=False))])\n",
    "preprocessor = ColumnTransformer(\n",
    "    transformers=[\n",
    "        ('num', numeric_transformer, num_features),\n",
    "        ('cat', categorical_transformer, cat_features)],\n",
    "remainder=\"passthrough\",sparse_threshold=0)"
   ]
  },
  {
   "cell_type": "code",
   "execution_count": 12,
   "id": "55ed3842",
   "metadata": {},
   "outputs": [],
   "source": [
    "numeric_transformer = Pipeline(steps=[\n",
    "    ('imputer', SimpleImputer(strategy='median')),\n",
    "    ('scaler', StandardScaler())])\n",
    "\n",
    "preprocessor = ColumnTransformer(\n",
    "    transformers=[\n",
    "        ('num', numeric_transformer, num_features)],\n",
    "remainder=\"passthrough\",sparse_threshold=0)"
   ]
  },
  {
   "cell_type": "code",
   "execution_count": 13,
   "id": "b47e5b8d",
   "metadata": {},
   "outputs": [],
   "source": [
    "_df = data_train.copy()\n",
    "_df['readmitted'] = build_target(_df, 'readmitted')\n",
    "_df = _df.set_index('admission_id')"
   ]
  },
  {
   "cell_type": "code",
   "execution_count": 14,
   "id": "0c5e8eb5",
   "metadata": {},
   "outputs": [],
   "source": [
    "cc = ColumnConverter()\n",
    "_df = cc.fit_transform(_df)"
   ]
  },
  {
   "cell_type": "code",
   "execution_count": 15,
   "id": "28ac2615",
   "metadata": {},
   "outputs": [
    {
     "data": {
      "text/plain": [
       "(81412, 33)"
      ]
     },
     "execution_count": 15,
     "metadata": {},
     "output_type": "execute_result"
    }
   ],
   "source": [
    "preprocessor.fit_transform(_df).shape"
   ]
  },
  {
   "cell_type": "code",
   "execution_count": 16,
   "id": "90309fbc",
   "metadata": {},
   "outputs": [],
   "source": [
    "# ProfileReport(_df)"
   ]
  },
  {
   "cell_type": "code",
   "execution_count": 17,
   "id": "1aabee74",
   "metadata": {},
   "outputs": [],
   "source": [
    "# profile_processed = ProfileReport(_df)\n",
    "# profile_processed.to_file(\"processed_profile.html\")"
   ]
  },
  {
   "cell_type": "code",
   "execution_count": 18,
   "id": "c4eda5e5",
   "metadata": {},
   "outputs": [],
   "source": [
    "moment_1 = load_moment_1()\n",
    "moment_1['predicted_readmitted'] = build_target(moment_1, 'predicted_readmitted')\n",
    "moment_1['actual_readmitted'] = build_target(moment_1, 'actual_readmitted')\n",
    "# initial_profile = ProfileReport(moment_1)\n",
    "# initial_profile.to_file(\"moment_1_profile.html\")"
   ]
  },
  {
   "cell_type": "code",
   "execution_count": 19,
   "id": "0ad2907d",
   "metadata": {},
   "outputs": [
    {
     "data": {
      "text/plain": [
       "array([[2.532900175777608, 1.474984374300299, 2.1404878833021366, ...,\n",
       "        True, False, False],\n",
       "       [-1.1288632120500517, -0.4557014840087777, 2.727065056674451, ...,\n",
       "        True, False, False],\n",
       "       [-0.7959756313384463, -0.5573165291829396, -0.20582081018712015,\n",
       "        ..., True, True, False],\n",
       "       ...,\n",
       "       [0.20268711079637003, 1.1193317161907324, -0.20582081018712015,\n",
       "        ..., True, False, False],\n",
       "       [-0.7959756313384463, 0.40802639997159873, -0.7923979835594344,\n",
       "        ..., True, False, False],\n",
       "       [-0.7959756313384463, 0.3064113547974368, -0.20582081018712015,\n",
       "        ..., True, True, False]], dtype=object)"
      ]
     },
     "execution_count": 19,
     "metadata": {},
     "output_type": "execute_result"
    }
   ],
   "source": [
    "moment_1 = cc.fit_transform(moment_1)\n",
    "preprocessor.fit_transform(moment_1)"
   ]
  },
  {
   "cell_type": "markdown",
   "id": "cb214d2c",
   "metadata": {},
   "source": [
    "# Data technical summary"
   ]
  },
  {
   "cell_type": "code",
   "execution_count": 20,
   "id": "d7a33aef",
   "metadata": {},
   "outputs": [
    {
     "data": {
      "text/plain": [
       "count    8.141200e+04\n",
       "mean     1.086395e+08\n",
       "std      7.732453e+07\n",
       "min      1.980000e+02\n",
       "25%      4.683906e+07\n",
       "50%      9.083437e+07\n",
       "75%      1.751117e+08\n",
       "max      3.790052e+08\n",
       "Name: patient_id, dtype: float64"
      ]
     },
     "execution_count": 20,
     "metadata": {},
     "output_type": "execute_result"
    }
   ],
   "source": [
    "_df.patient_id.describe()"
   ]
  },
  {
   "cell_type": "code",
   "execution_count": 21,
   "id": "a9eb5beb",
   "metadata": {},
   "outputs": [
    {
     "name": "stdout",
     "output_type": "stream",
     "text": [
      "count    8.141200e+04\n",
      "mean     1.086395e+08\n",
      "std      7.732453e+07\n",
      "min      1.980000e+02\n",
      "25%      4.683906e+07\n",
      "50%      9.083437e+07\n",
      "75%      1.751117e+08\n",
      "max      3.790052e+08\n",
      "Name: patient_id, dtype: float64\n",
      "count     81412\n",
      "unique        5\n",
      "top       white\n",
      "freq      60873\n",
      "Name: race, dtype: object\n",
      "count      81412\n",
      "unique         3\n",
      "top       female\n",
      "freq       43719\n",
      "Name: gender, dtype: object\n",
      "count     81412\n",
      "unique       11\n",
      "top       70-80\n",
      "freq      20261\n",
      "Name: age, dtype: object\n",
      "count       81412\n",
      "unique         10\n",
      "top       unknown\n",
      "freq        78913\n",
      "Name: weight, dtype: object\n",
      "count         80250\n",
      "unique            6\n",
      "top       emergency\n",
      "freq          42562\n",
      "Name: admission_type_code, dtype: object\n",
      "count               81412\n",
      "unique                  7\n",
      "top       discharged_home\n",
      "freq                47854\n",
      "Name: discharge_disposition_code, dtype: object\n",
      "count         81412\n",
      "unique            4\n",
      "top       emergency\n",
      "freq          45942\n",
      "Name: admission_source_code, dtype: object\n",
      "count    81412.000000\n",
      "mean         4.395924\n",
      "std          2.975844\n",
      "min          1.000000\n",
      "25%          2.000000\n",
      "50%          4.000000\n",
      "75%          6.000000\n",
      "max         14.000000\n",
      "Name: time_in_hospital, dtype: float64\n",
      "count       81412\n",
      "unique          3\n",
      "top       insured\n",
      "freq        45131\n",
      "Name: payer_code, dtype: object\n",
      "count       81412\n",
      "unique         25\n",
      "top       unknown\n",
      "freq        40020\n",
      "Name: medical_specialty, dtype: object\n",
      "count     81412\n",
      "unique        2\n",
      "top       False\n",
      "freq      80550\n",
      "Name: has_prosthesis, dtype: object\n",
      "count     81412\n",
      "unique        1\n",
      "top        True\n",
      "freq      81412\n",
      "Name: complete_vaccination_status, dtype: object\n",
      "count    79919.000000\n",
      "mean        43.071197\n",
      "std         19.630405\n",
      "min          1.000000\n",
      "25%         32.000000\n",
      "50%         44.000000\n",
      "75%         57.000000\n",
      "max        132.000000\n",
      "Name: num_lab_procedures, dtype: float64\n",
      "count    81412.000000\n",
      "mean         1.341768\n",
      "std          1.708465\n",
      "min          0.000000\n",
      "25%          0.000000\n",
      "50%          1.000000\n",
      "75%          2.000000\n",
      "max          6.000000\n",
      "Name: num_procedures, dtype: float64\n",
      "count    78734.000000\n",
      "mean        16.024424\n",
      "std          8.107235\n",
      "min          1.000000\n",
      "25%         10.000000\n",
      "50%         15.000000\n",
      "75%         20.000000\n",
      "max         81.000000\n",
      "Name: num_medications, dtype: float64\n",
      "count    81412.000000\n",
      "mean         0.370953\n",
      "std          1.278538\n",
      "min          0.000000\n",
      "25%          0.000000\n",
      "50%          0.000000\n",
      "75%          0.000000\n",
      "max         42.000000\n",
      "Name: number_outpatient, dtype: float64\n",
      "count    81412.000000\n",
      "mean         0.197588\n",
      "std          0.881290\n",
      "min          0.000000\n",
      "25%          0.000000\n",
      "50%          0.000000\n",
      "75%          0.000000\n",
      "max         64.000000\n",
      "Name: number_emergency, dtype: float64\n",
      "count    81412.000000\n",
      "mean         0.637793\n",
      "std          1.265472\n",
      "min          0.000000\n",
      "25%          0.000000\n",
      "50%          0.000000\n",
      "75%          1.000000\n",
      "max         21.000000\n",
      "Name: number_inpatient, dtype: float64\n",
      "count           81412\n",
      "unique             18\n",
      "top       circulatory\n",
      "freq            24193\n",
      "Name: diag_1, dtype: object\n",
      "count           81412\n",
      "unique             18\n",
      "top       circulatory\n",
      "freq            24666\n",
      "Name: diag_2, dtype: object\n",
      "count           81412\n",
      "unique             18\n",
      "top       circulatory\n",
      "freq            23979\n",
      "Name: diag_3, dtype: object\n",
      "count    81412.000000\n",
      "mean         7.421965\n",
      "std          1.931480\n",
      "min          1.000000\n",
      "25%          6.000000\n",
      "50%          8.000000\n",
      "75%          9.000000\n",
      "max         16.000000\n",
      "Name: number_diagnoses, dtype: float64\n",
      "count     81412\n",
      "unique        8\n",
      "top          o+\n",
      "freq      32053\n",
      "Name: blood_type, dtype: object\n",
      "count    81412.000000\n",
      "mean        14.192328\n",
      "std          1.060000\n",
      "min         10.500000\n",
      "25%         13.400000\n",
      "50%         14.100000\n",
      "75%         15.000000\n",
      "max         18.600000\n",
      "Name: hemoglobin_level, dtype: float64\n",
      "count     81412\n",
      "unique        2\n",
      "top       False\n",
      "freq      71697\n",
      "Name: blood_transfusion, dtype: object\n",
      "count       81412\n",
      "unique          4\n",
      "top       unknown\n",
      "freq        77159\n",
      "Name: max_glu_serum, dtype: object\n",
      "count       81412\n",
      "unique          4\n",
      "top       unknown\n",
      "freq        67807\n",
      "Name: A1Cresult, dtype: object\n",
      "count     81412\n",
      "unique        2\n",
      "top       False\n",
      "freq      79893\n",
      "Name: diuretics, dtype: object\n",
      "count     81412\n",
      "unique        2\n",
      "top        True\n",
      "freq      44360\n",
      "Name: insulin, dtype: object\n",
      "count     81412\n",
      "unique        2\n",
      "top       False\n",
      "freq      43772\n",
      "Name: change, dtype: object\n",
      "count     81412\n",
      "unique        2\n",
      "top        True\n",
      "freq      62718\n",
      "Name: diabetesMed, dtype: object\n",
      "count     81412\n",
      "unique        2\n",
      "top       False\n",
      "freq      72340\n",
      "Name: readmitted, dtype: object\n"
     ]
    }
   ],
   "source": [
    "for column in _df.columns.tolist():\n",
    "    print(_df[column].describe())"
   ]
  },
  {
   "cell_type": "markdown",
   "id": "32a69667",
   "metadata": {},
   "source": [
    "# Plots for comparing old and new data"
   ]
  },
  {
   "cell_type": "code",
   "execution_count": 80,
   "id": "4804c53c",
   "metadata": {},
   "outputs": [
    {
     "data": {
      "text/html": [
       "<div>\n",
       "<style scoped>\n",
       "    .dataframe tbody tr th:only-of-type {\n",
       "        vertical-align: middle;\n",
       "    }\n",
       "\n",
       "    .dataframe tbody tr th {\n",
       "        vertical-align: top;\n",
       "    }\n",
       "\n",
       "    .dataframe thead th {\n",
       "        text-align: right;\n",
       "    }\n",
       "</style>\n",
       "<table border=\"1\" class=\"dataframe\">\n",
       "  <thead>\n",
       "    <tr style=\"text-align: right;\">\n",
       "      <th></th>\n",
       "      <th>white</th>\n",
       "      <th>black</th>\n",
       "      <th>unknown/other</th>\n",
       "      <th>hispanic</th>\n",
       "      <th>asian</th>\n",
       "    </tr>\n",
       "  </thead>\n",
       "  <tbody>\n",
       "    <tr>\n",
       "      <th>Training data</th>\n",
       "      <td>74.771532</td>\n",
       "      <td>18.901390</td>\n",
       "      <td>3.693559</td>\n",
       "      <td>1.998477</td>\n",
       "      <td>0.635042</td>\n",
       "    </tr>\n",
       "    <tr>\n",
       "      <th>Moment 1 data</th>\n",
       "      <td>74.749147</td>\n",
       "      <td>18.537292</td>\n",
       "      <td>4.055033</td>\n",
       "      <td>2.037861</td>\n",
       "      <td>0.620668</td>\n",
       "    </tr>\n",
       "  </tbody>\n",
       "</table>\n",
       "</div>"
      ],
      "text/plain": [
       "                   white      black  unknown/other  hispanic     asian\n",
       "Training data  74.771532  18.901390       3.693559  1.998477  0.635042\n",
       "Moment 1 data  74.749147  18.537292       4.055033  2.037861  0.620668"
      ]
     },
     "execution_count": 80,
     "metadata": {},
     "output_type": "execute_result"
    },
    {
     "data": {
      "image/png": "[encoded data removed]",
      "text/plain": [
       "<Figure size 216x48 with 1 Axes>"
      ]
     },
     "metadata": {
      "needs_background": "light"
     },
     "output_type": "display_data"
    }
   ],
   "source": [
    "old = (_df.race.value_counts()/_df.race.value_counts().sum()).rename(\"Training data\")\n",
    "m1 = (moment_1.race.value_counts()/moment_1.race.value_counts().sum()).rename(\"Moment 1 data\")\n",
    "\n",
    "data = pd.concat([old, m1], axis=1).transpose()*100\n",
    "\n",
    "plt.rcParams[\"figure.figsize\"] = [3, 2/3]\n",
    "data.plot.barh(stacked=True, legend=True);\n",
    "plt.rcParams.update({'font.size': 12})\n",
    "plt.xlabel(\"Proportion of patients (%)\", size=10)\n",
    "plt.ylabel(\"Race\", size=10)\n",
    "plt.xticks(fontsize=9, rotation=0)\n",
    "plt.yticks(fontsize=9, rotation=0)\n",
    "plt.legend(loc=\"right\", bbox_to_anchor=(1, -1.75), ncol=2, fontsize=9);\n",
    "\n",
    "data"
   ]
  },
  {
   "cell_type": "code",
   "execution_count": 77,
   "id": "ab867c36",
   "metadata": {},
   "outputs": [
    {
     "data": {
      "text/html": [
       "<div>\n",
       "<style scoped>\n",
       "    .dataframe tbody tr th:only-of-type {\n",
       "        vertical-align: middle;\n",
       "    }\n",
       "\n",
       "    .dataframe tbody tr th {\n",
       "        vertical-align: top;\n",
       "    }\n",
       "\n",
       "    .dataframe thead th {\n",
       "        text-align: right;\n",
       "    }\n",
       "</style>\n",
       "<table border=\"1\" class=\"dataframe\">\n",
       "  <thead>\n",
       "    <tr style=\"text-align: right;\">\n",
       "      <th></th>\n",
       "      <th>female</th>\n",
       "      <th>male</th>\n",
       "      <th>unknown</th>\n",
       "    </tr>\n",
       "  </thead>\n",
       "  <tbody>\n",
       "    <tr>\n",
       "      <th>Training data</th>\n",
       "      <td>53.700929</td>\n",
       "      <td>46.296615</td>\n",
       "      <td>0.002457</td>\n",
       "    </tr>\n",
       "    <tr>\n",
       "      <th>Moment 1 data</th>\n",
       "      <td>54.039516</td>\n",
       "      <td>45.950140</td>\n",
       "      <td>0.010344</td>\n",
       "    </tr>\n",
       "  </tbody>\n",
       "</table>\n",
       "</div>"
      ],
      "text/plain": [
       "                  female       male   unknown\n",
       "Training data  53.700929  46.296615  0.002457\n",
       "Moment 1 data  54.039516  45.950140  0.010344"
      ]
     },
     "execution_count": 77,
     "metadata": {},
     "output_type": "execute_result"
    },
    {
     "data": {
      "image/png": "[encoded data removed]",
      "text/plain": [
       "<Figure size 216x48 with 1 Axes>"
      ]
     },
     "metadata": {
      "needs_background": "light"
     },
     "output_type": "display_data"
    }
   ],
   "source": [
    "old = (_df.gender.value_counts()/_df.gender.value_counts().sum()).rename(\"Training data\")\n",
    "m1 = (moment_1.gender.value_counts()/moment_1.gender.value_counts().sum()).rename(\"Moment 1 data\")\n",
    "\n",
    "data = pd.concat([old, m1], axis=1).transpose()*100\n",
    "\n",
    "plt.rcParams[\"figure.figsize\"] = [3, 2/3]\n",
    "data.plot.barh(stacked=True, legend=None);\n",
    "plt.rcParams.update({'font.size': 12})\n",
    "plt.xlabel(\"Proportion of patients (%)\", size=10)\n",
    "plt.ylabel(\"Gender\", size=10)\n",
    "plt.xticks(fontsize=9, rotation=0)\n",
    "plt.yticks(fontsize=9, rotation=0)\n",
    "plt.legend(loc=\"right\", bbox_to_anchor=(1, -1.5), ncol=2, fontsize=9);\n",
    "\n",
    "data"
   ]
  },
  {
   "cell_type": "code",
   "execution_count": 62,
   "id": "649a0f33",
   "metadata": {},
   "outputs": [
    {
     "data": {
      "image/png": "[encoded data removed]",
      "text/plain": [
       "<Figure size 216x264 with 1 Axes>"
      ]
     },
     "metadata": {
      "needs_background": "light"
     },
     "output_type": "display_data"
    }
   ],
   "source": [
    "old = (_df.age.value_counts()/_df.age.value_counts().sum()).rename(\"Training data\")\n",
    "m1 = (moment_1.age.value_counts()/moment_1.age.value_counts().sum()).rename(\"Moment 1 data\")\n",
    "\n",
    "data = pd.concat([old, m1], axis=1).sort_index()*100\n",
    "\n",
    "plt.rcParams[\"figure.figsize\"] = [3, 11/3]\n",
    "data.plot.barh(stacked=False, legend=True);\n",
    "plt.rcParams.update({'font.size': 12})\n",
    "plt.xlabel(\"Proportion of patients (%)\", size=10)\n",
    "plt.ylabel(\"Age range\", size=10)\n",
    "plt.xticks(fontsize=9, rotation=0)\n",
    "plt.yticks(fontsize=9, rotation=0)\n",
    "plt.legend(loc=\"right\", bbox_to_anchor=(1, -0.25), ncol=2, fontsize=9);"
   ]
  },
  {
   "cell_type": "code",
   "execution_count": 79,
   "id": "69893d96",
   "metadata": {},
   "outputs": [
    {
     "data": {
      "image/png": "[encoded data removed]",
      "text/plain": [
       "<Figure size 216x48 with 1 Axes>"
      ]
     },
     "metadata": {
      "needs_background": "light"
     },
     "output_type": "display_data"
    }
   ],
   "source": [
    "old = (_df.admission_type_code.value_counts()/_df.admission_type_code.value_counts().sum()).rename(\"Training data\")\n",
    "m1 = (moment_1.admission_type_code.value_counts()/moment_1.admission_type_code.value_counts().sum()).rename(\"Moment 1 data\")\n",
    "\n",
    "data = pd.concat([old, m1], axis=1).transpose()*100\n",
    "plt.rcParams[\"figure.figsize\"] = [3, 2/3]\n",
    "data.plot.barh(stacked=True, legend=True);\n",
    "plt.rcParams.update({'font.size': 12})\n",
    "plt.xlabel(\"Proportion of patients (%)\", size=10)\n",
    "plt.ylabel(\"Admission type\", size=10)\n",
    "plt.xticks(fontsize=9, rotation=0)\n",
    "plt.yticks(fontsize=9, rotation=0)\n",
    "plt.legend(loc=\"right\", bbox_to_anchor=(1, -1.75), ncol=2, fontsize=9);"
   ]
  },
  {
   "cell_type": "code",
   "execution_count": 64,
   "id": "64160142",
   "metadata": {},
   "outputs": [
    {
     "data": {
      "image/png": "[encoded data removed]",
      "text/plain": [
       "<Figure size 216x48 with 1 Axes>"
      ]
     },
     "metadata": {
      "needs_background": "light"
     },
     "output_type": "display_data"
    }
   ],
   "source": [
    "old = (_df.admission_source_code.value_counts()/_df.admission_source_code.value_counts().sum()).rename(\"Training data\")\n",
    "m1 = (moment_1.admission_source_code.value_counts()/moment_1.admission_source_code.value_counts().sum()).rename(\"Moment 1 data\")\n",
    "\n",
    "data = pd.concat([old, m1], axis=1).transpose()*100\n",
    "plt.rcParams[\"figure.figsize\"] = [3, 2/3]\n",
    "data.plot.barh(stacked=True, legend=True);\n",
    "plt.rcParams.update({'font.size': 12})\n",
    "plt.xlabel(\"Proportion of patients (%)\", size=10)\n",
    "plt.ylabel(\"Admission source\", size=10)\n",
    "plt.xticks(fontsize=9, rotation=0)\n",
    "plt.yticks(fontsize=9, rotation=0)\n",
    "plt.legend(loc=\"right\", bbox_to_anchor=(1, -1.5), ncol=2, fontsize=9);"
   ]
  },
  {
   "cell_type": "code",
   "execution_count": 81,
   "id": "cbb9ed3e",
   "metadata": {},
   "outputs": [
    {
     "data": {
      "text/html": [
       "<div>\n",
       "<style scoped>\n",
       "    .dataframe tbody tr th:only-of-type {\n",
       "        vertical-align: middle;\n",
       "    }\n",
       "\n",
       "    .dataframe tbody tr th {\n",
       "        vertical-align: top;\n",
       "    }\n",
       "\n",
       "    .dataframe thead th {\n",
       "        text-align: right;\n",
       "    }\n",
       "</style>\n",
       "<table border=\"1\" class=\"dataframe\">\n",
       "  <thead>\n",
       "    <tr style=\"text-align: right;\">\n",
       "      <th></th>\n",
       "      <th>insured</th>\n",
       "      <th>unknown</th>\n",
       "      <th>SP</th>\n",
       "    </tr>\n",
       "  </thead>\n",
       "  <tbody>\n",
       "    <tr>\n",
       "      <th>Training data</th>\n",
       "      <td>55.435317</td>\n",
       "      <td>39.647718</td>\n",
       "      <td>4.916966</td>\n",
       "    </tr>\n",
       "    <tr>\n",
       "      <th>Moment 1 data</th>\n",
       "      <td>55.280852</td>\n",
       "      <td>39.650357</td>\n",
       "      <td>5.068791</td>\n",
       "    </tr>\n",
       "  </tbody>\n",
       "</table>\n",
       "</div>"
      ],
      "text/plain": [
       "                 insured    unknown        SP\n",
       "Training data  55.435317  39.647718  4.916966\n",
       "Moment 1 data  55.280852  39.650357  5.068791"
      ]
     },
     "execution_count": 81,
     "metadata": {},
     "output_type": "execute_result"
    },
    {
     "data": {
      "image/png": "[encoded data removed]",
      "text/plain": [
       "<Figure size 216x48 with 1 Axes>"
      ]
     },
     "metadata": {
      "needs_background": "light"
     },
     "output_type": "display_data"
    }
   ],
   "source": [
    "old = (_df.payer_code.value_counts()/_df.payer_code.value_counts().sum()).rename(\"Training data\")\n",
    "m1 = (moment_1.payer_code.value_counts()/moment_1.payer_code.value_counts().sum()).rename(\"Moment 1 data\")\n",
    "\n",
    "data = pd.concat([old, m1], axis=1).transpose()*100\n",
    "plt.rcParams[\"figure.figsize\"] = [3, 2/3]\n",
    "data.plot.barh(stacked=True, legend=True);\n",
    "plt.rcParams.update({'font.size': 12})\n",
    "plt.xlabel(\"Proportion of patients (%)\", size=10)\n",
    "plt.ylabel(\"Insurance status\", size=10)\n",
    "plt.xticks(fontsize=9, rotation=0)\n",
    "plt.yticks(fontsize=9, rotation=0)\n",
    "plt.legend(loc=\"right\", bbox_to_anchor=(1, -1.5), ncol=2, fontsize=9);\n",
    "\n",
    "data"
   ]
  },
  {
   "cell_type": "code",
   "execution_count": 28,
   "id": "2c8f651f",
   "metadata": {},
   "outputs": [
    {
     "data": {
      "image/png": "[encoded data removed]",
      "text/plain": [
       "<Figure size 216x240 with 1 Axes>"
      ]
     },
     "metadata": {
      "needs_background": "light"
     },
     "output_type": "display_data"
    }
   ],
   "source": [
    "data = _df.weight.value_counts().sort_index(ascending=False)\n",
    "plt.rcParams[\"figure.figsize\"] = [3, 10/3]\n",
    "data.plot.barh(stacked=True, legend=None);\n",
    "plt.rcParams.update({'font.size': 12})\n",
    "plt.xlabel(\"Number of patients\", size=10)\n",
    "plt.ylabel(\"weight\", size=10)\n",
    "plt.xticks(fontsize=9, rotation=0)\n",
    "plt.yticks(fontsize=9, rotation=0);"
   ]
  },
  {
   "cell_type": "code",
   "execution_count": 29,
   "id": "a5ea07a4",
   "metadata": {},
   "outputs": [],
   "source": [
    "#_df[_df.medical_specialty != 'unknown'].medical_specialty.value_counts()"
   ]
  },
  {
   "cell_type": "code",
   "execution_count": 30,
   "id": "9e815954",
   "metadata": {},
   "outputs": [],
   "source": [
    "#moment_1[moment_1.medical_specialty != 'unknown'].medical_specialty.value_counts()"
   ]
  },
  {
   "cell_type": "code",
   "execution_count": 31,
   "id": "e4d0a0af",
   "metadata": {},
   "outputs": [
    {
     "data": {
      "image/png": "[encoded data removed]",
      "text/plain": [
       "<Figure size 216x120 with 1 Axes>"
      ]
     },
     "metadata": {
      "needs_background": "light"
     },
     "output_type": "display_data"
    }
   ],
   "source": [
    "data = _df[_df.medical_specialty != 'unknown'].medical_specialty.value_counts().nlargest(5).sort_values()\n",
    "plt.rcParams[\"figure.figsize\"] = [3, 5/3]\n",
    "data.plot.barh(stacked=True, legend=None);\n",
    "plt.rcParams.update({'font.size': 12})\n",
    "plt.xlabel(\"Number of patients\", size=10)\n",
    "plt.ylabel(\"Specialty\", size=10)\n",
    "plt.title(\"Training data\", size=10)\n",
    "plt.xticks(fontsize=9, rotation=0)\n",
    "plt.yticks(fontsize=9, rotation=0);"
   ]
  },
  {
   "cell_type": "code",
   "execution_count": 32,
   "id": "d17859d3",
   "metadata": {},
   "outputs": [
    {
     "data": {
      "image/png": "[encoded data removed]",
      "text/plain": [
       "<Figure size 216x120 with 1 Axes>"
      ]
     },
     "metadata": {
      "needs_background": "light"
     },
     "output_type": "display_data"
    }
   ],
   "source": [
    "data = moment_1[moment_1.medical_specialty != 'unknown'].medical_specialty.value_counts().nlargest(5).sort_values()\n",
    "plt.rcParams[\"figure.figsize\"] = [3, 5/3]\n",
    "data.plot.barh(stacked=True, legend=None);\n",
    "plt.rcParams.update({'font.size': 12})\n",
    "plt.xlabel(\"Number of patients\", size=10)\n",
    "plt.ylabel(\"Specialty\", size=10)\n",
    "plt.title(\"Moment 1 data\", size=10)\n",
    "plt.xticks(fontsize=9, rotation=0)\n",
    "plt.yticks(fontsize=9, rotation=0);"
   ]
  },
  {
   "cell_type": "code",
   "execution_count": 68,
   "id": "74383b93",
   "metadata": {},
   "outputs": [
    {
     "data": {
      "image/png": "[encoded data removed]",
      "text/plain": [
       "<Figure size 216x108 with 1 Axes>"
      ]
     },
     "metadata": {
      "needs_background": "light"
     },
     "output_type": "display_data"
    }
   ],
   "source": [
    "old = (_df.time_in_hospital.value_counts()/_df.time_in_hospital.value_counts().sum()).rename(\"Training data\")\n",
    "m1 = (moment_1.time_in_hospital.value_counts()/moment_1.time_in_hospital.value_counts().sum()).rename(\"Moment 1 data\")\n",
    "\n",
    "data = pd.concat([old, m1], axis=1).sort_index(ascending=True)*100\n",
    "\n",
    "plt.rcParams[\"figure.figsize\"] = [3, 1.5]\n",
    "plt.plot(data)\n",
    "plt.rcParams.update({'font.size': 12})\n",
    "plt.xlabel(\"Length of hospital stay\", size=10)\n",
    "plt.ylabel(\"Proportion of patients (%)\", size=10)\n",
    "plt.xticks(fontsize=9, rotation=0)\n",
    "plt.yticks(fontsize=9, rotation=0);"
   ]
  },
  {
   "cell_type": "code",
   "execution_count": 69,
   "id": "eebee8e5",
   "metadata": {},
   "outputs": [
    {
     "data": {
      "image/png": "[encoded data removed]",
      "text/plain": [
       "<Figure size 216x108 with 1 Axes>"
      ]
     },
     "metadata": {
      "needs_background": "light"
     },
     "output_type": "display_data"
    }
   ],
   "source": [
    "old = (_df.number_outpatient.value_counts()/_df.number_outpatient.value_counts().sum()).rename(\"Training data\")\n",
    "m1 = (moment_1.number_outpatient.value_counts()/moment_1.number_outpatient.value_counts().sum()).rename(\"Moment 1 data\")\n",
    "\n",
    "data = pd.concat([old, m1], axis=1).sort_index(ascending=True)*100\n",
    "\n",
    "plt.rcParams[\"figure.figsize\"] = [3, 1.5]\n",
    "plt.plot(data)\n",
    "plt.rcParams.update({'font.size': 12})\n",
    "plt.xlabel(\"Number of outpatient visits\", size=10)\n",
    "plt.ylabel(\"Proportion of patients (%)\", size=10)\n",
    "plt.xticks(fontsize=9, rotation=0)\n",
    "plt.yticks(fontsize=9, rotation=0);"
   ]
  },
  {
   "cell_type": "code",
   "execution_count": 70,
   "id": "712ba17e",
   "metadata": {},
   "outputs": [
    {
     "data": {
      "image/png": "[encoded data removed]",
      "text/plain": [
       "<Figure size 216x108 with 1 Axes>"
      ]
     },
     "metadata": {
      "needs_background": "light"
     },
     "output_type": "display_data"
    }
   ],
   "source": [
    "old = (_df.number_inpatient.value_counts()/_df.number_inpatient.value_counts().sum()).rename(\"Training data\")\n",
    "m1 = (moment_1.number_inpatient.value_counts()/moment_1.number_inpatient.value_counts().sum()).rename(\"Moment 1 data\")\n",
    "\n",
    "data = pd.concat([old, m1], axis=1).sort_index(ascending=True)*100\n",
    "\n",
    "plt.rcParams[\"figure.figsize\"] = [3, 1.5]\n",
    "plt.plot(data)\n",
    "plt.rcParams.update({'font.size': 12})\n",
    "plt.xlabel(\"Number of inpatient visits\", size=10)\n",
    "plt.ylabel(\"Proportion of patients (%)\", size=10)\n",
    "plt.xticks(fontsize=9, rotation=0)\n",
    "plt.yticks(fontsize=9, rotation=0);"
   ]
  },
  {
   "cell_type": "code",
   "execution_count": 71,
   "id": "9e6c8c76",
   "metadata": {},
   "outputs": [
    {
     "data": {
      "image/png": "[encoded data removed]",
      "text/plain": [
       "<Figure size 216x108 with 1 Axes>"
      ]
     },
     "metadata": {
      "needs_background": "light"
     },
     "output_type": "display_data"
    }
   ],
   "source": [
    "old = (_df.number_emergency.value_counts()/_df.number_emergency.value_counts().sum()).rename(\"Training data\")\n",
    "m1 = (moment_1.number_emergency.value_counts()/moment_1.number_emergency.value_counts().sum()).rename(\"Moment 1 data\")\n",
    "\n",
    "data = pd.concat([old, m1], axis=1).sort_index(ascending=True)*100\n",
    "\n",
    "plt.rcParams[\"figure.figsize\"] = [3, 1.5]\n",
    "plt.plot(data)\n",
    "plt.rcParams.update({'font.size': 12})\n",
    "plt.xlabel(\"Number of emergency visits\", size=10)\n",
    "plt.ylabel(\"Proportion of patients (%)\", size=10)\n",
    "plt.xticks(fontsize=9, rotation=0)\n",
    "plt.yticks(fontsize=9, rotation=0);"
   ]
  },
  {
   "cell_type": "code",
   "execution_count": 72,
   "id": "dd13de0d",
   "metadata": {},
   "outputs": [
    {
     "data": {
      "image/png": "[encoded data removed]",
      "text/plain": [
       "<Figure size 216x108 with 1 Axes>"
      ]
     },
     "metadata": {
      "needs_background": "light"
     },
     "output_type": "display_data"
    }
   ],
   "source": [
    "old = (_df.num_procedures.value_counts()/_df.num_procedures.value_counts().sum()).rename(\"Training data\")\n",
    "m1 = (moment_1.num_procedures.value_counts()/moment_1.num_procedures.value_counts().sum()).rename(\"Moment 1 data\")\n",
    "\n",
    "data = pd.concat([old, m1], axis=1).sort_index(ascending=True)*100\n",
    "\n",
    "plt.rcParams[\"figure.figsize\"] = [3, 1.5]\n",
    "plt.plot(data)\n",
    "plt.rcParams.update({'font.size': 12})\n",
    "plt.xlabel(\"Number of medical procedures\", size=10)\n",
    "plt.ylabel(\"Proportion of patients (%)\", size=10)\n",
    "plt.xticks(fontsize=9, rotation=0)\n",
    "plt.yticks(fontsize=9, rotation=0);"
   ]
  },
  {
   "cell_type": "code",
   "execution_count": 73,
   "id": "81235e53",
   "metadata": {},
   "outputs": [
    {
     "data": {
      "image/png": "[encoded data removed]",
      "text/plain": [
       "<Figure size 216x108 with 1 Axes>"
      ]
     },
     "metadata": {
      "needs_background": "light"
     },
     "output_type": "display_data"
    }
   ],
   "source": [
    "old = (_df.num_lab_procedures.value_counts()/_df.num_lab_procedures.value_counts().sum()).rename(\"Training data\")\n",
    "m1 = (moment_1.num_lab_procedures.value_counts()/moment_1.num_lab_procedures.value_counts().sum()).rename(\"Moment 1 data\")\n",
    "\n",
    "data = pd.concat([old, m1], axis=1).sort_index(ascending=True)*100\n",
    "\n",
    "plt.rcParams[\"figure.figsize\"] = [3, 1.5]\n",
    "plt.plot(data)\n",
    "plt.rcParams.update({'font.size': 12})\n",
    "plt.xlabel(\"Number of lab procedures\", size=10)\n",
    "plt.ylabel(\"Proportion of patients (%)\", size=10)\n",
    "plt.xticks(fontsize=9, rotation=0)\n",
    "plt.yticks(fontsize=9, rotation=0);"
   ]
  },
  {
   "cell_type": "code",
   "execution_count": 74,
   "id": "2a818264",
   "metadata": {},
   "outputs": [
    {
     "data": {
      "image/png": "[encoded data removed]",
      "text/plain": [
       "<Figure size 216x108 with 1 Axes>"
      ]
     },
     "metadata": {
      "needs_background": "light"
     },
     "output_type": "display_data"
    }
   ],
   "source": [
    "old = (_df.num_medications.value_counts()/_df.num_medications.value_counts().sum()).rename(\"Training data\")\n",
    "m1 = (moment_1.num_medications.value_counts()/moment_1.num_medications.value_counts().sum()).rename(\"Moment 1 data\")\n",
    "\n",
    "data = pd.concat([old, m1], axis=1).sort_index(ascending=True)*100\n",
    "\n",
    "plt.rcParams[\"figure.figsize\"] = [3, 1.5]\n",
    "plt.plot(data)\n",
    "plt.rcParams.update({'font.size': 12})\n",
    "plt.xlabel(\"Number of medications\", size=10)\n",
    "plt.ylabel(\"Proportion of patients (%)\", size=10)\n",
    "plt.xticks(fontsize=9, rotation=0)\n",
    "plt.yticks(fontsize=9, rotation=0);"
   ]
  },
  {
   "cell_type": "code",
   "execution_count": 40,
   "id": "3d28df02",
   "metadata": {},
   "outputs": [
    {
     "name": "stdout",
     "output_type": "stream",
     "text": [
      "circulatory                               24193\n",
      "endocrine_nutritional_metabolic_immune     9255\n",
      "respiratory                                8316\n",
      "digestive                                  7368\n",
      "ill_defined                                6137\n",
      "Name: diag_1, dtype: int64\n",
      "circulatory                               2947\n",
      "endocrine_nutritional_metabolic_immune    1053\n",
      "respiratory                                950\n",
      "digestive                                  862\n",
      "ill_defined                                706\n",
      "Name: diag_1, dtype: int64\n"
     ]
    }
   ],
   "source": [
    "print(_df.diag_1.value_counts().nlargest(5).sort_values(ascending=False))\n",
    "print(moment_1.diag_1.value_counts().nlargest(5).sort_values(ascending=False))"
   ]
  },
  {
   "cell_type": "code",
   "execution_count": 41,
   "id": "71f1c900",
   "metadata": {},
   "outputs": [
    {
     "name": "stdout",
     "output_type": "stream",
     "text": [
      "circulatory                               24666\n",
      "endocrine_nutritional_metabolic_immune    16516\n",
      "respiratory                                8072\n",
      "genitourinary                              6294\n",
      "ill_defined                                3616\n",
      "Name: diag_2, dtype: int64\n",
      "circulatory                               2954\n",
      "endocrine_nutritional_metabolic_immune    1987\n",
      "respiratory                                914\n",
      "genitourinary                              752\n",
      "unknown                                    454\n",
      "Name: diag_2, dtype: int64\n"
     ]
    }
   ],
   "source": [
    "print(_df.diag_2.value_counts().nlargest(5).sort_values(ascending=False))\n",
    "print(moment_1.diag_2.value_counts().nlargest(5).sort_values(ascending=False))"
   ]
  },
  {
   "cell_type": "code",
   "execution_count": 42,
   "id": "a7d509a2",
   "metadata": {},
   "outputs": [
    {
     "name": "stdout",
     "output_type": "stream",
     "text": [
      "circulatory                               23979\n",
      "endocrine_nutritional_metabolic_immune    20957\n",
      "respiratory                                5447\n",
      "genitourinary                              5065\n",
      "ill_defined                                3611\n",
      "Name: diag_3, dtype: int64\n",
      "circulatory                               2883\n",
      "endocrine_nutritional_metabolic_immune    2578\n",
      "respiratory                                580\n",
      "genitourinary                              574\n",
      "unknown                                    448\n",
      "Name: diag_3, dtype: int64\n"
     ]
    }
   ],
   "source": [
    "print(_df.diag_3.value_counts().nlargest(5).sort_values(ascending=False))\n",
    "print(moment_1.diag_3.value_counts().nlargest(5).sort_values(ascending=False))"
   ]
  },
  {
   "cell_type": "code",
   "execution_count": 43,
   "id": "a48baca7",
   "metadata": {},
   "outputs": [
    {
     "name": "stdout",
     "output_type": "stream",
     "text": [
      "False    80550\n",
      "True       862\n",
      "Name: has_prosthesis, dtype: int64\n",
      "False    71697\n",
      "True      9715\n",
      "Name: blood_transfusion, dtype: int64\n",
      "False    79893\n",
      "True      1519\n",
      "Name: diuretics, dtype: int64\n",
      "True     44360\n",
      "False    37052\n",
      "Name: insulin, dtype: int64\n",
      "False    43772\n",
      "True     37640\n",
      "Name: change, dtype: int64\n",
      "True     62718\n",
      "False    18694\n",
      "Name: diabetesMed, dtype: int64\n"
     ]
    }
   ],
   "source": [
    "for feature in bool_features:\n",
    "    print(_df[feature].value_counts())"
   ]
  },
  {
   "cell_type": "code",
   "execution_count": 44,
   "id": "7ace0084",
   "metadata": {},
   "outputs": [
    {
     "name": "stdout",
     "output_type": "stream",
     "text": [
      "False    9575\n",
      "True       92\n",
      "Name: has_prosthesis, dtype: int64\n",
      "False    8522\n",
      "True     1145\n",
      "Name: blood_transfusion, dtype: int64\n",
      "False    9489\n",
      "True      178\n",
      "Name: diuretics, dtype: int64\n",
      "True     5246\n",
      "False    4421\n",
      "Name: insulin, dtype: int64\n",
      "False    5151\n",
      "True     4516\n",
      "Name: change, dtype: int64\n",
      "True     7471\n",
      "False    2196\n",
      "Name: diabetesMed, dtype: int64\n"
     ]
    }
   ],
   "source": [
    "for feature in bool_features:\n",
    "    print(moment_1[feature].value_counts())"
   ]
  },
  {
   "cell_type": "code",
   "execution_count": 75,
   "id": "7c384495",
   "metadata": {},
   "outputs": [
    {
     "data": {
      "image/png": "[encoded data removed]",
      "text/plain": [
       "<Figure size 216x168 with 1 Axes>"
      ]
     },
     "metadata": {
      "needs_background": "light"
     },
     "output_type": "display_data"
    }
   ],
   "source": [
    "old = (_df.discharge_disposition_code.value_counts()/_df.discharge_disposition_code.value_counts().sum()).rename(\"Training data\")\n",
    "m1 = (moment_1.discharge_disposition_code.value_counts()/moment_1.discharge_disposition_code.value_counts().sum()).rename(\"Moment 1 data\")\n",
    "\n",
    "data = pd.concat([old, m1], axis=1).sort_index()*100\n",
    "\n",
    "plt.rcParams[\"figure.figsize\"] = [3, 7/3]\n",
    "data.plot.barh(stacked=False, legend=True);\n",
    "plt.rcParams.update({'font.size': 12})\n",
    "plt.xlabel(\"Proportion of patients (%)\", size=10)\n",
    "plt.ylabel(\"Type of discharge\", size=10)\n",
    "plt.xticks(fontsize=9, rotation=0)\n",
    "plt.yticks(fontsize=9, rotation=0)\n",
    "plt.legend(loc=\"right\", bbox_to_anchor=(1, -0.4), ncol=2, fontsize=9);"
   ]
  },
  {
   "cell_type": "code",
   "execution_count": 76,
   "id": "41ef96b7",
   "metadata": {},
   "outputs": [
    {
     "data": {
      "image/png": "[encoded data removed]",
      "text/plain": [
       "<Figure size 216x48 with 1 Axes>"
      ]
     },
     "metadata": {
      "needs_background": "light"
     },
     "output_type": "display_data"
    }
   ],
   "source": [
    "old = (_df.readmitted.value_counts()/_df.readmitted.value_counts().sum()).rename(\"Training data\")\n",
    "m1 = (moment_1.actual_readmitted.value_counts()/moment_1.actual_readmitted.value_counts().sum()).rename(\"Moment 1 data\")\n",
    "\n",
    "data = pd.concat([old, m1], axis=1).transpose()*100\n",
    "\n",
    "plt.rcParams[\"figure.figsize\"] = [3, 2/3]\n",
    "data.plot.barh(stacked=True, legend=None);\n",
    "plt.rcParams.update({'font.size': 12})\n",
    "plt.xlabel(\"Proportion of patients (%)\", size=10)\n",
    "plt.ylabel(\"Readmitted\", size=10)\n",
    "plt.xticks(fontsize=9, rotation=0)\n",
    "plt.legend(loc=\"right\", bbox_to_anchor=(1, -1.5), ncol=2, fontsize=9);"
   ]
  },
  {
   "cell_type": "code",
   "execution_count": null,
   "id": "2fc2548a",
   "metadata": {},
   "outputs": [],
   "source": []
  }
 ],
 "metadata": {
  "kernelspec": {
   "display_name": "Python 3",
   "language": "python",
   "name": "python3"
  },
  "language_info": {
   "codemirror_mode": {
    "name": "ipython",
    "version": 3
   },
   "file_extension": ".py",
   "mimetype": "text/x-python",
   "name": "python",
   "nbconvert_exporter": "python",
   "pygments_lexer": "ipython3",
   "version": "3.7.12"
  }
 },
 "nbformat": 4,
 "nbformat_minor": 5
}
