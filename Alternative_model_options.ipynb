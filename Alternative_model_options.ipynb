{
 "cells": [
  {
   "cell_type": "markdown",
   "id": "103323f0",
   "metadata": {},
   "source": [
    "# Imports"
   ]
  },
  {
   "cell_type": "code",
   "execution_count": 67,
   "id": "c0649800",
   "metadata": {},
   "outputs": [],
   "source": [
    "import os\n",
    "import base64\n",
    "import joblib\n",
    "import pandas as pd\n",
    "import numpy as np\n",
    "import category_encoders as ce\n",
    "import json\n",
    "import joblib\n",
    "import pickle\n",
    "import math\n",
    "import requests\n",
    "from copy import deepcopy\n",
    "import seaborn as sns\n",
    "from uuid import uuid4\n",
    "\n",
    "from sklearn.model_selection import train_test_split\n",
    "from sklearn.pipeline import make_pipeline, Pipeline\n",
    "from sklearn.model_selection import cross_val_score, GridSearchCV\n",
    "from sklearn.impute import SimpleImputer, KNNImputer\n",
    "from sklearn.preprocessing import StandardScaler, power_transform, RobustScaler, MinMaxScaler\n",
    "from sklearn.compose import ColumnTransformer\n",
    "from sklearn.model_selection import cross_val_score, learning_curve\n",
    "from sklearn.ensemble import RandomForestClassifier, GradientBoostingClassifier, GradientBoostingRegressor, AdaBoostClassifier\n",
    "from sklearn.tree import DecisionTreeClassifier, DecisionTreeRegressor\n",
    "from sklearn.linear_model import LogisticRegression\n",
    "from sklearn.metrics import (precision_score,\n",
    "                            recall_score,\n",
    "                            f1_score,\n",
    "                            accuracy_score,\n",
    "                            roc_auc_score,\n",
    "                            confusion_matrix,\n",
    "                            ConfusionMatrixDisplay,\n",
    "                            make_scorer,\n",
    "                            RocCurveDisplay,\n",
    "                            auc,\n",
    "                            roc_curve,\n",
    "                            precision_recall_curve)\n",
    "\n",
    "from sklearn.base import BaseEstimator, TransformerMixin\n",
    "\n",
    "from pandas_profiling import ProfileReport\n",
    "\n",
    "from sklearn.model_selection import GridSearchCV\n",
    "\n",
    "import matplotlib.pyplot as plt\n",
    "import matplotlib.image as mpimg\n",
    "plt.style.use('ggplot')\n",
    "%matplotlib inline"
   ]
  },
  {
   "cell_type": "markdown",
   "id": "38d37842",
   "metadata": {},
   "source": [
    "# Custom transformer imports"
   ]
  },
  {
   "cell_type": "code",
   "execution_count": 2,
   "id": "6ba2d515",
   "metadata": {},
   "outputs": [],
   "source": [
    "# WIP preprocessor which assigns categories and compresses some code\n",
    "from custom_transformers.preprocessor import ColumnConverter\n",
    "\n",
    "# WIP ordinal category preprocessor\n",
    "from custom_transformers.custom_ordinal_encoder import custom_oe\n",
    "\n",
    "#WIP column selector\n",
    "from custom_transformers.featureselector import SelectColumns\n",
    "\n",
    "# WIP onehot category preprocessor\n",
    "from custom_transformers.custom_onehot_encoder import custom_one_hot\n",
    "\n",
    "# WIP onehot category preprocessor\n",
    "from custom_transformers.custom_impute_scale import custom_impute_scale\n"
   ]
  },
  {
   "cell_type": "markdown",
   "id": "cb7ea0dd",
   "metadata": {},
   "source": [
    "# Functions"
   ]
  },
  {
   "cell_type": "code",
   "execution_count": 3,
   "id": "b59f172b",
   "metadata": {},
   "outputs": [],
   "source": [
    "def load_train_data():\n",
    "    df = pd.read_csv(os.path.join(\"data\", \"train_data.csv\"))\n",
    "    return df\n",
    "\n",
    "data_train = load_train_data()"
   ]
  },
  {
   "cell_type": "code",
   "execution_count": 4,
   "id": "9a30230e",
   "metadata": {},
   "outputs": [],
   "source": [
    "def assign_index(df, indexcol: str):\n",
    "    _df = df.copy()\n",
    "    _df = _df.set_index(indexcol)\n",
    "    return _df"
   ]
  },
  {
   "cell_type": "code",
   "execution_count": 5,
   "id": "f1fd89ff",
   "metadata": {},
   "outputs": [],
   "source": [
    "def build_target(df, target: str):\n",
    "    _df = df.copy()\n",
    "    _df[target] = np.where(_df[target]== 'Yes', True, False)\n",
    "    return _df"
   ]
  },
  {
   "cell_type": "markdown",
   "id": "e69bb224",
   "metadata": {},
   "source": [
    "# Function to test if we satisfied requirements:"
   ]
  },
  {
   "cell_type": "markdown",
   "id": "156021ae",
   "metadata": {},
   "source": [
    "The first step will make a copy of the X_test and apply the custom converter for the columns - it will update the categories we are interested in (avoid duplicates etc)"
   ]
  },
  {
   "cell_type": "code",
   "execution_count": 6,
   "id": "3deed205",
   "metadata": {},
   "outputs": [],
   "source": [
    "def verify_no_discrimination_2(X_test,\n",
    "                               y_true,\n",
    "                               y_pred,\n",
    "                               sensitive_columns = [],\n",
    "                               max_diff=0.1,\n",
    "                               average='weighted',\n",
    "                               min_samples=50):    \n",
    "    # This time with precision\n",
    "    \n",
    "    _df = X_test.copy()\n",
    "    \n",
    "    results = {}\n",
    "    \n",
    "    cc = ColumnConverter()\n",
    "    _df = cc.fit_transform(_df)\n",
    "    \n",
    "    for column in sensitive_columns:  \n",
    "        sensitive_classes = _df[column].unique()\n",
    "        is_satisfied = True\n",
    "        precision_scores = {}\n",
    "        \n",
    "        for sensitive_class in sensitive_classes:\n",
    "            mask = (_df[column] == sensitive_class)\n",
    "            if np.sum(mask) > min_samples:\n",
    "                precision_scores[sensitive_class] = precision_score(y_true[mask],\n",
    "                                                      y_pred[mask],\n",
    "                                                      pos_label=1,\n",
    "                                                      labels=np.unique(y_pred[mask]))\n",
    "        \n",
    "        diff = np.max(list(precision_scores.values())) - np.min(list(precision_scores.values()))\n",
    "        if diff > max_diff:\n",
    "            is_satisfied = False\n",
    "        \n",
    "        results[column] = [precision_scores, diff, is_satisfied]\n",
    "    \n",
    "    return results"
   ]
  },
  {
   "cell_type": "markdown",
   "id": "eee9da03",
   "metadata": {},
   "source": [
    "# Loading data"
   ]
  },
  {
   "cell_type": "code",
   "execution_count": 7,
   "id": "ef8835db",
   "metadata": {},
   "outputs": [],
   "source": [
    "target = 'readmitted'\n",
    "index_col = 'admission_id'"
   ]
  },
  {
   "cell_type": "code",
   "execution_count": 8,
   "id": "96f4ba91",
   "metadata": {},
   "outputs": [],
   "source": [
    "data_train = load_train_data()\n",
    "data_train = assign_index(data_train, index_col)\n",
    "data_train = build_target(data_train, target)"
   ]
  },
  {
   "cell_type": "code",
   "execution_count": 9,
   "id": "aeafe0e3",
   "metadata": {},
   "outputs": [],
   "source": [
    "#List of all features (n=numerical, uc=unordered actegory, oc=ordered category, b=boolean)\n",
    "\n",
    "all_features = ['patient_id', #identifier\n",
    "                'race', #uc\n",
    "                'gender', #uc\n",
    "                'age', #oc\n",
    "                'weight', #oc               \n",
    "                'admission_type_code', #uc\n",
    "                'discharge_disposition_code', #uc\n",
    "                'admission_source_code', #uc\n",
    "                'time_in_hospital', #n\n",
    "                'payer_code', #uc\n",
    "                'medical_specialty', #uc\n",
    "                'has_prosthesis', #b\n",
    "                'complete_vaccination_status', #uc\n",
    "                'num_lab_procedures', #n\n",
    "                'num_procedures', #n\n",
    "                'num_medications', #n\n",
    "                'number_outpatient', #n\n",
    "                'number_emergency', #n\n",
    "                'number_inpatient', #n\n",
    "                'diag_1', #uc\n",
    "                'diag_2', #uc\n",
    "                'diag_3', #uc\n",
    "                'number_diagnoses', #n\n",
    "                'blood_type', #uc\n",
    "                'hemoglobin_level', #n\n",
    "                'blood_transfusion', #b\n",
    "                'max_glu_serum', #oc\n",
    "                'A1Cresult', #oc\n",
    "                'diuretics', #b\n",
    "                'insulin', #b\n",
    "                'change', #b\n",
    "                'diabetesMed'] #b]\n",
    "\n",
    "num_features = ['time_in_hospital', \n",
    "                'num_lab_procedures',\n",
    "                'num_procedures',\n",
    "                'num_medications',\n",
    "                'number_outpatient',\n",
    "                'number_emergency',\n",
    "                'number_inpatient',\n",
    "                'number_diagnoses',\n",
    "                'hemoglobin_level']\n",
    "\n",
    "bool_features = ['has_prosthesis',\n",
    "                 'blood_transfusion',\n",
    "                 'diuretics',\n",
    "                 'insulin',\n",
    "                 'change',\n",
    "                 'diabetesMed']\n",
    "\n",
    "cat_features = ['race',\n",
    "                'gender',\n",
    "                'admission_type_code', \n",
    "                'discharge_disposition_code',\n",
    "                'admission_source_code', \n",
    "                'payer_code',\n",
    "                'medical_specialty',\n",
    "                'diag_1',\n",
    "                'diag_2',\n",
    "                'diag_3',\n",
    "                'blood_type']\n",
    "\n",
    "ord_cat_features = ['age',\n",
    "                    'weight',\n",
    "                    'max_glu_serum',\n",
    "                    'A1Cresult',\n",
    "                    'complete_vaccination_status',]\n",
    "\n",
    "# missing features: date of admission and date of release"
   ]
  },
  {
   "cell_type": "markdown",
   "id": "2e093b00",
   "metadata": {},
   "source": [
    "### Test train split"
   ]
  },
  {
   "cell_type": "code",
   "execution_count": 10,
   "id": "602eb7b5",
   "metadata": {},
   "outputs": [],
   "source": [
    "# Convert target to boolean\n",
    "\n",
    "# We have a small portion kept aside because of our random undersampling approach where we lose a lot of train data \n",
    "#df_train, df_test = train_test_split(data_train, test_size=0.1, random_state=42, stratify=data_train[target])\n",
    "\n",
    "df_train, df_test = train_test_split(data_train, test_size=0.1, random_state=42, stratify=None, shuffle=False)"
   ]
  },
  {
   "cell_type": "markdown",
   "id": "9d4c52d5",
   "metadata": {},
   "source": [
    "### Dealing with unbalanced train data:\n",
    "1. Going to use random oversampling"
   ]
  },
  {
   "cell_type": "code",
   "execution_count": 11,
   "id": "d316493b",
   "metadata": {},
   "outputs": [
    {
     "data": {
      "image/png": "[encoded data removed]",
      "text/plain": [
       "<Figure size 216x216 with 1 Axes>"
      ]
     },
     "metadata": {
      "needs_background": "light"
     },
     "output_type": "display_data"
    }
   ],
   "source": [
    "plt.rcParams[\"figure.figsize\"] = [3, 3]\n",
    "df_train[target].value_counts().plot(kind='bar', title='Count (readmitted)');"
   ]
  },
  {
   "cell_type": "code",
   "execution_count": 12,
   "id": "3156315a",
   "metadata": {},
   "outputs": [],
   "source": [
    "# get counts and split tables\n",
    "count_f, count_t = df_train[target].value_counts()\n",
    "df_f = df_train[df_train[target] == False]\n",
    "df_t = df_train[df_train[target] == True]"
   ]
  },
  {
   "cell_type": "markdown",
   "id": "419ba285",
   "metadata": {},
   "source": [
    "### Random oversampling of the positive (True) class"
   ]
  },
  {
   "cell_type": "code",
   "execution_count": 13,
   "id": "7f5653e8",
   "metadata": {},
   "outputs": [
    {
     "data": {
      "image/png": "[encoded data removed]",
      "text/plain": [
       "<Figure size 216x216 with 1 Axes>"
      ]
     },
     "metadata": {
      "needs_background": "light"
     },
     "output_type": "display_data"
    }
   ],
   "source": [
    "# oversampling (lots of duplication of positive classes)\n",
    "df_t_oversampled = df_t.sample(count_f, replace=True)\n",
    "df_train_oversampled = pd.concat([df_t_oversampled, df_f], axis=0)\n",
    "#sort it to maintain some kind of order\n",
    "df_train_oversampled = df_train_oversampled.sort_index()\n",
    "#plot it\n",
    "df_train_oversampled[target].value_counts().plot(kind='bar', title='Count (readmitted)');"
   ]
  },
  {
   "cell_type": "markdown",
   "id": "b45a4af2",
   "metadata": {},
   "source": [
    "### Test train split and selection"
   ]
  },
  {
   "cell_type": "code",
   "execution_count": 14,
   "id": "46c6a4f5",
   "metadata": {},
   "outputs": [],
   "source": [
    "# # without random oversampling\n",
    "X_train = df_train.drop(target, axis=1)\n",
    "y_train = df_train[target]\n",
    "\n",
    "# with random oversampling\n",
    "#X_train = df_train_oversampled.drop(target, axis=1)\n",
    "#y_train = df_train_oversampled[target]\n",
    "\n",
    "#test data\n",
    "X_test = df_test.drop(target, axis=1)\n",
    "y_test = df_test[target]"
   ]
  },
  {
   "cell_type": "code",
   "execution_count": 15,
   "id": "6559396e",
   "metadata": {},
   "outputs": [],
   "source": [
    "selected_features = ['time_in_hospital', \n",
    "                     'num_lab_procedures',\n",
    "                     'num_procedures',\n",
    "                     'num_medications',\n",
    "                     'number_outpatient',\n",
    "                     'number_emergency',\n",
    "                     'number_inpatient',\n",
    "                     'number_diagnoses',\n",
    "                     'hemoglobin_level',\n",
    "                     \n",
    "                     #'has_prosthesis',\n",
    "                     'blood_transfusion',\n",
    "                     #'diuretics',\n",
    "                     'insulin',\n",
    "                     'change',\n",
    "                     'diabetesMed',\n",
    "                     \n",
    "                     'race',\n",
    "                     'gender',\n",
    "                     'admission_type_code', \n",
    "                     'discharge_disposition_code',\n",
    "                     'admission_source_code', \n",
    "                     'payer_code',\n",
    "                     #'medical_specialty',\n",
    "                     #'complete_vaccination_status',\n",
    "                     'blood_type',\n",
    "                     'diag_1',\n",
    "                     'diag_2',\n",
    "                     'diag_3',\n",
    "                     \n",
    "                     'max_glu_serum',\n",
    "                     'A1Cresult',\n",
    "                     'age',\n",
    "                     #'weight'\n",
    "                    ]"
   ]
  },
  {
   "cell_type": "code",
   "execution_count": 16,
   "id": "2ab6a8c1",
   "metadata": {},
   "outputs": [],
   "source": [
    "num_feats = [feat for feat in selected_features if feat in num_features]\n",
    "cat_feats = [feat for feat in selected_features if feat in cat_features+bool_features+ord_cat_features]\n",
    "bool_feats = [feat for feat in selected_features if feat in bool_features]\n",
    "ord_cat_feats = [feat for feat in selected_features if feat in ord_cat_features]"
   ]
  },
  {
   "cell_type": "code",
   "execution_count": 17,
   "id": "fa50ea71",
   "metadata": {},
   "outputs": [],
   "source": [
    "ord_cat_features = ['age',\n",
    "                    'weight', #lots of missing or unknown values\n",
    "                    'max_glu_serum',\n",
    "                    'A1Cresult',\n",
    "                    'complete_vaccination_status',]"
   ]
  },
  {
   "cell_type": "code",
   "execution_count": 18,
   "id": "2fea6bcc",
   "metadata": {},
   "outputs": [],
   "source": [
    "cat_features = ['race', #done\n",
    "                'gender', #done\n",
    "                'admission_type_code', #done \n",
    "                'discharge_disposition_code', #done\n",
    "                'admission_source_code', # done \n",
    "                'payer_code', #done (now the insurance column)\n",
    "                #'medical_specialty', #done (any specialty over 100 - lets see how bad it gets)\n",
    "                'diag_1',\n",
    "                'diag_2',\n",
    "                'diag_3',\n",
    "                'blood_type'\n",
    "               ] #dropping blood type"
   ]
  },
  {
   "cell_type": "markdown",
   "id": "28b7d6b4",
   "metadata": {},
   "source": [
    "1. Not using blood type\n",
    "1. Not using weight\n",
    "1. Not using diagnoses: probably linked to medical specialty\n",
    "    1. Will be added in the next version\n",
    "1. Admission source not yet included\n",
    "1. Race, gender and payer code (SP=uninsured) will not be used to model"
   ]
  },
  {
   "cell_type": "markdown",
   "id": "616e6b25",
   "metadata": {},
   "source": [
    "##### Processing Diagnoses:\n",
    "1. High cardinality (and possibly redundant information due to overlpa with the speecialty?)"
   ]
  },
  {
   "cell_type": "code",
   "execution_count": 19,
   "id": "83967a0b",
   "metadata": {},
   "outputs": [],
   "source": [
    "# This needs to become a custom pipeline - and we need different scalers here\n",
    "\n",
    "numeric_transformer = Pipeline(steps=[\n",
    "    ('imputer', SimpleImputer(strategy='median')),\n",
    "    ('scaler', RobustScaler())]) #StandardScaler or MinMaxScaler\n",
    "categorical_transformer = Pipeline(steps=[\n",
    "    ('imputer', SimpleImputer(strategy='constant', fill_value='unknown')),\n",
    "    ('onehot', ce.OneHotEncoder(handle_unknown='ignore'))])\n",
    "preprocessor = ColumnTransformer(\n",
    "    transformers=[\n",
    "        ('num', numeric_transformer, num_feats),\n",
    "        ('cat', categorical_transformer, cat_features)],\n",
    "remainder=\"passthrough\",sparse_threshold=0)"
   ]
  },
  {
   "cell_type": "markdown",
   "id": "2f738ef0",
   "metadata": {},
   "source": [
    "# Random Forest"
   ]
  },
  {
   "cell_type": "markdown",
   "id": "87103b0b",
   "metadata": {},
   "source": [
    "Grid search"
   ]
  },
  {
   "cell_type": "code",
   "execution_count": 20,
   "id": "f921c3d5",
   "metadata": {},
   "outputs": [],
   "source": [
    "# X = X_train.copy()\n",
    "# y = y_train.copy()\n",
    "# parameters = {\n",
    "#     'max_depth': [2, 5, 10],\n",
    "#     'max_features': ['auto', 'log2'],\n",
    "#     'class_weight': [\"balanced\"],\n",
    "#     'n_estimators': [10, 100, 1000],\n",
    "#     'criterion': ['gini', 'entropy'],\n",
    "#     'bootstrap': [True, False],\n",
    "#     'min_samples_split': [2, 5, 10]\n",
    "#              }"
   ]
  },
  {
   "cell_type": "code",
   "execution_count": 21,
   "id": "97edb97f",
   "metadata": {},
   "outputs": [],
   "source": [
    "# grid_search_pipeline = make_pipeline(\n",
    "#     ColumnConverter(), #Does quick clean up, assigns datatypes and categories\n",
    "#     custom_oe(), #Handles encoding of ordinal variable\n",
    "#     SelectColumns(cols=selected_features),\n",
    "#     preprocessor, #uses preprocessor defined above\n",
    "#     GridSearchCV(RandomForestClassifier(random_state=42, n_jobs=-1),\n",
    "#                            parameters,\n",
    "#                            cv=5,\n",
    "#                            scoring=\"f1\",\n",
    "#                            return_train_score=True))"
   ]
  },
  {
   "cell_type": "code",
   "execution_count": 22,
   "id": "6a6e1779",
   "metadata": {},
   "outputs": [],
   "source": [
    "# %%timeit -n 1 -r 1\n",
    "# grid_search_pipeline.fit(X_train, y_train)\n",
    "# grid_search_pipeline.named_steps.gridsearchcv\n",
    "# grid_search_pipeline.named_steps.gridsearchcv.best_params_"
   ]
  },
  {
   "cell_type": "markdown",
   "id": "36d04b5c",
   "metadata": {},
   "source": [
    "Model"
   ]
  },
  {
   "cell_type": "code",
   "execution_count": 23,
   "id": "15013873",
   "metadata": {},
   "outputs": [
    {
     "name": "stdout",
     "output_type": "stream",
     "text": [
      "f1 score: 0.28233438485804413\n",
      "recall score: 0.618663594470046\n",
      "precision score: 0.18290190735694822\n",
      "discrimination results:\n"
     ]
    }
   ],
   "source": [
    "pipeline = make_pipeline(\n",
    "    ColumnConverter(), #Does quick clean up, assigns datatypes and categories\n",
    "    custom_oe(), #Handles encoding of ordinal variable\n",
    "    SelectColumns(cols=selected_features),\n",
    "    preprocessor, #uses preprocessor defined above\n",
    "    RandomForestClassifier(max_depth=10,\n",
    "                           class_weight=\"balanced\",\n",
    "                           random_state=42, n_jobs=-1,\n",
    "                           n_estimators = 1000,\n",
    "                           criterion = 'gini',\n",
    "                           max_features = 'auto',\n",
    "                           bootstrap = False),\n",
    ")\n",
    "pipeline.fit(X_train, y_train)\n",
    "\n",
    "y_pred = pipeline.predict(X_test)\n",
    "\n",
    "print(\"f1 score: %s\" % (f1_score(y_test, y_pred)))\n",
    "print(\"recall score: %s\" % (recall_score(y_test, y_pred)))\n",
    "print(\"precision score: %s\" % (precision_score(y_test, y_pred)))\n",
    "print(\"discrimination results:\")"
   ]
  },
  {
   "cell_type": "code",
   "execution_count": 24,
   "id": "4e2fbef2",
   "metadata": {},
   "outputs": [],
   "source": [
    "#verify_no_discrimination_2(X_test=X_test, y_true=y_test, y_pred=y_pred, sensitive_columns = ['medical_specialty', 'payer_code','gender','race', 'age', 'admission_source_code'])"
   ]
  },
  {
   "cell_type": "code",
   "execution_count": 25,
   "id": "32e32af2",
   "metadata": {},
   "outputs": [],
   "source": [
    "plt.rcParams[\"figure.figsize\"] = [3, 3]"
   ]
  },
  {
   "cell_type": "code",
   "execution_count": 26,
   "id": "73b027c2",
   "metadata": {},
   "outputs": [
    {
     "data": {
      "image/png": "[encoded data removed]",
      "text/plain": [
       "<Figure size 216x216 with 2 Axes>"
      ]
     },
     "metadata": {
      "needs_background": "light"
     },
     "output_type": "display_data"
    }
   ],
   "source": [
    "cm = confusion_matrix(y_true=y_test, y_pred=y_pred, labels = pipeline.classes_)\n",
    "disp = ConfusionMatrixDisplay(confusion_matrix=cm, display_labels=pipeline.classes_)\n",
    "disp.plot(cmap=\"OrRd\");"
   ]
  },
  {
   "cell_type": "code",
   "execution_count": 27,
   "id": "09249223",
   "metadata": {},
   "outputs": [
    {
     "data": {
      "image/png": "[encoded data removed]",
      "text/plain": [
       "<Figure size 216x216 with 1 Axes>"
      ]
     },
     "metadata": {
      "needs_background": "light"
     },
     "output_type": "display_data"
    }
   ],
   "source": [
    "fpr, tpr, thresholds = roc_curve(y_test, y_pred)\n",
    "roc_auc = auc(fpr, tpr)\n",
    "display = RocCurveDisplay(fpr=fpr, tpr=tpr, roc_auc=roc_auc, estimator_name=None)\n",
    "display.plot()\n",
    "plt.show()"
   ]
  },
  {
   "cell_type": "markdown",
   "id": "ef7fe7fa",
   "metadata": {},
   "source": [
    "### Evaluation and setting threshold:\n",
    "1. The client wants at least 50% to be correct"
   ]
  },
  {
   "cell_type": "code",
   "execution_count": 28,
   "id": "a478c8c0",
   "metadata": {},
   "outputs": [
    {
     "data": {
      "image/png": "[encoded data removed]",
      "text/plain": [
       "<Figure size 288x216 with 2 Axes>"
      ]
     },
     "metadata": {
      "needs_background": "light"
     },
     "output_type": "display_data"
    }
   ],
   "source": [
    "y_pred_probas = pipeline.predict_proba(X_test)[:,1]\n",
    "precision, recall, thresholds = precision_recall_curve(y_test, y_pred_probas)\n",
    "min_index = [i for i, prec in enumerate(precision) if prec >= 0.5][0]\n",
    "threshold_rq = thresholds[min_index]\n",
    "y_pred = (y_pred_probas >= threshold_rq)\n",
    "plt.rcParams[\"figure.figsize\"] = [4, 3]\n",
    "precision, recall, thresholds = precision_recall_curve(y_test, y_pred_probas)\n",
    "precision = precision[:-1]\n",
    "recall = recall[:-1]\n",
    "fig=plt.figure()\n",
    "ax1 = plt.subplot(211)\n",
    "ax2 = plt.subplot(212)\n",
    "ax1.hlines(y=0.5,xmin=0, xmax=1, colors='red')\n",
    "ax1.plot(thresholds,precision)\n",
    "ax2.plot(thresholds,recall)\n",
    "ax1.get_shared_x_axes().join(ax1, ax2)\n",
    "ax1.set_xticklabels([])\n",
    "plt.xlabel('Threshold')\n",
    "ax1.set_title('Precision')\n",
    "ax1.axvline(x=threshold_rq, color='blue')\n",
    "ax2.set_title('Recall')\n",
    "ax2.axvline(x=threshold_rq, color='blue')\n",
    "fig.tight_layout()\n",
    "plt.show()"
   ]
  },
  {
   "cell_type": "code",
   "execution_count": 29,
   "id": "68e13149",
   "metadata": {},
   "outputs": [
    {
     "name": "stdout",
     "output_type": "stream",
     "text": [
      "f1 score: 0.026905829596412554\n",
      "recall score: 0.013824884792626729\n",
      "precision score: 0.5\n",
      "discrimination results:\n"
     ]
    }
   ],
   "source": [
    "print(\"f1 score: %s\" % (f1_score(y_test, y_pred)))\n",
    "print(\"recall score: %s\" % (recall_score(y_test, y_pred)))\n",
    "print(\"precision score: %s\" % (precision_score(y_test, y_pred)))\n",
    "print(\"discrimination results:\")"
   ]
  },
  {
   "cell_type": "code",
   "execution_count": 30,
   "id": "83582fae",
   "metadata": {},
   "outputs": [
    {
     "data": {
      "image/png": "[encoded data removed]",
      "text/plain": [
       "<Figure size 288x216 with 2 Axes>"
      ]
     },
     "metadata": {
      "needs_background": "light"
     },
     "output_type": "display_data"
    }
   ],
   "source": [
    "cm = confusion_matrix(y_true=y_test, y_pred=y_pred, labels = pipeline.classes_)\n",
    "disp = ConfusionMatrixDisplay(confusion_matrix=cm, display_labels=pipeline.classes_)\n",
    "disp.plot(cmap=\"OrRd\");"
   ]
  },
  {
   "cell_type": "code",
   "execution_count": 31,
   "id": "46733116",
   "metadata": {},
   "outputs": [
    {
     "data": {
      "image/png": "[encoded data removed]",
      "text/plain": [
       "<Figure size 288x216 with 1 Axes>"
      ]
     },
     "metadata": {
      "needs_background": "light"
     },
     "output_type": "display_data"
    }
   ],
   "source": [
    "fpr, tpr, thresholds = roc_curve(y_test, y_pred)\n",
    "roc_auc = auc(fpr, tpr)\n",
    "display = RocCurveDisplay(fpr=fpr, tpr=tpr, roc_auc=roc_auc, estimator_name=None)\n",
    "display.plot()\n",
    "plt.show()"
   ]
  },
  {
   "cell_type": "code",
   "execution_count": 32,
   "id": "f0f3fb45",
   "metadata": {},
   "outputs": [
    {
     "ename": "NotImplementedError",
     "evalue": "",
     "output_type": "error",
     "traceback": [
      "\u001b[0;31m---------------------------------------------------------------------------\u001b[0m",
      "\u001b[0;31mNotImplementedError\u001b[0m                       Traceback (most recent call last)",
      "\u001b[0;32m<ipython-input-32-03b9be105f74>\u001b[0m in \u001b[0;36m<module>\u001b[0;34m\u001b[0m\n\u001b[0;32m----> 1\u001b[0;31m \u001b[0;32mraise\u001b[0m \u001b[0mNotImplementedError\u001b[0m\u001b[0;34m(\u001b[0m\u001b[0;34m)\u001b[0m\u001b[0;34m\u001b[0m\u001b[0;34m\u001b[0m\u001b[0m\n\u001b[0m",
      "\u001b[0;31mNotImplementedError\u001b[0m: "
     ]
    }
   ],
   "source": [
    "raise NotImplementedError()"
   ]
  },
  {
   "cell_type": "markdown",
   "id": "18cb2852",
   "metadata": {},
   "source": [
    "# Gradient Boosting"
   ]
  },
  {
   "cell_type": "markdown",
   "id": "aedac1a8",
   "metadata": {},
   "source": [
    "Creating weighted samples to balance the dataset"
   ]
  },
  {
   "cell_type": "code",
   "execution_count": 43,
   "id": "56c3bc8f",
   "metadata": {},
   "outputs": [],
   "source": [
    "weights = np.zeros(len(y_train))\n",
    "weights[y_train == 0] = 1\n",
    "weights[y_train == 1] = 8"
   ]
  },
  {
   "cell_type": "markdown",
   "id": "75d1ee85",
   "metadata": {},
   "source": [
    "Grid search"
   ]
  },
  {
   "cell_type": "code",
   "execution_count": 44,
   "id": "4e1b8490",
   "metadata": {},
   "outputs": [],
   "source": [
    "parameters = {\n",
    "    'loss': ['deviance', 'exponential'],\n",
    "    'learning_rate': [0.1, 0.2,],\n",
    "    'n_estimators': [10],\n",
    "    'subsample': [0.1, 0.2],\n",
    "    'criterion': ['friedman_mse', 'squared_error', 'mse'],\n",
    "    'min_samples_split': [2, 5, 10],\n",
    "    'min_samples_leaf': [2, 5, 10],\n",
    "    'max_depth': [3, 5, 10],\n",
    "    'max_features': ['auto', 'log2', None]\n",
    "}"
   ]
  },
  {
   "cell_type": "code",
   "execution_count": 45,
   "id": "8776d16e",
   "metadata": {},
   "outputs": [],
   "source": [
    "grid_search_pipeline = make_pipeline(\n",
    "    ColumnConverter(), #Does quick clean up, assigns datatypes and categories\n",
    "    custom_oe(), #Handles encoding of ordinal variable\n",
    "    SelectColumns(cols=selected_features),\n",
    "    preprocessor, #uses preprocessor defined above\n",
    "    GridSearchCV(GradientBoostingClassifier(random_state=42),\n",
    "                           parameters,\n",
    "                           cv=5,\n",
    "                           scoring=\"f1\",\n",
    "                           return_train_score=True))"
   ]
  },
  {
   "cell_type": "code",
   "execution_count": 46,
   "id": "0f84d079",
   "metadata": {},
   "outputs": [],
   "source": [
    "# %%timeit -n 1 -r 1\n",
    "# grid_search_pipeline.fit(X_train, y_train)\n",
    "# grid_search_pipeline.named_steps.gridsearchcv\n",
    "# grid_search_pipeline.named_steps.gridsearchcv.best_params_"
   ]
  },
  {
   "cell_type": "markdown",
   "id": "335e37fb",
   "metadata": {},
   "source": [
    "Model"
   ]
  },
  {
   "cell_type": "code",
   "execution_count": 66,
   "id": "cb2de989",
   "metadata": {},
   "outputs": [
    {
     "name": "stdout",
     "output_type": "stream",
     "text": [
      "f1 score: 0.28186528497409324\n",
      "recall score: 0.6267281105990783\n",
      "precision score: 0.18181818181818182\n",
      "discrimination results:\n"
     ]
    }
   ],
   "source": [
    "pipeline = make_pipeline(\n",
    "    ColumnConverter(), #Does quick clean up, assigns datatypes and categories\n",
    "    custom_oe(), #Handles encoding of ordinal variable\n",
    "    SelectColumns(cols=selected_features),\n",
    "    preprocessor, #uses preprocessor defined above\n",
    "    GradientBoostingClassifier(loss='deviance',\n",
    "                               learning_rate=.1,\n",
    "                               n_estimators=100,\n",
    "                               subsample=0.5,\n",
    "                               n_iter_no_change=10,\n",
    "                               max_features = 'auto',\n",
    "                               random_state=42,\n",
    "                               validation_fraction = 0.2,\n",
    "                               criterion = 'friedman_mse',\n",
    "                               max_depth = 5)\n",
    ")\n",
    "pipeline.fit(X_train, y_train, gradientboostingclassifier__sample_weight=weights)\n",
    "\n",
    "y_pred = pipeline.predict(X_test)\n",
    "\n",
    "print(\"f1 score: %s\" % (f1_score(y_test, y_pred)))\n",
    "print(\"recall score: %s\" % (recall_score(y_test, y_pred)))\n",
    "print(\"precision score: %s\" % (precision_score(y_test, y_pred)))\n",
    "print(\"discrimination results:\")"
   ]
  },
  {
   "cell_type": "code",
   "execution_count": 48,
   "id": "6b43ba07",
   "metadata": {},
   "outputs": [],
   "source": [
    "#verify_no_discrimination_2(X_test=X_test, y_true=y_test, y_pred=y_pred, sensitive_columns = ['medical_specialty', 'payer_code','gender','race', 'age', 'admission_source_code'])"
   ]
  },
  {
   "cell_type": "code",
   "execution_count": 49,
   "id": "4fd6282c",
   "metadata": {},
   "outputs": [],
   "source": [
    "plt.rcParams[\"figure.figsize\"] = [3, 3]"
   ]
  },
  {
   "cell_type": "code",
   "execution_count": 50,
   "id": "cf1fa3f6",
   "metadata": {},
   "outputs": [
    {
     "data": {
      "image/png": "[encoded data removed]",
      "text/plain": [
       "<Figure size 216x216 with 2 Axes>"
      ]
     },
     "metadata": {
      "needs_background": "light"
     },
     "output_type": "display_data"
    }
   ],
   "source": [
    "cm = confusion_matrix(y_true=y_test, y_pred=y_pred, labels = pipeline.classes_)\n",
    "disp = ConfusionMatrixDisplay(confusion_matrix=cm, display_labels=pipeline.classes_)\n",
    "disp.plot(cmap=\"OrRd\");"
   ]
  },
  {
   "cell_type": "code",
   "execution_count": 51,
   "id": "06aff4c6",
   "metadata": {},
   "outputs": [
    {
     "data": {
      "image/png": "[encoded data removed]",
      "text/plain": [
       "<Figure size 216x216 with 1 Axes>"
      ]
     },
     "metadata": {
      "needs_background": "light"
     },
     "output_type": "display_data"
    }
   ],
   "source": [
    "fpr, tpr, thresholds = roc_curve(y_test, y_pred)\n",
    "roc_auc = auc(fpr, tpr)\n",
    "display = RocCurveDisplay(fpr=fpr, tpr=tpr, roc_auc=roc_auc, estimator_name=None)\n",
    "display.plot()\n",
    "plt.show()"
   ]
  },
  {
   "cell_type": "markdown",
   "id": "0c0089d5",
   "metadata": {},
   "source": [
    "# AdaBoost"
   ]
  },
  {
   "cell_type": "code",
   "execution_count": 71,
   "id": "f9de030f",
   "metadata": {},
   "outputs": [
    {
     "name": "stdout",
     "output_type": "stream",
     "text": [
      "f1 score: 0.01809954751131222\n",
      "recall score: 0.009216589861751152\n",
      "precision score: 0.5\n",
      "discrimination results:\n"
     ]
    }
   ],
   "source": [
    "pipeline = make_pipeline(\n",
    "    ColumnConverter(), #Does quick clean up, assigns datatypes and categories\n",
    "    custom_oe(), #Handles encoding of ordinal variable\n",
    "    SelectColumns(cols=selected_features),\n",
    "    preprocessor, #uses preprocessor defined above\n",
    "    AdaBoostClassifier(base_estimator=GradientBoostingClassifier(loss='deviance',\n",
    "                                                                 learning_rate=.1,\n",
    "                                                                 n_estimators=10,\n",
    "                                                                 subsample=0.5,\n",
    "                                                                 n_iter_no_change=10,\n",
    "                                                                 max_features = 'auto',\n",
    "                                                                 random_state=42,\n",
    "                                                                 validation_fraction = 0.2,\n",
    "                                                                 criterion = 'friedman_mse',\n",
    "                                                                 max_depth = 5),\n",
    "                       n_estimators=100,\n",
    "                       learning_rate=0.1,\n",
    "                       algorithm='SAMME.R',\n",
    "                       random_state=42)\n",
    ")\n",
    "pipeline.fit(X_train, y_train)\n",
    "\n",
    "y_pred = pipeline.predict(X_test)\n",
    "\n",
    "print(\"f1 score: %s\" % (f1_score(y_test, y_pred)))\n",
    "print(\"recall score: %s\" % (recall_score(y_test, y_pred)))\n",
    "print(\"precision score: %s\" % (precision_score(y_test, y_pred)))\n",
    "print(\"discrimination results:\")"
   ]
  },
  {
   "cell_type": "markdown",
   "id": "294ef970",
   "metadata": {},
   "source": [
    "# XGBoost"
   ]
  },
  {
   "cell_type": "code",
   "execution_count": 72,
   "id": "d12a7212",
   "metadata": {},
   "outputs": [],
   "source": [
    "import xgboost as xgb"
   ]
  },
  {
   "cell_type": "code",
   "execution_count": 73,
   "id": "7c9662df",
   "metadata": {},
   "outputs": [],
   "source": [
    "# # without random oversampling\n",
    "X_train = df_train.drop(target, axis=1)\n",
    "y_train = df_train[target]\n",
    "\n",
    "# with random oversampling\n",
    "# X_train = df_train_oversampled.drop(target, axis=1)\n",
    "# y_train = df_train_oversampled[target]\n",
    "\n",
    "#test data\n",
    "X_test = df_test.drop(target, axis=1)\n",
    "y_test = df_test[target]"
   ]
  },
  {
   "cell_type": "code",
   "execution_count": 74,
   "id": "f435c674",
   "metadata": {},
   "outputs": [
    {
     "name": "stderr",
     "output_type": "stream",
     "text": [
      "/home/yash/.virtualenvs/bootcamp/lib/python3.7/site-packages/xgboost/sklearn.py:1146: UserWarning: The use of label encoder in XGBClassifier is deprecated and will be removed in a future release. To remove this warning, do the following: 1) Pass option use_label_encoder=False when constructing XGBClassifier object; and 2) Encode your labels (y) as integers starting with 0, i.e. 0, 1, 2, ..., [num_class - 1].\n",
      "  warnings.warn(label_encoder_deprecation_msg, UserWarning)\n"
     ]
    },
    {
     "name": "stdout",
     "output_type": "stream",
     "text": [
      "[20:03:57] WARNING: ../src/learner.cc:573: \n",
      "Parameters: { \"scale_pos_weight\" } might not be used.\n",
      "\n",
      "  This may not be accurate due to some parameters are only used in language bindings but\n",
      "  passed down to XGBoost core.  Or some parameters are not used but slip through this\n",
      "  verification. Please open an issue if you find above cases.\n",
      "\n",
      "\n",
      "f1 score: 0.05417118093174431\n",
      "recall score: 0.02880184331797235\n",
      "precision score: 0.45454545454545453\n",
      "discrimination results:\n"
     ]
    }
   ],
   "source": [
    "pipeline = make_pipeline(\n",
    "    ColumnConverter(), #Does quick clean up, assigns datatypes and categories\n",
    "    custom_oe(), #Handles encoding of ordinal variable\n",
    "    SelectColumns(cols=selected_features),\n",
    "    preprocessor, #uses preprocessor defined above\n",
    "    xgb.XGBClassifier(tree_method=\"auto\",\n",
    "                      eval_metric = 'logloss',\n",
    "                      subsample = 0.5,\n",
    "                      scale_pos_weight = 9,\n",
    "                      objective = 'binary:hinge')\n",
    ")\n",
    "pipeline.fit(X_train, y_train)\n",
    "\n",
    "y_pred = pipeline.predict(X_test)\n",
    "\n",
    "print(\"f1 score: %s\" % (f1_score(y_test, y_pred)))\n",
    "print(\"recall score: %s\" % (recall_score(y_test, y_pred)))\n",
    "print(\"precision score: %s\" % (precision_score(y_test, y_pred)))\n",
    "print(\"discrimination results:\")"
   ]
  },
  {
   "cell_type": "code",
   "execution_count": null,
   "id": "0303e50d",
   "metadata": {},
   "outputs": [],
   "source": [
    "#verify_no_discrimination_2(X_test=X_test, y_true=y_test, y_pred=y_pred, sensitive_columns = ['medical_specialty', 'payer_code','gender','race', 'age', 'admission_source_code'])"
   ]
  },
  {
   "cell_type": "code",
   "execution_count": null,
   "id": "bb1b9ab6",
   "metadata": {},
   "outputs": [],
   "source": [
    "plt.rcParams[\"figure.figsize\"] = [3, 3]"
   ]
  },
  {
   "cell_type": "code",
   "execution_count": null,
   "id": "0c6c28c5",
   "metadata": {},
   "outputs": [],
   "source": [
    "cm = confusion_matrix(y_true=y_test, y_pred=y_pred, labels = pipeline.classes_)\n",
    "disp = ConfusionMatrixDisplay(confusion_matrix=cm, display_labels=pipeline.classes_)\n",
    "disp.plot(cmap=\"OrRd\");"
   ]
  },
  {
   "cell_type": "code",
   "execution_count": null,
   "id": "706d94c7",
   "metadata": {},
   "outputs": [],
   "source": [
    "fpr, tpr, thresholds = roc_curve(y_test, y_pred)\n",
    "roc_auc = auc(fpr, tpr)\n",
    "display = RocCurveDisplay(fpr=fpr, tpr=tpr, roc_auc=roc_auc, estimator_name=None)\n",
    "display.plot()\n",
    "plt.show()"
   ]
  },
  {
   "cell_type": "markdown",
   "id": "284a4886",
   "metadata": {},
   "source": [
    "# Balanced Random Forest"
   ]
  },
  {
   "cell_type": "code",
   "execution_count": 76,
   "id": "62bf6e44",
   "metadata": {},
   "outputs": [],
   "source": [
    "from imblearn.ensemble import BalancedRandomForestClassifier"
   ]
  },
  {
   "cell_type": "code",
   "execution_count": 77,
   "id": "8bd964aa",
   "metadata": {},
   "outputs": [],
   "source": [
    "# # without random oversampling\n",
    "X_train = df_train.drop(target, axis=1)\n",
    "y_train = df_train[target]\n",
    "\n",
    "#test data\n",
    "X_test = df_test.drop(target, axis=1)\n",
    "y_test = df_test[target]"
   ]
  },
  {
   "cell_type": "code",
   "execution_count": 78,
   "id": "212a9765",
   "metadata": {},
   "outputs": [
    {
     "name": "stdout",
     "output_type": "stream",
     "text": [
      "f1 score: 0.276394422310757\n",
      "recall score: 0.6394009216589862\n",
      "precision score: 0.17630241423125795\n",
      "discrimination results:\n"
     ]
    }
   ],
   "source": [
    "pipeline = make_pipeline(\n",
    "    ColumnConverter(), #Does quick clean up, assigns datatypes and categories\n",
    "    custom_oe(), #Handles encoding of ordinal variable\n",
    "    SelectColumns(cols=selected_features),\n",
    "    preprocessor, #uses preprocessor defined above\n",
    "    BalancedRandomForestClassifier(max_depth=None,\n",
    "                                   random_state=42, \n",
    "                                   n_jobs=-1,\n",
    "                                   n_estimators = 1000,\n",
    "                                   criterion = 'gini',\n",
    "                                   bootstrap = True,\n",
    "                                   max_samples = 0.1,\n",
    "                                   oob_score = True,\n",
    "                                   class_weight = 'balanced',\n",
    "                                   sampling_strategy = 'majority',\n",
    "                                   replacement = True),\n",
    ")\n",
    "pipeline.fit(X_train, y_train)\n",
    "\n",
    "y_pred = pipeline.predict(X_test)\n",
    "\n",
    "print(\"f1 score: %s\" % (f1_score(y_test, y_pred)))\n",
    "print(\"recall score: %s\" % (recall_score(y_test, y_pred)))\n",
    "print(\"precision score: %s\" % (precision_score(y_test, y_pred)))\n",
    "print(\"discrimination results:\")"
   ]
  },
  {
   "cell_type": "code",
   "execution_count": null,
   "id": "06b87f46",
   "metadata": {},
   "outputs": [],
   "source": [
    "#verify_no_discrimination_2(X_test=X_test, y_true=y_test, y_pred=y_pred, sensitive_columns = ['medical_specialty', 'payer_code','gender','race', 'age', 'admission_source_code'])"
   ]
  },
  {
   "cell_type": "code",
   "execution_count": null,
   "id": "5bc138e1",
   "metadata": {},
   "outputs": [],
   "source": [
    "plt.rcParams[\"figure.figsize\"] = [3, 3]"
   ]
  },
  {
   "cell_type": "code",
   "execution_count": null,
   "id": "6154a0a8",
   "metadata": {},
   "outputs": [],
   "source": [
    "cm = confusion_matrix(y_true=y_test, y_pred=y_pred, labels = pipeline.classes_)\n",
    "disp = ConfusionMatrixDisplay(confusion_matrix=cm, display_labels=pipeline.classes_)\n",
    "disp.plot(cmap=\"OrRd\");"
   ]
  },
  {
   "cell_type": "code",
   "execution_count": null,
   "id": "f6c7ed16",
   "metadata": {},
   "outputs": [],
   "source": [
    "fpr, tpr, thresholds = roc_curve(y_test, y_pred)\n",
    "roc_auc = auc(fpr, tpr)\n",
    "display = RocCurveDisplay(fpr=fpr, tpr=tpr, roc_auc=roc_auc, estimator_name=None)\n",
    "display.plot()\n",
    "plt.show()"
   ]
  },
  {
   "cell_type": "markdown",
   "id": "92cfd4d6",
   "metadata": {},
   "source": [
    "# RUSBoost"
   ]
  },
  {
   "cell_type": "code",
   "execution_count": 79,
   "id": "a588eb69",
   "metadata": {},
   "outputs": [],
   "source": [
    "from imblearn.ensemble import RUSBoostClassifier"
   ]
  },
  {
   "cell_type": "code",
   "execution_count": 80,
   "id": "7497c31f",
   "metadata": {},
   "outputs": [],
   "source": [
    "# # without random oversampling\n",
    "X_train = df_train.drop(target, axis=1)\n",
    "y_train = df_train[target]\n",
    "\n",
    "#test data\n",
    "X_test = df_test.drop(target, axis=1)\n",
    "y_test = df_test[target]"
   ]
  },
  {
   "cell_type": "code",
   "execution_count": 81,
   "id": "d193ce08",
   "metadata": {},
   "outputs": [
    {
     "name": "stdout",
     "output_type": "stream",
     "text": [
      "f1 score: 0.2887945115975171\n",
      "recall score: 0.5092165898617511\n",
      "precision score: 0.20155038759689922\n",
      "discrimination results:\n"
     ]
    }
   ],
   "source": [
    "pipeline = make_pipeline(\n",
    "    ColumnConverter(), #Does quick clean up, assigns datatypes and categories\n",
    "    custom_oe(), #Handles encoding of ordinal variable\n",
    "    SelectColumns(cols=selected_features),\n",
    "    preprocessor, #uses preprocessor defined above\n",
    "    RUSBoostClassifier(base_estimator=RandomForestClassifier(max_depth=10,\n",
    "                                      class_weight=\"balanced\",\n",
    "                                      random_state=42, n_jobs=-1,\n",
    "                                      n_estimators = 100,\n",
    "                                      criterion = 'gini',\n",
    "                                      max_features = 'auto',\n",
    "                                      bootstrap = False),\n",
    "                       n_estimators=100,\n",
    "                       learning_rate=0.1,\n",
    "                       algorithm='SAMME.R',\n",
    "                       sampling_strategy='auto',\n",
    "                       replacement=False,\n",
    "                       random_state=42),\n",
    ")\n",
    "pipeline.fit(X_train, y_train)\n",
    "\n",
    "y_pred = pipeline.predict(X_test)\n",
    "\n",
    "print(\"f1 score: %s\" % (f1_score(y_test, y_pred)))\n",
    "print(\"recall score: %s\" % (recall_score(y_test, y_pred)))\n",
    "print(\"precision score: %s\" % (precision_score(y_test, y_pred)))\n",
    "print(\"discrimination results:\")"
   ]
  },
  {
   "cell_type": "code",
   "execution_count": null,
   "id": "3cd5d752",
   "metadata": {},
   "outputs": [],
   "source": [
    "#verify_no_discrimination_2(X_test=X_test, y_true=y_test, y_pred=y_pred, sensitive_columns = ['medical_specialty', 'payer_code','gender','race', 'age', 'admission_source_code'])"
   ]
  },
  {
   "cell_type": "code",
   "execution_count": null,
   "id": "210b2b78",
   "metadata": {},
   "outputs": [],
   "source": [
    "plt.rcParams[\"figure.figsize\"] = [3, 3]"
   ]
  },
  {
   "cell_type": "code",
   "execution_count": null,
   "id": "c3d1898e",
   "metadata": {},
   "outputs": [],
   "source": [
    "cm = confusion_matrix(y_true=y_test, y_pred=y_pred, labels = pipeline.classes_)\n",
    "disp = ConfusionMatrixDisplay(confusion_matrix=cm, display_labels=pipeline.classes_)\n",
    "disp.plot(cmap=\"OrRd\");"
   ]
  },
  {
   "cell_type": "code",
   "execution_count": null,
   "id": "9489de6f",
   "metadata": {},
   "outputs": [],
   "source": [
    "fpr, tpr, thresholds = roc_curve(y_test, y_pred)\n",
    "roc_auc = auc(fpr, tpr)\n",
    "display = RocCurveDisplay(fpr=fpr, tpr=tpr, roc_auc=roc_auc, estimator_name=None)\n",
    "display.plot()\n",
    "plt.show()"
   ]
  },
  {
   "cell_type": "markdown",
   "id": "b1bdd53a",
   "metadata": {},
   "source": [
    "# SMOTE before gbc"
   ]
  },
  {
   "cell_type": "code",
   "execution_count": 86,
   "id": "bc3a0f28",
   "metadata": {},
   "outputs": [],
   "source": [
    "from imblearn.over_sampling import SMOTE\n",
    "from imblearn.pipeline import Pipeline as imbpipe"
   ]
  },
  {
   "cell_type": "code",
   "execution_count": 93,
   "id": "c422194b",
   "metadata": {},
   "outputs": [
    {
     "name": "stdout",
     "output_type": "stream",
     "text": [
      "f1 score: 0.022598870056497175\n",
      "recall score: 0.01152073732718894\n",
      "precision score: 0.5882352941176471\n",
      "discrimination results:\n"
     ]
    }
   ],
   "source": [
    "pipeline = imbpipe([\n",
    "    ('cleanup_and_prepare', ColumnConverter()),\n",
    "    ('ordinal', custom_oe()),\n",
    "    ('feature_select', SelectColumns(cols=selected_features)),\n",
    "    ('preprocessor', preprocessor),\n",
    "    ('sampling', SMOTE(random_state=42, k_neighbors = 200)),\n",
    "    ('classifier', GradientBoostingClassifier(loss='deviance',\n",
    "                               learning_rate=.1,\n",
    "                               n_estimators=100,\n",
    "                               subsample=0.5,\n",
    "                               n_iter_no_change=10,\n",
    "                               max_features = 'auto',\n",
    "                               random_state=42,\n",
    "                               validation_fraction = 0.2,\n",
    "                               criterion = 'friedman_mse',\n",
    "                               max_depth = 5)),\n",
    "])\n",
    "pipeline.fit(X_train, y_train)\n",
    "\n",
    "y_pred = pipeline.predict(X_test)\n",
    "\n",
    "print(\"f1 score: %s\" % (f1_score(y_test, y_pred)))\n",
    "print(\"recall score: %s\" % (recall_score(y_test, y_pred)))\n",
    "print(\"precision score: %s\" % (precision_score(y_test, y_pred)))\n",
    "print(\"discrimination results:\")"
   ]
  },
  {
   "cell_type": "code",
   "execution_count": 94,
   "id": "a1106fed",
   "metadata": {},
   "outputs": [
    {
     "data": {
      "image/png": "[encoded data removed]",
      "text/plain": [
       "<Figure size 432x288 with 2 Axes>"
      ]
     },
     "metadata": {
      "needs_background": "light"
     },
     "output_type": "display_data"
    }
   ],
   "source": [
    "cm = confusion_matrix(y_true=y_test, y_pred=y_pred, labels = pipeline.classes_)\n",
    "disp = ConfusionMatrixDisplay(confusion_matrix=cm, display_labels=pipeline.classes_)\n",
    "disp.plot(cmap=\"OrRd\");"
   ]
  },
  {
   "cell_type": "code",
   "execution_count": null,
   "id": "016acf87",
   "metadata": {},
   "outputs": [],
   "source": []
  },
  {
   "cell_type": "markdown",
   "id": "74335a89",
   "metadata": {},
   "source": [
    "# Output files (pickling)"
   ]
  },
  {
   "cell_type": "code",
   "execution_count": null,
   "id": "0aeec11b",
   "metadata": {},
   "outputs": [],
   "source": [
    "# TMP_DIR = '/tmp'\n",
    "# with open(os.path.join(TMP_DIR, \"columns.json\"), 'w') as fh:\n",
    "#     json.dump(X_train.columns.tolist(), fh)\n",
    "\n",
    "# with open(os.path.join(TMP_DIR, \"dtypes.pickle\"), 'wb') as fh:\n",
    "#     pickle.dump(X_train.dtypes, fh)\n",
    "    \n",
    "# joblib.dump(pipeline, os.path.join(TMP_DIR, 'pipeline.pickle')) "
   ]
  },
  {
   "cell_type": "code",
   "execution_count": null,
   "id": "179bf47c",
   "metadata": {},
   "outputs": [],
   "source": []
  }
 ],
 "metadata": {
  "kernelspec": {
   "display_name": "Python 3",
   "language": "python",
   "name": "python3"
  },
  "language_info": {
   "codemirror_mode": {
    "name": "ipython",
    "version": 3
   },
   "file_extension": ".py",
   "mimetype": "text/x-python",
   "name": "python",
   "nbconvert_exporter": "python",
   "pygments_lexer": "ipython3",
   "version": "3.7.12"
  }
 },
 "nbformat": 4,
 "nbformat_minor": 5
}
