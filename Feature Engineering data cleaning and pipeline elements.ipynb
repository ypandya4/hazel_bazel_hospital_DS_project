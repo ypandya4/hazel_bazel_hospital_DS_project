{
 "cells": [
  {
   "cell_type": "markdown",
   "id": "a91d16f2",
   "metadata": {},
   "source": [
    "# Imports"
   ]
  },
  {
   "cell_type": "code",
   "execution_count": 1,
   "id": "7fff49fb",
   "metadata": {},
   "outputs": [],
   "source": [
    "import os\n",
    "import base64\n",
    "import joblib\n",
    "import pandas as pd\n",
    "import numpy as np\n",
    "import category_encoders as ce\n",
    "import json\n",
    "import joblib\n",
    "import pickle\n",
    "import math\n",
    "import requests\n",
    "from copy import deepcopy\n",
    "import seaborn as sns\n",
    "from uuid import uuid4\n",
    "\n",
    "from sklearn.model_selection import train_test_split\n",
    "from sklearn.pipeline import make_pipeline, Pipeline\n",
    "from sklearn.model_selection import cross_val_score, GridSearchCV\n",
    "from sklearn.impute import SimpleImputer, KNNImputer\n",
    "from sklearn.preprocessing import StandardScaler, power_transform, RobustScaler\n",
    "from sklearn.compose import ColumnTransformer\n",
    "from sklearn.model_selection import cross_val_score\n",
    "from sklearn.ensemble import RandomForestClassifier, GradientBoostingClassifier, GradientBoostingRegressor\n",
    "from sklearn.tree import DecisionTreeClassifier, DecisionTreeRegressor\n",
    "from sklearn.linear_model import LogisticRegression\n",
    "from sklearn.metrics import (precision_score,\n",
    "                            recall_score,\n",
    "                            f1_score,\n",
    "                            accuracy_score,\n",
    "                            roc_auc_score,\n",
    "                            confusion_matrix,\n",
    "                            ConfusionMatrixDisplay,\n",
    "                            make_scorer,\n",
    "                            RocCurveDisplay,\n",
    "                            auc,\n",
    "                            roc_curve)\n",
    "\n",
    "from sklearn.base import BaseEstimator, TransformerMixin\n",
    "\n",
    "from pandas_profiling import ProfileReport\n",
    "\n",
    "from sklearn.model_selection import GridSearchCV\n",
    "\n",
    "import matplotlib.pyplot as plt\n",
    "import matplotlib.image as mpimg\n",
    "plt.style.use('ggplot')\n",
    "%matplotlib inline"
   ]
  },
  {
   "cell_type": "markdown",
   "id": "6bacc6b7",
   "metadata": {},
   "source": [
    "# Custom transformer imports"
   ]
  },
  {
   "cell_type": "code",
   "execution_count": 2,
   "id": "bb32c8cf",
   "metadata": {},
   "outputs": [],
   "source": [
    "# WIP preprocessor which assigns categories and compresses some code\n",
    "from custom_transformers.preprocessor import ColumnConverter\n",
    "\n",
    "# WIP ordinal category preprocessor\n",
    "from custom_transformers.custom_ordinal_encoder import custom_oe\n",
    "\n",
    "#WIP column selector\n",
    "from custom_transformers.featureselector import SelectColumns\n",
    "\n",
    "# WIP onehot category preprocessor\n",
    "from custom_transformers.custom_onehot_encoder import custom_one_hot\n",
    "\n",
    "# WIP onehot category preprocessor\n",
    "from custom_transformers.custom_impute_scale import custom_impute_scale\n"
   ]
  },
  {
   "cell_type": "markdown",
   "id": "0da63fd8",
   "metadata": {},
   "source": [
    "# Functions"
   ]
  },
  {
   "cell_type": "code",
   "execution_count": 3,
   "id": "d4102f25",
   "metadata": {},
   "outputs": [],
   "source": [
    "def load_train_data():\n",
    "    df = pd.read_csv(os.path.join(\"data\", \"train_data.csv\"))\n",
    "    return df\n",
    "\n",
    "data_train = load_train_data()"
   ]
  },
  {
   "cell_type": "code",
   "execution_count": 4,
   "id": "c2ec538d",
   "metadata": {},
   "outputs": [],
   "source": [
    "def assign_index(df, indexcol: str):\n",
    "    _df = df.copy()\n",
    "    _df = _df.set_index(indexcol)\n",
    "    return _df"
   ]
  },
  {
   "cell_type": "code",
   "execution_count": 5,
   "id": "aaaf75ee",
   "metadata": {},
   "outputs": [],
   "source": [
    "def build_target(df, target: str):\n",
    "    _df = df.copy()\n",
    "    _df[target] = np.where(_df[target]== 'Yes', True, False)\n",
    "    return _df"
   ]
  },
  {
   "cell_type": "code",
   "execution_count": 6,
   "id": "8045ff76",
   "metadata": {},
   "outputs": [],
   "source": [
    "def processgender(df):\n",
    "    _df = df.copy()\n",
    "    _df['gender'] = _df['gender'].str.lower()\n",
    "    valid_genders = ['male', 'female']\n",
    "    _df.loc[~(_df['gender'].isin(valid_genders)), 'age'] = 'unknown'\n",
    "    return _df"
   ]
  },
  {
   "cell_type": "code",
   "execution_count": 7,
   "id": "402e6992",
   "metadata": {},
   "outputs": [],
   "source": [
    "def processrace(df):\n",
    "    _df = df.copy()\n",
    "    _df['race'] = _df['race'].str.lower().str.lstrip().str[0:3]\n",
    "    black = ['afr', 'bla']\n",
    "    white = ['cau', 'whi', 'eur']\n",
    "    hispanic = ['his', 'lat']\n",
    "    asian = ['asi']\n",
    "    race_options = black+white+hispanic+asian\n",
    "    _df.loc[~(_df['race'].isin(race_options)), 'race'] = 'unknown/other'\n",
    "    _df.loc[(_df['race'].isin(black)), 'race'] = 'black'\n",
    "    _df.loc[(_df['race'].isin(white)), 'race'] = 'white'\n",
    "    _df.loc[(_df['race'].isin(hispanic)), 'race'] = 'hispanic'\n",
    "    _df.loc[(_df['race'].isin(asian)), 'race'] = 'asian'\n",
    "    return _df"
   ]
  },
  {
   "cell_type": "code",
   "execution_count": 8,
   "id": "25c7a2f5",
   "metadata": {},
   "outputs": [],
   "source": [
    "def insurancestatus(df):\n",
    "    _df = testdf.copy()\n",
    "    _df.payer_code = _df.payer_code.where(_df.payer_code != '?')\n",
    "    _df.payer_code = _df.payer_code.fillna(value='unknown')\n",
    "    _df.loc[(_df['payer_code'] == 'SP'), 'payer_code'] == 'uninsured'\n",
    "    _df.loc[~(_df['payer_code'].isin(['SP', 'unknown'])), 'payer_code'] = 'insured'\n",
    "    return _df"
   ]
  },
  {
   "cell_type": "code",
   "execution_count": 9,
   "id": "bf9cef21",
   "metadata": {},
   "outputs": [],
   "source": [
    "def processadmissiontype(df):\n",
    "    _df = df.copy()\n",
    "    _df.loc[(_df['admission_type_code'].isin([5, 6, 8])), 'admission_type_code'] = 'n/a'\n",
    "    _df.loc[(_df['admission_type_code'] == 1), 'admission_type_code'] = 'emergency'\n",
    "    _df.loc[(_df['admission_type_code'] == 2), 'admission_type_code'] = 'urgent'\n",
    "    _df.loc[(_df['admission_type_code'] == 3), 'admission_type_code'] = 'elective'\n",
    "    _df.loc[(_df['admission_type_code'] == 4), 'admission_type_code'] = 'newborn'\n",
    "    _df.loc[(_df['admission_type_code'] == 7), 'admission_type_code'] = 'trauma'\n",
    "    return _df"
   ]
  },
  {
   "cell_type": "code",
   "execution_count": 10,
   "id": "23f12c54",
   "metadata": {},
   "outputs": [],
   "source": [
    "def processdischargecode(df):\n",
    "    _df = df.copy()\n",
    "\n",
    "    home = [1]\n",
    "    left_ama = [7]\n",
    "    hospice = [13, 14]\n",
    "    transferred = [2, 3, 4, 5, 9, 10, 15, 22, 23, 24, 27, 28, 29]\n",
    "    died = [11, 19, 20, 21]\n",
    "    for_outpatient_services = [12, 16, 17]\n",
    "    home_services = [6, 8]\n",
    "    all_cats = home+left_ama+hospice+transferred+died+for_outpatient_services+home_services\n",
    "\n",
    "    _df.loc[~(_df['discharge_disposition_code'].isin(all_cats)), 'discharge_disposition_code'] = 'unknown'\n",
    "    _df.loc[(_df['discharge_disposition_code'].isin(home)), 'discharge_disposition_code'] = 'discharged_home'\n",
    "    _df.loc[(_df['discharge_disposition_code'].isin(left_ama)), 'discharge_disposition_code'] = 'left_ama'\n",
    "    _df.loc[(_df['discharge_disposition_code'].isin(hospice)), 'discharge_disposition_code'] = 'discharged_hospice'\n",
    "    _df.loc[(_df['discharge_disposition_code'].isin(transferred)), 'discharge_disposition_code'] = 'transferred_inpatient'\n",
    "    _df.loc[(_df['discharge_disposition_code'].isin(died)), 'discharge_disposition_code'] = 'expired'\n",
    "    _df.loc[(_df['discharge_disposition_code'].isin(for_outpatient_services)), 'discharge_disposition_code'] = 'transferred_outpatient'\n",
    "    _df.loc[(_df['discharge_disposition_code'].isin(home_services)), 'discharge_disposition_code'] = 'home_care'\n",
    "    \n",
    "    return _df"
   ]
  },
  {
   "cell_type": "code",
   "execution_count": 11,
   "id": "3018352d",
   "metadata": {},
   "outputs": [],
   "source": [
    "def processspecializations(df):\n",
    "    _df = df.copy()\n",
    "    _df['medical_specialty'] = _df['medical_specialty'].str.lower()\n",
    "    counts = pd.DataFrame(_df.medical_specialty.value_counts())\n",
    "    df_mask = counts['medical_specialty']>=100\n",
    "    selected_specialties = counts[df_mask]\n",
    "    selected_specialties = selected_specialties.index.to_list()\n",
    "    _df.loc[~(_df['medical_specialty'].isin(selected_specialties)), 'medical_specialty'] = 'other'\n",
    "    _df.loc[(_df['medical_specialty'] == '?'), 'medical_specialty'] = 'unknown'\n",
    "    return _df"
   ]
  },
  {
   "cell_type": "markdown",
   "id": "89231c2b",
   "metadata": {},
   "source": [
    "# Function to test if we satisfied requirements:"
   ]
  },
  {
   "cell_type": "markdown",
   "id": "a521ec1c",
   "metadata": {},
   "source": [
    "The first step will make a copy of the X_test and apply the custom converter for the columns - it will update the categories we are interested in (avoid duplicates etc)"
   ]
  },
  {
   "cell_type": "code",
   "execution_count": 12,
   "id": "e1b0a044",
   "metadata": {},
   "outputs": [],
   "source": [
    "def verify_no_discrimination(X_test,\n",
    "                             y_true,\n",
    "                             y_pred,\n",
    "                             sensitive_columns = [],\n",
    "                             max_diff=0.1,\n",
    "                             average='weighted'):    \n",
    "    # Use this as a template to get output:\n",
    "    #f1_scores, diff, is_satisfied  = verify_no_discrimination(X_test,\n",
    "    #                                                          y_test,\n",
    "    #                                                          y_pred,\n",
    "    #                                                          sensitive_column=['Self-defined ethnicity', 'race'] etc\n",
    "    #                                                          max_diff=0.15 )\n",
    "    #f1_scores, diff, is_satisfied\n",
    "    \n",
    "    _df = X_test.copy()\n",
    "    \n",
    "    results = {}\n",
    "    \n",
    "    cc = ColumnConverter()\n",
    "    _df = cc.fit_transform(_df)\n",
    "    \n",
    "    for column in sensitive_columns:  \n",
    "        sensitive_classes = _df[column].unique()\n",
    "        is_satisfied = True\n",
    "        f1_scores = {}\n",
    "        \n",
    "        for sensitive_class in sensitive_classes:\n",
    "            mask = (_df[column] == sensitive_class)\n",
    "            if mask.sum():\n",
    "                f1_scores[sensitive_class] = f1_score(y_true[mask],\n",
    "                                                      y_pred[mask],\n",
    "                                                      pos_label=1,\n",
    "                                                      labels=np.unique(y_pred[mask]))\n",
    "        \n",
    "        diff = np.max(list(f1_scores.values())) - np.min(list(f1_scores.values()))\n",
    "        if diff > max_diff:\n",
    "            is_satisfied = False\n",
    "        \n",
    "        results[column] = [f1_scores, diff, is_satisfied]\n",
    "    \n",
    "    return results"
   ]
  },
  {
   "cell_type": "markdown",
   "id": "84447972",
   "metadata": {},
   "source": [
    "# Loading data"
   ]
  },
  {
   "cell_type": "code",
   "execution_count": 13,
   "id": "517e7fa2",
   "metadata": {},
   "outputs": [],
   "source": [
    "target = 'readmitted'\n",
    "index_col = 'admission_id'"
   ]
  },
  {
   "cell_type": "code",
   "execution_count": 14,
   "id": "787600aa",
   "metadata": {},
   "outputs": [],
   "source": [
    "data_train = load_train_data()\n",
    "data_train = assign_index(data_train, index_col)\n",
    "data_train = build_target(data_train, target)"
   ]
  },
  {
   "cell_type": "markdown",
   "id": "97871020",
   "metadata": {},
   "source": [
    "# Simple baseline"
   ]
  },
  {
   "cell_type": "code",
   "execution_count": 15,
   "id": "e51f32a0",
   "metadata": {},
   "outputs": [],
   "source": [
    "#List of all features (n=numerical, uc=unordered actegory, oc=ordered category, b=boolean)\n",
    "\n",
    "all_features = ['patient_id', #identifier\n",
    "                'race', #uc\n",
    "                'gender', #uc\n",
    "                'age', #oc\n",
    "                'weight', #oc               \n",
    "                'admission_type_code', #uc\n",
    "                'discharge_disposition_code', #uc\n",
    "                'admission_source_code', #uc\n",
    "                'time_in_hospital', #n\n",
    "                'payer_code', #uc\n",
    "                'medical_specialty', #uc\n",
    "                'has_prosthesis', #b\n",
    "                'complete_vaccination_status', #uc\n",
    "                'num_lab_procedures', #n\n",
    "                'num_procedures', #n\n",
    "                'num_medications', #n\n",
    "                'number_outpatient', #n\n",
    "                'number_emergency', #n\n",
    "                'number_inpatient', #n\n",
    "                'diag_1', #uc\n",
    "                'diag_2', #uc\n",
    "                'diag_3', #uc\n",
    "                'number_diagnoses', #n\n",
    "                'blood_type', #uc\n",
    "                'hemoglobin_level', #n\n",
    "                'blood_transfusion', #b\n",
    "                'max_glu_serum', #oc\n",
    "                'A1Cresult', #oc\n",
    "                'diuretics', #b\n",
    "                'insulin', #b\n",
    "                'change', #b\n",
    "                'diabetesMed'] #b]\n",
    "\n",
    "num_features = ['time_in_hospital', \n",
    "                'num_lab_procedures',\n",
    "                'num_procedures',\n",
    "                'num_medications',\n",
    "                'number_outpatient',\n",
    "                'number_emergency',\n",
    "                'number_inpatient',\n",
    "                'number_diagnoses',\n",
    "                'hemoglobin_level']\n",
    "\n",
    "bool_features = ['has_prosthesis',\n",
    "                 'blood_transfusion',\n",
    "                 'diuretics',\n",
    "                 'insulin',\n",
    "                 'change',\n",
    "                 'diabetesMed']\n",
    "\n",
    "cat_features = ['race',\n",
    "                'gender',\n",
    "                'admission_type_code', \n",
    "                'discharge_disposition_code',\n",
    "                'admission_source_code', \n",
    "                'payer_code',\n",
    "                'medical_specialty',\n",
    "                'diag_1',\n",
    "                'diag_2',\n",
    "                'diag_3',\n",
    "                'blood_type']\n",
    "\n",
    "ord_cat_features = ['age',\n",
    "                    'weight',\n",
    "                    'max_glu_serum',\n",
    "                    'A1Cresult',\n",
    "                    'complete_vaccination_status',]\n",
    "\n",
    "# missing features: date of admission and date of release"
   ]
  },
  {
   "cell_type": "markdown",
   "id": "c061244a",
   "metadata": {},
   "source": [
    "### Test train split"
   ]
  },
  {
   "cell_type": "code",
   "execution_count": 16,
   "id": "1cdd6e55",
   "metadata": {},
   "outputs": [],
   "source": [
    "# Convert target to boolean\n",
    "\n",
    "# We have a small portion kept aside because of our random undersampling approach where we lose a lot of train data \n",
    "df_train, df_test = train_test_split(data_train, test_size=0.1, random_state=42, stratify=data_train[target])"
   ]
  },
  {
   "cell_type": "code",
   "execution_count": 17,
   "id": "e8aa1b33",
   "metadata": {},
   "outputs": [],
   "source": [
    "X_train = df_train.drop(target, axis=1)\n",
    "y_train = df_train[target]\n",
    "X_test = df_test.drop(target, axis=1)\n",
    "y_test = df_test[target]"
   ]
  },
  {
   "cell_type": "code",
   "execution_count": 18,
   "id": "2caf2a0d",
   "metadata": {},
   "outputs": [],
   "source": [
    "selected_features = ['time_in_hospital', \n",
    "                     'num_lab_procedures',\n",
    "                     'num_procedures',\n",
    "                     'num_medications',\n",
    "                     'number_outpatient',\n",
    "                     'number_emergency',\n",
    "                     'number_inpatient',\n",
    "                     'number_diagnoses',\n",
    "                     'hemoglobin_level',\n",
    "                     \n",
    "                     'has_prosthesis',\n",
    "                     'blood_transfusion',\n",
    "                     'diuretics',\n",
    "                     'insulin',\n",
    "                     'change',\n",
    "                     'diabetesMed',\n",
    "                     \n",
    "                     'race',\n",
    "                     'gender',\n",
    "                     'admission_type_code', \n",
    "                     'discharge_disposition_code',\n",
    "                     'admission_source_code', \n",
    "                     'payer_code',\n",
    "                     'medical_specialty',\n",
    "                     'complete_vaccination_status',\n",
    "                     'blood_type',\n",
    "                     \n",
    "                     'max_glu_serum',\n",
    "                     'A1Cresult',\n",
    "                     'age',\n",
    "                     'weight']"
   ]
  },
  {
   "cell_type": "code",
   "execution_count": 19,
   "id": "c7365df9",
   "metadata": {},
   "outputs": [],
   "source": [
    "num_feats = [feat for feat in selected_features if feat in num_features]\n",
    "cat_feats = [feat for feat in selected_features if feat in cat_features+bool_features+ord_cat_features]\n",
    "bool_feats = [feat for feat in selected_features if feat in bool_features]\n",
    "ord_cat_feats = [feat for feat in selected_features if feat in ord_cat_features]"
   ]
  },
  {
   "cell_type": "markdown",
   "id": "4566aed0",
   "metadata": {},
   "source": [
    "# Pipeline 1 - just numerical features"
   ]
  },
  {
   "cell_type": "markdown",
   "id": "0ff1a932",
   "metadata": {},
   "source": [
    "#### Numbers processed in a custom transformer (part of the ColumnConverter) - will be placed into a separate file\n",
    "1. Missing values imputed using KNNImputer\n",
    "2. Values have a significant skew, so RobustScaler was selected to avoid outliers having hige impact"
   ]
  },
  {
   "cell_type": "code",
   "execution_count": 20,
   "id": "c3f00e22",
   "metadata": {},
   "outputs": [],
   "source": [
    "num_features = ['time_in_hospital', \n",
    "                'num_lab_procedures',\n",
    "                'num_procedures',\n",
    "                'num_medications',\n",
    "                'number_outpatient',\n",
    "                'number_emergency',\n",
    "                'number_inpatient',\n",
    "                'number_diagnoses',\n",
    "                'hemoglobin_level']"
   ]
  },
  {
   "cell_type": "code",
   "execution_count": 21,
   "id": "1cd2fc36",
   "metadata": {},
   "outputs": [
    {
     "name": "stdout",
     "output_type": "stream",
     "text": [
      "f1 score: 0.24249922672440452\n",
      "recall score: 0.432194046306505\n",
      "precision score: 0.16852966466036112\n",
      "discrimination results:\n"
     ]
    }
   ],
   "source": [
    "pipeline = make_pipeline(\n",
    "    ColumnConverter(),\n",
    "    SelectColumns(cols=num_feats),\n",
    "    SimpleImputer(strategy=\"median\"),\n",
    "    RandomForestClassifier(max_depth=10, class_weight=\"balanced\", random_state=42, n_jobs=-1),\n",
    ")\n",
    "pipeline.fit(X_train, y_train)\n",
    "\n",
    "y_pred = pipeline.predict(X_test)\n",
    "\n",
    "# To use on other cells\n",
    "print(\"f1 score: %s\" % (f1_score(y_test, y_pred)))\n",
    "print(\"recall score: %s\" % (recall_score(y_test, y_pred)))\n",
    "print(\"precision score: %s\" % (precision_score(y_test, y_pred)))\n",
    "print(\"discrimination results:\")\n",
    "#verify_no_discrimination(X_test=X_test, y_true=y_test, y_pred=y_pred, sensitive_columns = ['medical_specialty', 'payer_code','gender','race'])"
   ]
  },
  {
   "cell_type": "markdown",
   "id": "4cf7d70e",
   "metadata": {},
   "source": [
    "# Pipeline 2 - adding the binary features"
   ]
  },
  {
   "cell_type": "code",
   "execution_count": 22,
   "id": "5fae7cd4",
   "metadata": {},
   "outputs": [],
   "source": [
    "bool_features = ['has_prosthesis',\n",
    "                 'blood_transfusion',\n",
    "                 'diuretics',\n",
    "                 'insulin',\n",
    "                 'change',\n",
    "                 'diabetesMed']"
   ]
  },
  {
   "cell_type": "code",
   "execution_count": 23,
   "id": "b5f58f57",
   "metadata": {},
   "outputs": [
    {
     "name": "stdout",
     "output_type": "stream",
     "text": [
      "f1 score: 0.24733096085409254\n",
      "recall score: 0.4597574421168688\n",
      "precision score: 0.16916835699797161\n",
      "discrimination results:\n"
     ]
    },
    {
     "name": "stderr",
     "output_type": "stream",
     "text": [
      "/home/yash/.virtualenvs/bootcamp/lib/python3.7/site-packages/sklearn/metrics/_classification.py:1496: UndefinedMetricWarning: F-score is ill-defined and being set to 0.0 due to no true nor predicted samples. Use `zero_division` parameter to control this behavior.\n",
      "  average, \"true nor predicted\", 'F-score is', len(true_sum)\n"
     ]
    },
    {
     "data": {
      "text/plain": [
       "{'medical_specialty': [{'unknown': 0.2524383247274814,\n",
       "   'surgery-general': 0.2626262626262626,\n",
       "   'emergency/trauma': 0.281786941580756,\n",
       "   'internalmedicine': 0.22641509433962262,\n",
       "   'cardiology': 0.19402985074626866,\n",
       "   'family/generalpractice': 0.22857142857142856,\n",
       "   'orthopedics-reconstructive': 0.28571428571428575,\n",
       "   'hematology/oncology': 0.25,\n",
       "   'radiologist': 0.0,\n",
       "   'gastroenterology': 0.28571428571428575,\n",
       "   'other': 0.21621621621621623,\n",
       "   'pulmonology': 0.24242424242424246,\n",
       "   'surgery-neuro': 0.3333333333333333,\n",
       "   'surgery-vascular': 0.23529411764705882,\n",
       "   'psychiatry': 0.2608695652173913,\n",
       "   'surgery-cardiovascular/thoracic': 0.13333333333333333,\n",
       "   'neurology': 0.0,\n",
       "   'urology': 0.2222222222222222,\n",
       "   'oncology': 0.25000000000000006,\n",
       "   'physicalmedicineandrehabilitation': 0.30769230769230765,\n",
       "   'orthopedics': 0.22222222222222224,\n",
       "   'pediatrics': 0.0,\n",
       "   'obstetricsandgynecology': 0.42857142857142855,\n",
       "   'nephrology': 0.37037037037037035,\n",
       "   'pediatrics-endocrinology': 0.0},\n",
       "  0.42857142857142855,\n",
       "  False],\n",
       " 'payer_code': [{'insured': 0.25531914893617025,\n",
       "   'unknown': 0.23934426229508196,\n",
       "   'SP': 0.19847328244274812},\n",
       "  0.05684586649342213,\n",
       "  True],\n",
       " 'gender': [{'male': 0.24735449735449735, 'female': 0.24731182795698922},\n",
       "  4.26693975081327e-05,\n",
       "  True],\n",
       " 'race': [{'black': 0.24924012158054712,\n",
       "   'white': 0.24834049199531433,\n",
       "   'hispanic': 0.24137931034482757,\n",
       "   'unknown/other': 0.2077922077922078,\n",
       "   'asian': 0.2222222222222222},\n",
       "  0.04144791378833931,\n",
       "  True]}"
      ]
     },
     "execution_count": 23,
     "metadata": {},
     "output_type": "execute_result"
    }
   ],
   "source": [
    "pipeline = make_pipeline(\n",
    "    ColumnConverter(),\n",
    "    SelectColumns(cols=num_feats+bool_feats),\n",
    "    SimpleImputer(strategy=\"median\"),\n",
    "    RandomForestClassifier(max_depth=10, class_weight=\"balanced\", random_state=42, n_jobs=-1),\n",
    ")\n",
    "pipeline.fit(X_train, y_train)\n",
    "\n",
    "y_pred = pipeline.predict(X_test)\n",
    "\n",
    "# To use on other cells\n",
    "print(\"f1 score: %s\" % (f1_score(y_test, y_pred)))\n",
    "print(\"recall score: %s\" % (recall_score(y_test, y_pred)))\n",
    "print(\"precision score: %s\" % (precision_score(y_test, y_pred)))\n",
    "print(\"discrimination results:\")\n",
    "verify_no_discrimination(X_test=X_test, y_true=y_test, y_pred=y_pred, sensitive_columns = ['medical_specialty', 'payer_code','gender','race'])"
   ]
  },
  {
   "cell_type": "markdown",
   "id": "54ff16d0",
   "metadata": {},
   "source": [
    "# Pipeline 3 - adding ordered categorical variables"
   ]
  },
  {
   "cell_type": "markdown",
   "id": "af7a4fc2",
   "metadata": {},
   "source": [
    "1. added age, weight, max_glu_serum, A1Cresult, and also encoded vaccination status here\n",
    "2. also did some playing around with the model options for fun"
   ]
  },
  {
   "cell_type": "code",
   "execution_count": 24,
   "id": "7a351b78",
   "metadata": {},
   "outputs": [],
   "source": [
    "ord_cat_features = ['age',\n",
    "                    #'weight',\n",
    "                    'max_glu_serum',\n",
    "                    'A1Cresult',\n",
    "                    'complete_vaccination_status',]"
   ]
  },
  {
   "cell_type": "code",
   "execution_count": 25,
   "id": "5215a0e1",
   "metadata": {},
   "outputs": [
    {
     "name": "stdout",
     "output_type": "stream",
     "text": [
      "f1 score: 0.2523591264491777\n",
      "recall score: 0.515986769570011\n",
      "precision score: 0.1670235546038544\n",
      "discrimination results:\n"
     ]
    }
   ],
   "source": [
    "pipeline = make_pipeline(\n",
    "    ColumnConverter(),\n",
    "    custom_oe(),\n",
    "    SelectColumns(cols=num_feats+bool_feats+ord_cat_feats),\n",
    "    SimpleImputer(strategy=\"median\"),\n",
    "    RandomForestClassifier(max_depth=10,\n",
    "                           class_weight=\"balanced\",\n",
    "                           random_state=42,\n",
    "                           n_jobs=-1,\n",
    "                           criterion = 'entropy',\n",
    "                           bootstrap = False))\n",
    "pipeline.fit(X_train, y_train)\n",
    "\n",
    "y_pred = pipeline.predict(X_test)\n",
    "\n",
    "# To use on other cells\n",
    "print(\"f1 score: %s\" % (f1_score(y_test, y_pred)))\n",
    "print(\"recall score: %s\" % (recall_score(y_test, y_pred)))\n",
    "print(\"precision score: %s\" % (precision_score(y_test, y_pred)))\n",
    "print(\"discrimination results:\")\n",
    "#verify_no_discrimination(X_test=X_test, y_true=y_test, y_pred=y_pred, sensitive_columns = ['medical_specialty', 'payer_code','gender','race'])"
   ]
  },
  {
   "cell_type": "code",
   "execution_count": 26,
   "id": "3a3fb5a3",
   "metadata": {},
   "outputs": [
    {
     "data": {
      "image/png": "[encoded data removed]",
      "text/plain": [
       "<Figure size 432x288 with 2 Axes>"
      ]
     },
     "metadata": {
      "needs_background": "light"
     },
     "output_type": "display_data"
    }
   ],
   "source": [
    "cm = confusion_matrix(y_true=y_test, y_pred=y_pred, labels = pipeline.classes_)\n",
    "disp = ConfusionMatrixDisplay(confusion_matrix=cm, display_labels=pipeline.classes_)\n",
    "disp.plot(cmap=\"OrRd\");"
   ]
  },
  {
   "cell_type": "markdown",
   "id": "1792ce3a",
   "metadata": {},
   "source": [
    "Trying gradient boosting classifier"
   ]
  },
  {
   "cell_type": "markdown",
   "id": "ec37c711",
   "metadata": {},
   "source": [
    "# Adding categorical variables"
   ]
  },
  {
   "cell_type": "code",
   "execution_count": 27,
   "id": "eda46ad8",
   "metadata": {},
   "outputs": [],
   "source": [
    "cat_features = ['race', #done\n",
    "                'gender', #done\n",
    "                'admission_type_code', #done \n",
    "                'discharge_disposition_code', #done\n",
    "                'admission_source_code', #done \n",
    "                'payer_code', #done (now the insurance column)\n",
    "                'medical_specialty', #done (any specialty over 100 - lets see how bad it gets)\n",
    "                'diag_1',\n",
    "                'diag_2',\n",
    "                'diag_3',\n",
    "                'blood_type'\n",
    "               ] #dropping blood type"
   ]
  },
  {
   "cell_type": "markdown",
   "id": "0d29840f",
   "metadata": {},
   "source": [
    "1. Will drop blood type - too many inconsistencies and not feasible to guess\n",
    "1. Does admission type and code have a role?\n",
    "1. Race, gender can be encoded\n",
    "1. Payer code 'SP' is an indicator of uninsured patients - what to do with '?' should we make 3 categories?"
   ]
  },
  {
   "cell_type": "markdown",
   "id": "26d7c778",
   "metadata": {},
   "source": [
    "### Processing Diagnoses:\n",
    "1. High cardinality (and possibly redundant information due to overlap with the speecialty?)\n",
    "1. Used encoding system to try to group (by large groups of diagnoses - definetely losing a lot of resolution here):\n",
    "    1. Diagnostic_categories = ['infection', #001-139\n",
    "                         'neoplasms', #140-239\n",
    "                         'endocrine_nutritional_metabolic_immune', #240-279\n",
    "                         'blood', #280-289\n",
    "                         'mental', #290-319\n",
    "                         'nervous_system', #320-389\n",
    "                         'circulatory', #390-459\n",
    "                         'respiratory', #460-519\n",
    "                         'digestive', #520-579\n",
    "                         'genitourinary', #580-629\n",
    "                         'pregnancy', #630-679\n",
    "                         'skin', #680-709\n",
    "                         'musculoskeletal', #710-739\n",
    "                         'congenital', #740-759\n",
    "                         'perinatal', #760-779\n",
    "                         'ill_defined', #780-799\n",
    "                         'injury_poisoning', #800-899, also E800-E999\n",
    "                         'supplemental' #V01-V89\n",
    "                        ]\n",
    "1. Next step may be to use encoding from RTF files and try tfidf vectorizer"
   ]
  },
  {
   "cell_type": "markdown",
   "id": "649665e4",
   "metadata": {},
   "source": [
    "### Vectorizing text development space"
   ]
  },
  {
   "cell_type": "code",
   "execution_count": 28,
   "id": "fbeb6a29",
   "metadata": {},
   "outputs": [],
   "source": [
    "from sklearn.feature_extraction.text import TfidfVectorizer, CountVectorizer\n",
    "from sklearn.naive_bayes import MultinomialNB\n",
    "from sklearn.feature_selection import SelectKBest, chi2\n",
    "from sklearn.decomposition import TruncatedSVD, PCA\n",
    "from sklearn.metrics.pairwise import cosine_similarity"
   ]
  },
  {
   "cell_type": "code",
   "execution_count": 29,
   "id": "225ed8a2",
   "metadata": {},
   "outputs": [],
   "source": [
    "def load_icd9():\n",
    "    #load the data\n",
    "    icd9_codes = pd.read_csv('data/icd9.txt', sep='\\t', dtype={0:\"str\"}, header=None)\n",
    "    icd9_codes = icd9_codes.rename({0:'all_data'}, axis=1)\n",
    "    \n",
    "    #split the string to code and data\n",
    "    icd9_codes = icd9_codes['all_data'].str.split(' ', 1, expand=True)\n",
    "    icd9_codes = icd9_codes.rename({0:\"code\", 1:\"description\"}, axis=1)\n",
    "    icd9_codes['code'] = icd9_codes['code'].str.lstrip('0').str[0:3].str.lower()\n",
    "    icd9_codes['description'] = icd9_codes['description'].str.strip().str.lower()\n",
    "    \n",
    "    #make the index the code to facilitate lookup\n",
    "    icd9_codes = icd9_codes.set_index('code')\n",
    "    \n",
    "    return icd9_codes.to_dict()"
   ]
  },
  {
   "cell_type": "code",
   "execution_count": 31,
   "id": "b58745d3",
   "metadata": {},
   "outputs": [],
   "source": [
    "def process_diagnosis(df):\n",
    "    _df = df.copy()\n",
    "    icd9_codes = load_icd9()\n",
    "    for column in ['diag_1', 'diag_2', 'diag_3']:\n",
    "        #encode the columns and map\n",
    "        _df[column] = _df[column].str[0:3].str.lower()\n",
    "        _df = _df.replace({column: (icd9_codes['description'])})\n",
    "        _df[column] = _df[column].fillna(value='unknown')\n",
    "        \n",
    "        #vectorizer\n",
    "        vectorizer = TfidfVectorizer(max_features=5000, ngram_range=(1, 2))\n",
    "        data_vect = vectorizer.fit_transform(_df[column])\n",
    "        \n",
    "        #pca\n",
    "        pca = PCA(n_components=5, random_state=42)\n",
    "        data_pca = pca.fit_transform(data_vect.toarray())\n",
    "        \n",
    "        #add the top 5 components\n",
    "        for i in list(range(0, 5)):\n",
    "            _df['{col}_c{c}'.format(col=column, c=i)] = (data_pca[:, i]).tolist()\n",
    "        \n",
    "    return _df"
   ]
  },
  {
   "cell_type": "code",
   "execution_count": 32,
   "id": "c08a3123",
   "metadata": {},
   "outputs": [],
   "source": [
    "testing_data = data_train.copy()[['diag_1', 'diag_2', 'diag_3']]"
   ]
  },
  {
   "cell_type": "code",
   "execution_count": 33,
   "id": "39426be8",
   "metadata": {},
   "outputs": [
    {
     "data": {
      "text/html": [
       "<div>\n",
       "<style scoped>\n",
       "    .dataframe tbody tr th:only-of-type {\n",
       "        vertical-align: middle;\n",
       "    }\n",
       "\n",
       "    .dataframe tbody tr th {\n",
       "        vertical-align: top;\n",
       "    }\n",
       "\n",
       "    .dataframe thead th {\n",
       "        text-align: right;\n",
       "    }\n",
       "</style>\n",
       "<table border=\"1\" class=\"dataframe\">\n",
       "  <thead>\n",
       "    <tr style=\"text-align: right;\">\n",
       "      <th></th>\n",
       "      <th>diag_1</th>\n",
       "      <th>diag_2</th>\n",
       "      <th>diag_3</th>\n",
       "    </tr>\n",
       "    <tr>\n",
       "      <th>admission_id</th>\n",
       "      <th></th>\n",
       "      <th></th>\n",
       "      <th></th>\n",
       "    </tr>\n",
       "  </thead>\n",
       "  <tbody>\n",
       "    <tr>\n",
       "      <th>0</th>\n",
       "      <td>721</td>\n",
       "      <td>250.6</td>\n",
       "      <td>357</td>\n",
       "    </tr>\n",
       "    <tr>\n",
       "      <th>1</th>\n",
       "      <td>276</td>\n",
       "      <td>507</td>\n",
       "      <td>150</td>\n",
       "    </tr>\n",
       "    <tr>\n",
       "      <th>2</th>\n",
       "      <td>414</td>\n",
       "      <td>490</td>\n",
       "      <td>250</td>\n",
       "    </tr>\n",
       "    <tr>\n",
       "      <th>3</th>\n",
       "      <td>577</td>\n",
       "      <td>585</td>\n",
       "      <td>250</td>\n",
       "    </tr>\n",
       "    <tr>\n",
       "      <th>4</th>\n",
       "      <td>531</td>\n",
       "      <td>532</td>\n",
       "      <td>562</td>\n",
       "    </tr>\n",
       "  </tbody>\n",
       "</table>\n",
       "</div>"
      ],
      "text/plain": [
       "             diag_1 diag_2 diag_3\n",
       "admission_id                     \n",
       "0               721  250.6    357\n",
       "1               276    507    150\n",
       "2               414    490    250\n",
       "3               577    585    250\n",
       "4               531    532    562"
      ]
     },
     "execution_count": 33,
     "metadata": {},
     "output_type": "execute_result"
    }
   ],
   "source": [
    "testing_data.head()"
   ]
  },
  {
   "cell_type": "code",
   "execution_count": 36,
   "id": "e74c3c0f",
   "metadata": {},
   "outputs": [],
   "source": [
    "testing_data = process_diagnosis(testing_data)"
   ]
  },
  {
   "cell_type": "code",
   "execution_count": 38,
   "id": "8d562f06",
   "metadata": {},
   "outputs": [],
   "source": [
    "testing_data['readmitted'] = data_train['readmitted']"
   ]
  },
  {
   "cell_type": "code",
   "execution_count": 39,
   "id": "dab0f810",
   "metadata": {},
   "outputs": [
    {
     "data": {
      "text/html": [
       "<div>\n",
       "<style scoped>\n",
       "    .dataframe tbody tr th:only-of-type {\n",
       "        vertical-align: middle;\n",
       "    }\n",
       "\n",
       "    .dataframe tbody tr th {\n",
       "        vertical-align: top;\n",
       "    }\n",
       "\n",
       "    .dataframe thead th {\n",
       "        text-align: right;\n",
       "    }\n",
       "</style>\n",
       "<table border=\"1\" class=\"dataframe\">\n",
       "  <thead>\n",
       "    <tr style=\"text-align: right;\">\n",
       "      <th></th>\n",
       "      <th>diag_1</th>\n",
       "      <th>diag_2</th>\n",
       "      <th>diag_3</th>\n",
       "      <th>diag_1_c0</th>\n",
       "      <th>diag_1_c1</th>\n",
       "      <th>diag_1_c2</th>\n",
       "      <th>diag_1_c3</th>\n",
       "      <th>diag_1_c4</th>\n",
       "      <th>diag_2_c0</th>\n",
       "      <th>diag_2_c1</th>\n",
       "      <th>diag_2_c2</th>\n",
       "      <th>diag_2_c3</th>\n",
       "      <th>diag_2_c4</th>\n",
       "      <th>diag_3_c0</th>\n",
       "      <th>diag_3_c1</th>\n",
       "      <th>diag_3_c2</th>\n",
       "      <th>diag_3_c3</th>\n",
       "      <th>diag_3_c4</th>\n",
       "      <th>readmitted</th>\n",
       "    </tr>\n",
       "    <tr>\n",
       "      <th>admission_id</th>\n",
       "      <th></th>\n",
       "      <th></th>\n",
       "      <th></th>\n",
       "      <th></th>\n",
       "      <th></th>\n",
       "      <th></th>\n",
       "      <th></th>\n",
       "      <th></th>\n",
       "      <th></th>\n",
       "      <th></th>\n",
       "      <th></th>\n",
       "      <th></th>\n",
       "      <th></th>\n",
       "      <th></th>\n",
       "      <th></th>\n",
       "      <th></th>\n",
       "      <th></th>\n",
       "      <th></th>\n",
       "      <th></th>\n",
       "    </tr>\n",
       "  </thead>\n",
       "  <tbody>\n",
       "    <tr>\n",
       "      <th>0</th>\n",
       "      <td>spondylosis of unspecified site, with myelopathy</td>\n",
       "      <td>diabetes with unspecified complication, type i...</td>\n",
       "      <td>unspecified inflammatory and toxic neuropathy</td>\n",
       "      <td>-0.011029</td>\n",
       "      <td>-0.112304</td>\n",
       "      <td>-0.016654</td>\n",
       "      <td>-0.121795</td>\n",
       "      <td>-0.090175</td>\n",
       "      <td>0.882378</td>\n",
       "      <td>0.037220</td>\n",
       "      <td>0.065962</td>\n",
       "      <td>0.009284</td>\n",
       "      <td>0.024713</td>\n",
       "      <td>-0.134828</td>\n",
       "      <td>-0.061684</td>\n",
       "      <td>0.005638</td>\n",
       "      <td>-0.049559</td>\n",
       "      <td>-0.058042</td>\n",
       "      <td>False</td>\n",
       "    </tr>\n",
       "    <tr>\n",
       "      <th>1</th>\n",
       "      <td>electrolyte and fluid disorders not elsewhere ...</td>\n",
       "      <td>pneumonitis due to other solids and liquids</td>\n",
       "      <td>malignant neoplasm of esophagus, unspecified site</td>\n",
       "      <td>-0.040898</td>\n",
       "      <td>-0.166062</td>\n",
       "      <td>-0.018042</td>\n",
       "      <td>-0.006049</td>\n",
       "      <td>0.050359</td>\n",
       "      <td>-0.090277</td>\n",
       "      <td>0.003777</td>\n",
       "      <td>-0.075909</td>\n",
       "      <td>-0.024391</td>\n",
       "      <td>-0.076425</td>\n",
       "      <td>-0.141093</td>\n",
       "      <td>-0.064503</td>\n",
       "      <td>-0.025209</td>\n",
       "      <td>-0.086018</td>\n",
       "      <td>-0.080486</td>\n",
       "      <td>True</td>\n",
       "    </tr>\n",
       "    <tr>\n",
       "      <th>2</th>\n",
       "      <td>chronic ischemic heart disease, unspecified</td>\n",
       "      <td>bronchitis, not specified as acute or chronic</td>\n",
       "      <td>diabetes with unspecified complication, type i...</td>\n",
       "      <td>-0.321393</td>\n",
       "      <td>0.469086</td>\n",
       "      <td>0.725927</td>\n",
       "      <td>0.042940</td>\n",
       "      <td>-0.038169</td>\n",
       "      <td>-0.099434</td>\n",
       "      <td>0.014223</td>\n",
       "      <td>-0.070447</td>\n",
       "      <td>-0.057111</td>\n",
       "      <td>-0.008432</td>\n",
       "      <td>0.839915</td>\n",
       "      <td>0.038932</td>\n",
       "      <td>0.013577</td>\n",
       "      <td>0.018856</td>\n",
       "      <td>0.016840</td>\n",
       "      <td>False</td>\n",
       "    </tr>\n",
       "    <tr>\n",
       "      <th>3</th>\n",
       "      <td>unspecified disease of pancreas</td>\n",
       "      <td>chronic kidney disease, unspecified</td>\n",
       "      <td>diabetes with unspecified complication, type i...</td>\n",
       "      <td>-0.068647</td>\n",
       "      <td>-0.058552</td>\n",
       "      <td>0.078396</td>\n",
       "      <td>-0.071947</td>\n",
       "      <td>-0.011004</td>\n",
       "      <td>-0.142967</td>\n",
       "      <td>-0.110968</td>\n",
       "      <td>-0.215222</td>\n",
       "      <td>-0.430517</td>\n",
       "      <td>0.531430</td>\n",
       "      <td>0.839915</td>\n",
       "      <td>0.038932</td>\n",
       "      <td>0.013577</td>\n",
       "      <td>0.018856</td>\n",
       "      <td>0.016840</td>\n",
       "      <td>False</td>\n",
       "    </tr>\n",
       "    <tr>\n",
       "      <th>4</th>\n",
       "      <td>gastric ulcer, unspecified as acute or chronic...</td>\n",
       "      <td>duodenal ulcer, unspecified as acute or chroni...</td>\n",
       "      <td>diverticulitis of colon with hemorrhage</td>\n",
       "      <td>-0.030390</td>\n",
       "      <td>-0.089038</td>\n",
       "      <td>0.019841</td>\n",
       "      <td>-0.063152</td>\n",
       "      <td>-0.002995</td>\n",
       "      <td>-0.076486</td>\n",
       "      <td>-0.014856</td>\n",
       "      <td>-0.088980</td>\n",
       "      <td>-0.055528</td>\n",
       "      <td>-0.028345</td>\n",
       "      <td>-0.105232</td>\n",
       "      <td>-0.063018</td>\n",
       "      <td>-0.013349</td>\n",
       "      <td>-0.068974</td>\n",
       "      <td>-0.059466</td>\n",
       "      <td>False</td>\n",
       "    </tr>\n",
       "  </tbody>\n",
       "</table>\n",
       "</div>"
      ],
      "text/plain": [
       "                                                         diag_1  \\\n",
       "admission_id                                                      \n",
       "0              spondylosis of unspecified site, with myelopathy   \n",
       "1             electrolyte and fluid disorders not elsewhere ...   \n",
       "2                   chronic ischemic heart disease, unspecified   \n",
       "3                               unspecified disease of pancreas   \n",
       "4             gastric ulcer, unspecified as acute or chronic...   \n",
       "\n",
       "                                                         diag_2  \\\n",
       "admission_id                                                      \n",
       "0             diabetes with unspecified complication, type i...   \n",
       "1                   pneumonitis due to other solids and liquids   \n",
       "2                 bronchitis, not specified as acute or chronic   \n",
       "3                           chronic kidney disease, unspecified   \n",
       "4             duodenal ulcer, unspecified as acute or chroni...   \n",
       "\n",
       "                                                         diag_3  diag_1_c0  \\\n",
       "admission_id                                                                 \n",
       "0                 unspecified inflammatory and toxic neuropathy  -0.011029   \n",
       "1             malignant neoplasm of esophagus, unspecified site  -0.040898   \n",
       "2             diabetes with unspecified complication, type i...  -0.321393   \n",
       "3             diabetes with unspecified complication, type i...  -0.068647   \n",
       "4                       diverticulitis of colon with hemorrhage  -0.030390   \n",
       "\n",
       "              diag_1_c1  diag_1_c2  diag_1_c3  diag_1_c4  diag_2_c0  \\\n",
       "admission_id                                                          \n",
       "0             -0.112304  -0.016654  -0.121795  -0.090175   0.882378   \n",
       "1             -0.166062  -0.018042  -0.006049   0.050359  -0.090277   \n",
       "2              0.469086   0.725927   0.042940  -0.038169  -0.099434   \n",
       "3             -0.058552   0.078396  -0.071947  -0.011004  -0.142967   \n",
       "4             -0.089038   0.019841  -0.063152  -0.002995  -0.076486   \n",
       "\n",
       "              diag_2_c1  diag_2_c2  diag_2_c3  diag_2_c4  diag_3_c0  \\\n",
       "admission_id                                                          \n",
       "0              0.037220   0.065962   0.009284   0.024713  -0.134828   \n",
       "1              0.003777  -0.075909  -0.024391  -0.076425  -0.141093   \n",
       "2              0.014223  -0.070447  -0.057111  -0.008432   0.839915   \n",
       "3             -0.110968  -0.215222  -0.430517   0.531430   0.839915   \n",
       "4             -0.014856  -0.088980  -0.055528  -0.028345  -0.105232   \n",
       "\n",
       "              diag_3_c1  diag_3_c2  diag_3_c3  diag_3_c4  readmitted  \n",
       "admission_id                                                          \n",
       "0             -0.061684   0.005638  -0.049559  -0.058042       False  \n",
       "1             -0.064503  -0.025209  -0.086018  -0.080486        True  \n",
       "2              0.038932   0.013577   0.018856   0.016840       False  \n",
       "3              0.038932   0.013577   0.018856   0.016840       False  \n",
       "4             -0.063018  -0.013349  -0.068974  -0.059466       False  "
      ]
     },
     "execution_count": 39,
     "metadata": {},
     "output_type": "execute_result"
    }
   ],
   "source": [
    "testing_data.head()"
   ]
  },
  {
   "cell_type": "code",
   "execution_count": 49,
   "id": "5e597a96",
   "metadata": {},
   "outputs": [],
   "source": [
    "yes = testing_data[testing_data['readmitted'] == True]\n",
    "no = testing_data[testing_data['readmitted'] == False]"
   ]
  },
  {
   "cell_type": "code",
   "execution_count": 50,
   "id": "2ceb6e84",
   "metadata": {},
   "outputs": [
    {
     "data": {
      "text/plain": [
       "(9072, 19)"
      ]
     },
     "execution_count": 50,
     "metadata": {},
     "output_type": "execute_result"
    }
   ],
   "source": [
    "yes.shape"
   ]
  },
  {
   "cell_type": "code",
   "execution_count": 51,
   "id": "2f098d33",
   "metadata": {},
   "outputs": [
    {
     "data": {
      "text/plain": [
       "(72340, 19)"
      ]
     },
     "execution_count": 51,
     "metadata": {},
     "output_type": "execute_result"
    }
   ],
   "source": [
    "no.shape"
   ]
  },
  {
   "cell_type": "code",
   "execution_count": 69,
   "id": "cb2cf372",
   "metadata": {},
   "outputs": [
    {
     "data": {
      "image/png": "[encoded data removed]",
      "text/plain": [
       "<Figure size 432x288 with 1 Axes>"
      ]
     },
     "metadata": {
      "needs_background": "light"
     },
     "output_type": "display_data"
    }
   ],
   "source": [
    "fig = plt.figure()\n",
    "ax1 = fig.add_subplot(111)\n",
    "\n",
    "ax1.scatter(no['diag_3_c0'], no['diag_3_c2'], s=10, c='r', marker=\"o\", label='Not readmitted')\n",
    "ax1.scatter(yes['diag_3_c0'], yes['diag_3_c2'], s=10, c='b', marker=\"s\", label='Readmitted')\n",
    "plt.legend(loc='upper left');\n"
   ]
  },
  {
   "cell_type": "code",
   "execution_count": null,
   "id": "34a9261f",
   "metadata": {},
   "outputs": [],
   "source": []
  },
  {
   "cell_type": "code",
   "execution_count": null,
   "id": "c050c66f",
   "metadata": {},
   "outputs": [],
   "source": []
  },
  {
   "cell_type": "code",
   "execution_count": null,
   "id": "939f1884",
   "metadata": {},
   "outputs": [],
   "source": [
    "raise notimplementederror"
   ]
  },
  {
   "cell_type": "markdown",
   "id": "f7804866",
   "metadata": {},
   "source": [
    "# A quick test"
   ]
  },
  {
   "cell_type": "code",
   "execution_count": null,
   "id": "74b3ec6f",
   "metadata": {},
   "outputs": [],
   "source": [
    "## put this into a custom transformer please\n",
    "\n",
    "numeric_transformer = Pipeline(steps=[\n",
    "    ('imputer', SimpleImputer(strategy='median')),\n",
    "    ('scaler', StandardScaler())])\n",
    "categorical_transformer = Pipeline(steps=[\n",
    "    ('imputer', SimpleImputer(strategy='constant', fill_value='unknown')),\n",
    "    ('onehot', OneHotEncoder(handle_unknown='ignore'))])\n",
    "preprocessor = ColumnTransformer(\n",
    "    transformers=[\n",
    "        #('num', numeric_transformer, num_feats),\n",
    "        ('cat', categorical_transformer, cat_features)])"
   ]
  },
  {
   "cell_type": "code",
   "execution_count": null,
   "id": "5ad7bc28",
   "metadata": {},
   "outputs": [],
   "source": [
    "pipeline = make_pipeline(\n",
    "    ColumnConverter(),\n",
    "    SelectColumns(cols=num_feats+bool_feats+ord_cat_feats+cat_features),\n",
    "    custom_oe(),\n",
    "    preprocessor,\n",
    "    RandomForestClassifier(max_depth=10, class_weight=\"balanced\", random_state=42, n_jobs=-1),\n",
    ")\n",
    "pipeline.fit(X_train, y_train)\n",
    "\n",
    "y_pred = pipeline.predict(X_test)\n",
    "\n",
    "print(\"f1 score: %s\" % (f1_score(y_test, y_pred)))\n",
    "print(\"recall score: %s\" % (recall_score(y_test, y_pred)))\n",
    "print(\"precision score: %s\" % (precision_score(y_test, y_pred)))\n",
    "print(\"discrimination results:\")\n",
    "verify_no_discrimination(X_test=X_test, y_true=y_test, y_pred=y_pred, sensitive_columns = ['medical_specialty', 'payer_code','gender','race'])"
   ]
  },
  {
   "cell_type": "code",
   "execution_count": null,
   "id": "a27ac463",
   "metadata": {},
   "outputs": [],
   "source": [
    "cm = confusion_matrix(y_true=y_test, y_pred=y_pred, labels = pipeline.classes_)\n",
    "disp = ConfusionMatrixDisplay(confusion_matrix=cm, display_labels=pipeline.classes_)\n",
    "disp.plot(cmap=\"OrRd\");"
   ]
  },
  {
   "cell_type": "code",
   "execution_count": null,
   "id": "16a39c8b",
   "metadata": {},
   "outputs": [],
   "source": [
    "fpr, tpr, thresholds = roc_curve(y_test, y_pred)\n",
    "roc_auc = auc(fpr, tpr)\n",
    "display = RocCurveDisplay(fpr=fpr, tpr=tpr, roc_auc=roc_auc, estimator_name=None)\n",
    "display.plot()\n",
    "plt.show()"
   ]
  },
  {
   "cell_type": "code",
   "execution_count": null,
   "id": "f7a0acdd",
   "metadata": {},
   "outputs": [],
   "source": [
    "pipeline = make_pipeline(\n",
    "    ColumnConverter(),\n",
    "    SelectColumns(cols=num_feats+bool_feats+ord_cat_feats+cat_features),\n",
    "    custom_oe(),\n",
    "    preprocessor,\n",
    "    GradientBoostingClassifier(learning_rate=.1,\n",
    "                               n_estimators=100,\n",
    "                               subsample=0.2,\n",
    "                               n_iter_no_change=10,\n",
    "                               max_features = None,\n",
    "                               random_state=42)\n",
    ")\n",
    "pipeline.fit(X_train, y_train)\n",
    "\n",
    "y_pred = pipeline.predict(X_test)\n",
    "\n",
    "print(\"f1 score: %s\" % (f1_score(y_test, y_pred)))\n",
    "print(\"recall score: %s\" % (recall_score(y_test, y_pred)))\n",
    "print(\"precision score: %s\" % (precision_score(y_test, y_pred)))\n",
    "print(\"discrimination results:\")\n",
    "verify_no_discrimination(X_test=X_test, y_true=y_test, y_pred=y_pred, sensitive_columns = ['medical_specialty', 'payer_code','gender','race'])"
   ]
  },
  {
   "cell_type": "code",
   "execution_count": null,
   "id": "684a0918",
   "metadata": {},
   "outputs": [],
   "source": [
    "cm = confusion_matrix(y_true=y_test, y_pred=y_pred, labels = pipeline.classes_)\n",
    "disp = ConfusionMatrixDisplay(confusion_matrix=cm, display_labels=pipeline.classes_)\n",
    "disp.plot(cmap=\"OrRd\");"
   ]
  },
  {
   "cell_type": "code",
   "execution_count": null,
   "id": "9ff1843b",
   "metadata": {},
   "outputs": [],
   "source": [
    "fpr, tpr, thresholds = roc_curve(y_test, y_pred)\n",
    "roc_auc = auc(fpr, tpr)\n",
    "display = RocCurveDisplay(fpr=fpr, tpr=tpr, roc_auc=roc_auc, estimator_name=None)\n",
    "display.plot()\n",
    "plt.show()"
   ]
  },
  {
   "cell_type": "markdown",
   "id": "7414156a",
   "metadata": {},
   "source": [
    "# Output files (pickling)"
   ]
  },
  {
   "cell_type": "code",
   "execution_count": null,
   "id": "ccdc6411",
   "metadata": {},
   "outputs": [],
   "source": [
    "# TMP_DIR = '/tmp'\n",
    "# with open(os.path.join(TMP_DIR, \"columns.json\"), 'w') as fh:\n",
    "#     json.dump(X_train.columns.tolist(), fh)\n",
    "\n",
    "# with open(os.path.join(TMP_DIR, \"dtypes.pickle\"), 'wb') as fh:\n",
    "#     pickle.dump(X_train.dtypes, fh)\n",
    "    \n",
    "# joblib.dump(pipeline, os.path.join(TMP_DIR, 'pipeline.pickle')) "
   ]
  },
  {
   "cell_type": "code",
   "execution_count": null,
   "id": "2b91d0db",
   "metadata": {},
   "outputs": [],
   "source": []
  }
 ],
 "metadata": {
  "kernelspec": {
   "display_name": "Python 3",
   "language": "python",
   "name": "python3"
  },
  "language_info": {
   "codemirror_mode": {
    "name": "ipython",
    "version": 3
   },
   "file_extension": ".py",
   "mimetype": "text/x-python",
   "name": "python",
   "nbconvert_exporter": "python",
   "pygments_lexer": "ipython3",
   "version": "3.7.12"
  }
 },
 "nbformat": 4,
 "nbformat_minor": 5
}
