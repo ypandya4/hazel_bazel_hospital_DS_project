{
 "cells": [
  {
   "cell_type": "markdown",
   "id": "a91d16f2",
   "metadata": {},
   "source": [
    "# Imports"
   ]
  },
  {
   "cell_type": "code",
   "execution_count": 1,
   "id": "7fff49fb",
   "metadata": {},
   "outputs": [],
   "source": [
    "import os\n",
    "import base64\n",
    "import joblib\n",
    "import pandas as pd\n",
    "import numpy as np\n",
    "import category_encoders as ce\n",
    "import json\n",
    "import joblib\n",
    "import pickle\n",
    "import math\n",
    "import requests\n",
    "from copy import deepcopy\n",
    "import seaborn as sns\n",
    "from uuid import uuid4\n",
    "\n",
    "from sklearn.model_selection import train_test_split\n",
    "from sklearn.pipeline import make_pipeline, Pipeline\n",
    "from sklearn.model_selection import cross_val_score, GridSearchCV\n",
    "from category_encoders import OneHotEncoder\n",
    "from sklearn.impute import SimpleImputer\n",
    "from sklearn.preprocessing import StandardScaler\n",
    "from sklearn.compose import ColumnTransformer\n",
    "from sklearn.model_selection import cross_val_score\n",
    "from sklearn.ensemble import RandomForestClassifier, GradientBoostingClassifier, GradientBoostingRegressor\n",
    "from sklearn.tree import DecisionTreeClassifier, DecisionTreeRegressor\n",
    "from sklearn.linear_model import LogisticRegression\n",
    "from sklearn.metrics import (precision_score,\n",
    "                            recall_score,\n",
    "                            f1_score,\n",
    "                            accuracy_score,\n",
    "                            roc_auc_score,\n",
    "                            confusion_matrix,\n",
    "                            ConfusionMatrixDisplay,\n",
    "                            make_scorer,\n",
    "                            RocCurveDisplay,\n",
    "                            auc,\n",
    "                            roc_curve)\n",
    "\n",
    "from sklearn.base import BaseEstimator, TransformerMixin\n",
    "\n",
    "from pandas_profiling import ProfileReport\n",
    "\n",
    "from sklearn.model_selection import GridSearchCV\n",
    "\n",
    "import matplotlib.pyplot as plt\n",
    "import matplotlib.image as mpimg\n",
    "plt.style.use('ggplot')\n",
    "%matplotlib inline"
   ]
  },
  {
   "cell_type": "markdown",
   "id": "6bacc6b7",
   "metadata": {},
   "source": [
    "# Custom transformer imports"
   ]
  },
  {
   "cell_type": "code",
   "execution_count": 2,
   "id": "bb32c8cf",
   "metadata": {},
   "outputs": [],
   "source": [
    "# WIP preprocessor which assigns categories and compresses some code\n",
    "from custom_transformers.preprocessor import ColumnConverter\n",
    "\n",
    "# WIP ordinal category preprocessor\n",
    "from custom_transformers.custom_ordinal_encoder import custom_oe\n",
    "\n",
    "#WIP column selector\n",
    "from custom_transformers.featureselector import SelectColumns\n"
   ]
  },
  {
   "cell_type": "markdown",
   "id": "0da63fd8",
   "metadata": {},
   "source": [
    "# Functions"
   ]
  },
  {
   "cell_type": "code",
   "execution_count": 3,
   "id": "d4102f25",
   "metadata": {},
   "outputs": [],
   "source": [
    "def load_train_data():\n",
    "    df = pd.read_csv(os.path.join(\"data\", \"train_data.csv\"))\n",
    "    return df\n",
    "\n",
    "data_train = load_train_data()"
   ]
  },
  {
   "cell_type": "code",
   "execution_count": 4,
   "id": "c2ec538d",
   "metadata": {},
   "outputs": [],
   "source": [
    "def assign_index(df, indexcol: str):\n",
    "    _df = df.copy()\n",
    "    _df = _df.set_index(indexcol)\n",
    "    return _df"
   ]
  },
  {
   "cell_type": "code",
   "execution_count": 5,
   "id": "aaaf75ee",
   "metadata": {},
   "outputs": [],
   "source": [
    "def build_target(df, target: str):\n",
    "    _df = df.copy()\n",
    "    _df[target] = np.where(_df[target]== 'Yes', True, False)\n",
    "    return _df"
   ]
  },
  {
   "cell_type": "code",
   "execution_count": 6,
   "id": "8045ff76",
   "metadata": {},
   "outputs": [],
   "source": [
    "def processgender(df):\n",
    "    _df = df.copy()\n",
    "    _df['gender'] = _df['gender'].str.lower()\n",
    "    valid_genders = ['male', 'female']\n",
    "    _df.loc[~(_df['gender'].isin(valid_genders)), 'age'] = 'unknown'\n",
    "    return _df"
   ]
  },
  {
   "cell_type": "code",
   "execution_count": 7,
   "id": "402e6992",
   "metadata": {},
   "outputs": [],
   "source": [
    "def processrace(df):\n",
    "    _df = df.copy()\n",
    "    _df['race'] = _df['race'].str.lower().str.lstrip().str[0:3]\n",
    "    black = ['afr', 'bla']\n",
    "    white = ['cau', 'whi', 'eur']\n",
    "    hispanic = ['his', 'lat']\n",
    "    asian = ['asi']\n",
    "    race_options = black+white+hispanic+asian\n",
    "    _df.loc[~(_df['race'].isin(race_options)), 'race'] = 'unknown/other'\n",
    "    _df.loc[(_df['race'].isin(black)), 'race'] = 'black'\n",
    "    _df.loc[(_df['race'].isin(white)), 'race'] = 'white'\n",
    "    _df.loc[(_df['race'].isin(hispanic)), 'race'] = 'hispanic'\n",
    "    _df.loc[(_df['race'].isin(asian)), 'race'] = 'asian'\n",
    "    return _df"
   ]
  },
  {
   "cell_type": "code",
   "execution_count": 8,
   "id": "25c7a2f5",
   "metadata": {},
   "outputs": [],
   "source": [
    "def insurancestatus(df):\n",
    "    _df = testdf.copy()\n",
    "    _df.payer_code = _df.payer_code.where(_df.payer_code != '?')\n",
    "    _df.payer_code = _df.payer_code.fillna(value='unknown')\n",
    "    _df.loc[(_df['payer_code'] == 'SP'), 'payer_code'] == 'uninsured'\n",
    "    _df.loc[~(_df['payer_code'].isin(['SP', 'unknown'])), 'payer_code'] = 'insured'\n",
    "    return _df"
   ]
  },
  {
   "cell_type": "code",
   "execution_count": 9,
   "id": "bf9cef21",
   "metadata": {},
   "outputs": [],
   "source": [
    "def processadmissiontype(df):\n",
    "    _df = df.copy()\n",
    "    _df.loc[(_df['admission_type_code'].isin([5, 6, 8])), 'admission_type_code'] = 'n/a'\n",
    "    _df.loc[(_df['admission_type_code'] == 1), 'admission_type_code'] = 'emergency'\n",
    "    _df.loc[(_df['admission_type_code'] == 2), 'admission_type_code'] = 'urgent'\n",
    "    _df.loc[(_df['admission_type_code'] == 3), 'admission_type_code'] = 'elective'\n",
    "    _df.loc[(_df['admission_type_code'] == 4), 'admission_type_code'] = 'newborn'\n",
    "    _df.loc[(_df['admission_type_code'] == 7), 'admission_type_code'] = 'trauma'\n",
    "    return _df"
   ]
  },
  {
   "cell_type": "code",
   "execution_count": 10,
   "id": "23f12c54",
   "metadata": {},
   "outputs": [],
   "source": [
    "def processdischargecode(df):\n",
    "    _df = df.copy()\n",
    "\n",
    "    home = [1]\n",
    "    left_ama = [7]\n",
    "    hospice = [13, 14]\n",
    "    transferred = [2, 3, 4, 5, 9, 10, 15, 22, 23, 24, 27, 28, 29]\n",
    "    died = [11, 19, 20, 21]\n",
    "    for_outpatient_services = [12, 16, 17]\n",
    "    home_services = [6, 8]\n",
    "    all_cats = home+left_ama+hospice+transferred+died+for_outpatient_services+home_services\n",
    "\n",
    "    _df.loc[~(_df['discharge_disposition_code'].isin(all_cats)), 'discharge_disposition_code'] = 'unknown'\n",
    "    _df.loc[(_df['discharge_disposition_code'].isin(home)), 'discharge_disposition_code'] = 'discharged_home'\n",
    "    _df.loc[(_df['discharge_disposition_code'].isin(left_ama)), 'discharge_disposition_code'] = 'left_ama'\n",
    "    _df.loc[(_df['discharge_disposition_code'].isin(hospice)), 'discharge_disposition_code'] = 'discharged_hospice'\n",
    "    _df.loc[(_df['discharge_disposition_code'].isin(transferred)), 'discharge_disposition_code'] = 'transferred_inpatient'\n",
    "    _df.loc[(_df['discharge_disposition_code'].isin(died)), 'discharge_disposition_code'] = 'expired'\n",
    "    _df.loc[(_df['discharge_disposition_code'].isin(for_outpatient_services)), 'discharge_disposition_code'] = 'transferred_outpatient'\n",
    "    _df.loc[(_df['discharge_disposition_code'].isin(home_services)), 'discharge_disposition_code'] = 'home_care'\n",
    "    \n",
    "    return _df"
   ]
  },
  {
   "cell_type": "code",
   "execution_count": 11,
   "id": "3018352d",
   "metadata": {},
   "outputs": [],
   "source": [
    "def processspecializations(df):\n",
    "    _df = df.copy()\n",
    "    _df['medical_specialty'] = _df['medical_specialty'].str.lower()\n",
    "    counts = pd.DataFrame(_df.medical_specialty.value_counts())\n",
    "    df_mask = counts['medical_specialty']>=100\n",
    "    selected_specialties = counts[df_mask]\n",
    "    selected_specialties = selected_specialties.index.to_list()\n",
    "    _df.loc[~(_df['medical_specialty'].isin(selected_specialties)), 'medical_specialty'] = 'other'\n",
    "    _df.loc[(_df['medical_specialty'] == '?'), 'medical_specialty'] = 'unknown'\n",
    "    return _df"
   ]
  },
  {
   "cell_type": "markdown",
   "id": "89231c2b",
   "metadata": {},
   "source": [
    "# Function to test if we satisfied requirements:"
   ]
  },
  {
   "cell_type": "markdown",
   "id": "a521ec1c",
   "metadata": {},
   "source": [
    "The first step will make a copy of the X_test and apply the custom converter for the columns - it will update the categories we are interested in (avoid duplicates etc)"
   ]
  },
  {
   "cell_type": "code",
   "execution_count": 12,
   "id": "e1b0a044",
   "metadata": {},
   "outputs": [],
   "source": [
    "def verify_no_discrimination(X_test,\n",
    "                             y_true,\n",
    "                             y_pred,\n",
    "                             sensitive_columns = [],\n",
    "                             max_diff=0.1,\n",
    "                             average='weighted'):    \n",
    "    # Use this as a template to get output:\n",
    "    #f1_scores, diff, is_satisfied  = verify_no_discrimination(X_test,\n",
    "    #                                                          y_test,\n",
    "    #                                                          y_pred,\n",
    "    #                                                          sensitive_column=['Self-defined ethnicity', 'race'] etc\n",
    "    #                                                          max_diff=0.15 )\n",
    "    #f1_scores, diff, is_satisfied\n",
    "    \n",
    "    _df = X_test.copy()\n",
    "    \n",
    "    results = {}\n",
    "    \n",
    "    cc = ColumnConverter()\n",
    "    _df = cc.fit_transform(_df)\n",
    "    \n",
    "    for column in sensitive_columns:  \n",
    "        sensitive_classes = _df[column].unique()\n",
    "        is_satisfied = True\n",
    "        f1_scores = {}\n",
    "        \n",
    "        for sensitive_class in sensitive_classes:\n",
    "            mask = (_df[column] == sensitive_class)\n",
    "            if mask.sum():\n",
    "                f1_scores[sensitive_class] = f1_score(y_true[mask],\n",
    "                                                      y_pred[mask],\n",
    "                                                      pos_label=1,\n",
    "                                                      labels=np.unique(y_pred[mask]))\n",
    "        \n",
    "        diff = np.max(list(f1_scores.values())) - np.min(list(f1_scores.values()))\n",
    "        if diff > max_diff:\n",
    "            is_satisfied = False\n",
    "        \n",
    "        results[column] = [f1_scores, diff, is_satisfied]\n",
    "    \n",
    "    return results"
   ]
  },
  {
   "cell_type": "markdown",
   "id": "84447972",
   "metadata": {},
   "source": [
    "# Loading data"
   ]
  },
  {
   "cell_type": "code",
   "execution_count": 13,
   "id": "517e7fa2",
   "metadata": {},
   "outputs": [],
   "source": [
    "target = 'readmitted'\n",
    "index_col = 'admission_id'"
   ]
  },
  {
   "cell_type": "code",
   "execution_count": 14,
   "id": "787600aa",
   "metadata": {},
   "outputs": [],
   "source": [
    "data_train = load_train_data()\n",
    "data_train = assign_index(data_train, index_col)\n",
    "data_train = build_target(data_train, target)"
   ]
  },
  {
   "cell_type": "markdown",
   "id": "97871020",
   "metadata": {},
   "source": [
    "# Simple baseline"
   ]
  },
  {
   "cell_type": "code",
   "execution_count": 15,
   "id": "e51f32a0",
   "metadata": {},
   "outputs": [],
   "source": [
    "#List of all features (n=numerical, uc=unordered actegory, oc=ordered category, b=boolean)\n",
    "\n",
    "all_features = ['patient_id', #identifier\n",
    "                'race', #uc\n",
    "                'gender', #uc\n",
    "                'age', #oc\n",
    "                'weight', #oc               \n",
    "                'admission_type_code', #uc\n",
    "                'discharge_disposition_code', #uc\n",
    "                'admission_source_code', #uc\n",
    "                'time_in_hospital', #n\n",
    "                'payer_code', #uc\n",
    "                'medical_specialty', #uc\n",
    "                'has_prosthesis', #b\n",
    "                'complete_vaccination_status', #uc\n",
    "                'num_lab_procedures', #n\n",
    "                'num_procedures', #n\n",
    "                'num_medications', #n\n",
    "                'number_outpatient', #n\n",
    "                'number_emergency', #n\n",
    "                'number_inpatient', #n\n",
    "                'diag_1', #uc\n",
    "                'diag_2', #uc\n",
    "                'diag_3', #uc\n",
    "                'number_diagnoses', #n\n",
    "                'blood_type', #uc\n",
    "                'hemoglobin_level', #n\n",
    "                'blood_transfusion', #b\n",
    "                'max_glu_serum', #oc\n",
    "                'A1Cresult', #oc\n",
    "                'diuretics', #b\n",
    "                'insulin', #b\n",
    "                'change', #b\n",
    "                'diabetesMed'] #b]\n",
    "\n",
    "num_features = ['time_in_hospital', \n",
    "                'num_lab_procedures',\n",
    "                'num_procedures',\n",
    "                'num_medications',\n",
    "                'number_outpatient',\n",
    "                'number_emergency',\n",
    "                'number_inpatient',\n",
    "                'number_diagnoses',\n",
    "                'hemoglobin_level']\n",
    "\n",
    "bool_features = ['has_prosthesis',\n",
    "                 'blood_transfusion',\n",
    "                 'diuretics',\n",
    "                 'insulin',\n",
    "                 'change',\n",
    "                 'diabetesMed']\n",
    "\n",
    "cat_features = ['race',\n",
    "                'gender',\n",
    "                'admission_type_code', \n",
    "                'discharge_disposition_code',\n",
    "                'admission_source_code', \n",
    "                'payer_code',\n",
    "                'medical_specialty',\n",
    "                'diag_1',\n",
    "                'diag_2',\n",
    "                'diag_3',\n",
    "                'blood_type']\n",
    "\n",
    "ord_cat_features = ['age',\n",
    "                    'weight',\n",
    "                    'max_glu_serum',\n",
    "                    'A1Cresult',\n",
    "                    'complete_vaccination_status',]\n",
    "\n",
    "# missing features: date of admission and date of release"
   ]
  },
  {
   "cell_type": "markdown",
   "id": "c061244a",
   "metadata": {},
   "source": [
    "### Test train split"
   ]
  },
  {
   "cell_type": "code",
   "execution_count": 16,
   "id": "1cdd6e55",
   "metadata": {},
   "outputs": [],
   "source": [
    "# Convert target to boolean\n",
    "\n",
    "# We have a small portion kept aside because of our random undersampling approach where we lose a lot of train data \n",
    "df_train, df_test = train_test_split(data_train, test_size=0.1, random_state=42, stratify=data_train[target])"
   ]
  },
  {
   "cell_type": "code",
   "execution_count": 17,
   "id": "e8aa1b33",
   "metadata": {},
   "outputs": [],
   "source": [
    "X_train = df_train.drop(target, axis=1)\n",
    "y_train = df_train[target]\n",
    "X_test = df_test.drop(target, axis=1)\n",
    "y_test = df_test[target]"
   ]
  },
  {
   "cell_type": "code",
   "execution_count": 18,
   "id": "2caf2a0d",
   "metadata": {},
   "outputs": [],
   "source": [
    "selected_features = ['time_in_hospital', \n",
    "                     'num_lab_procedures',\n",
    "                     'num_procedures',\n",
    "                     'num_medications',\n",
    "                     'number_outpatient',\n",
    "                     'number_emergency',\n",
    "                     'number_inpatient',\n",
    "                     'number_diagnoses',\n",
    "                     'hemoglobin_level',\n",
    "                     \n",
    "                     'has_prosthesis',\n",
    "                     'blood_transfusion',\n",
    "                     'diuretics',\n",
    "                     'insulin',\n",
    "                     'change',\n",
    "                     'diabetesMed',\n",
    "                     \n",
    "                     'race',\n",
    "                     'gender',\n",
    "                     'admission_type_code', \n",
    "                     'discharge_disposition_code',\n",
    "                     'admission_source_code', \n",
    "                     'payer_code',\n",
    "                     'medical_specialty',\n",
    "                     'complete_vaccination_status',\n",
    "                     'blood_type',\n",
    "                     \n",
    "                     'max_glu_serum',\n",
    "                     'A1Cresult',\n",
    "                     'age',\n",
    "                     'weight']"
   ]
  },
  {
   "cell_type": "code",
   "execution_count": 19,
   "id": "c7365df9",
   "metadata": {},
   "outputs": [],
   "source": [
    "num_feats = [feat for feat in selected_features if feat in num_features]\n",
    "cat_feats = [feat for feat in selected_features if feat in cat_features+bool_features+ord_cat_features]\n",
    "bool_feats = [feat for feat in selected_features if feat in bool_features]\n",
    "ord_cat_feats = [feat for feat in selected_features if feat in ord_cat_features]"
   ]
  },
  {
   "cell_type": "markdown",
   "id": "4566aed0",
   "metadata": {},
   "source": [
    "# Pipeline 1 - just numerical features"
   ]
  },
  {
   "cell_type": "code",
   "execution_count": 20,
   "id": "c3f00e22",
   "metadata": {},
   "outputs": [],
   "source": [
    "num_features = ['time_in_hospital', \n",
    "                'num_lab_procedures',\n",
    "                'num_procedures',\n",
    "                'num_medications',\n",
    "                'number_outpatient',\n",
    "                'number_emergency',\n",
    "                'number_inpatient',\n",
    "                'number_diagnoses',\n",
    "                'hemoglobin_level']"
   ]
  },
  {
   "cell_type": "code",
   "execution_count": 21,
   "id": "1cd2fc36",
   "metadata": {},
   "outputs": [
    {
     "name": "stdout",
     "output_type": "stream",
     "text": [
      "f1 score: 0.24249922672440452\n",
      "recall score: 0.432194046306505\n",
      "precision score: 0.16852966466036112\n",
      "discrimination results:\n"
     ]
    }
   ],
   "source": [
    "pipeline = make_pipeline(\n",
    "    ColumnConverter(),\n",
    "    SelectColumns(cols=num_feats),\n",
    "    SimpleImputer(strategy=\"median\"),\n",
    "    RandomForestClassifier(max_depth=10, class_weight=\"balanced\", random_state=42, n_jobs=-1),\n",
    ")\n",
    "pipeline.fit(X_train, y_train)\n",
    "\n",
    "y_pred = pipeline.predict(X_test)\n",
    "\n",
    "# To use on other cells\n",
    "print(\"f1 score: %s\" % (f1_score(y_test, y_pred)))\n",
    "print(\"recall score: %s\" % (recall_score(y_test, y_pred)))\n",
    "print(\"precision score: %s\" % (precision_score(y_test, y_pred)))\n",
    "print(\"discrimination results:\")\n",
    "#verify_no_discrimination(X_test=X_test, y_true=y_test, y_pred=y_pred, sensitive_columns = ['medical_specialty', 'payer_code','gender','race'])"
   ]
  },
  {
   "cell_type": "markdown",
   "id": "4cf7d70e",
   "metadata": {},
   "source": [
    "# Pipeline 2 - adding the binary features"
   ]
  },
  {
   "cell_type": "code",
   "execution_count": 22,
   "id": "5fae7cd4",
   "metadata": {},
   "outputs": [],
   "source": [
    "bool_features = ['has_prosthesis',\n",
    "                 'blood_transfusion',\n",
    "                 'diuretics',\n",
    "                 'insulin',\n",
    "                 'change',\n",
    "                 'diabetesMed']"
   ]
  },
  {
   "cell_type": "code",
   "execution_count": 23,
   "id": "b5f58f57",
   "metadata": {},
   "outputs": [
    {
     "name": "stdout",
     "output_type": "stream",
     "text": [
      "f1 score: 0.24733096085409254\n",
      "recall score: 0.4597574421168688\n",
      "precision score: 0.16916835699797161\n",
      "discrimination results:\n"
     ]
    },
    {
     "name": "stderr",
     "output_type": "stream",
     "text": [
      "/home/yash/.virtualenvs/bootcamp/lib/python3.7/site-packages/sklearn/metrics/_classification.py:1496: UndefinedMetricWarning: F-score is ill-defined and being set to 0.0 due to no true nor predicted samples. Use `zero_division` parameter to control this behavior.\n",
      "  average, \"true nor predicted\", 'F-score is', len(true_sum)\n"
     ]
    },
    {
     "data": {
      "text/plain": [
       "{'medical_specialty': [{'unknown': 0.2524383247274814,\n",
       "   'surgery-general': 0.2626262626262626,\n",
       "   'emergency/trauma': 0.281786941580756,\n",
       "   'internalmedicine': 0.22641509433962262,\n",
       "   'cardiology': 0.19402985074626866,\n",
       "   'family/generalpractice': 0.22857142857142856,\n",
       "   'orthopedics-reconstructive': 0.28571428571428575,\n",
       "   'hematology/oncology': 0.25,\n",
       "   'radiologist': 0.0,\n",
       "   'gastroenterology': 0.28571428571428575,\n",
       "   'other': 0.21621621621621623,\n",
       "   'pulmonology': 0.24242424242424246,\n",
       "   'surgery-neuro': 0.3333333333333333,\n",
       "   'surgery-vascular': 0.23529411764705882,\n",
       "   'psychiatry': 0.2608695652173913,\n",
       "   'surgery-cardiovascular/thoracic': 0.13333333333333333,\n",
       "   'neurology': 0.0,\n",
       "   'urology': 0.2222222222222222,\n",
       "   'oncology': 0.25000000000000006,\n",
       "   'physicalmedicineandrehabilitation': 0.30769230769230765,\n",
       "   'orthopedics': 0.22222222222222224,\n",
       "   'pediatrics': 0.0,\n",
       "   'obstetricsandgynecology': 0.42857142857142855,\n",
       "   'nephrology': 0.37037037037037035,\n",
       "   'pediatrics-endocrinology': 0.0},\n",
       "  0.42857142857142855,\n",
       "  False],\n",
       " 'payer_code': [{'insured': 0.25531914893617025,\n",
       "   'unknown': 0.23934426229508196,\n",
       "   'SP': 0.19847328244274812},\n",
       "  0.05684586649342213,\n",
       "  True],\n",
       " 'gender': [{'male': 0.24735449735449735, 'female': 0.24731182795698922},\n",
       "  4.26693975081327e-05,\n",
       "  True],\n",
       " 'race': [{'black': 0.24924012158054712,\n",
       "   'white': 0.24834049199531433,\n",
       "   'hispanic': 0.24137931034482757,\n",
       "   'unknown/other': 0.2077922077922078,\n",
       "   'asian': 0.2222222222222222},\n",
       "  0.04144791378833931,\n",
       "  True]}"
      ]
     },
     "execution_count": 23,
     "metadata": {},
     "output_type": "execute_result"
    }
   ],
   "source": [
    "pipeline = make_pipeline(\n",
    "    ColumnConverter(),\n",
    "    SelectColumns(cols=num_feats+bool_feats),\n",
    "    SimpleImputer(strategy=\"median\"),\n",
    "    RandomForestClassifier(max_depth=10, class_weight=\"balanced\", random_state=42, n_jobs=-1),\n",
    ")\n",
    "pipeline.fit(X_train, y_train)\n",
    "\n",
    "y_pred = pipeline.predict(X_test)\n",
    "\n",
    "# To use on other cells\n",
    "print(\"f1 score: %s\" % (f1_score(y_test, y_pred)))\n",
    "print(\"recall score: %s\" % (recall_score(y_test, y_pred)))\n",
    "print(\"precision score: %s\" % (precision_score(y_test, y_pred)))\n",
    "print(\"discrimination results:\")\n",
    "verify_no_discrimination(X_test=X_test, y_true=y_test, y_pred=y_pred, sensitive_columns = ['medical_specialty', 'payer_code','gender','race'])"
   ]
  },
  {
   "cell_type": "markdown",
   "id": "54ff16d0",
   "metadata": {},
   "source": [
    "# Pipeline 3 - adding ordered categorical variables"
   ]
  },
  {
   "cell_type": "markdown",
   "id": "af7a4fc2",
   "metadata": {},
   "source": [
    "1. added age, weight, max_glu_serum, A1Cresult, and also encoded vaccination status here\n",
    "2. also did some playing around with the model options for fun"
   ]
  },
  {
   "cell_type": "code",
   "execution_count": 24,
   "id": "7a351b78",
   "metadata": {},
   "outputs": [],
   "source": [
    "ord_cat_features = ['age',\n",
    "                    #'weight',\n",
    "                    'max_glu_serum',\n",
    "                    'A1Cresult',\n",
    "                    'complete_vaccination_status',]"
   ]
  },
  {
   "cell_type": "code",
   "execution_count": 25,
   "id": "5215a0e1",
   "metadata": {},
   "outputs": [
    {
     "name": "stdout",
     "output_type": "stream",
     "text": [
      "f1 score: 0.251014335948066\n",
      "recall score: 0.5115766262403528\n",
      "precision score: 0.16630824372759856\n",
      "discrimination results:\n"
     ]
    }
   ],
   "source": [
    "pipeline = make_pipeline(\n",
    "    ColumnConverter(),\n",
    "    custom_oe(),\n",
    "    SelectColumns(cols=num_feats+bool_feats+ord_cat_feats),\n",
    "    SimpleImputer(strategy=\"median\"),\n",
    "    RandomForestClassifier(max_depth=10,\n",
    "                           class_weight=\"balanced\",\n",
    "                           random_state=42,\n",
    "                           n_jobs=-1,\n",
    "                           criterion = 'entropy',\n",
    "                           bootstrap = False))\n",
    "pipeline.fit(X_train, y_train)\n",
    "\n",
    "y_pred = pipeline.predict(X_test)\n",
    "\n",
    "# To use on other cells\n",
    "print(\"f1 score: %s\" % (f1_score(y_test, y_pred)))\n",
    "print(\"recall score: %s\" % (recall_score(y_test, y_pred)))\n",
    "print(\"precision score: %s\" % (precision_score(y_test, y_pred)))\n",
    "print(\"discrimination results:\")\n",
    "#verify_no_discrimination(X_test=X_test, y_true=y_test, y_pred=y_pred, sensitive_columns = ['medical_specialty', 'payer_code','gender','race'])"
   ]
  },
  {
   "cell_type": "code",
   "execution_count": 26,
   "id": "3a3fb5a3",
   "metadata": {},
   "outputs": [
    {
     "data": {
      "image/png": "[encoded data removed]",
      "text/plain": [
       "<Figure size 432x288 with 2 Axes>"
      ]
     },
     "metadata": {
      "needs_background": "light"
     },
     "output_type": "display_data"
    }
   ],
   "source": [
    "cm = confusion_matrix(y_true=y_test, y_pred=y_pred, labels = pipeline.classes_)\n",
    "disp = ConfusionMatrixDisplay(confusion_matrix=cm, display_labels=pipeline.classes_)\n",
    "disp.plot(cmap=\"OrRd\");"
   ]
  },
  {
   "cell_type": "markdown",
   "id": "1792ce3a",
   "metadata": {},
   "source": [
    "Trying gradient boosting classifier"
   ]
  },
  {
   "cell_type": "code",
   "execution_count": 27,
   "id": "6bba43e5",
   "metadata": {},
   "outputs": [
    {
     "name": "stdout",
     "output_type": "stream",
     "text": [
      "f1 score: 0.010893246187363833\n",
      "recall score: 0.005512679162072767\n",
      "precision score: 0.45454545454545453\n",
      "discrimination results:\n"
     ]
    }
   ],
   "source": [
    "pipeline = make_pipeline(\n",
    "    ColumnConverter(),\n",
    "    custom_oe(),\n",
    "    SelectColumns(cols=num_feats+bool_feats+ord_cat_feats),\n",
    "    SimpleImputer(strategy=\"median\"),\n",
    "    GradientBoostingClassifier(learning_rate=.1,\n",
    "                               n_estimators=20,\n",
    "                               subsample=0.2,\n",
    "                               n_iter_no_change=10,\n",
    "                               max_features = None,\n",
    "                               random_state=42)\n",
    ")\n",
    "pipeline.fit(X_train, y_train)\n",
    "\n",
    "y_pred = pipeline.predict(X_test)\n",
    "\n",
    "# To use on other cells\n",
    "print(\"f1 score: %s\" % (f1_score(y_test, y_pred)))\n",
    "print(\"recall score: %s\" % (recall_score(y_test, y_pred)))\n",
    "print(\"precision score: %s\" % (precision_score(y_test, y_pred)))\n",
    "print(\"discrimination results:\")\n",
    "#verify_no_discrimination(X_test=X_test, y_true=y_test, y_pred=y_pred, sensitive_columns = ['medical_specialty', 'payer_code','gender','race'])"
   ]
  },
  {
   "cell_type": "code",
   "execution_count": 28,
   "id": "eea6d516",
   "metadata": {},
   "outputs": [
    {
     "data": {
      "image/png": "[encoded data removed]",
      "text/plain": [
       "<Figure size 432x288 with 2 Axes>"
      ]
     },
     "metadata": {
      "needs_background": "light"
     },
     "output_type": "display_data"
    }
   ],
   "source": [
    "cm = confusion_matrix(y_true=y_test, y_pred=y_pred, labels = pipeline.classes_)\n",
    "disp = ConfusionMatrixDisplay(confusion_matrix=cm, display_labels=pipeline.classes_)\n",
    "disp.plot(cmap=\"OrRd\");"
   ]
  },
  {
   "cell_type": "markdown",
   "id": "27e6708a",
   "metadata": {},
   "source": [
    "Trying a grid search"
   ]
  },
  {
   "cell_type": "code",
   "execution_count": 29,
   "id": "63e81132",
   "metadata": {},
   "outputs": [
    {
     "name": "stdout",
     "output_type": "stream",
     "text": [
      "f1 score: 0.02109704641350211\n",
      "recall score: 0.011025358324145534\n",
      "precision score: 0.24390243902439024\n",
      "discrimination results:\n"
     ]
    }
   ],
   "source": [
    "f1_scorer = make_scorer(f1_score)\n",
    "roc_auc_scorer = make_scorer(roc_auc_score)\n",
    "\n",
    "pipeline = make_pipeline(\n",
    "    ColumnConverter(),\n",
    "    custom_oe(),\n",
    "    SelectColumns(cols=num_feats+bool_feats+ord_cat_feats),\n",
    "    SimpleImputer(strategy=\"median\"),\n",
    "    GridSearchCV(DecisionTreeClassifier(random_state=42),\n",
    "                                      param_grid = {'max_depth': range(1, 10),\n",
    "                                                    'max_features': ['auto', 'sqrt', 'log2', None],\n",
    "                                                    #'max_features': range(1, X.shape[1]),\n",
    "                                                    'criterion': ['entropy', 'gini']},\n",
    "                                      cv=10,\n",
    "                                      scoring=roc_auc_scorer, #or should it be 'accuracy'\n",
    "                                      return_train_score=True))\n",
    "pipeline.fit(X_train, y_train)\n",
    "\n",
    "y_pred = pipeline.predict(X_test)\n",
    "\n",
    "# To use on other cells\n",
    "print(\"f1 score: %s\" % (f1_score(y_test, y_pred)))\n",
    "print(\"recall score: %s\" % (recall_score(y_test, y_pred)))\n",
    "print(\"precision score: %s\" % (precision_score(y_test, y_pred)))\n",
    "print(\"discrimination results:\")\n",
    "#verify_no_discrimination(X_test=X_test, y_true=y_test, y_pred=y_pred, sensitive_columns = ['medical_specialty', 'payer_code','gender','race'])"
   ]
  },
  {
   "cell_type": "code",
   "execution_count": 30,
   "id": "b048cc29",
   "metadata": {},
   "outputs": [
    {
     "data": {
      "image/png": "[encoded data removed]",
      "text/plain": [
       "<Figure size 432x288 with 2 Axes>"
      ]
     },
     "metadata": {
      "needs_background": "light"
     },
     "output_type": "display_data"
    }
   ],
   "source": [
    "cm = confusion_matrix(y_true=y_test, y_pred=y_pred, labels = pipeline.classes_)\n",
    "disp = ConfusionMatrixDisplay(confusion_matrix=cm, display_labels=pipeline.classes_)\n",
    "disp.plot(cmap=\"OrRd\");"
   ]
  },
  {
   "cell_type": "code",
   "execution_count": 31,
   "id": "7a9a0a6a",
   "metadata": {},
   "outputs": [
    {
     "data": {
      "image/png": "[encoded data removed]",
      "text/plain": [
       "<Figure size 432x288 with 1 Axes>"
      ]
     },
     "metadata": {
      "needs_background": "light"
     },
     "output_type": "display_data"
    }
   ],
   "source": [
    "fpr, tpr, thresholds = roc_curve(y_test, y_pred)\n",
    "roc_auc = auc(fpr, tpr)\n",
    "display = RocCurveDisplay(fpr=fpr, tpr=tpr, roc_auc=roc_auc, estimator_name=None)\n",
    "display.plot()\n",
    "plt.show()"
   ]
  },
  {
   "cell_type": "markdown",
   "id": "ec37c711",
   "metadata": {},
   "source": [
    "# Adding categorical variables"
   ]
  },
  {
   "cell_type": "code",
   "execution_count": 33,
   "id": "eda46ad8",
   "metadata": {},
   "outputs": [],
   "source": [
    "cat_features = ['race', #done\n",
    "                'gender', #done\n",
    "                'admission_type_code', #done \n",
    "                'discharge_disposition_code', #done\n",
    "                'admission_source_code', #done \n",
    "                'payer_code', #done (now the insurance column)\n",
    "                'medical_specialty', #done (any specialty over 100 - lets see how bad it gets)\n",
    "                #'diag_1',\n",
    "                #'diag_2',\n",
    "                #'diag_3',\n",
    "                #'blood_type'\n",
    "               ] #dropping blood type"
   ]
  },
  {
   "cell_type": "markdown",
   "id": "0d29840f",
   "metadata": {},
   "source": [
    "1. Will drop blood type - too many inconsistencies and not feasible to guess\n",
    "1. Does admission type and code have a role?\n",
    "1. Race, gender can be encoded\n",
    "1. Payer code 'SP' is an indicator of uninsured patients - what to do with '?' should we make 3 categories?"
   ]
  },
  {
   "cell_type": "markdown",
   "id": "26d7c778",
   "metadata": {},
   "source": [
    "### Processing Diagnoses:\n",
    "1. High cardinality (and possibly redundant information due to overlpa with the speecialty?)"
   ]
  },
  {
   "cell_type": "code",
   "execution_count": 34,
   "id": "bb3c6e09",
   "metadata": {},
   "outputs": [
    {
     "data": {
      "text/plain": [
       "7     45942\n",
       "1     23684\n",
       "17     5412\n",
       "4      2581\n",
       "6      1819\n",
       "2       878\n",
       "5       681\n",
       "3       148\n",
       "20      130\n",
       "9        99\n",
       "8        15\n",
       "22       10\n",
       "10        6\n",
       "11        2\n",
       "14        2\n",
       "25        2\n",
       "13        1\n",
       "Name: admission_source_code, dtype: int64"
      ]
     },
     "execution_count": 34,
     "metadata": {},
     "output_type": "execute_result"
    }
   ],
   "source": [
    "data_train.admission_source_code.value_counts()"
   ]
  },
  {
   "cell_type": "code",
   "execution_count": 35,
   "id": "b26bc5ec",
   "metadata": {},
   "outputs": [],
   "source": [
    "cc = ColumnConverter()\n",
    "testdf = cc.fit_transform(data_train)"
   ]
  },
  {
   "cell_type": "code",
   "execution_count": 36,
   "id": "4c13b0c1",
   "metadata": {},
   "outputs": [
    {
     "data": {
      "text/plain": [
       "emergency    42562\n",
       "elective     14884\n",
       "urgent       14576\n",
       "n/a           8204\n",
       "trauma          16\n",
       "newborn          8\n",
       "Name: admission_type_code, dtype: int64"
      ]
     },
     "execution_count": 36,
     "metadata": {},
     "output_type": "execute_result"
    }
   ],
   "source": [
    "testdf.admission_type_code.value_counts()"
   ]
  },
  {
   "cell_type": "code",
   "execution_count": 41,
   "id": "d7f5cde6",
   "metadata": {},
   "outputs": [],
   "source": [
    "Diagnostic_categories = ['infection', #001-139\n",
    "                         'neoplasms', #140-239\n",
    "                         'endocrine_nutritional_metabolic_immune', #240-279\n",
    "                         'blood', #280-289\n",
    "                         'mental', #290-319\n",
    "                         'nervous_system', #320-389\n",
    "                         'circulatory', #390-459\n",
    "                         'respiratory', #460-519\n",
    "                         'digestive', #520-579\n",
    "                         'genitourinary', #580-629\n",
    "                         'pregnancy', #630-679\n",
    "                         'skin', #680-709\n",
    "                         'musculoskeletal', #710-739\n",
    "                         'congenital', #740-759\n",
    "                         'perinatal', #760-779\n",
    "                         'ill_defined', #780-799\n",
    "                         'injury_poisoning', #800-899, also E800-E999\n",
    "                         'supplemental' #V01-V89\n",
    "                        ]"
   ]
  },
  {
   "cell_type": "code",
   "execution_count": 75,
   "id": "164ee283",
   "metadata": {},
   "outputs": [],
   "source": [
    "infection = [str(code) for code in list(range(1, 140))]\n",
    "neoplasms = [str(code) for code in list(range(141, 240))]\n",
    "endocrine_nutritional_metabolic_immune = [str(code) for code in list(range(241, 280))]\n",
    "blood = [str(code) for code in list(range(280, 290))]\n",
    "mental = [str(code) for code in list(range(290, 320))]\n",
    "nervous_system = [str(code) for code in list(range(320, 390))]\n",
    "circulatory = [str(code) for code in list(range(390, 460))]\n",
    "respiratory = [str(code) for code in list(range(460, 520))]\n",
    "digestive = [str(code) for code in list(range(520, 580))]\n",
    "genitourinary = [str(code) for code in list(range(580, 630))]\n",
    "pregnancy = [str(code) for code in list(range(630, 680))]\n",
    "skin = [str(code) for code in list(range(680, 710))]\n",
    "musculoskeletal = [str(code) for code in list(range(710, 740))]\n",
    "congenital = [str(code) for code in list(range(740, 760))]\n",
    "perinatal = [str(code) for code in list(range(760, 780))]\n",
    "ill_defined = [str(code) for code in list(range(780, 800))]\n",
    "injury_poisoning = [str(code) for code in list(range(800, 900))] + ['e'+str(code) for code in list(range(800, 900))]\n",
    "supplemental = ['v'+str(code) for code in list(range(1, 90))]\n",
    "\n",
    "all_codes = infection + neoplasms + endocrine_nutritional_metabolic_immune + blood + mental+ nervous_system + circulatory + respiratory + digestive + genitourinary + pregnancy + skin + musculoskeletal+ congenital+ perinatal+ ill_defined+ injury_poisoning+ supplemental "
   ]
  },
  {
   "cell_type": "code",
   "execution_count": 85,
   "id": "c81ec686",
   "metadata": {},
   "outputs": [],
   "source": [
    "testdf.diag_2.fillna(value='none')\n",
    "testdf.loc[~(testdf['diag_2'].isin(all_codes)), 'diag_2'] = 'none'"
   ]
  },
  {
   "cell_type": "code",
   "execution_count": 83,
   "id": "03e8f32b",
   "metadata": {},
   "outputs": [],
   "source": [
    "testdf['diag_1'] = testdf['diag_1'].astype('category')\n",
    "testdf['diag_1'] = testdf['diag_1'].str.lower().str.lstrip().str[0:3]"
   ]
  },
  {
   "cell_type": "code",
   "execution_count": 84,
   "id": "5b25fe69",
   "metadata": {},
   "outputs": [
    {
     "data": {
      "text/plain": [
       "array(['276', 'none', '599', '427', '518', '584', '284', '250', '585',\n",
       "       '285', '441', '183', '403', '94', '496', '401', '719', '486',\n",
       "       '566', '162', '786', '682', '425', '648', '41', '428', '731',\n",
       "       '440', '414', '491', '553', '244', '424', '493', '780', '730',\n",
       "       '411', '552', '338', '573', '707', '135', '296', '574', '318',\n",
       "       '578', '157', '577', '535', '280', '389', '555', '305', '782',\n",
       "       '410', '196', '625', '198', '275', '202', '277', '300', '560',\n",
       "       '434', '402', '301', '242', '272', '278', '398', '293', '205',\n",
       "       '112', '453', '214', '292', '787', '823', '481', '530', '189',\n",
       "       '490', '346', '54', '487', '70', '569', '38', '42', '590', '515',\n",
       "       '303', '785', '295', '429', '358', '788', '437', '348', '342',\n",
       "       '412', '438', '200', '413', '512', '710', '426', '155', '332',\n",
       "       '562', '789', '404', '197', '304', '340', '724', '298', '799',\n",
       "       '511', '444', '591', '571', '8', '618', '592', '607', '742', '203',\n",
       "       '282', '716', '415', '642', '873', '860', '482', '536', '516',\n",
       "       '331', '79', '753', '815', '312', '808', '596', '154', '820',\n",
       "       '273', '654', '784', '492', '733', '396', '287', '373', '294',\n",
       "       '185', '362', '850', '722', '446', '796', '715', '586', '812',\n",
       "       '319', '531', '825', '252', '333', '153', '288', '201', '568',\n",
       "       '290', '738', '564', '626', '255', '581', '558', '314', '567',\n",
       "       '802', '745', '805', '473', '721', '572', '416', '461', '794',\n",
       "       '286', '382', '519', '507', '233', '9', '892', '576', '593', '458',\n",
       "       '204', '790', '729', '459', '746', '238', '199', '53', '435',\n",
       "       '151', '263', '322', '728', '557', '31', '433', '575', '253',\n",
       "       '368', '726', '840', '376', '583', '5', '595', '394', '614', '397',\n",
       "       '466', '337', '324', '150', '378', '317', '620', '443', '432',\n",
       "       '421', '465', '781', '756', '822', '110', '456', '711', '386',\n",
       "       '327', '344', '579', '807', '696', '123', '709', '736', '847',\n",
       "       '681', '34', '758', '627', '311', '274', '289', '510', '145',\n",
       "       '452', '266', '354', '218', '478', '844', '357', '600', '447',\n",
       "       '88', '451', '783', '604', '351', '723', '309', '754', '156',\n",
       "       '174', '821', '431', '477', '694', '454', '646', '867', '345',\n",
       "       '422', '420', '693', '291', '608', '845', '588', '335', '727',\n",
       "       '380', '423', '537', '791', '246', '457', '610', '495', '152',\n",
       "       '816', '356', '680', '734', '279', '211', '842', '713', '283',\n",
       "       '442', '281', '616', '462', '836', '652', '480', '644', '824',\n",
       "       '514', '258', '191', '245', '891', '695', '540', '843', '359',\n",
       "       '241', '659', '381', '556', '485', '261', '664', '741', '251',\n",
       "       '379', '494', '601', '75', '430', '792', '684', '232', '455',\n",
       "       '623', '705', '40', '565', '737', '750', '164', '570', '718',\n",
       "       '521', '533', '793', '813', '717', '619', '463', '550', '594',\n",
       "       '634', '220', '365', '369', '532', '701', '349', '866', '712',\n",
       "       '360', '641', '299', '801', '661', '172', '528', '377', '883',\n",
       "       '323', '395', '543', '714', '751', '527', '117', '800', '436',\n",
       "       '884', '797', '831', '364', '352', '870', '225', '336', '686',\n",
       "       '656', '852', '138', '685', '621', '141', '645', '759', '343',\n",
       "       '268', '617', '239', '706', '208', '806', '755', '542', '658',\n",
       "       '470', '517', '448', '188', '192', '862', '223', '861', '598',\n",
       "       '611', '879', '702', '622', '472', '78', '868', '795', '523',\n",
       "       '302', '180', '96', '260', '388', '262', '880', '520', '522',\n",
       "       '347', '306', '872', '698', '130', '405', '310', '691', '832',\n",
       "       '524', '881', '215', '513', '683', '316', '474', '136', '508',\n",
       "       '307', '320', '725', '179', '865', '372', '810', '131', '853',\n",
       "       '483', '227', '837', '647', '871', '308', '484', '864', '500',\n",
       "       '297', '114', '11', '704', '235', '747', '851', '163', '115',\n",
       "       '269', '66', '692', '195', '182', '355', '602', '649', '383',\n",
       "       '217', '475', '350', '863', '341', '353', '882', '665', '27',\n",
       "       '193', '374', '869', '703', '814', '663', '325', '259', '501',\n",
       "       '464', '460', '894', '256', '226', '111', '603', '228', '186',\n",
       "       '833', '826', '171', '46', '674', '173', '52', '7'], dtype=object)"
      ]
     },
     "execution_count": 84,
     "metadata": {},
     "output_type": "execute_result"
    }
   ],
   "source": [
    "testdf.diag_2.unique()"
   ]
  },
  {
   "cell_type": "markdown",
   "id": "f7804866",
   "metadata": {},
   "source": [
    "# A quick test"
   ]
  },
  {
   "cell_type": "code",
   "execution_count": null,
   "id": "74b3ec6f",
   "metadata": {},
   "outputs": [],
   "source": [
    "numeric_transformer = Pipeline(steps=[\n",
    "    ('imputer', SimpleImputer(strategy='median')),\n",
    "    ('scaler', StandardScaler())])\n",
    "categorical_transformer = Pipeline(steps=[\n",
    "    ('imputer', SimpleImputer(strategy='constant', fill_value='unknown')),\n",
    "    ('onehot', OneHotEncoder(handle_unknown='ignore'))])\n",
    "preprocessor = ColumnTransformer(\n",
    "    transformers=[\n",
    "        ('num', numeric_transformer, num_feats),\n",
    "        ('cat', categorical_transformer, cat_features)])"
   ]
  },
  {
   "cell_type": "code",
   "execution_count": null,
   "id": "5ad7bc28",
   "metadata": {},
   "outputs": [],
   "source": [
    "pipeline = make_pipeline(\n",
    "    ColumnConverter(),\n",
    "    SelectColumns(cols=num_feats+bool_feats+ord_cat_feats+cat_features),\n",
    "    custom_oe(),\n",
    "    preprocessor,\n",
    "    RandomForestClassifier(max_depth=10, class_weight=\"balanced\", random_state=42, n_jobs=-1),\n",
    ")\n",
    "pipeline.fit(X_train, y_train)\n",
    "\n",
    "y_pred = pipeline.predict(X_test)\n",
    "\n",
    "print(\"f1 score: %s\" % (f1_score(y_test, y_pred)))\n",
    "print(\"recall score: %s\" % (recall_score(y_test, y_pred)))\n",
    "print(\"precision score: %s\" % (precision_score(y_test, y_pred)))\n",
    "print(\"discrimination results:\")\n",
    "verify_no_discrimination(X_test=X_test, y_true=y_test, y_pred=y_pred, sensitive_columns = ['medical_specialty', 'payer_code','gender','race'])"
   ]
  },
  {
   "cell_type": "code",
   "execution_count": null,
   "id": "a27ac463",
   "metadata": {},
   "outputs": [],
   "source": [
    "cm = confusion_matrix(y_true=y_test, y_pred=y_pred, labels = pipeline.classes_)\n",
    "disp = ConfusionMatrixDisplay(confusion_matrix=cm, display_labels=pipeline.classes_)\n",
    "disp.plot(cmap=\"OrRd\");"
   ]
  },
  {
   "cell_type": "code",
   "execution_count": null,
   "id": "16a39c8b",
   "metadata": {},
   "outputs": [],
   "source": [
    "fpr, tpr, thresholds = roc_curve(y_test, y_pred)\n",
    "roc_auc = auc(fpr, tpr)\n",
    "display = RocCurveDisplay(fpr=fpr, tpr=tpr, roc_auc=roc_auc, estimator_name=None)\n",
    "display.plot()\n",
    "plt.show()"
   ]
  },
  {
   "cell_type": "code",
   "execution_count": null,
   "id": "f7a0acdd",
   "metadata": {},
   "outputs": [],
   "source": [
    "pipeline = make_pipeline(\n",
    "    ColumnConverter(),\n",
    "    SelectColumns(cols=num_feats+bool_feats+ord_cat_feats+cat_features),\n",
    "    custom_oe(),\n",
    "    preprocessor,\n",
    "    GradientBoostingClassifier(learning_rate=.1,\n",
    "                               n_estimators=100,\n",
    "                               subsample=0.2,\n",
    "                               n_iter_no_change=10,\n",
    "                               max_features = None,\n",
    "                               random_state=42)\n",
    ")\n",
    "pipeline.fit(X_train, y_train)\n",
    "\n",
    "y_pred = pipeline.predict(X_test)\n",
    "\n",
    "print(\"f1 score: %s\" % (f1_score(y_test, y_pred)))\n",
    "print(\"recall score: %s\" % (recall_score(y_test, y_pred)))\n",
    "print(\"precision score: %s\" % (precision_score(y_test, y_pred)))\n",
    "print(\"discrimination results:\")\n",
    "verify_no_discrimination(X_test=X_test, y_true=y_test, y_pred=y_pred, sensitive_columns = ['medical_specialty', 'payer_code','gender','race'])"
   ]
  },
  {
   "cell_type": "code",
   "execution_count": null,
   "id": "684a0918",
   "metadata": {},
   "outputs": [],
   "source": [
    "cm = confusion_matrix(y_true=y_test, y_pred=y_pred, labels = pipeline.classes_)\n",
    "disp = ConfusionMatrixDisplay(confusion_matrix=cm, display_labels=pipeline.classes_)\n",
    "disp.plot(cmap=\"OrRd\");"
   ]
  },
  {
   "cell_type": "code",
   "execution_count": null,
   "id": "9ff1843b",
   "metadata": {},
   "outputs": [],
   "source": [
    "fpr, tpr, thresholds = roc_curve(y_test, y_pred)\n",
    "roc_auc = auc(fpr, tpr)\n",
    "display = RocCurveDisplay(fpr=fpr, tpr=tpr, roc_auc=roc_auc, estimator_name=None)\n",
    "display.plot()\n",
    "plt.show()"
   ]
  },
  {
   "cell_type": "markdown",
   "id": "7414156a",
   "metadata": {},
   "source": [
    "# Output files (pickling)"
   ]
  },
  {
   "cell_type": "code",
   "execution_count": null,
   "id": "ccdc6411",
   "metadata": {},
   "outputs": [],
   "source": [
    "TMP_DIR = '/tmp'\n",
    "with open(os.path.join(TMP_DIR, \"columns.json\"), 'w') as fh:\n",
    "    json.dump(X_train.columns.tolist(), fh)\n",
    "\n",
    "with open(os.path.join(TMP_DIR, \"dtypes.pickle\"), 'wb') as fh:\n",
    "    pickle.dump(X_train.dtypes, fh)\n",
    "    \n",
    "joblib.dump(pipeline, os.path.join(TMP_DIR, 'pipeline.pickle')) "
   ]
  },
  {
   "cell_type": "code",
   "execution_count": null,
   "id": "2b91d0db",
   "metadata": {},
   "outputs": [],
   "source": []
  }
 ],
 "metadata": {
  "kernelspec": {
   "display_name": "Python 3",
   "language": "python",
   "name": "python3"
  },
  "language_info": {
   "codemirror_mode": {
    "name": "ipython",
    "version": 3
   },
   "file_extension": ".py",
   "mimetype": "text/x-python",
   "name": "python",
   "nbconvert_exporter": "python",
   "pygments_lexer": "ipython3",
   "version": "3.7.12"
  }
 },
 "nbformat": 4,
 "nbformat_minor": 5
}
