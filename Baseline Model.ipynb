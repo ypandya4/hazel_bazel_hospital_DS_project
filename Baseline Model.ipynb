{
 "cells": [
  {
   "cell_type": "markdown",
   "id": "a91d16f2",
   "metadata": {},
   "source": [
    "# Imports"
   ]
  },
  {
   "cell_type": "code",
   "execution_count": 1,
   "id": "7fff49fb",
   "metadata": {},
   "outputs": [],
   "source": [
    "import os\n",
    "import base64\n",
    "import joblib\n",
    "import pandas as pd\n",
    "import numpy as np\n",
    "import category_encoders as ce\n",
    "import json\n",
    "import joblib\n",
    "import pickle\n",
    "import math\n",
    "import requests\n",
    "from copy import deepcopy\n",
    "import seaborn as sns\n",
    "from uuid import uuid4\n",
    "\n",
    "from sklearn.model_selection import train_test_split\n",
    "from sklearn.pipeline import make_pipeline, Pipeline\n",
    "from sklearn.model_selection import cross_val_score\n",
    "from category_encoders import OneHotEncoder\n",
    "from sklearn.impute import SimpleImputer\n",
    "from sklearn.preprocessing import StandardScaler\n",
    "from sklearn.compose import ColumnTransformer\n",
    "from sklearn.model_selection import cross_val_score\n",
    "from sklearn.ensemble import RandomForestClassifier, GradientBoostingClassifier, GradientBoostingRegressor\n",
    "from sklearn.tree import DecisionTreeClassifier, DecisionTreeRegressor\n",
    "from sklearn.linear_model import LogisticRegression\n",
    "from sklearn.metrics import precision_score, recall_score, f1_score, accuracy_score, roc_auc_score\n",
    "\n",
    "from sklearn.base import BaseEstimator, TransformerMixin\n",
    "\n",
    "from pandas_profiling import ProfileReport\n",
    "\n",
    "import matplotlib.pyplot as plt\n",
    "import matplotlib.image as mpimg\n",
    "plt.style.use('ggplot')\n",
    "%matplotlib inline"
   ]
  },
  {
   "cell_type": "markdown",
   "id": "0da63fd8",
   "metadata": {},
   "source": [
    "# Functions"
   ]
  },
  {
   "cell_type": "code",
   "execution_count": 2,
   "id": "d4102f25",
   "metadata": {},
   "outputs": [],
   "source": [
    "def load_train_data():\n",
    "    df = pd.read_csv(os.path.join(\"data\", \"train_data.csv\"))\n",
    "    return df\n",
    "\n",
    "data_train = load_train_data()"
   ]
  },
  {
   "cell_type": "code",
   "execution_count": 3,
   "id": "c2ec538d",
   "metadata": {},
   "outputs": [],
   "source": [
    "def assign_index(df, indexcol: str):\n",
    "    _df = df.copy()\n",
    "    _df = _df.set_index(indexcol)\n",
    "    return _df"
   ]
  },
  {
   "cell_type": "code",
   "execution_count": 4,
   "id": "93d93026",
   "metadata": {},
   "outputs": [],
   "source": [
    "def assign_categorical(df, column_list: []):\n",
    "    _df = df.copy()\n",
    "    for column in column_list:\n",
    "        _df[column] = _df[column].astype('category')\n",
    "    return _df"
   ]
  },
  {
   "cell_type": "code",
   "execution_count": 5,
   "id": "66624bdf",
   "metadata": {},
   "outputs": [],
   "source": [
    "def encode_unordered_categorical(df, column_list: []):\n",
    "    _df = df.copy()\n",
    "    ohe = ce.OneHotEncoder(verbose=1,\n",
    "                           cols=column_list,\n",
    "                           handle_missing=\"indicator\",\n",
    "                           use_cat_names=True)\n",
    "    _df = ohe.fit_transform(_df)\n",
    "    return _df"
   ]
  },
  {
   "cell_type": "code",
   "execution_count": 6,
   "id": "027b67ed",
   "metadata": {},
   "outputs": [],
   "source": [
    "def binarymap(df):\n",
    "    _df = df.copy()\n",
    "    _df = _df.assign(has_prosthesis = _df['has_prosthesis'].map({True: 1, False: 0}),\n",
    "                       blood_transfusion = _df['blood_transfusion'].map({True: 1, False: 0}),\n",
    "                       diuretics = _df['diuretics'].map({'Yes': 1, 'No': 0}),\n",
    "                       insulin = _df['insulin'].map({'Yes': 1, 'No': 0}),\n",
    "                       change = _df['change'].map({'Ch': 1, 'No': 0}),\n",
    "                       diabetesMed = _df['diabetesMed'].map({'Yes': 1, 'No': 0}))\n",
    "    return _df"
   ]
  },
  {
   "cell_type": "code",
   "execution_count": 7,
   "id": "f57b0aaf",
   "metadata": {},
   "outputs": [],
   "source": [
    "def encode_ordinal_categorical(df, column_list: []):\n",
    "    _df = df.copy()\n",
    "    orde = ce.OrdinalEncoder(verbose=1,\n",
    "                             cols=column_list,\n",
    "                             handle_unknown='value',\n",
    "                             handle_missing='value')\n",
    "    _df = orde.fit_transform(_df)\n",
    "    return _df"
   ]
  },
  {
   "cell_type": "code",
   "execution_count": 8,
   "id": "aaaf75ee",
   "metadata": {},
   "outputs": [],
   "source": [
    "def build_target(df, target: str):\n",
    "    _df = df.copy()\n",
    "    _df[target] = np.where(_df[target]== 'Yes', True, False)\n",
    "    return _df"
   ]
  },
  {
   "cell_type": "markdown",
   "id": "12e552ae",
   "metadata": {},
   "source": [
    "# Custom Transformers and pipeline objects"
   ]
  },
  {
   "cell_type": "code",
   "execution_count": 9,
   "id": "97c4664a",
   "metadata": {},
   "outputs": [],
   "source": [
    "class DroppingColumns(BaseEstimator, TransformerMixin):\n",
    "    def __init__(self, cols=[]):\n",
    "        self.cols = cols\n",
    "    def fit(self, X=None, y=None, **fit_params):\n",
    "        return self\n",
    "    def transform(self, data):\n",
    "        X = data.copy()\n",
    "        X = X.drop(self.cols,axis=1)\n",
    "        return X"
   ]
  },
  {
   "cell_type": "code",
   "execution_count": 10,
   "id": "d6d6962f",
   "metadata": {},
   "outputs": [],
   "source": [
    "class SelectColumns(BaseEstimator, TransformerMixin):\n",
    "    def __init__(self, cols=[]):\n",
    "        self.cols = cols\n",
    "    def fit(self, X=None, y=None, **fit_params):\n",
    "        return self\n",
    "    def transform(self, data):\n",
    "        X = data.copy()\n",
    "        X = X[self.cols]\n",
    "        return X"
   ]
  },
  {
   "cell_type": "code",
   "execution_count": 11,
   "id": "08c64d72",
   "metadata": {},
   "outputs": [],
   "source": [
    "class BinaryProcessor(BaseEstimator, TransformerMixin):\n",
    "    def fit(self, X=None, y=None, **fit_params):\n",
    "        return self\n",
    "    def transform(self, data):\n",
    "        X = data.copy()\n",
    "        X = binarymap(X)\n",
    "        return X"
   ]
  },
  {
   "cell_type": "code",
   "execution_count": 12,
   "id": "5fcba0ee",
   "metadata": {},
   "outputs": [],
   "source": [
    "class AssignCategorical(BaseEstimator, TransformerMixin):\n",
    "    def __init__(self, cols=[]):\n",
    "        self.cols = cols\n",
    "    def fit(self, X=None, y=None, **fit_params):\n",
    "        return self\n",
    "    def transform(self, data):\n",
    "        X = data.copy()\n",
    "        X = assign_categorical(X, column_list=self.cols)\n",
    "        return X"
   ]
  },
  {
   "cell_type": "markdown",
   "id": "97871020",
   "metadata": {},
   "source": [
    "# Simple baseline"
   ]
  },
  {
   "cell_type": "code",
   "execution_count": 13,
   "id": "517e7fa2",
   "metadata": {},
   "outputs": [],
   "source": [
    "target = 'readmitted'\n",
    "index_col = 'admission_id'"
   ]
  },
  {
   "cell_type": "code",
   "execution_count": 14,
   "id": "787600aa",
   "metadata": {},
   "outputs": [],
   "source": [
    "data_train = load_train_data()\n",
    "data_train = assign_index(data_train, index_col)\n",
    "data_train = build_target(data_train, target)"
   ]
  },
  {
   "cell_type": "code",
   "execution_count": 15,
   "id": "e51f32a0",
   "metadata": {},
   "outputs": [],
   "source": [
    "#List of all features (n=numerical, uc=unordered actegory, oc=ordered category, b=boolean)\n",
    "\n",
    "all_features = ['patient_id', #identifier\n",
    "                'race', #uc\n",
    "                'gender', #uc\n",
    "                'age', #oc\n",
    "                'weight', #oc               \n",
    "                'admission_type_code', #uc\n",
    "                'discharge_disposition_code', #uc\n",
    "                'admission_source_code', #uc\n",
    "                'time_in_hospital', #n\n",
    "                'payer_code', #uc\n",
    "                'medical_specialty', #uc\n",
    "                'has_prosthesis', #b\n",
    "                'complete_vaccination_status', #uc\n",
    "                'num_lab_procedures', #n\n",
    "                'num_procedures', #n\n",
    "                'num_medications', #n\n",
    "                'number_outpatient', #n\n",
    "                'number_emergency', #n\n",
    "                'number_inpatient', #n\n",
    "                'diag_1', #uc\n",
    "                'diag_2', #uc\n",
    "                'diag_3', #uc\n",
    "                'number_diagnoses', #n\n",
    "                'blood_type', #uc\n",
    "                'hemoglobin_level', #n\n",
    "                'blood_transfusion', #b\n",
    "                'max_glu_serum', #oc\n",
    "                'A1Cresult', #oc\n",
    "                'diuretics', #b\n",
    "                'insulin', #b\n",
    "                'change', #b\n",
    "                'diabetesMed'] #b]\n",
    "\n",
    "num_features = ['time_in_hospital', \n",
    "                'num_lab_procedures',\n",
    "                'num_procedures',\n",
    "                'num_medications',\n",
    "                'number_outpatient',\n",
    "                'number_emergency',\n",
    "                'number_inpatient',\n",
    "                'number_diagnoses',\n",
    "                'hemoglobin_level']\n",
    "\n",
    "bool_features = ['has_prosthesis',\n",
    "                 'blood_transfusion',\n",
    "                 'diuretics',\n",
    "                 'insulin',\n",
    "                 'change',\n",
    "                 'diabetesMed']\n",
    "\n",
    "cat_features = ['race',\n",
    "                'gender',\n",
    "                'admission_type_code', \n",
    "                'discharge_disposition_code',\n",
    "                'admission_source_code', \n",
    "                'payer_code',\n",
    "                'medical_specialty',\n",
    "                'complete_vaccination_status',\n",
    "                'diag_1',\n",
    "                'diag_2',\n",
    "                'diag_3',\n",
    "                'blood_type',\n",
    "                'max_glu_serum',\n",
    "                'A1Cresult']\n",
    "\n",
    "ord_cat_features = ['age',\n",
    "                    'weight']\n",
    "\n",
    "# missing features: date of admission and date of release"
   ]
  },
  {
   "cell_type": "code",
   "execution_count": 16,
   "id": "1cdd6e55",
   "metadata": {},
   "outputs": [],
   "source": [
    "# Convert target to boolean\n",
    "df_train, df_test = train_test_split(data_train, test_size=0.2, random_state=42, stratify=data_train[target])\n",
    "X_train = df_train.drop(target, axis=1)\n",
    "y_train = df_train[target]\n",
    "X_test = df_test.drop(target, axis=1)\n",
    "y_test = df_test[target]"
   ]
  },
  {
   "cell_type": "code",
   "execution_count": 17,
   "id": "2caf2a0d",
   "metadata": {},
   "outputs": [],
   "source": [
    "selected_features = ['time_in_hospital', \n",
    "                     'num_lab_procedures',\n",
    "                     'num_procedures',\n",
    "                     'num_medications',\n",
    "                     'number_outpatient',\n",
    "                     'number_emergency',\n",
    "                     'number_inpatient',\n",
    "                     'number_diagnoses',\n",
    "                     'hemoglobin_level',\n",
    "                     \n",
    "                     'has_prosthesis',\n",
    "                     'blood_transfusion',\n",
    "                     'diuretics',\n",
    "                     'insulin',\n",
    "                     'change',\n",
    "                     'diabetesMed',\n",
    "                     \n",
    "                     'race',\n",
    "                     'gender',\n",
    "                     'admission_type_code', \n",
    "                     'discharge_disposition_code',\n",
    "                     'admission_source_code', \n",
    "                     'payer_code',\n",
    "                     'medical_specialty',\n",
    "                     'complete_vaccination_status',\n",
    "                     'blood_type',\n",
    "                     'max_glu_serum',\n",
    "                     'A1Cresult',\n",
    "                     \n",
    "                     'age',\n",
    "                     'weight']"
   ]
  },
  {
   "cell_type": "code",
   "execution_count": 18,
   "id": "c7365df9",
   "metadata": {},
   "outputs": [],
   "source": [
    "num_feats = [feat for feat in selected_features if feat in num_features]\n",
    "cat_feats = [feat for feat in selected_features if feat in cat_features+bool_features+ord_cat_features]\n",
    "bool_feats = [feat for feat in selected_features if feat in bool_features]\n",
    "ord_cat_feats = [feat for feat in selected_features if feat in ord_cat_features]"
   ]
  },
  {
   "cell_type": "markdown",
   "id": "4566aed0",
   "metadata": {},
   "source": [
    "# Pipeline 1 - just numerical features"
   ]
  },
  {
   "cell_type": "code",
   "execution_count": 19,
   "id": "d54de76d",
   "metadata": {},
   "outputs": [
    {
     "name": "stdout",
     "output_type": "stream",
     "text": [
      "0.23879680785758134\n",
      "0.4288864388092613\n",
      "0.16546150574223734\n"
     ]
    }
   ],
   "source": [
    "# Just using numerical features\n",
    "\n",
    "pipeline = make_pipeline(\n",
    "    SelectColumns(cols=num_feats),\n",
    "    SimpleImputer(strategy=\"median\"),\n",
    "    RandomForestClassifier(max_depth=10, class_weight=\"balanced\", random_state=42, n_jobs=-1),\n",
    ")\n",
    "pipeline.fit(X_train, y_train)\n",
    "\n",
    "y_pred = pipeline.predict(X_test)\n",
    "\n",
    "# To use on other cells\n",
    "print(f1_score(y_test, y_pred))\n",
    "print(recall_score(y_test, y_pred))\n",
    "print(precision_score(y_test, y_pred))"
   ]
  },
  {
   "cell_type": "markdown",
   "id": "4cf7d70e",
   "metadata": {},
   "source": [
    "# Pipeline 2 - adding the binary features"
   ]
  },
  {
   "cell_type": "code",
   "execution_count": 20,
   "id": "8080f5b0",
   "metadata": {},
   "outputs": [
    {
     "name": "stdout",
     "output_type": "stream",
     "text": [
      "0.24461091576211585\n",
      "0.4410143329658214\n",
      "0.16924053310767928\n"
     ]
    }
   ],
   "source": [
    "# Adding the binary features\n",
    "\n",
    "pipeline = make_pipeline(\n",
    "    SelectColumns(cols=num_feats+bool_feats),\n",
    "    AssignCategorical(cols=bool_feats),\n",
    "    BinaryProcessor(),\n",
    "    SimpleImputer(strategy=\"median\"),\n",
    "    RandomForestClassifier(max_depth=10, class_weight=\"balanced\", random_state=42, n_jobs=-1),\n",
    ")\n",
    "pipeline.fit(X_train, y_train)\n",
    "\n",
    "y_pred = pipeline.predict(X_test)\n",
    "\n",
    "# To use on other cells\n",
    "print(f1_score(y_test, y_pred))\n",
    "print(recall_score(y_test, y_pred))\n",
    "print(precision_score(y_test, y_pred))"
   ]
  },
  {
   "cell_type": "markdown",
   "id": "54ff16d0",
   "metadata": {},
   "source": [
    "# Pipeline 3 - adding ordered categorical variables"
   ]
  },
  {
   "cell_type": "code",
   "execution_count": 21,
   "id": "9f9a175d",
   "metadata": {},
   "outputs": [
    {
     "data": {
      "text/plain": [
       "Index(['patient_id', 'race', 'gender', 'age', 'weight', 'admission_type_code',\n",
       "       'discharge_disposition_code', 'admission_source_code',\n",
       "       'time_in_hospital', 'payer_code', 'medical_specialty', 'has_prosthesis',\n",
       "       'complete_vaccination_status', 'num_lab_procedures', 'num_procedures',\n",
       "       'num_medications', 'number_outpatient', 'number_emergency',\n",
       "       'number_inpatient', 'diag_1', 'diag_2', 'diag_3', 'number_diagnoses',\n",
       "       'blood_type', 'hemoglobin_level', 'blood_transfusion', 'max_glu_serum',\n",
       "       'A1Cresult', 'diuretics', 'insulin', 'change', 'diabetesMed'],\n",
       "      dtype='object')"
      ]
     },
     "execution_count": 21,
     "metadata": {},
     "output_type": "execute_result"
    }
   ],
   "source": [
    "X_train.columns"
   ]
  },
  {
   "cell_type": "code",
   "execution_count": 22,
   "id": "40522be0",
   "metadata": {},
   "outputs": [
    {
     "data": {
      "text/plain": [
       "None    54203\n",
       ">8       5241\n",
       "Norm     3204\n",
       ">7       2481\n",
       "Name: A1Cresult, dtype: int64"
      ]
     },
     "execution_count": 22,
     "metadata": {},
     "output_type": "execute_result"
    }
   ],
   "source": [
    "X_train.A1Cresult.value_counts()"
   ]
  },
  {
   "cell_type": "markdown",
   "id": "af7a4fc2",
   "metadata": {},
   "source": [
    "age, weight, max_glu_serum, A1Cresult"
   ]
  },
  {
   "cell_type": "code",
   "execution_count": 85,
   "id": "4edc4122",
   "metadata": {},
   "outputs": [],
   "source": [
    "testdf = X_train.copy()[['age', 'weight', 'max_glu_serum', 'A1Cresult']]\n",
    "testdf['age'] = testdf['age'].str.lstrip(\"\\[\").str.rstrip(\")\")\n",
    "testdf['weight'] = testdf['weight'].str.lstrip(\"\\[\").str.rstrip(\")\")\n",
    "testdf['max_glu_serum'] = testdf['max_glu_serum'].str.lower()\n",
    "testdf['A1Cresult'] = testdf['A1Cresult'].str.lower()\n",
    "testdf = assign_categorical(testdf, ['age', 'weight', 'max_glu_serum', 'A1Cresult'])"
   ]
  },
  {
   "cell_type": "code",
   "execution_count": 87,
   "id": "d1dc0bd5",
   "metadata": {},
   "outputs": [],
   "source": [
    "ordered_age = ['unknown',\n",
    "               '0-10',\n",
    "               '10-20',\n",
    "               '20-30',\n",
    "               '30-40',\n",
    "               '40-50',\n",
    "               '50-60',\n",
    "               '60-70',\n",
    "               '70-80',\n",
    "               '80-90',\n",
    "               '90-100']\n",
    "\n",
    "testdf = testdf.assign(age=testdf['age'].cat.set_categories(ordered_age, ordered=True))\n",
    "testdf.loc[~(testdf['age'].isin(ordered_age)), 'age'] = 'unknown'\n",
    "\n",
    "ordered_weight = ['unknown',\n",
    "                  '0-25',\n",
    "                  '25-50',\n",
    "                  '50-75',\n",
    "                  '75-100',\n",
    "                  '100-125',\n",
    "                  '125-150',\n",
    "                  '150-175',\n",
    "                  '175-200',\n",
    "                  '>200']\n",
    "testdf = testdf.assign(weight=testdf['weight'].cat.set_categories(ordered_weight, ordered=True))\n",
    "testdf.loc[~(testdf['weight'].isin(ordered_weight)), 'weight'] = 'unknown'\n",
    "\n",
    "ordered_max_glu = ['unknown',\n",
    "                   'norm',\n",
    "                   '>200',\n",
    "                   '>300']\n",
    "testdf = testdf.assign(max_glu_serum=testdf['max_glu_serum'].cat.set_categories(ordered_max_glu, ordered=True))\n",
    "testdf.loc[~(testdf['max_glu_serum'].isin(ordered_max_glu)), 'max_glu_serum'] = 'unknown'\n",
    "\n",
    "ordered_A1C = ['unknown',\n",
    "               'norm',\n",
    "               '>7',\n",
    "               '>8']\n",
    "testdf = testdf.assign(A1Cresult=testdf['A1Cresult'].cat.set_categories(ordered_A1C, ordered=True))\n",
    "testdf.loc[~(testdf['A1Cresult'].isin(ordered_A1C)), 'A1Cresult'] = 'unknown'"
   ]
  },
  {
   "cell_type": "code",
   "execution_count": 88,
   "id": "098e3184",
   "metadata": {},
   "outputs": [],
   "source": [
    "orde = ce.OrdinalEncoder(verbose=1,\n",
    "                         cols=['age',\n",
    "                               'weight',\n",
    "                               'max_glu_serum',\n",
    "                               'A1Cresult'],\n",
    "                         handle_unknown='value',\n",
    "                         handle_missing='return_nan',\n",
    "                         mapping = [{'col': 'age', 'mapping': {'0-10':1,\n",
    "                                                               '10-20':2,\n",
    "                                                               '20-30':3,\n",
    "                                                               '30-40':4,\n",
    "                                                               '40-50':5,\n",
    "                                                               '50-60':6,\n",
    "                                                               '60-70':7,\n",
    "                                                               '70-80':8,\n",
    "                                                               '80-90':9,\n",
    "                                                               '90-100':10}},\n",
    "        \n",
    "                                    {'col': 'weight', 'mapping': {'0-25':1,\n",
    "                                                                  '25-50':2, \n",
    "                                                                  '50-75':3,\n",
    "                                                                  '75-100':4,\n",
    "                                                                  '100-125':5, \n",
    "                                                                  '125-150':6, \n",
    "                                                                  '150-175':7, \n",
    "                                                                  '175-200':8, \n",
    "                                                                  '>200':9}},\n",
    "                                    \n",
    "                                    {'col': 'max_glu_serum', 'mapping': {'norm':1,\n",
    "                                                                         '>200':2,\n",
    "                                                                         '>300':3,}},\n",
    "                                    \n",
    "                                    {'col': 'A1Cresult', 'mapping': {'norm':1,\n",
    "                                                                         '>7':2,\n",
    "                                                                         '>8':3,}}])\n",
    "                         \n",
    "                         "
   ]
  },
  {
   "cell_type": "code",
   "execution_count": 90,
   "id": "367dc1a7",
   "metadata": {},
   "outputs": [
    {
     "data": {
      "text/plain": [
       "OrdinalEncoder(cols=['age', 'weight', 'max_glu_serum', 'A1Cresult'],\n",
       "               handle_missing='return_nan',\n",
       "               mapping=[{'col': 'age',\n",
       "                         'mapping': {'0-10': 1, '10-20': 2, '20-30': 3,\n",
       "                                     '30-40': 4, '40-50': 5, '50-60': 6,\n",
       "                                     '60-70': 7, '70-80': 8, '80-90': 9,\n",
       "                                     '90-100': 10}},\n",
       "                        {'col': 'weight',\n",
       "                         'mapping': {'0-25': 1, '100-125': 5, '125-150': 6,\n",
       "                                     '150-175': 7, '175-200': 8, '25-50': 2,\n",
       "                                     '50-75': 3, '75-100': 4, '>200': 9}},\n",
       "                        {'col': 'max_glu_serum',\n",
       "                         'mapping': {'>200': 2, '>300': 3, 'norm': 1}},\n",
       "                        {'col': 'A1Cresult',\n",
       "                         'mapping': {'>7': 2, '>8': 3, 'norm': 1}}],\n",
       "               verbose=1)"
      ]
     },
     "execution_count": 90,
     "metadata": {},
     "output_type": "execute_result"
    }
   ],
   "source": [
    "orde.fit(testdf)"
   ]
  },
  {
   "cell_type": "markdown",
   "id": "7414156a",
   "metadata": {},
   "source": [
    "# Output files (pickling)"
   ]
  },
  {
   "cell_type": "code",
   "execution_count": null,
   "id": "ccdc6411",
   "metadata": {},
   "outputs": [],
   "source": [
    "TMP_DIR = '/tmp'\n",
    "with open(os.path.join(TMP_DIR, \"columns.json\"), 'w') as fh:\n",
    "    json.dump(X_train.columns.tolist(), fh)\n",
    "\n",
    "with open(os.path.join(TMP_DIR, \"dtypes.pickle\"), 'wb') as fh:\n",
    "    pickle.dump(X_train.dtypes, fh)\n",
    "    \n",
    "joblib.dump(pipeline, os.path.join(TMP_DIR, 'pipeline.pickle')) "
   ]
  }
 ],
 "metadata": {
  "kernelspec": {
   "display_name": "Python 3",
   "language": "python",
   "name": "python3"
  },
  "language_info": {
   "codemirror_mode": {
    "name": "ipython",
    "version": 3
   },
   "file_extension": ".py",
   "mimetype": "text/x-python",
   "name": "python",
   "nbconvert_exporter": "python",
   "pygments_lexer": "ipython3",
   "version": "3.7.12"
  }
 },
 "nbformat": 4,
 "nbformat_minor": 5
}
