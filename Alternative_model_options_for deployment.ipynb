{
 "cells": [
  {
   "cell_type": "code",
   "execution_count": null,
   "id": "09ef4fa0",
   "metadata": {},
   "outputs": [],
   "source": []
  },
  {
   "cell_type": "markdown",
   "id": "103323f0",
   "metadata": {},
   "source": [
    "# Imports"
   ]
  },
  {
   "cell_type": "code",
   "execution_count": 1,
   "id": "c0649800",
   "metadata": {},
   "outputs": [],
   "source": [
    "import os\n",
    "import base64\n",
    "import joblib\n",
    "import pandas as pd\n",
    "import numpy as np\n",
    "import category_encoders as ce\n",
    "import json\n",
    "import joblib\n",
    "import pickle\n",
    "import math\n",
    "import requests\n",
    "from copy import deepcopy\n",
    "import seaborn as sns\n",
    "from uuid import uuid4\n",
    "\n",
    "from sklearn.model_selection import train_test_split\n",
    "from sklearn.pipeline import make_pipeline, Pipeline\n",
    "from sklearn.model_selection import cross_val_score, GridSearchCV\n",
    "from sklearn.impute import SimpleImputer, KNNImputer\n",
    "from sklearn.preprocessing import StandardScaler, power_transform, RobustScaler, MinMaxScaler\n",
    "from sklearn.compose import ColumnTransformer\n",
    "from sklearn.model_selection import cross_val_score, learning_curve\n",
    "from sklearn.ensemble import RandomForestClassifier, GradientBoostingClassifier, GradientBoostingRegressor\n",
    "from sklearn.tree import DecisionTreeClassifier, DecisionTreeRegressor\n",
    "from sklearn.linear_model import LogisticRegression\n",
    "from sklearn.metrics import (precision_score,\n",
    "                            recall_score,\n",
    "                            f1_score,\n",
    "                            accuracy_score,\n",
    "                            roc_auc_score,\n",
    "                            confusion_matrix,\n",
    "                            ConfusionMatrixDisplay,\n",
    "                            make_scorer,\n",
    "                            RocCurveDisplay,\n",
    "                            auc,\n",
    "                            roc_curve,\n",
    "                            precision_recall_curve)\n",
    "\n",
    "from sklearn.base import BaseEstimator, TransformerMixin\n",
    "\n",
    "from pandas_profiling import ProfileReport\n",
    "\n",
    "from sklearn.model_selection import GridSearchCV\n",
    "\n",
    "import matplotlib.pyplot as plt\n",
    "import matplotlib.image as mpimg\n",
    "plt.style.use('ggplot')\n",
    "%matplotlib inline"
   ]
  },
  {
   "cell_type": "markdown",
   "id": "38d37842",
   "metadata": {},
   "source": [
    "# Custom transformer imports"
   ]
  },
  {
   "cell_type": "code",
   "execution_count": 2,
   "id": "6ba2d515",
   "metadata": {},
   "outputs": [],
   "source": [
    "# WIP preprocessor which assigns categories and compresses some code\n",
    "from custom_transformers.preprocessor import ColumnConverter\n",
    "\n",
    "# WIP ordinal category preprocessor\n",
    "from custom_transformers.custom_ordinal_encoder import custom_oe\n",
    "\n",
    "#WIP column selector\n",
    "from custom_transformers.featureselector import SelectColumns\n",
    "\n",
    "# WIP onehot category preprocessor\n",
    "from custom_transformers.custom_onehot_encoder import custom_one_hot\n",
    "\n",
    "# WIP onehot category preprocessor\n",
    "from custom_transformers.custom_impute_scale import custom_impute_scale\n"
   ]
  },
  {
   "cell_type": "markdown",
   "id": "cb7ea0dd",
   "metadata": {},
   "source": [
    "# Functions"
   ]
  },
  {
   "cell_type": "code",
   "execution_count": 3,
   "id": "b59f172b",
   "metadata": {},
   "outputs": [],
   "source": [
    "def load_train_data():\n",
    "    df = pd.read_csv(os.path.join(\"data\", \"train_data.csv\"))\n",
    "    return df\n",
    "\n",
    "data_train = load_train_data()"
   ]
  },
  {
   "cell_type": "code",
   "execution_count": 4,
   "id": "9a30230e",
   "metadata": {},
   "outputs": [],
   "source": [
    "def assign_index(df, indexcol: str):\n",
    "    _df = df.copy()\n",
    "    _df = _df.set_index(indexcol)\n",
    "    return _df"
   ]
  },
  {
   "cell_type": "code",
   "execution_count": 5,
   "id": "f1fd89ff",
   "metadata": {},
   "outputs": [],
   "source": [
    "def build_target(df, target: str):\n",
    "    _df = df.copy()\n",
    "    _df[target] = np.where(_df[target]== 'Yes', True, False)\n",
    "    return _df"
   ]
  },
  {
   "cell_type": "markdown",
   "id": "e69bb224",
   "metadata": {},
   "source": [
    "# Function to test if we satisfied requirements:"
   ]
  },
  {
   "cell_type": "markdown",
   "id": "156021ae",
   "metadata": {},
   "source": [
    "The first step will make a copy of the X_test and apply the custom converter for the columns - it will update the categories we are interested in (avoid duplicates etc)"
   ]
  },
  {
   "cell_type": "code",
   "execution_count": 6,
   "id": "3deed205",
   "metadata": {},
   "outputs": [],
   "source": [
    "def verify_no_discrimination(X_test,\n",
    "                             y_true,\n",
    "                             y_pred,\n",
    "                             sensitive_columns = [],\n",
    "                             max_diff=0.1,\n",
    "                             average='weighted'):    \n",
    "    # Use this as a template to get output:\n",
    "    #f1_scores, diff, is_satisfied  = verify_no_discrimination(X_test,\n",
    "    #                                                          y_test,\n",
    "    #                                                          y_pred,\n",
    "    #                                                          sensitive_column=['Self-defined ethnicity', 'race'] etc\n",
    "    #                                                          max_diff=0.15 )\n",
    "    #f1_scores, diff, is_satisfied\n",
    "    \n",
    "    _df = X_test.copy()\n",
    "    \n",
    "    results = {}\n",
    "    \n",
    "    cc = ColumnConverter()\n",
    "    _df = cc.fit_transform(_df)\n",
    "    \n",
    "    for column in sensitive_columns:  \n",
    "        sensitive_classes = _df[column].unique()\n",
    "        is_satisfied = True\n",
    "        f1_scores = {}\n",
    "        \n",
    "        for sensitive_class in sensitive_classes:\n",
    "            mask = (_df[column] == sensitive_class)\n",
    "            if mask.sum():\n",
    "                f1_scores[sensitive_class] = f1_score(y_true[mask],\n",
    "                                                      y_pred[mask],\n",
    "                                                      pos_label=1,\n",
    "                                                      labels=np.unique(y_pred[mask]))\n",
    "        \n",
    "        diff = np.max(list(f1_scores.values())) - np.min(list(f1_scores.values()))\n",
    "        if diff > max_diff:\n",
    "            is_satisfied = False\n",
    "        \n",
    "        results[column] = [f1_scores, diff, is_satisfied]\n",
    "    \n",
    "    return results"
   ]
  },
  {
   "cell_type": "markdown",
   "id": "eee9da03",
   "metadata": {},
   "source": [
    "# Loading data"
   ]
  },
  {
   "cell_type": "code",
   "execution_count": 7,
   "id": "ef8835db",
   "metadata": {},
   "outputs": [],
   "source": [
    "target = 'readmitted'\n",
    "index_col = 'admission_id'"
   ]
  },
  {
   "cell_type": "code",
   "execution_count": 8,
   "id": "96f4ba91",
   "metadata": {},
   "outputs": [],
   "source": [
    "data_train = load_train_data()\n",
    "data_train = assign_index(data_train, index_col)\n",
    "data_train = build_target(data_train, target)"
   ]
  },
  {
   "cell_type": "code",
   "execution_count": 9,
   "id": "aeafe0e3",
   "metadata": {},
   "outputs": [],
   "source": [
    "#List of all features (n=numerical, uc=unordered actegory, oc=ordered category, b=boolean)\n",
    "\n",
    "all_features = ['patient_id', #identifier\n",
    "                'race', #uc\n",
    "                'gender', #uc\n",
    "                'age', #oc\n",
    "                'weight', #oc               \n",
    "                'admission_type_code', #uc\n",
    "                'discharge_disposition_code', #uc\n",
    "                'admission_source_code', #uc\n",
    "                'time_in_hospital', #n\n",
    "                'payer_code', #uc\n",
    "                'medical_specialty', #uc\n",
    "                'has_prosthesis', #b\n",
    "                'complete_vaccination_status', #uc\n",
    "                'num_lab_procedures', #n\n",
    "                'num_procedures', #n\n",
    "                'num_medications', #n\n",
    "                'number_outpatient', #n\n",
    "                'number_emergency', #n\n",
    "                'number_inpatient', #n\n",
    "                'diag_1', #uc\n",
    "                'diag_2', #uc\n",
    "                'diag_3', #uc\n",
    "                'number_diagnoses', #n\n",
    "                'blood_type', #uc\n",
    "                'hemoglobin_level', #n\n",
    "                'blood_transfusion', #b\n",
    "                'max_glu_serum', #oc\n",
    "                'A1Cresult', #oc\n",
    "                'diuretics', #b\n",
    "                'insulin', #b\n",
    "                'change', #b\n",
    "                'diabetesMed'] #b]\n",
    "\n",
    "num_features = ['time_in_hospital', \n",
    "                'num_lab_procedures',\n",
    "                'num_procedures',\n",
    "                'num_medications',\n",
    "                'number_outpatient',\n",
    "                'number_emergency',\n",
    "                'number_inpatient',\n",
    "                'number_diagnoses',\n",
    "                'hemoglobin_level']\n",
    "\n",
    "bool_features = ['has_prosthesis',\n",
    "                 'blood_transfusion',\n",
    "                 'diuretics',\n",
    "                 'insulin',\n",
    "                 'change',\n",
    "                 'diabetesMed']\n",
    "\n",
    "cat_features = ['race',\n",
    "                'gender',\n",
    "                'admission_type_code', \n",
    "                'discharge_disposition_code',\n",
    "                'admission_source_code', \n",
    "                'payer_code',\n",
    "                'medical_specialty',\n",
    "                'diag_1',\n",
    "                'diag_2',\n",
    "                'diag_3',\n",
    "                'blood_type']\n",
    "\n",
    "ord_cat_features = ['age',\n",
    "                    'weight',\n",
    "                    'max_glu_serum',\n",
    "                    'A1Cresult',\n",
    "                    'complete_vaccination_status',]\n",
    "\n",
    "# missing features: date of admission and date of release"
   ]
  },
  {
   "cell_type": "markdown",
   "id": "2e093b00",
   "metadata": {},
   "source": [
    "### Test train split"
   ]
  },
  {
   "cell_type": "code",
   "execution_count": 10,
   "id": "602eb7b5",
   "metadata": {},
   "outputs": [],
   "source": [
    "# Convert target to boolean\n",
    "\n",
    "# We have a small portion kept aside because of our random undersampling approach where we lose a lot of train data \n",
    "#df_train, df_test = train_test_split(data_train, test_size=0.1, random_state=42, stratify=data_train[target])\n",
    "\n",
    "df_train, df_test = train_test_split(data_train, test_size=0.1, random_state=42, stratify=None, shuffle=False)"
   ]
  },
  {
   "cell_type": "markdown",
   "id": "9d4c52d5",
   "metadata": {},
   "source": [
    "### Dealing with unbalanced train data:\n",
    "1. Going to use random oversampling"
   ]
  },
  {
   "cell_type": "code",
   "execution_count": 11,
   "id": "d316493b",
   "metadata": {},
   "outputs": [
    {
     "data": {
      "image/png": "[encoded data removed]",
      "text/plain": [
       "<Figure size 216x216 with 1 Axes>"
      ]
     },
     "metadata": {
      "needs_background": "light"
     },
     "output_type": "display_data"
    }
   ],
   "source": [
    "plt.rcParams[\"figure.figsize\"] = [3, 3]\n",
    "df_train[target].value_counts().plot(kind='bar', title='Count (readmitted)');"
   ]
  },
  {
   "cell_type": "code",
   "execution_count": 12,
   "id": "3156315a",
   "metadata": {},
   "outputs": [],
   "source": [
    "# get counts and split tables\n",
    "count_f, count_t = df_train[target].value_counts()\n",
    "df_f = df_train[df_train[target] == False]\n",
    "df_t = df_train[df_train[target] == True]"
   ]
  },
  {
   "cell_type": "markdown",
   "id": "419ba285",
   "metadata": {},
   "source": [
    "### Random oversampling of the positive (True) class"
   ]
  },
  {
   "cell_type": "code",
   "execution_count": 13,
   "id": "7f5653e8",
   "metadata": {},
   "outputs": [
    {
     "data": {
      "image/png": "[encoded data removed]",
      "text/plain": [
       "<Figure size 216x216 with 1 Axes>"
      ]
     },
     "metadata": {
      "needs_background": "light"
     },
     "output_type": "display_data"
    }
   ],
   "source": [
    "# oversampling (lots of duplication of positive classes)\n",
    "df_t_oversampled = df_t.sample(count_f, replace=True)\n",
    "df_train_oversampled = pd.concat([df_t_oversampled, df_f], axis=0)\n",
    "#sort it to maintain some kind of order\n",
    "df_train_oversampled = df_train_oversampled.sort_index()\n",
    "#plot it\n",
    "df_train_oversampled[target].value_counts().plot(kind='bar', title='Count (readmitted)');"
   ]
  },
  {
   "cell_type": "markdown",
   "id": "b45a4af2",
   "metadata": {},
   "source": [
    "### Test train split and selection"
   ]
  },
  {
   "cell_type": "code",
   "execution_count": 14,
   "id": "46c6a4f5",
   "metadata": {},
   "outputs": [],
   "source": [
    "# # without random oversampling\n",
    "# X_train = df_train.drop(target, axis=1)\n",
    "# y_train = df_train[target]\n",
    "\n",
    "# with random oversampling\n",
    "X_train = df_train_oversampled.drop(target, axis=1)\n",
    "y_train = df_train_oversampled[target]\n",
    "\n",
    "#test data\n",
    "X_test = df_test.drop(target, axis=1)\n",
    "y_test = df_test[target]"
   ]
  },
  {
   "cell_type": "code",
   "execution_count": 15,
   "id": "6559396e",
   "metadata": {},
   "outputs": [],
   "source": [
    "selected_features = ['time_in_hospital', \n",
    "                     'num_lab_procedures',\n",
    "                     'num_procedures',\n",
    "                     'num_medications',\n",
    "                     'number_outpatient',\n",
    "                     'number_emergency',\n",
    "                     'number_inpatient',\n",
    "                     'number_diagnoses',\n",
    "                     'hemoglobin_level',\n",
    "                     \n",
    "                     #'has_prosthesis',\n",
    "                     'blood_transfusion',\n",
    "                     #'diuretics',\n",
    "                     'insulin',\n",
    "                     'change',\n",
    "                     'diabetesMed',\n",
    "                     \n",
    "                     'race',\n",
    "                     'gender',\n",
    "                     'admission_type_code', \n",
    "                     'discharge_disposition_code',\n",
    "                     'admission_source_code', \n",
    "                     'payer_code',\n",
    "                     #'medical_specialty',\n",
    "                     #'complete_vaccination_status',\n",
    "                     'blood_type',\n",
    "                     'diag_1',\n",
    "                     'diag_2',\n",
    "                     'diag_3',\n",
    "                     \n",
    "                     'max_glu_serum',\n",
    "                     'A1Cresult',\n",
    "                     'age',\n",
    "                     #'weight'\n",
    "                    ]"
   ]
  },
  {
   "cell_type": "code",
   "execution_count": 16,
   "id": "2ab6a8c1",
   "metadata": {},
   "outputs": [],
   "source": [
    "num_feats = [feat for feat in selected_features if feat in num_features]\n",
    "cat_feats = [feat for feat in selected_features if feat in cat_features+bool_features+ord_cat_features]\n",
    "bool_feats = [feat for feat in selected_features if feat in bool_features]\n",
    "ord_cat_feats = [feat for feat in selected_features if feat in ord_cat_features]"
   ]
  },
  {
   "cell_type": "code",
   "execution_count": 17,
   "id": "fa50ea71",
   "metadata": {},
   "outputs": [],
   "source": [
    "ord_cat_features = ['age',\n",
    "                    'weight', #lots of missing or unknown values\n",
    "                    'max_glu_serum',\n",
    "                    'A1Cresult',\n",
    "                    'complete_vaccination_status',]"
   ]
  },
  {
   "cell_type": "code",
   "execution_count": 18,
   "id": "2fea6bcc",
   "metadata": {},
   "outputs": [],
   "source": [
    "cat_features = ['race', #done\n",
    "                'gender', #done\n",
    "                'admission_type_code', #done \n",
    "                'discharge_disposition_code', #done\n",
    "                'admission_source_code', # done \n",
    "                'payer_code', #done (now the insurance column)\n",
    "                #'medical_specialty', #done (any specialty over 100 - lets see how bad it gets)\n",
    "                'diag_1',\n",
    "                'diag_2',\n",
    "                'diag_3',\n",
    "                'blood_type'\n",
    "               ] #dropping blood type"
   ]
  },
  {
   "cell_type": "markdown",
   "id": "28b7d6b4",
   "metadata": {},
   "source": [
    "1. Not using blood type\n",
    "1. Not using weight\n",
    "1. Not using diagnoses: probably linked to medical specialty\n",
    "    1. Will be added in the next version\n",
    "1. Admission source not yet included\n",
    "1. Race, gender and payer code (SP=uninsured) will not be used to model"
   ]
  },
  {
   "cell_type": "markdown",
   "id": "616e6b25",
   "metadata": {},
   "source": [
    "##### Processing Diagnoses:\n",
    "1. High cardinality (and possibly redundant information due to overlpa with the speecialty?)"
   ]
  },
  {
   "cell_type": "code",
   "execution_count": 19,
   "id": "83967a0b",
   "metadata": {},
   "outputs": [],
   "source": [
    "# This needs to become a custom pipeline - and we need different scalers here\n",
    "\n",
    "numeric_transformer = Pipeline(steps=[\n",
    "    ('imputer', SimpleImputer(strategy='median')),\n",
    "    ('scaler', RobustScaler())]) #StandardScaler or MinMaxScaler\n",
    "categorical_transformer = Pipeline(steps=[\n",
    "    ('imputer', SimpleImputer(strategy='constant', fill_value='unknown')),\n",
    "    ('onehot', ce.OneHotEncoder(handle_unknown='ignore'))])\n",
    "preprocessor = ColumnTransformer(\n",
    "    transformers=[\n",
    "        ('num', numeric_transformer, num_feats),\n",
    "        ('cat', categorical_transformer, cat_features)],\n",
    "remainder=\"passthrough\",sparse_threshold=0)"
   ]
  },
  {
   "cell_type": "markdown",
   "id": "2f738ef0",
   "metadata": {},
   "source": [
    "# Random Forest"
   ]
  },
  {
   "cell_type": "code",
   "execution_count": 20,
   "id": "15013873",
   "metadata": {},
   "outputs": [
    {
     "name": "stdout",
     "output_type": "stream",
     "text": [
      "f1 score: 0.28256782164920763\n",
      "recall score: 0.6059907834101382\n",
      "precision score: 0.18423817863397549\n",
      "discrimination results:\n"
     ]
    }
   ],
   "source": [
    "pipeline = make_pipeline(\n",
    "    ColumnConverter(), #Does quick clean up, assigns datatypes and categories\n",
    "    custom_oe(), #Handles encoding of ordinal variable\n",
    "    SelectColumns(cols=selected_features),\n",
    "    preprocessor, #uses preprocessor defined above\n",
    "    RandomForestClassifier(max_depth=10,\n",
    "                           class_weight=\"balanced\",\n",
    "                           random_state=42, n_jobs=-1,\n",
    "                           n_estimators = 1000,\n",
    "                           criterion = 'gini',\n",
    "                           max_features = 'auto',\n",
    "                           bootstrap = False),\n",
    ")\n",
    "pipeline.fit(X_train, y_train)\n",
    "\n",
    "y_pred = pipeline.predict(X_test)\n",
    "\n",
    "print(\"f1 score: %s\" % (f1_score(y_test, y_pred)))\n",
    "print(\"recall score: %s\" % (recall_score(y_test, y_pred)))\n",
    "print(\"precision score: %s\" % (precision_score(y_test, y_pred)))\n",
    "print(\"discrimination results:\")"
   ]
  },
  {
   "cell_type": "code",
   "execution_count": 21,
   "id": "4e2fbef2",
   "metadata": {},
   "outputs": [
    {
     "name": "stderr",
     "output_type": "stream",
     "text": [
      "/home/yash/.virtualenvs/bootcamp/lib/python3.7/site-packages/sklearn/metrics/_classification.py:1496: UndefinedMetricWarning: F-score is ill-defined and being set to 0.0 due to no true nor predicted samples. Use `zero_division` parameter to control this behavior.\n",
      "  average, \"true nor predicted\", 'F-score is', len(true_sum)\n",
      "/home/yash/.virtualenvs/bootcamp/lib/python3.7/site-packages/sklearn/metrics/_classification.py:1496: UndefinedMetricWarning: F-score is ill-defined and being set to 0.0 due to no true nor predicted samples. Use `zero_division` parameter to control this behavior.\n",
      "  average, \"true nor predicted\", 'F-score is', len(true_sum)\n"
     ]
    },
    {
     "data": {
      "text/plain": [
       "{'medical_specialty': [{'cardiology': 0.18181818181818182,\n",
       "   'unknown': 0.2877406281661601,\n",
       "   'internalmedicine': 0.23391812865497075,\n",
       "   'surgery-vascular': 0.3636363636363636,\n",
       "   'emergency/trauma': 0.27963525835866265,\n",
       "   'family/generalpractice': 0.3445692883895131,\n",
       "   'obstetricsandgynecology': 0.0,\n",
       "   'nephrology': 0.3373493975903615,\n",
       "   'psychiatry': 0.24242424242424246,\n",
       "   'pediatrics-endocrinology': 0.0,\n",
       "   'surgery-cardiovascular/thoracic': 0.0,\n",
       "   'pulmonology': 0.4210526315789473,\n",
       "   'other': 0.3243243243243243,\n",
       "   'surgery-general': 0.34545454545454546,\n",
       "   'orthopedics': 0.27272727272727276,\n",
       "   'urology': 0.2,\n",
       "   'oncology': 0.3076923076923077,\n",
       "   'radiologist': 0.1739130434782609,\n",
       "   'orthopedics-reconstructive': 0.23809523809523808,\n",
       "   'physicalmedicineandrehabilitation': 0.25,\n",
       "   'neurology': 0.28571428571428575,\n",
       "   'gastroenterology': 0.26086956521739124,\n",
       "   'surgery-neuro': 0.25,\n",
       "   'hematology/oncology': 0.36363636363636365,\n",
       "   'pediatrics': 0.4444444444444444},\n",
       "  0.4444444444444444,\n",
       "  False],\n",
       " 'payer_code': [{'insured': 0.26865671641791045,\n",
       "   'unknown': 0.30816170861937453,\n",
       "   'SP': 0.26865671641791045},\n",
       "  0.039504992201464084,\n",
       "  True],\n",
       " 'gender': [{'male': 0.28823529411764703,\n",
       "   'female': 0.277805239742956,\n",
       "   'unknown': 0.0},\n",
       "  0.28823529411764703,\n",
       "  False],\n",
       " 'race': [{'white': 0.2766031195840555,\n",
       "   'unknown/other': 0.2975206611570248,\n",
       "   'black': 0.30141287284144425,\n",
       "   'hispanic': 0.33898305084745767,\n",
       "   'asian': 0.2857142857142857},\n",
       "  0.06237993126340219,\n",
       "  True],\n",
       " 'age': [{'40-50': 0.27106227106227104,\n",
       "   '80-90': 0.29161603888213855,\n",
       "   '70-80': 0.26774847870182555,\n",
       "   '90-100': 0.23622047244094485,\n",
       "   '60-70': 0.2737940026075619,\n",
       "   '50-60': 0.2977867203219316,\n",
       "   '30-40': 0.3716814159292035,\n",
       "   '20-30': 0.4736842105263159,\n",
       "   'unknown': 0.27956989247311825,\n",
       "   '10-20': 0.0,\n",
       "   '0-10': 0.0},\n",
       "  0.4736842105263159,\n",
       "  False],\n",
       " 'admission_source_code': [{'emergency': 0.2799832845800251,\n",
       "   'referral': 0.280225988700565,\n",
       "   'transfer': 0.31683168316831684,\n",
       "   'unknown': 0.2880658436213992},\n",
       "  0.03684839858829175,\n",
       "  True]}"
      ]
     },
     "execution_count": 21,
     "metadata": {},
     "output_type": "execute_result"
    }
   ],
   "source": [
    "verify_no_discrimination(X_test=X_test, y_true=y_test, y_pred=y_pred, sensitive_columns = ['medical_specialty', 'payer_code','gender','race', 'age', 'admission_source_code'])"
   ]
  },
  {
   "cell_type": "code",
   "execution_count": 22,
   "id": "32e32af2",
   "metadata": {},
   "outputs": [],
   "source": [
    "plt.rcParams[\"figure.figsize\"] = [3, 3]"
   ]
  },
  {
   "cell_type": "code",
   "execution_count": 23,
   "id": "73b027c2",
   "metadata": {},
   "outputs": [
    {
     "data": {
      "image/png": "[encoded data removed]",
      "text/plain": [
       "<Figure size 216x216 with 2 Axes>"
      ]
     },
     "metadata": {
      "needs_background": "light"
     },
     "output_type": "display_data"
    }
   ],
   "source": [
    "cm = confusion_matrix(y_true=y_test, y_pred=y_pred, labels = pipeline.classes_)\n",
    "disp = ConfusionMatrixDisplay(confusion_matrix=cm, display_labels=pipeline.classes_)\n",
    "disp.plot(cmap=\"OrRd\");"
   ]
  },
  {
   "cell_type": "code",
   "execution_count": 24,
   "id": "09249223",
   "metadata": {},
   "outputs": [
    {
     "data": {
      "image/png": "[encoded data removed]",
      "text/plain": [
       "<Figure size 216x216 with 1 Axes>"
      ]
     },
     "metadata": {
      "needs_background": "light"
     },
     "output_type": "display_data"
    }
   ],
   "source": [
    "fpr, tpr, thresholds = roc_curve(y_test, y_pred)\n",
    "roc_auc = auc(fpr, tpr)\n",
    "display = RocCurveDisplay(fpr=fpr, tpr=tpr, roc_auc=roc_auc, estimator_name=None)\n",
    "display.plot()\n",
    "plt.show()"
   ]
  },
  {
   "cell_type": "markdown",
   "id": "ef7fe7fa",
   "metadata": {},
   "source": [
    "### Evaluation and setting threshold:\n",
    "1. The client wants at least 50% to be correct"
   ]
  },
  {
   "cell_type": "code",
   "execution_count": 25,
   "id": "a478c8c0",
   "metadata": {},
   "outputs": [
    {
     "data": {
      "image/png": "[encoded data removed]",
      "text/plain": [
       "<Figure size 288x216 with 2 Axes>"
      ]
     },
     "metadata": {
      "needs_background": "light"
     },
     "output_type": "display_data"
    }
   ],
   "source": [
    "y_pred_probas = pipeline.predict_proba(X_test)[:,1]\n",
    "precision, recall, thresholds = precision_recall_curve(y_test, y_pred_probas)\n",
    "min_index = [i for i, prec in enumerate(precision) if prec >= 0.5][0]\n",
    "threshold_rq = thresholds[min_index]\n",
    "y_pred = (y_pred_probas >= threshold_rq)\n",
    "plt.rcParams[\"figure.figsize\"] = [4, 3]\n",
    "precision, recall, thresholds = precision_recall_curve(y_test, y_pred_probas)\n",
    "precision = precision[:-1]\n",
    "recall = recall[:-1]\n",
    "fig=plt.figure()\n",
    "ax1 = plt.subplot(211)\n",
    "ax2 = plt.subplot(212)\n",
    "ax1.hlines(y=0.5,xmin=0, xmax=1, colors='red')\n",
    "ax1.plot(thresholds,precision)\n",
    "ax2.plot(thresholds,recall)\n",
    "ax1.get_shared_x_axes().join(ax1, ax2)\n",
    "ax1.set_xticklabels([])\n",
    "plt.xlabel('Threshold')\n",
    "ax1.set_title('Precision')\n",
    "ax1.axvline(x=threshold_rq, color='blue')\n",
    "ax2.set_title('Recall')\n",
    "ax2.axvline(x=threshold_rq, color='blue')\n",
    "fig.tight_layout()\n",
    "plt.show()"
   ]
  },
  {
   "cell_type": "code",
   "execution_count": 26,
   "id": "68e13149",
   "metadata": {},
   "outputs": [
    {
     "name": "stdout",
     "output_type": "stream",
     "text": [
      "f1 score: 0.04194260485651213\n",
      "recall score: 0.021889400921658985\n",
      "precision score: 0.5\n",
      "discrimination results:\n"
     ]
    }
   ],
   "source": [
    "print(\"f1 score: %s\" % (f1_score(y_test, y_pred)))\n",
    "print(\"recall score: %s\" % (recall_score(y_test, y_pred)))\n",
    "print(\"precision score: %s\" % (precision_score(y_test, y_pred)))\n",
    "print(\"discrimination results:\")"
   ]
  },
  {
   "cell_type": "code",
   "execution_count": 27,
   "id": "83582fae",
   "metadata": {},
   "outputs": [
    {
     "data": {
      "image/png": "[encoded data removed]",
      "text/plain": [
       "<Figure size 288x216 with 2 Axes>"
      ]
     },
     "metadata": {
      "needs_background": "light"
     },
     "output_type": "display_data"
    }
   ],
   "source": [
    "cm = confusion_matrix(y_true=y_test, y_pred=y_pred, labels = pipeline.classes_)\n",
    "disp = ConfusionMatrixDisplay(confusion_matrix=cm, display_labels=pipeline.classes_)\n",
    "disp.plot(cmap=\"OrRd\");"
   ]
  },
  {
   "cell_type": "code",
   "execution_count": 28,
   "id": "46733116",
   "metadata": {},
   "outputs": [
    {
     "data": {
      "image/png": "[encoded data removed]",
      "text/plain": [
       "<Figure size 288x216 with 1 Axes>"
      ]
     },
     "metadata": {
      "needs_background": "light"
     },
     "output_type": "display_data"
    }
   ],
   "source": [
    "fpr, tpr, thresholds = roc_curve(y_test, y_pred)\n",
    "roc_auc = auc(fpr, tpr)\n",
    "display = RocCurveDisplay(fpr=fpr, tpr=tpr, roc_auc=roc_auc, estimator_name=None)\n",
    "display.plot()\n",
    "plt.show()"
   ]
  },
  {
   "cell_type": "markdown",
   "id": "18cb2852",
   "metadata": {},
   "source": [
    "# Gradient Boosting"
   ]
  },
  {
   "cell_type": "code",
   "execution_count": 29,
   "id": "cb2de989",
   "metadata": {},
   "outputs": [
    {
     "name": "stdout",
     "output_type": "stream",
     "text": [
      "f1 score: 0.28222109016811003\n",
      "recall score: 0.6382488479262672\n",
      "precision score: 0.18116415958142576\n",
      "discrimination results:\n"
     ]
    }
   ],
   "source": [
    "pipeline = make_pipeline(\n",
    "    ColumnConverter(), #Does quick clean up, assigns datatypes and categories\n",
    "    custom_oe(), #Handles encoding of ordinal variable\n",
    "    SelectColumns(cols=selected_features),\n",
    "    preprocessor, #uses preprocessor defined above\n",
    "    GradientBoostingClassifier(learning_rate=.05,\n",
    "                               n_estimators=100,\n",
    "                               subsample=0.1,\n",
    "                               n_iter_no_change=10,\n",
    "                               max_features = None,\n",
    "                               random_state=42,\n",
    "                               validation_fraction = 0.1,\n",
    "                               criterion = 'friedman_mse')\n",
    ")\n",
    "pipeline.fit(X_train, y_train)\n",
    "\n",
    "y_pred = pipeline.predict(X_test)\n",
    "\n",
    "print(\"f1 score: %s\" % (f1_score(y_test, y_pred)))\n",
    "print(\"recall score: %s\" % (recall_score(y_test, y_pred)))\n",
    "print(\"precision score: %s\" % (precision_score(y_test, y_pred)))\n",
    "print(\"discrimination results:\")"
   ]
  },
  {
   "cell_type": "code",
   "execution_count": 30,
   "id": "6b43ba07",
   "metadata": {},
   "outputs": [
    {
     "name": "stderr",
     "output_type": "stream",
     "text": [
      "/home/yash/.virtualenvs/bootcamp/lib/python3.7/site-packages/sklearn/metrics/_classification.py:1496: UndefinedMetricWarning: F-score is ill-defined and being set to 0.0 due to no true nor predicted samples. Use `zero_division` parameter to control this behavior.\n",
      "  average, \"true nor predicted\", 'F-score is', len(true_sum)\n",
      "/home/yash/.virtualenvs/bootcamp/lib/python3.7/site-packages/sklearn/metrics/_classification.py:1496: UndefinedMetricWarning: F-score is ill-defined and being set to 0.0 due to no true nor predicted samples. Use `zero_division` parameter to control this behavior.\n",
      "  average, \"true nor predicted\", 'F-score is', len(true_sum)\n"
     ]
    },
    {
     "data": {
      "text/plain": [
       "{'medical_specialty': [{'cardiology': 0.16363636363636364,\n",
       "   'unknown': 0.28739002932551316,\n",
       "   'internalmedicine': 0.23443223443223446,\n",
       "   'surgery-vascular': 0.4347826086956522,\n",
       "   'emergency/trauma': 0.27988338192419826,\n",
       "   'family/generalpractice': 0.3391003460207613,\n",
       "   'obstetricsandgynecology': 0.0,\n",
       "   'nephrology': 0.35955056179775274,\n",
       "   'psychiatry': 0.2857142857142857,\n",
       "   'pediatrics-endocrinology': 0.0,\n",
       "   'surgery-cardiovascular/thoracic': 0.1,\n",
       "   'pulmonology': 0.38095238095238093,\n",
       "   'other': 0.27906976744186046,\n",
       "   'surgery-general': 0.31932773109243695,\n",
       "   'orthopedics': 0.26666666666666666,\n",
       "   'urology': 0.16666666666666669,\n",
       "   'oncology': 0.26666666666666666,\n",
       "   'radiologist': 0.23076923076923078,\n",
       "   'orthopedics-reconstructive': 0.2222222222222222,\n",
       "   'physicalmedicineandrehabilitation': 0.33333333333333337,\n",
       "   'neurology': 0.25,\n",
       "   'gastroenterology': 0.27272727272727276,\n",
       "   'surgery-neuro': 0.25,\n",
       "   'hematology/oncology': 0.46153846153846156,\n",
       "   'pediatrics': 0.6666666666666666},\n",
       "  0.6666666666666666,\n",
       "  False],\n",
       " 'payer_code': [{'insured': 0.2679628064243449,\n",
       "   'unknown': 0.3099787685774947,\n",
       "   'SP': 0.24489795918367346},\n",
       "  0.06508080939382122,\n",
       "  True],\n",
       " 'gender': [{'male': 0.2889137737961926,\n",
       "   'female': 0.2766355140186916,\n",
       "   'unknown': 0.0},\n",
       "  0.2889137737961926,\n",
       "  False],\n",
       " 'race': [{'white': 0.2729676140118969,\n",
       "   'unknown/other': 0.296875,\n",
       "   'black': 0.3182481751824817,\n",
       "   'hispanic': 0.2857142857142857,\n",
       "   'asian': 0.3333333333333333},\n",
       "  0.06036571932143642,\n",
       "  True],\n",
       " 'age': [{'40-50': 0.29473684210526313,\n",
       "   '80-90': 0.2965599051008304,\n",
       "   '70-80': 0.26270373921380635,\n",
       "   '90-100': 0.21212121212121213,\n",
       "   '60-70': 0.2800982800982801,\n",
       "   '50-60': 0.2851851851851852,\n",
       "   '30-40': 0.3697478991596639,\n",
       "   '20-30': 0.4090909090909091,\n",
       "   'unknown': 0.2828282828282828,\n",
       "   '10-20': 0.0,\n",
       "   '0-10': 0.0},\n",
       "  0.4090909090909091,\n",
       "  False],\n",
       " 'admission_source_code': [{'emergency': 0.28104575163398693,\n",
       "   'referral': 0.28080808080808084,\n",
       "   'transfer': 0.2821576763485477,\n",
       "   'unknown': 0.29959514170040485},\n",
       "  0.018787060892324015,\n",
       "  True]}"
      ]
     },
     "execution_count": 30,
     "metadata": {},
     "output_type": "execute_result"
    }
   ],
   "source": [
    "verify_no_discrimination(X_test=X_test, y_true=y_test, y_pred=y_pred, sensitive_columns = ['medical_specialty', 'payer_code','gender','race', 'age', 'admission_source_code'])"
   ]
  },
  {
   "cell_type": "code",
   "execution_count": 31,
   "id": "4fd6282c",
   "metadata": {},
   "outputs": [],
   "source": [
    "plt.rcParams[\"figure.figsize\"] = [3, 3]"
   ]
  },
  {
   "cell_type": "code",
   "execution_count": 32,
   "id": "cf1fa3f6",
   "metadata": {},
   "outputs": [
    {
     "data": {
      "image/png": "[encoded data removed]",
      "text/plain": [
       "<Figure size 216x216 with 2 Axes>"
      ]
     },
     "metadata": {
      "needs_background": "light"
     },
     "output_type": "display_data"
    }
   ],
   "source": [
    "cm = confusion_matrix(y_true=y_test, y_pred=y_pred, labels = pipeline.classes_)\n",
    "disp = ConfusionMatrixDisplay(confusion_matrix=cm, display_labels=pipeline.classes_)\n",
    "disp.plot(cmap=\"OrRd\");"
   ]
  },
  {
   "cell_type": "code",
   "execution_count": 33,
   "id": "06aff4c6",
   "metadata": {},
   "outputs": [
    {
     "data": {
      "image/png": "[encoded data removed]",
      "text/plain": [
       "<Figure size 216x216 with 1 Axes>"
      ]
     },
     "metadata": {
      "needs_background": "light"
     },
     "output_type": "display_data"
    }
   ],
   "source": [
    "fpr, tpr, thresholds = roc_curve(y_test, y_pred)\n",
    "roc_auc = auc(fpr, tpr)\n",
    "display = RocCurveDisplay(fpr=fpr, tpr=tpr, roc_auc=roc_auc, estimator_name=None)\n",
    "display.plot()\n",
    "plt.show()"
   ]
  },
  {
   "cell_type": "markdown",
   "id": "294ef970",
   "metadata": {},
   "source": [
    "# XGBoost"
   ]
  },
  {
   "cell_type": "code",
   "execution_count": 34,
   "id": "d12a7212",
   "metadata": {},
   "outputs": [],
   "source": [
    "import xgboost as xgb"
   ]
  },
  {
   "cell_type": "code",
   "execution_count": 35,
   "id": "f435c674",
   "metadata": {},
   "outputs": [
    {
     "name": "stderr",
     "output_type": "stream",
     "text": [
      "/home/yash/.virtualenvs/bootcamp/lib/python3.7/site-packages/xgboost/sklearn.py:1146: UserWarning: The use of label encoder in XGBClassifier is deprecated and will be removed in a future release. To remove this warning, do the following: 1) Pass option use_label_encoder=False when constructing XGBClassifier object; and 2) Encode your labels (y) as integers starting with 0, i.e. 0, 1, 2, ..., [num_class - 1].\n",
      "  warnings.warn(label_encoder_deprecation_msg, UserWarning)\n"
     ]
    },
    {
     "name": "stdout",
     "output_type": "stream",
     "text": [
      "[12:28:46] WARNING: ../src/learner.cc:1095: Starting in XGBoost 1.3.0, the default evaluation metric used with the objective 'binary:logistic' was changed from 'error' to 'logloss'. Explicitly set eval_metric if you'd like to restore the old behavior.\n",
      "f1 score: 0.261236802413273\n",
      "recall score: 0.4988479262672811\n",
      "precision score: 0.17695136902329384\n",
      "discrimination results:\n"
     ]
    }
   ],
   "source": [
    "pipeline = make_pipeline(\n",
    "    ColumnConverter(), #Does quick clean up, assigns datatypes and categories\n",
    "    custom_oe(), #Handles encoding of ordinal variable\n",
    "    SelectColumns(cols=selected_features),\n",
    "    preprocessor, #uses preprocessor defined above\n",
    "    xgb.XGBClassifier(tree_method=\"approx\")\n",
    ")\n",
    "pipeline.fit(X_train, y_train)\n",
    "\n",
    "y_pred = pipeline.predict(X_test)\n",
    "\n",
    "print(\"f1 score: %s\" % (f1_score(y_test, y_pred)))\n",
    "print(\"recall score: %s\" % (recall_score(y_test, y_pred)))\n",
    "print(\"precision score: %s\" % (precision_score(y_test, y_pred)))\n",
    "print(\"discrimination results:\")"
   ]
  },
  {
   "cell_type": "code",
   "execution_count": 36,
   "id": "0303e50d",
   "metadata": {},
   "outputs": [
    {
     "name": "stderr",
     "output_type": "stream",
     "text": [
      "/home/yash/.virtualenvs/bootcamp/lib/python3.7/site-packages/sklearn/metrics/_classification.py:1496: UndefinedMetricWarning: F-score is ill-defined and being set to 0.0 due to no true nor predicted samples. Use `zero_division` parameter to control this behavior.\n",
      "  average, \"true nor predicted\", 'F-score is', len(true_sum)\n"
     ]
    },
    {
     "data": {
      "text/plain": [
       "{'medical_specialty': [{'cardiology': 0.09259259259259259,\n",
       "   'unknown': 0.27909669947886506,\n",
       "   'internalmedicine': 0.23348017621145375,\n",
       "   'surgery-vascular': 0.2,\n",
       "   'emergency/trauma': 0.2508710801393728,\n",
       "   'family/generalpractice': 0.2641509433962264,\n",
       "   'obstetricsandgynecology': 0.0,\n",
       "   'nephrology': 0.3333333333333333,\n",
       "   'psychiatry': 0.23076923076923078,\n",
       "   'pediatrics-endocrinology': 0.0,\n",
       "   'surgery-cardiovascular/thoracic': 0.0,\n",
       "   'pulmonology': 0.3684210526315789,\n",
       "   'other': 0.30303030303030304,\n",
       "   'surgery-general': 0.2857142857142857,\n",
       "   'orthopedics': 0.3125,\n",
       "   'urology': 0.15384615384615385,\n",
       "   'oncology': 0.4,\n",
       "   'radiologist': 0.0,\n",
       "   'orthopedics-reconstructive': 0.21428571428571427,\n",
       "   'physicalmedicineandrehabilitation': 0.25,\n",
       "   'neurology': 0.0,\n",
       "   'gastroenterology': 0.4444444444444444,\n",
       "   'surgery-neuro': 0.0,\n",
       "   'hematology/oncology': 0.2,\n",
       "   'pediatrics': 0.28571428571428575},\n",
       "  0.4444444444444444,\n",
       "  False],\n",
       " 'payer_code': [{'insured': 0.24920127795527158,\n",
       "   'unknown': 0.2785388127853881,\n",
       "   'SP': 0.2601626016260163},\n",
       "  0.02933753483011653,\n",
       "  True],\n",
       " 'gender': [{'male': 0.2545219638242894,\n",
       "   'female': 0.26711941143180534,\n",
       "   'unknown': 0.0},\n",
       "  0.26711941143180534,\n",
       "  False],\n",
       " 'race': [{'white': 0.2571649883810999,\n",
       "   'unknown/other': 0.2765957446808511,\n",
       "   'black': 0.2640845070422535,\n",
       "   'hispanic': 0.37037037037037035,\n",
       "   'asian': 0.35294117647058826},\n",
       "  0.11320538198927044,\n",
       "  False],\n",
       " 'age': [{'40-50': 0.22784810126582278,\n",
       "   '80-90': 0.2753623188405797,\n",
       "   '70-80': 0.27631578947368424,\n",
       "   '90-100': 0.1978021978021978,\n",
       "   '60-70': 0.2627939142461964,\n",
       "   '50-60': 0.2302483069977427,\n",
       "   '30-40': 0.31999999999999995,\n",
       "   '20-30': 0.3414634146341463,\n",
       "   'unknown': 0.18918918918918923,\n",
       "   '10-20': 0.0,\n",
       "   '0-10': 0.0},\n",
       "  0.3414634146341463,\n",
       "  False],\n",
       " 'admission_source_code': [{'emergency': 0.264346190028222,\n",
       "   'referral': 0.2541176470588235,\n",
       "   'transfer': 0.29931972789115646,\n",
       "   'unknown': 0.22916666666666666},\n",
       "  0.0701530612244898,\n",
       "  True]}"
      ]
     },
     "execution_count": 36,
     "metadata": {},
     "output_type": "execute_result"
    }
   ],
   "source": [
    "verify_no_discrimination(X_test=X_test, y_true=y_test, y_pred=y_pred, sensitive_columns = ['medical_specialty', 'payer_code','gender','race', 'age', 'admission_source_code'])"
   ]
  },
  {
   "cell_type": "code",
   "execution_count": 37,
   "id": "bb1b9ab6",
   "metadata": {},
   "outputs": [],
   "source": [
    "plt.rcParams[\"figure.figsize\"] = [3, 3]"
   ]
  },
  {
   "cell_type": "code",
   "execution_count": 38,
   "id": "0c6c28c5",
   "metadata": {},
   "outputs": [
    {
     "data": {
      "image/png": "[encoded data removed]",
      "text/plain": [
       "<Figure size 216x216 with 2 Axes>"
      ]
     },
     "metadata": {
      "needs_background": "light"
     },
     "output_type": "display_data"
    }
   ],
   "source": [
    "cm = confusion_matrix(y_true=y_test, y_pred=y_pred, labels = pipeline.classes_)\n",
    "disp = ConfusionMatrixDisplay(confusion_matrix=cm, display_labels=pipeline.classes_)\n",
    "disp.plot(cmap=\"OrRd\");"
   ]
  },
  {
   "cell_type": "code",
   "execution_count": 39,
   "id": "706d94c7",
   "metadata": {},
   "outputs": [
    {
     "data": {
      "image/png": "[encoded data removed]",
      "text/plain": [
       "<Figure size 216x216 with 1 Axes>"
      ]
     },
     "metadata": {
      "needs_background": "light"
     },
     "output_type": "display_data"
    }
   ],
   "source": [
    "fpr, tpr, thresholds = roc_curve(y_test, y_pred)\n",
    "roc_auc = auc(fpr, tpr)\n",
    "display = RocCurveDisplay(fpr=fpr, tpr=tpr, roc_auc=roc_auc, estimator_name=None)\n",
    "display.plot()\n",
    "plt.show()"
   ]
  },
  {
   "cell_type": "markdown",
   "id": "284a4886",
   "metadata": {},
   "source": [
    "# Balanced Random Forest"
   ]
  },
  {
   "cell_type": "code",
   "execution_count": 40,
   "id": "62bf6e44",
   "metadata": {},
   "outputs": [],
   "source": [
    "from imblearn.ensemble import BalancedRandomForestClassifier"
   ]
  },
  {
   "cell_type": "code",
   "execution_count": 41,
   "id": "8bd964aa",
   "metadata": {},
   "outputs": [],
   "source": [
    "# # without random oversampling\n",
    "X_train = df_train.drop(target, axis=1)\n",
    "y_train = df_train[target]\n",
    "\n",
    "# with random oversampling\n",
    "# X_train = df_train_oversampled.drop(target, axis=1)\n",
    "# y_train = df_train_oversampled[target]\n",
    "\n",
    "#test data\n",
    "X_test = df_test.drop(target, axis=1)\n",
    "y_test = df_test[target]"
   ]
  },
  {
   "cell_type": "code",
   "execution_count": 49,
   "id": "212a9765",
   "metadata": {},
   "outputs": [
    {
     "name": "stdout",
     "output_type": "stream",
     "text": [
      "f1 score: 0.2814278323848939\n",
      "recall score: 0.6267281105990783\n",
      "precision score: 0.18145430286857905\n",
      "discrimination results:\n"
     ]
    }
   ],
   "source": [
    "pipeline = make_pipeline(\n",
    "    ColumnConverter(), #Does quick clean up, assigns datatypes and categories\n",
    "    custom_oe(), #Handles encoding of ordinal variable\n",
    "    SelectColumns(cols=selected_features),\n",
    "    preprocessor, #uses preprocessor defined above\n",
    "    BalancedRandomForestClassifier(max_depth=None,\n",
    "                                   random_state=42, \n",
    "                                   n_jobs=-1,\n",
    "                                   n_estimators = 1000,\n",
    "                                   criterion = 'gini',\n",
    "                                   bootstrap = True,\n",
    "                                   max_samples = 0.1,\n",
    "                                   oob_score = True,\n",
    "                                   class_weight = 'balanced',\n",
    "                                   sampling_strategy = 'all'),\n",
    ")\n",
    "pipeline.fit(X_train, y_train)\n",
    "\n",
    "y_pred = pipeline.predict(X_test)\n",
    "\n",
    "print(\"f1 score: %s\" % (f1_score(y_test, y_pred)))\n",
    "print(\"recall score: %s\" % (recall_score(y_test, y_pred)))\n",
    "print(\"precision score: %s\" % (precision_score(y_test, y_pred)))\n",
    "print(\"discrimination results:\")"
   ]
  },
  {
   "cell_type": "code",
   "execution_count": 50,
   "id": "06b87f46",
   "metadata": {},
   "outputs": [
    {
     "name": "stderr",
     "output_type": "stream",
     "text": [
      "/home/yash/.virtualenvs/bootcamp/lib/python3.7/site-packages/sklearn/metrics/_classification.py:1496: UndefinedMetricWarning: F-score is ill-defined and being set to 0.0 due to no true nor predicted samples. Use `zero_division` parameter to control this behavior.\n",
      "  average, \"true nor predicted\", 'F-score is', len(true_sum)\n",
      "/home/yash/.virtualenvs/bootcamp/lib/python3.7/site-packages/sklearn/metrics/_classification.py:1496: UndefinedMetricWarning: F-score is ill-defined and being set to 0.0 due to no true nor predicted samples. Use `zero_division` parameter to control this behavior.\n",
      "  average, \"true nor predicted\", 'F-score is', len(true_sum)\n"
     ]
    },
    {
     "data": {
      "text/plain": [
       "{'medical_specialty': [{'cardiology': 0.15652173913043477,\n",
       "   'unknown': 0.2885085574572127,\n",
       "   'internalmedicine': 0.2509505703422053,\n",
       "   'surgery-vascular': 0.3333333333333333,\n",
       "   'emergency/trauma': 0.26198083067092653,\n",
       "   'family/generalpractice': 0.32989690721649484,\n",
       "   'obstetricsandgynecology': 0.0,\n",
       "   'nephrology': 0.3157894736842105,\n",
       "   'psychiatry': 0.25,\n",
       "   'pediatrics-endocrinology': 0.0,\n",
       "   'surgery-cardiovascular/thoracic': 0.11764705882352941,\n",
       "   'pulmonology': 0.358974358974359,\n",
       "   'other': 0.30769230769230765,\n",
       "   'surgery-general': 0.31666666666666665,\n",
       "   'orthopedics': 0.30769230769230765,\n",
       "   'urology': 0.15384615384615385,\n",
       "   'oncology': 0.25000000000000006,\n",
       "   'radiologist': 0.20689655172413796,\n",
       "   'orthopedics-reconstructive': 0.25641025641025644,\n",
       "   'physicalmedicineandrehabilitation': 0.4444444444444445,\n",
       "   'neurology': 0.28571428571428575,\n",
       "   'gastroenterology': 0.26086956521739124,\n",
       "   'surgery-neuro': 0.25,\n",
       "   'hematology/oncology': 0.3333333333333333,\n",
       "   'pediatrics': 0.6},\n",
       "  0.6,\n",
       "  False],\n",
       " 'payer_code': [{'insured': 0.2689956331877729,\n",
       "   'unknown': 0.3015764222069911,\n",
       "   'SP': 0.2735042735042735},\n",
       "  0.03258078901921818,\n",
       "  True],\n",
       " 'gender': [{'male': 0.28929384965831434,\n",
       "   'female': 0.27488151658767773,\n",
       "   'unknown': 0.0},\n",
       "  0.28929384965831434,\n",
       "  False],\n",
       " 'race': [{'white': 0.27790582811985515,\n",
       "   'unknown/other': 0.21276595744680848,\n",
       "   'black': 0.3051359516616314,\n",
       "   'hispanic': 0.32727272727272727,\n",
       "   'asian': 0.22222222222222224},\n",
       "  0.11450676982591879,\n",
       "  False],\n",
       " 'age': [{'40-50': 0.254416961130742,\n",
       "   '80-90': 0.2787286063569682,\n",
       "   '70-80': 0.2738432483474976,\n",
       "   '90-100': 0.23300970873786409,\n",
       "   '60-70': 0.29683698296836986,\n",
       "   '50-60': 0.2673992673992674,\n",
       "   '30-40': 0.3898305084745763,\n",
       "   '20-30': 0.4615384615384615,\n",
       "   'unknown': 0.2777777777777778,\n",
       "   '10-20': 0.0,\n",
       "   '0-10': 0.0},\n",
       "  0.4615384615384615,\n",
       "  False],\n",
       " 'admission_source_code': [{'emergency': 0.2812248186946011,\n",
       "   'referral': 0.27152988855116517,\n",
       "   'transfer': 0.33142857142857146,\n",
       "   'unknown': 0.2882882882882883},\n",
       "  0.059898682877406295,\n",
       "  True]}"
      ]
     },
     "execution_count": 50,
     "metadata": {},
     "output_type": "execute_result"
    }
   ],
   "source": [
    "verify_no_discrimination(X_test=X_test, y_true=y_test, y_pred=y_pred, sensitive_columns = ['medical_specialty', 'payer_code','gender','race', 'age', 'admission_source_code'])"
   ]
  },
  {
   "cell_type": "code",
   "execution_count": 51,
   "id": "5bc138e1",
   "metadata": {},
   "outputs": [],
   "source": [
    "plt.rcParams[\"figure.figsize\"] = [3, 3]"
   ]
  },
  {
   "cell_type": "code",
   "execution_count": 52,
   "id": "6154a0a8",
   "metadata": {},
   "outputs": [
    {
     "data": {
      "image/png": "[encoded data removed]",
      "text/plain": [
       "<Figure size 216x216 with 2 Axes>"
      ]
     },
     "metadata": {
      "needs_background": "light"
     },
     "output_type": "display_data"
    }
   ],
   "source": [
    "cm = confusion_matrix(y_true=y_test, y_pred=y_pred, labels = pipeline.classes_)\n",
    "disp = ConfusionMatrixDisplay(confusion_matrix=cm, display_labels=pipeline.classes_)\n",
    "disp.plot(cmap=\"OrRd\");"
   ]
  },
  {
   "cell_type": "code",
   "execution_count": 53,
   "id": "f6c7ed16",
   "metadata": {},
   "outputs": [
    {
     "data": {
      "image/png": "[encoded data removed]",
      "text/plain": [
       "<Figure size 216x216 with 1 Axes>"
      ]
     },
     "metadata": {
      "needs_background": "light"
     },
     "output_type": "display_data"
    }
   ],
   "source": [
    "fpr, tpr, thresholds = roc_curve(y_test, y_pred)\n",
    "roc_auc = auc(fpr, tpr)\n",
    "display = RocCurveDisplay(fpr=fpr, tpr=tpr, roc_auc=roc_auc, estimator_name=None)\n",
    "display.plot()\n",
    "plt.show()"
   ]
  },
  {
   "cell_type": "markdown",
   "id": "92cfd4d6",
   "metadata": {},
   "source": [
    "# RUSBoost"
   ]
  },
  {
   "cell_type": "code",
   "execution_count": 54,
   "id": "a588eb69",
   "metadata": {},
   "outputs": [],
   "source": [
    "from imblearn.ensemble import RUSBoostClassifier"
   ]
  },
  {
   "cell_type": "code",
   "execution_count": 55,
   "id": "7497c31f",
   "metadata": {},
   "outputs": [],
   "source": [
    "# # without random oversampling\n",
    "X_train = df_train.drop(target, axis=1)\n",
    "y_train = df_train[target]\n",
    "\n",
    "# with random oversampling\n",
    "# X_train = df_train_oversampled.drop(target, axis=1)\n",
    "# y_train = df_train_oversampled[target]\n",
    "\n",
    "#test data\n",
    "X_test = df_test.drop(target, axis=1)\n",
    "y_test = df_test[target]"
   ]
  },
  {
   "cell_type": "code",
   "execution_count": 66,
   "id": "d193ce08",
   "metadata": {},
   "outputs": [
    {
     "name": "stdout",
     "output_type": "stream",
     "text": [
      "f1 score: 0.28730003264773096\n",
      "recall score: 0.5069124423963134\n",
      "precision score: 0.20045558086560364\n",
      "discrimination results:\n"
     ]
    }
   ],
   "source": [
    "pipeline = make_pipeline(\n",
    "    ColumnConverter(), #Does quick clean up, assigns datatypes and categories\n",
    "    custom_oe(), #Handles encoding of ordinal variable\n",
    "    SelectColumns(cols=selected_features),\n",
    "    preprocessor, #uses preprocessor defined above\n",
    "    RUSBoostClassifier(base_estimator=RandomForestClassifier(max_depth=10,\n",
    "                                      class_weight=\"balanced\",\n",
    "                                      random_state=42, n_jobs=-1,\n",
    "                                      n_estimators = 100,\n",
    "                                      criterion = 'gini',\n",
    "                                      max_features = 'auto',\n",
    "                                      bootstrap = False),\n",
    "                       n_estimators=100,\n",
    "                       learning_rate=0.1,\n",
    "                       algorithm='SAMME.R',\n",
    "                       sampling_strategy='auto',\n",
    "                       replacement=False,\n",
    "                       random_state=42),\n",
    ")\n",
    "pipeline.fit(X_train, y_train)\n",
    "\n",
    "y_pred = pipeline.predict(X_test)\n",
    "\n",
    "print(\"f1 score: %s\" % (f1_score(y_test, y_pred)))\n",
    "print(\"recall score: %s\" % (recall_score(y_test, y_pred)))\n",
    "print(\"precision score: %s\" % (precision_score(y_test, y_pred)))\n",
    "print(\"discrimination results:\")"
   ]
  },
  {
   "cell_type": "code",
   "execution_count": 67,
   "id": "3cd5d752",
   "metadata": {},
   "outputs": [
    {
     "name": "stderr",
     "output_type": "stream",
     "text": [
      "/home/yash/.virtualenvs/bootcamp/lib/python3.7/site-packages/sklearn/metrics/_classification.py:1496: UndefinedMetricWarning: F-score is ill-defined and being set to 0.0 due to no true nor predicted samples. Use `zero_division` parameter to control this behavior.\n",
      "  average, \"true nor predicted\", 'F-score is', len(true_sum)\n",
      "/home/yash/.virtualenvs/bootcamp/lib/python3.7/site-packages/sklearn/metrics/_classification.py:1496: UndefinedMetricWarning: F-score is ill-defined and being set to 0.0 due to no true nor predicted samples. Use `zero_division` parameter to control this behavior.\n",
      "  average, \"true nor predicted\", 'F-score is', len(true_sum)\n"
     ]
    },
    {
     "data": {
      "text/plain": [
       "{'medical_specialty': [{'cardiology': 0.14736842105263157,\n",
       "   'unknown': 0.2937853107344633,\n",
       "   'internalmedicine': 0.23255813953488372,\n",
       "   'surgery-vascular': 0.3,\n",
       "   'emergency/trauma': 0.2934362934362934,\n",
       "   'family/generalpractice': 0.3793103448275862,\n",
       "   'obstetricsandgynecology': 0.0,\n",
       "   'nephrology': 0.37333333333333335,\n",
       "   'psychiatry': 0.23076923076923078,\n",
       "   'pediatrics-endocrinology': 0.0,\n",
       "   'surgery-cardiovascular/thoracic': 0.0,\n",
       "   'pulmonology': 0.42424242424242425,\n",
       "   'other': 0.34285714285714286,\n",
       "   'surgery-general': 0.33333333333333326,\n",
       "   'orthopedics': 0.35714285714285715,\n",
       "   'urology': 0.16666666666666669,\n",
       "   'oncology': 0.16666666666666666,\n",
       "   'radiologist': 0.1904761904761905,\n",
       "   'orthopedics-reconstructive': 0.25806451612903225,\n",
       "   'physicalmedicineandrehabilitation': 0.28571428571428575,\n",
       "   'neurology': 0.0,\n",
       "   'gastroenterology': 0.3157894736842105,\n",
       "   'surgery-neuro': 0.0,\n",
       "   'hematology/oncology': 0.0,\n",
       "   'pediatrics': 0.4444444444444444},\n",
       "  0.4444444444444444,\n",
       "  False],\n",
       " 'payer_code': [{'insured': 0.27392550143266475,\n",
       "   'unknown': 0.3062913907284768,\n",
       "   'SP': 0.29090909090909095},\n",
       "  0.03236588929581202,\n",
       "  True],\n",
       " 'gender': [{'male': 0.2918149466192171,\n",
       "   'female': 0.28347406513872137,\n",
       "   'unknown': 0.0},\n",
       "  0.2918149466192171,\n",
       "  False],\n",
       " 'race': [{'white': 0.2837951301427372,\n",
       "   'unknown/other': 0.2597402597402597,\n",
       "   'black': 0.299625468164794,\n",
       "   'hispanic': 0.37037037037037035,\n",
       "   'asian': 0.25},\n",
       "  0.12037037037037035,\n",
       "  False],\n",
       " 'age': [{'40-50': 0.2672811059907834,\n",
       "   '80-90': 0.26810477657935283,\n",
       "   '70-80': 0.2687651331719128,\n",
       "   '90-100': 0.2528735632183908,\n",
       "   '60-70': 0.31278195488721805,\n",
       "   '50-60': 0.28211586901763225,\n",
       "   '30-40': 0.3846153846153846,\n",
       "   '20-30': 0.5294117647058824,\n",
       "   'unknown': 0.3291139240506329,\n",
       "   '10-20': 0.0,\n",
       "   '0-10': 0.0},\n",
       "  0.5294117647058824,\n",
       "  False],\n",
       " 'admission_source_code': [{'emergency': 0.28355957767722473,\n",
       "   'referral': 0.2901554404145078,\n",
       "   'transfer': 0.31884057971014496,\n",
       "   'unknown': 0.29268292682926833},\n",
       "  0.03528100203292023,\n",
       "  True]}"
      ]
     },
     "execution_count": 67,
     "metadata": {},
     "output_type": "execute_result"
    }
   ],
   "source": [
    "verify_no_discrimination(X_test=X_test, y_true=y_test, y_pred=y_pred, sensitive_columns = ['medical_specialty', 'payer_code','gender','race', 'age', 'admission_source_code'])"
   ]
  },
  {
   "cell_type": "code",
   "execution_count": 68,
   "id": "210b2b78",
   "metadata": {},
   "outputs": [],
   "source": [
    "plt.rcParams[\"figure.figsize\"] = [3, 3]"
   ]
  },
  {
   "cell_type": "code",
   "execution_count": 69,
   "id": "c3d1898e",
   "metadata": {},
   "outputs": [
    {
     "data": {
      "image/png": "[encoded data removed]",
      "text/plain": [
       "<Figure size 216x216 with 2 Axes>"
      ]
     },
     "metadata": {
      "needs_background": "light"
     },
     "output_type": "display_data"
    }
   ],
   "source": [
    "cm = confusion_matrix(y_true=y_test, y_pred=y_pred, labels = pipeline.classes_)\n",
    "disp = ConfusionMatrixDisplay(confusion_matrix=cm, display_labels=pipeline.classes_)\n",
    "disp.plot(cmap=\"OrRd\");"
   ]
  },
  {
   "cell_type": "code",
   "execution_count": 64,
   "id": "9489de6f",
   "metadata": {},
   "outputs": [
    {
     "data": {
      "image/png": "[encoded data removed]",
      "text/plain": [
       "<Figure size 216x216 with 1 Axes>"
      ]
     },
     "metadata": {
      "needs_background": "light"
     },
     "output_type": "display_data"
    }
   ],
   "source": [
    "fpr, tpr, thresholds = roc_curve(y_test, y_pred)\n",
    "roc_auc = auc(fpr, tpr)\n",
    "display = RocCurveDisplay(fpr=fpr, tpr=tpr, roc_auc=roc_auc, estimator_name=None)\n",
    "display.plot()\n",
    "plt.show()"
   ]
  },
  {
   "cell_type": "markdown",
   "id": "74335a89",
   "metadata": {},
   "source": [
    "# Output files (pickling)"
   ]
  },
  {
   "cell_type": "code",
   "execution_count": 47,
   "id": "0aeec11b",
   "metadata": {},
   "outputs": [],
   "source": [
    "# TMP_DIR = '/tmp'\n",
    "# with open(os.path.join(TMP_DIR, \"columns.json\"), 'w') as fh:\n",
    "#     json.dump(X_train.columns.tolist(), fh)\n",
    "\n",
    "# with open(os.path.join(TMP_DIR, \"dtypes.pickle\"), 'wb') as fh:\n",
    "#     pickle.dump(X_train.dtypes, fh)\n",
    "    \n",
    "# joblib.dump(pipeline, os.path.join(TMP_DIR, 'pipeline.pickle')) "
   ]
  },
  {
   "cell_type": "code",
   "execution_count": null,
   "id": "179bf47c",
   "metadata": {},
   "outputs": [],
   "source": []
  }
 ],
 "metadata": {
  "kernelspec": {
   "display_name": "Python 3",
   "language": "python",
   "name": "python3"
  },
  "language_info": {
   "codemirror_mode": {
    "name": "ipython",
    "version": 3
   },
   "file_extension": ".py",
   "mimetype": "text/x-python",
   "name": "python",
   "nbconvert_exporter": "python",
   "pygments_lexer": "ipython3",
   "version": "3.7.12"
  }
 },
 "nbformat": 4,
 "nbformat_minor": 5
}
