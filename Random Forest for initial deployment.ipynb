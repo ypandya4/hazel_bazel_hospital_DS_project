{
 "cells": [
  {
   "cell_type": "markdown",
   "id": "a91d16f2",
   "metadata": {},
   "source": [
    "# Imports"
   ]
  },
  {
   "cell_type": "code",
   "execution_count": 1,
   "id": "7fff49fb",
   "metadata": {},
   "outputs": [],
   "source": [
    "import os\n",
    "import base64\n",
    "import joblib\n",
    "import pandas as pd\n",
    "import numpy as np\n",
    "import category_encoders as ce\n",
    "import json\n",
    "import joblib\n",
    "import pickle\n",
    "import math\n",
    "import requests\n",
    "from copy import deepcopy\n",
    "import seaborn as sns\n",
    "from uuid import uuid4\n",
    "\n",
    "from sklearn.model_selection import train_test_split\n",
    "from sklearn.pipeline import make_pipeline, Pipeline\n",
    "from sklearn.model_selection import cross_val_score, GridSearchCV\n",
    "from sklearn.impute import SimpleImputer, KNNImputer\n",
    "from sklearn.preprocessing import StandardScaler, power_transform, RobustScaler, MinMaxScaler\n",
    "from sklearn.compose import ColumnTransformer\n",
    "from sklearn.model_selection import cross_val_score, learning_curve\n",
    "from sklearn.ensemble import RandomForestClassifier, GradientBoostingClassifier, GradientBoostingRegressor\n",
    "from sklearn.tree import DecisionTreeClassifier, DecisionTreeRegressor\n",
    "from sklearn.linear_model import LogisticRegression\n",
    "from sklearn.metrics import (precision_score,\n",
    "                            recall_score,\n",
    "                            f1_score,\n",
    "                            accuracy_score,\n",
    "                            roc_auc_score,\n",
    "                            confusion_matrix,\n",
    "                            ConfusionMatrixDisplay,\n",
    "                            make_scorer,\n",
    "                            RocCurveDisplay,\n",
    "                            auc,\n",
    "                            roc_curve,\n",
    "                            precision_recall_curve)\n",
    "\n",
    "from sklearn.base import BaseEstimator, TransformerMixin\n",
    "\n",
    "from pandas_profiling import ProfileReport\n",
    "\n",
    "from sklearn.model_selection import GridSearchCV\n",
    "\n",
    "import matplotlib.pyplot as plt\n",
    "import matplotlib.image as mpimg\n",
    "plt.style.use('ggplot')\n",
    "%matplotlib inline"
   ]
  },
  {
   "cell_type": "markdown",
   "id": "6bacc6b7",
   "metadata": {},
   "source": [
    "# Custom transformer imports"
   ]
  },
  {
   "cell_type": "code",
   "execution_count": 2,
   "id": "bb32c8cf",
   "metadata": {},
   "outputs": [],
   "source": [
    "# WIP preprocessor which assigns categories and compresses some code\n",
    "from custom_transformers.preprocessor import ColumnConverter\n",
    "\n",
    "# WIP ordinal category preprocessor\n",
    "from custom_transformers.custom_ordinal_encoder import custom_oe\n",
    "\n",
    "#WIP column selector\n",
    "from custom_transformers.featureselector import SelectColumns\n",
    "\n",
    "# WIP onehot category preprocessor\n",
    "from custom_transformers.custom_onehot_encoder import custom_one_hot\n",
    "\n",
    "# WIP onehot category preprocessor\n",
    "from custom_transformers.custom_impute_scale import custom_impute_scale\n"
   ]
  },
  {
   "cell_type": "markdown",
   "id": "0da63fd8",
   "metadata": {},
   "source": [
    "# Functions"
   ]
  },
  {
   "cell_type": "code",
   "execution_count": 3,
   "id": "d4102f25",
   "metadata": {},
   "outputs": [],
   "source": [
    "def load_train_data():\n",
    "    df = pd.read_csv(os.path.join(\"data\", \"train_data.csv\"))\n",
    "    return df\n",
    "\n",
    "data_train = load_train_data()"
   ]
  },
  {
   "cell_type": "code",
   "execution_count": 4,
   "id": "c2ec538d",
   "metadata": {},
   "outputs": [],
   "source": [
    "def assign_index(df, indexcol: str):\n",
    "    _df = df.copy()\n",
    "    _df = _df.set_index(indexcol)\n",
    "    return _df"
   ]
  },
  {
   "cell_type": "code",
   "execution_count": 5,
   "id": "aaaf75ee",
   "metadata": {},
   "outputs": [],
   "source": [
    "def build_target(df, target: str):\n",
    "    _df = df.copy()\n",
    "    _df[target] = np.where(_df[target]== 'Yes', True, False)\n",
    "    return _df"
   ]
  },
  {
   "cell_type": "markdown",
   "id": "89231c2b",
   "metadata": {},
   "source": [
    "# Function to test if we satisfied requirements:"
   ]
  },
  {
   "cell_type": "markdown",
   "id": "a521ec1c",
   "metadata": {},
   "source": [
    "The first step will make a copy of the X_test and apply the custom converter for the columns - it will update the categories we are interested in (avoid duplicates etc)"
   ]
  },
  {
   "cell_type": "code",
   "execution_count": 6,
   "id": "e1b0a044",
   "metadata": {},
   "outputs": [],
   "source": [
    "def verify_no_discrimination(X_test,\n",
    "                             y_true,\n",
    "                             y_pred,\n",
    "                             sensitive_columns = [],\n",
    "                             max_diff=0.1,\n",
    "                             average='weighted'):    \n",
    "    # Use this as a template to get output:\n",
    "    #f1_scores, diff, is_satisfied  = verify_no_discrimination(X_test,\n",
    "    #                                                          y_test,\n",
    "    #                                                          y_pred,\n",
    "    #                                                          sensitive_column=['Self-defined ethnicity', 'race'] etc\n",
    "    #                                                          max_diff=0.15 )\n",
    "    #f1_scores, diff, is_satisfied\n",
    "    \n",
    "    _df = X_test.copy()\n",
    "    \n",
    "    results = {}\n",
    "    \n",
    "    cc = ColumnConverter()\n",
    "    _df = cc.fit_transform(_df)\n",
    "    \n",
    "    for column in sensitive_columns:  \n",
    "        sensitive_classes = _df[column].unique()\n",
    "        is_satisfied = True\n",
    "        f1_scores = {}\n",
    "        \n",
    "        for sensitive_class in sensitive_classes:\n",
    "            mask = (_df[column] == sensitive_class)\n",
    "            if mask.sum():\n",
    "                f1_scores[sensitive_class] = f1_score(y_true[mask],\n",
    "                                                      y_pred[mask],\n",
    "                                                      pos_label=1,\n",
    "                                                      labels=np.unique(y_pred[mask]))\n",
    "        \n",
    "        diff = np.max(list(f1_scores.values())) - np.min(list(f1_scores.values()))\n",
    "        if diff > max_diff:\n",
    "            is_satisfied = False\n",
    "        \n",
    "        results[column] = [f1_scores, diff, is_satisfied]\n",
    "    \n",
    "    return results"
   ]
  },
  {
   "cell_type": "code",
   "execution_count": 7,
   "id": "1669a715",
   "metadata": {},
   "outputs": [],
   "source": [
    "def verify_no_discrimination_2(X_test,\n",
    "                               y_true,\n",
    "                               y_pred,\n",
    "                               sensitive_columns = [],\n",
    "                               max_diff=0.1,\n",
    "                               average='weighted',\n",
    "                               min_samples=50):    \n",
    "    # This time with precision\n",
    "    \n",
    "    _df = X_test.copy()\n",
    "    \n",
    "    results = {}\n",
    "    \n",
    "    cc = ColumnConverter()\n",
    "    _df = cc.fit_transform(_df)\n",
    "    \n",
    "    for column in sensitive_columns:  \n",
    "        sensitive_classes = _df[column].unique()\n",
    "        is_satisfied = True\n",
    "        precision_scores = {}\n",
    "        \n",
    "        for sensitive_class in sensitive_classes:\n",
    "            mask = (_df[column] == sensitive_class)\n",
    "            if np.sum(mask) > min_samples:\n",
    "                precision_scores[sensitive_class] = precision_score(y_true[mask],\n",
    "                                                      y_pred[mask],\n",
    "                                                      pos_label=1,\n",
    "                                                      labels=np.unique(y_pred[mask]))\n",
    "        \n",
    "        diff = np.max(list(precision_scores.values())) - np.min(list(precision_scores.values()))\n",
    "        if diff > max_diff:\n",
    "            is_satisfied = False\n",
    "        \n",
    "        results[column] = [precision_scores, diff, is_satisfied]\n",
    "    \n",
    "    return results"
   ]
  },
  {
   "cell_type": "markdown",
   "id": "84447972",
   "metadata": {},
   "source": [
    "# Loading data"
   ]
  },
  {
   "cell_type": "code",
   "execution_count": 8,
   "id": "517e7fa2",
   "metadata": {},
   "outputs": [],
   "source": [
    "target = 'readmitted'\n",
    "index_col = 'admission_id'"
   ]
  },
  {
   "cell_type": "code",
   "execution_count": 9,
   "id": "787600aa",
   "metadata": {},
   "outputs": [],
   "source": [
    "data_train = load_train_data()\n",
    "data_train = assign_index(data_train, index_col)\n",
    "data_train = build_target(data_train, target)"
   ]
  },
  {
   "cell_type": "code",
   "execution_count": 10,
   "id": "e51f32a0",
   "metadata": {},
   "outputs": [],
   "source": [
    "#List of all features (n=numerical, uc=unordered actegory, oc=ordered category, b=boolean)\n",
    "\n",
    "all_features = ['patient_id', #identifier\n",
    "                'race', #uc\n",
    "                'gender', #uc\n",
    "                'age', #oc\n",
    "                'weight', #oc               \n",
    "                'admission_type_code', #uc\n",
    "                'discharge_disposition_code', #uc\n",
    "                'admission_source_code', #uc\n",
    "                'time_in_hospital', #n\n",
    "                'payer_code', #uc\n",
    "                'medical_specialty', #uc\n",
    "                'has_prosthesis', #b\n",
    "                'complete_vaccination_status', #uc\n",
    "                'num_lab_procedures', #n\n",
    "                'num_procedures', #n\n",
    "                'num_medications', #n\n",
    "                'number_outpatient', #n\n",
    "                'number_emergency', #n\n",
    "                'number_inpatient', #n\n",
    "                'diag_1', #uc\n",
    "                'diag_2', #uc\n",
    "                'diag_3', #uc\n",
    "                'number_diagnoses', #n\n",
    "                'blood_type', #uc\n",
    "                'hemoglobin_level', #n\n",
    "                'blood_transfusion', #b\n",
    "                'max_glu_serum', #oc\n",
    "                'A1Cresult', #oc\n",
    "                'diuretics', #b\n",
    "                'insulin', #b\n",
    "                'change', #b\n",
    "                'diabetesMed'] #b]\n",
    "\n",
    "num_features = ['time_in_hospital', \n",
    "                'num_lab_procedures',\n",
    "                'num_procedures',\n",
    "                'num_medications',\n",
    "                'number_outpatient',\n",
    "                'number_emergency',\n",
    "                'number_inpatient',\n",
    "                'number_diagnoses',\n",
    "                'hemoglobin_level']\n",
    "\n",
    "bool_features = ['has_prosthesis',\n",
    "                 'blood_transfusion',\n",
    "                 'diuretics',\n",
    "                 'insulin',\n",
    "                 'change',\n",
    "                 'diabetesMed']\n",
    "\n",
    "cat_features = ['race',\n",
    "                'gender',\n",
    "                'admission_type_code', \n",
    "                'discharge_disposition_code',\n",
    "                'admission_source_code', \n",
    "                'payer_code',\n",
    "                'medical_specialty',\n",
    "                'diag_1',\n",
    "                'diag_2',\n",
    "                'diag_3',\n",
    "                'blood_type']\n",
    "\n",
    "ord_cat_features = ['age',\n",
    "                    'weight',\n",
    "                    'max_glu_serum',\n",
    "                    'A1Cresult',\n",
    "                    'complete_vaccination_status',]\n",
    "\n",
    "# missing features: date of admission and date of release"
   ]
  },
  {
   "cell_type": "markdown",
   "id": "c061244a",
   "metadata": {},
   "source": [
    "### Test train split"
   ]
  },
  {
   "cell_type": "code",
   "execution_count": 11,
   "id": "1cdd6e55",
   "metadata": {},
   "outputs": [],
   "source": [
    "# Convert target to boolean\n",
    "\n",
    "# We have a small portion kept aside because of our random undersampling approach where we lose a lot of train data \n",
    "#df_train, df_test = train_test_split(data_train, test_size=0.1, random_state=42, stratify=data_train[target])\n",
    "\n",
    "df_train, df_test = train_test_split(data_train, test_size=0.1, random_state=42, stratify=None, shuffle=False)"
   ]
  },
  {
   "cell_type": "markdown",
   "id": "2116e62d",
   "metadata": {},
   "source": [
    "### Dealing with unbalanced train data:\n",
    "1. Going to use random oversampling"
   ]
  },
  {
   "cell_type": "code",
   "execution_count": 12,
   "id": "04c375fb",
   "metadata": {},
   "outputs": [
    {
     "data": {
      "image/png": "[encoded data removed]",
      "text/plain": [
       "<Figure size 216x216 with 1 Axes>"
      ]
     },
     "metadata": {
      "needs_background": "light"
     },
     "output_type": "display_data"
    }
   ],
   "source": [
    "plt.rcParams[\"figure.figsize\"] = [3, 3]\n",
    "df_train[target].value_counts().plot(kind='bar', title='Count (readmitted)');"
   ]
  },
  {
   "cell_type": "code",
   "execution_count": 13,
   "id": "0b9ec947",
   "metadata": {},
   "outputs": [],
   "source": [
    "# get counts and split tables\n",
    "count_f, count_t = df_train[target].value_counts()\n",
    "df_f = df_train[df_train[target] == False]\n",
    "df_t = df_train[df_train[target] == True]"
   ]
  },
  {
   "cell_type": "markdown",
   "id": "7b6457c2",
   "metadata": {},
   "source": [
    "### Random oversampling of the positive (True) class"
   ]
  },
  {
   "cell_type": "code",
   "execution_count": 14,
   "id": "b87bdab1",
   "metadata": {},
   "outputs": [
    {
     "data": {
      "image/png": "[encoded data removed]",
      "text/plain": [
       "<Figure size 216x216 with 1 Axes>"
      ]
     },
     "metadata": {
      "needs_background": "light"
     },
     "output_type": "display_data"
    }
   ],
   "source": [
    "# oversampling (lots of duplication of positive classes)\n",
    "df_t_oversampled = df_t.sample(count_f, replace=True)\n",
    "df_train_oversampled = pd.concat([df_t_oversampled, df_f], axis=0)\n",
    "#sort it to maintain some kind of order\n",
    "df_train_oversampled = df_train_oversampled.sort_index()\n",
    "#plot it\n",
    "df_train_oversampled[target].value_counts().plot(kind='bar', title='Count (readmitted)');"
   ]
  },
  {
   "cell_type": "markdown",
   "id": "a361a0a9",
   "metadata": {},
   "source": [
    "### Test train split and selection"
   ]
  },
  {
   "cell_type": "code",
   "execution_count": 84,
   "id": "e8aa1b33",
   "metadata": {},
   "outputs": [],
   "source": [
    "# without random oversampling\n",
    "#X_train = df_train.drop(target, axis=1)\n",
    "#y_train = df_train[target]\n",
    "\n",
    "# with random oversampling\n",
    "X_train = df_train_oversampled.drop(target, axis=1)\n",
    "y_train = df_train_oversampled[target]\n",
    "\n",
    "#test data\n",
    "X_test = df_test.drop(target, axis=1)\n",
    "y_test = df_test[target]"
   ]
  },
  {
   "cell_type": "code",
   "execution_count": 16,
   "id": "2caf2a0d",
   "metadata": {},
   "outputs": [],
   "source": [
    "selected_features = ['time_in_hospital', \n",
    "                     'num_lab_procedures',\n",
    "                     'num_procedures',\n",
    "                     'num_medications',\n",
    "                     'number_outpatient',\n",
    "                     'number_emergency',\n",
    "                     'number_inpatient',\n",
    "                     'number_diagnoses',\n",
    "                     'hemoglobin_level',\n",
    "                     \n",
    "                     #'has_prosthesis',\n",
    "                     'blood_transfusion',\n",
    "                     #'diuretics',\n",
    "                     'insulin',\n",
    "                     'change',\n",
    "                     'diabetesMed',\n",
    "                     \n",
    "                     'race',\n",
    "                     'gender',\n",
    "                     'admission_type_code', \n",
    "                     'discharge_disposition_code',\n",
    "                     'admission_source_code', \n",
    "                     'payer_code',\n",
    "                     #'medical_specialty',\n",
    "                     #'complete_vaccination_status',\n",
    "                     'blood_type',\n",
    "                     'diag_1',\n",
    "                     'diag_2',\n",
    "                     'diag_3',\n",
    "                     \n",
    "                     'max_glu_serum',\n",
    "                     'A1Cresult',\n",
    "                     'age',\n",
    "                     #'weight'\n",
    "                    ]"
   ]
  },
  {
   "cell_type": "code",
   "execution_count": 17,
   "id": "c7365df9",
   "metadata": {},
   "outputs": [],
   "source": [
    "num_feats = [feat for feat in selected_features if feat in num_features]\n",
    "cat_feats = [feat for feat in selected_features if feat in cat_features+bool_features+ord_cat_features]\n",
    "bool_feats = [feat for feat in selected_features if feat in bool_features]\n",
    "ord_cat_feats = [feat for feat in selected_features if feat in ord_cat_features]"
   ]
  },
  {
   "cell_type": "code",
   "execution_count": 18,
   "id": "7a351b78",
   "metadata": {},
   "outputs": [],
   "source": [
    "ord_cat_features = ['age',\n",
    "                    'weight', #lots of missing or unknown values\n",
    "                    'max_glu_serum',\n",
    "                    'A1Cresult',\n",
    "                    'complete_vaccination_status',]"
   ]
  },
  {
   "cell_type": "code",
   "execution_count": 19,
   "id": "eda46ad8",
   "metadata": {},
   "outputs": [],
   "source": [
    "cat_features = ['race', #done\n",
    "                'gender', #done\n",
    "                'admission_type_code', #done \n",
    "                'discharge_disposition_code', #done\n",
    "                'admission_source_code', # done \n",
    "                'payer_code', #done (now the insurance column)\n",
    "                #'medical_specialty', #done (any specialty over 100 - lets see how bad it gets)\n",
    "                'diag_1',\n",
    "                'diag_2',\n",
    "                'diag_3',\n",
    "                'blood_type'\n",
    "               ] #dropping blood type"
   ]
  },
  {
   "cell_type": "markdown",
   "id": "0d29840f",
   "metadata": {},
   "source": [
    "1. Not using blood type\n",
    "1. Not using weight\n",
    "1. Not using diagnoses: probably linked to medical specialty\n",
    "    1. Will be added in the next version\n",
    "1. Admission source not yet included\n",
    "1. Race, gender and payer code (SP=uninsured) will not be used to model"
   ]
  },
  {
   "cell_type": "markdown",
   "id": "26d7c778",
   "metadata": {},
   "source": [
    "##### Processing Diagnoses:\n",
    "1. High cardinality (and possibly redundant information due to overlpa with the speecialty?)"
   ]
  },
  {
   "cell_type": "code",
   "execution_count": 20,
   "id": "71264f57",
   "metadata": {},
   "outputs": [],
   "source": [
    "# This needs to become a custom pipeline - and we need different scalers here\n",
    "\n",
    "numeric_transformer = Pipeline(steps=[\n",
    "    ('imputer', SimpleImputer(strategy='median')),\n",
    "    ('scaler', RobustScaler())]) #StandardScaler or MinMaxScaler\n",
    "categorical_transformer = Pipeline(steps=[\n",
    "    ('imputer', SimpleImputer(strategy='constant', fill_value='unknown')),\n",
    "    ('onehot', ce.OneHotEncoder(handle_unknown='ignore'))])\n",
    "preprocessor = ColumnTransformer(\n",
    "    transformers=[\n",
    "        ('num', numeric_transformer, num_feats),\n",
    "        ('cat', categorical_transformer, cat_features)],\n",
    "remainder=\"passthrough\",sparse_threshold=0)"
   ]
  },
  {
   "cell_type": "markdown",
   "id": "9355aef2",
   "metadata": {},
   "source": [
    "### Feature selection\n",
    "1. Had to manually recreate the pipeline for this"
   ]
  },
  {
   "cell_type": "code",
   "execution_count": 21,
   "id": "5ef998c0",
   "metadata": {},
   "outputs": [],
   "source": [
    "# X = X_train.copy()\n",
    "# y = y_train.copy()"
   ]
  },
  {
   "cell_type": "code",
   "execution_count": 22,
   "id": "77df39b6",
   "metadata": {},
   "outputs": [],
   "source": [
    "# cc = ColumnConverter()\n",
    "# X = cc.fit_transform(X)\n",
    "# coe = custom_oe()\n",
    "# X = coe.fit_transform(X)\n",
    "# si1 = SimpleImputer(strategy='median')\n",
    "# X[num_feats]= si1.fit_transform(X[num_feats])\n",
    "# si2 = SimpleImputer(strategy='constant', fill_value='unknown')\n",
    "# X[cat_features] = si2.fit_transform(X[cat_features])\n",
    "# catenc = ce.OneHotEncoder(handle_unknown='ignore', cols=cat_features, use_cat_names=True)\n",
    "# X = catenc.fit_transform(X)"
   ]
  },
  {
   "cell_type": "code",
   "execution_count": 23,
   "id": "0332b7de",
   "metadata": {},
   "outputs": [],
   "source": [
    "# clf = RandomForestClassifier(max_depth=10,\n",
    "#                              class_weight=\"balanced\",\n",
    "#                              random_state=42, n_jobs=-1,\n",
    "#                              n_estimators = 1000,\n",
    "#                              criterion = 'gini',\n",
    "#                              max_features = 'auto',\n",
    "#                              bootstrap = False)\n",
    "# clf.fit(X, y)"
   ]
  },
  {
   "cell_type": "code",
   "execution_count": 24,
   "id": "f7719c54",
   "metadata": {},
   "outputs": [],
   "source": [
    "# feature_importances = clf.feature_importances_"
   ]
  },
  {
   "cell_type": "code",
   "execution_count": 25,
   "id": "c080b5b3",
   "metadata": {},
   "outputs": [],
   "source": [
    "# plt.rcParams[\"figure.figsize\"] = [4, 30]"
   ]
  },
  {
   "cell_type": "code",
   "execution_count": 26,
   "id": "c85ef408",
   "metadata": {},
   "outputs": [],
   "source": [
    "# pd.Series(clf.feature_importances_, index=X.columns).plot.barh(title='feature importances');\n",
    "\n",
    "# plt.title('Random Forest feature importances')\n",
    "# plt.xlabel('Importance');\n",
    "# plt.ylabel('Feature');"
   ]
  },
  {
   "cell_type": "markdown",
   "id": "bec883f4",
   "metadata": {},
   "source": [
    "### Gridsearch\n",
    "1. Had to manually recreate the pipeline for this"
   ]
  },
  {
   "cell_type": "code",
   "execution_count": 27,
   "id": "8a4f96b0",
   "metadata": {},
   "outputs": [],
   "source": [
    "X = X_train.copy()\n",
    "y = y_train.copy()"
   ]
  },
  {
   "cell_type": "code",
   "execution_count": 28,
   "id": "e6fbd64f",
   "metadata": {},
   "outputs": [],
   "source": [
    "parameters = {\n",
    "    'max_depth': [2, 5, 10],\n",
    "    'max_features': ['auto', 'log2'],\n",
    "    'class_weight': [\"balanced\"],\n",
    "    'n_estimators': [10, 100, 1000],\n",
    "    'criterion': ['gini', 'entropy'],\n",
    "    'bootstrap': [True, False],\n",
    "    'min_samples_split': [2, 5, 10]\n",
    "             }"
   ]
  },
  {
   "cell_type": "code",
   "execution_count": 29,
   "id": "e6984f09",
   "metadata": {},
   "outputs": [],
   "source": [
    "grid_search_pipeline = make_pipeline(\n",
    "    ColumnConverter(), #Does quick clean up, assigns datatypes and categories\n",
    "    custom_oe(), #Handles encoding of ordinal variable\n",
    "    SelectColumns(cols=selected_features),\n",
    "    preprocessor, #uses preprocessor defined above\n",
    "    GridSearchCV(RandomForestClassifier(random_state=42, n_jobs=-1),\n",
    "                           parameters,\n",
    "                           cv=5,\n",
    "                           scoring=\"f1\",\n",
    "                           return_train_score=True))\n"
   ]
  },
  {
   "cell_type": "code",
   "execution_count": 30,
   "id": "d22ad749",
   "metadata": {},
   "outputs": [],
   "source": [
    "# %%timeit -n 1 -r 1\n",
    "# grid_search_pipeline.fit(X_train, y_train)\n",
    "# grid_search_pipeline.named_steps.gridsearchcv\n",
    "# grid_search_pipeline.named_steps.gridsearchcv.best_params_"
   ]
  },
  {
   "cell_type": "markdown",
   "id": "f7804866",
   "metadata": {},
   "source": [
    "# Random Forest"
   ]
  },
  {
   "cell_type": "code",
   "execution_count": 31,
   "id": "2f15fa1c",
   "metadata": {},
   "outputs": [
    {
     "name": "stdout",
     "output_type": "stream",
     "text": [
      "f1 score: 0.28563982277821215\n",
      "recall score: 0.631336405529954\n",
      "precision score: 0.18457393061636915\n",
      "discrimination results:\n"
     ]
    }
   ],
   "source": [
    "pipeline = make_pipeline(\n",
    "    ColumnConverter(), #Does quick clean up, assigns datatypes and categories\n",
    "    custom_oe(), #Handles encoding of ordinal variable\n",
    "    SelectColumns(cols=selected_features),\n",
    "    preprocessor, #uses preprocessor defined above\n",
    "    RandomForestClassifier(max_depth=10,\n",
    "                           class_weight=\"balanced\",\n",
    "                           random_state=42, n_jobs=-1,\n",
    "                           n_estimators = 1000,\n",
    "                           criterion = 'gini',\n",
    "                           max_features = 'auto',\n",
    "                           bootstrap = False),\n",
    ")\n",
    "pipeline.fit(X_train, y_train)\n",
    "\n",
    "y_pred = pipeline.predict(X_test)\n",
    "\n",
    "print(\"f1 score: %s\" % (f1_score(y_test, y_pred)))\n",
    "print(\"recall score: %s\" % (recall_score(y_test, y_pred)))\n",
    "print(\"precision score: %s\" % (precision_score(y_test, y_pred)))\n",
    "print(\"discrimination results:\")"
   ]
  },
  {
   "cell_type": "code",
   "execution_count": 32,
   "id": "e1204e50",
   "metadata": {},
   "outputs": [
    {
     "data": {
      "text/plain": [
       "{'medical_specialty': [{'cardiology': 0.11392405063291139,\n",
       "   'unknown': 0.191025641025641,\n",
       "   'internalmedicine': 0.14698795180722893,\n",
       "   'emergency/trauma': 0.17712177121771217,\n",
       "   'family/generalpractice': 0.22535211267605634,\n",
       "   'nephrology': 0.22058823529411764,\n",
       "   'psychiatry': 0.125,\n",
       "   'surgery-cardiovascular/thoracic': 0.0,\n",
       "   'pulmonology': 0.26666666666666666,\n",
       "   'other': 0.2222222222222222,\n",
       "   'surgery-general': 0.2111111111111111,\n",
       "   'orthopedics': 0.16216216216216217,\n",
       "   'urology': 0.1,\n",
       "   'radiologist': 0.2,\n",
       "   'orthopedics-reconstructive': 0.1388888888888889,\n",
       "   'gastroenterology': 0.2},\n",
       "  0.26666666666666666,\n",
       "  False],\n",
       " 'payer_code': [{'insured': 0.17491749174917492,\n",
       "   'unknown': 0.20423892100192678,\n",
       "   'SP': 0.1592920353982301},\n",
       "  0.044946885603696696,\n",
       "  True],\n",
       " 'gender': [{'male': 0.19147344801795063, 'female': 0.17892156862745098},\n",
       "  0.012551879390499648,\n",
       "  True],\n",
       " 'race': [{'white': 0.17792207792207793,\n",
       "   'unknown/other': 0.21428571428571427,\n",
       "   'black': 0.20194174757281552,\n",
       "   'hispanic': 0.2391304347826087,\n",
       "   'asian': 0.2857142857142857},\n",
       "  0.10779220779220777,\n",
       "  False],\n",
       " 'age': [{'40-50': 0.18518518518518517,\n",
       "   '80-90': 0.18931297709923664,\n",
       "   '70-80': 0.17063989962358847,\n",
       "   '90-100': 0.13592233009708737,\n",
       "   '60-70': 0.18780889621087316,\n",
       "   '50-60': 0.1889168765743073,\n",
       "   '30-40': 0.25555555555555554,\n",
       "   '20-30': 0.3333333333333333,\n",
       "   'unknown': 0.18055555555555555,\n",
       "   '10-20': 0.0},\n",
       "  0.3333333333333333,\n",
       "  False],\n",
       " 'admission_source_code': [{'emergency': 0.1809720785935884,\n",
       "   'referral': 0.19321533923303835,\n",
       "   'transfer': 0.19753086419753085,\n",
       "   'unknown': 0.1794871794871795},\n",
       "  0.018043684710351365,\n",
       "  True]}"
      ]
     },
     "execution_count": 32,
     "metadata": {},
     "output_type": "execute_result"
    }
   ],
   "source": [
    "# verify_no_discrimination(X_test=X_test, y_true=y_test, y_pred=y_pred, sensitive_columns = ['medical_specialty', 'payer_code','gender','race', 'age', 'admission_source_code'])\n",
    "verify_no_discrimination_2(X_test=X_test, y_true=y_test, y_pred=y_pred, sensitive_columns = ['medical_specialty', 'payer_code','gender','race', 'age', 'admission_source_code'])"
   ]
  },
  {
   "cell_type": "code",
   "execution_count": 33,
   "id": "839ac4f6",
   "metadata": {},
   "outputs": [],
   "source": [
    "plt.rcParams[\"figure.figsize\"] = [3, 3]"
   ]
  },
  {
   "cell_type": "code",
   "execution_count": 34,
   "id": "a27ac463",
   "metadata": {},
   "outputs": [
    {
     "data": {
      "image/png": "[encoded data removed]",
      "text/plain": [
       "<Figure size 216x216 with 2 Axes>"
      ]
     },
     "metadata": {
      "needs_background": "light"
     },
     "output_type": "display_data"
    }
   ],
   "source": [
    "cm = confusion_matrix(y_true=y_test, y_pred=y_pred, labels = pipeline.classes_)\n",
    "disp = ConfusionMatrixDisplay(confusion_matrix=cm, display_labels=pipeline.classes_)\n",
    "disp.plot(cmap=\"OrRd\");"
   ]
  },
  {
   "cell_type": "code",
   "execution_count": 35,
   "id": "16a39c8b",
   "metadata": {},
   "outputs": [
    {
     "data": {
      "image/png": "[encoded data removed]",
      "text/plain": [
       "<Figure size 216x216 with 1 Axes>"
      ]
     },
     "metadata": {
      "needs_background": "light"
     },
     "output_type": "display_data"
    }
   ],
   "source": [
    "fpr, tpr, thresholds = roc_curve(y_test, y_pred)\n",
    "roc_auc = auc(fpr, tpr)\n",
    "display = RocCurveDisplay(fpr=fpr, tpr=tpr, roc_auc=roc_auc, estimator_name=None)\n",
    "display.plot()\n",
    "plt.show()"
   ]
  },
  {
   "cell_type": "markdown",
   "id": "dd50ba9f",
   "metadata": {},
   "source": [
    "### Evaluation and setting threshold:\n",
    "1. The client wants at least 50% to be correct"
   ]
  },
  {
   "cell_type": "code",
   "execution_count": 36,
   "id": "73df9e9d",
   "metadata": {},
   "outputs": [
    {
     "data": {
      "image/png": "[encoded data removed]",
      "text/plain": [
       "<Figure size 288x216 with 2 Axes>"
      ]
     },
     "metadata": {
      "needs_background": "light"
     },
     "output_type": "display_data"
    }
   ],
   "source": [
    "y_pred_probas = pipeline.predict_proba(X_test)[:,1]\n",
    "precision, recall, thresholds = precision_recall_curve(y_test, y_pred_probas)\n",
    "min_index = [i for i, prec in enumerate(precision) if prec >= 0.5][0]\n",
    "threshold_rq = thresholds[min_index]\n",
    "y_pred = (y_pred_probas >= threshold_rq)\n",
    "plt.rcParams[\"figure.figsize\"] = [4, 3]\n",
    "precision, recall, thresholds = precision_recall_curve(y_test, y_pred_probas)\n",
    "precision = precision[:-1]\n",
    "recall = recall[:-1]\n",
    "fig=plt.figure()\n",
    "ax1 = plt.subplot(211)\n",
    "ax2 = plt.subplot(212)\n",
    "ax1.hlines(y=0.5,xmin=0, xmax=1, colors='red')\n",
    "ax1.plot(thresholds,precision)\n",
    "ax2.plot(thresholds,recall)\n",
    "ax1.get_shared_x_axes().join(ax1, ax2)\n",
    "ax1.set_xticklabels([])\n",
    "plt.xlabel('Threshold')\n",
    "ax1.set_title('Precision')\n",
    "ax1.axvline(x=threshold_rq, color='blue')\n",
    "ax2.set_title('Recall')\n",
    "ax2.axvline(x=threshold_rq, color='blue')\n",
    "fig.tight_layout()\n",
    "plt.show()"
   ]
  },
  {
   "cell_type": "code",
   "execution_count": 85,
   "id": "541fcd90",
   "metadata": {},
   "outputs": [
    {
     "data": {
      "image/png": "[encoded data removed]",
      "text/plain": [
       "<Figure size 288x216 with 2 Axes>"
      ]
     },
     "metadata": {
      "needs_background": "light"
     },
     "output_type": "display_data"
    }
   ],
   "source": [
    "y_pred_probas = pipeline.predict_proba(X_test)[:,1]\n",
    "precision, recall, thresholds = precision_recall_curve(y_test, y_pred_probas)\n",
    "y_pred = (y_pred_probas >= threshold_rq)\n",
    "plt.rcParams[\"figure.figsize\"] = [4, 3]\n",
    "precision, recall, thresholds = precision_recall_curve(y_test, y_pred_probas)\n",
    "precision = precision[:-1]\n",
    "recall = recall[:-1]\n",
    "fig=plt.figure()\n",
    "ax1 = plt.subplot(211)\n",
    "ax2 = plt.subplot(212)\n",
    "ax1.plot(thresholds,precision*100)\n",
    "ax2.plot(thresholds,recall*100)\n",
    "ax1.get_shared_x_axes().join(ax1, ax2)\n",
    "ax1.set_xticklabels([])\n",
    "plt.xlabel('Threshold')\n",
    "ax1.set_title('Precision (%)')\n",
    "ax1.axvline(x=0.5, color='blue', linestyle=\"--\", linewidth=1)\n",
    "ax1.axvline(x=threshold_rq, color='green', linestyle=\"--\", linewidth=1)\n",
    "ax2.set_title('Recall (%)')\n",
    "ax2.axvline(x=0.5, color='blue', linestyle=\"--\", linewidth=1)\n",
    "ax2.axvline(x=threshold_rq, color='green', linestyle=\"--\", linewidth=1)\n",
    "ax1.hlines(y=50,xmin=0.2, xmax=0.8, colors='purple', linestyle=\"--\", linewidth=1)\n",
    "fig.tight_layout()\n",
    "plt.show()"
   ]
  },
  {
   "cell_type": "code",
   "execution_count": 51,
   "id": "46411551",
   "metadata": {},
   "outputs": [
    {
     "data": {
      "image/png": "[encoded data removed]",
      "text/plain": [
       "<Figure size 288x216 with 1 Axes>"
      ]
     },
     "metadata": {
      "needs_background": "light"
     },
     "output_type": "display_data"
    }
   ],
   "source": [
    "plt.plot(precision, recall);"
   ]
  },
  {
   "cell_type": "code",
   "execution_count": 38,
   "id": "d5fa325a",
   "metadata": {},
   "outputs": [
    {
     "name": "stdout",
     "output_type": "stream",
     "text": [
      "f1 score: 0.03125\n",
      "recall score: 0.016129032258064516\n",
      "precision score: 0.5\n",
      "discrimination results:\n"
     ]
    }
   ],
   "source": [
    "print(\"f1 score: %s\" % (f1_score(y_test, y_pred)))\n",
    "print(\"recall score: %s\" % (recall_score(y_test, y_pred)))\n",
    "print(\"precision score: %s\" % (precision_score(y_test, y_pred)))\n",
    "print(\"discrimination results:\")"
   ]
  },
  {
   "cell_type": "code",
   "execution_count": 39,
   "id": "dbb41229",
   "metadata": {},
   "outputs": [
    {
     "data": {
      "text/plain": [
       "0.6736832090192096"
      ]
     },
     "execution_count": 39,
     "metadata": {},
     "output_type": "execute_result"
    }
   ],
   "source": [
    "threshold_rq"
   ]
  },
  {
   "cell_type": "code",
   "execution_count": 40,
   "id": "462ce33b",
   "metadata": {},
   "outputs": [
    {
     "data": {
      "image/png": "[encoded data removed]",
      "text/plain": [
       "<Figure size 288x216 with 2 Axes>"
      ]
     },
     "metadata": {
      "needs_background": "light"
     },
     "output_type": "display_data"
    }
   ],
   "source": [
    "cm = confusion_matrix(y_true=y_test, y_pred=y_pred, labels = pipeline.classes_)\n",
    "disp = ConfusionMatrixDisplay(confusion_matrix=cm, display_labels=pipeline.classes_)\n",
    "disp.plot(cmap=\"OrRd\");"
   ]
  },
  {
   "cell_type": "code",
   "execution_count": 41,
   "id": "c6328f8a",
   "metadata": {},
   "outputs": [
    {
     "data": {
      "image/png": "[encoded data removed]",
      "text/plain": [
       "<Figure size 288x216 with 1 Axes>"
      ]
     },
     "metadata": {
      "needs_background": "light"
     },
     "output_type": "display_data"
    }
   ],
   "source": [
    "fpr, tpr, thresholds = roc_curve(y_test, y_pred)\n",
    "roc_auc = auc(fpr, tpr)\n",
    "display = RocCurveDisplay(fpr=fpr, tpr=tpr, roc_auc=roc_auc, estimator_name=None)\n",
    "display.plot()\n",
    "plt.show()"
   ]
  },
  {
   "cell_type": "code",
   "execution_count": 42,
   "id": "1f679283",
   "metadata": {},
   "outputs": [
    {
     "ename": "NameError",
     "evalue": "name 'Notimplemented' is not defined",
     "output_type": "error",
     "traceback": [
      "\u001b[0;31m---------------------------------------------------------------------------\u001b[0m",
      "\u001b[0;31mNameError\u001b[0m                                 Traceback (most recent call last)",
      "\u001b[0;32m<ipython-input-42-ce2a56bc5027>\u001b[0m in \u001b[0;36m<module>\u001b[0;34m\u001b[0m\n\u001b[0;32m----> 1\u001b[0;31m \u001b[0;32mraise\u001b[0m \u001b[0mNotimplemented\u001b[0m\u001b[0;34m\u001b[0m\u001b[0;34m\u001b[0m\u001b[0m\n\u001b[0m",
      "\u001b[0;31mNameError\u001b[0m: name 'Notimplemented' is not defined"
     ]
    }
   ],
   "source": [
    "raise Notimplemented"
   ]
  },
  {
   "cell_type": "markdown",
   "id": "07bd1db1",
   "metadata": {},
   "source": [
    "# Trying to optimize"
   ]
  },
  {
   "cell_type": "code",
   "execution_count": 86,
   "id": "3e2f0ea7",
   "metadata": {},
   "outputs": [
    {
     "name": "stdout",
     "output_type": "stream",
     "text": [
      "Best Threshold=0.497078, G-Mean=0.652\n"
     ]
    },
    {
     "data": {
      "image/png": "[encoded data removed]",
      "text/plain": [
       "<Figure size 288x216 with 1 Axes>"
      ]
     },
     "metadata": {
      "needs_background": "light"
     },
     "output_type": "display_data"
    }
   ],
   "source": [
    "y_pred_probas\n",
    "# calculate roc curves\n",
    "fpr, tpr, thresholds = roc_curve(y_test, y_pred_probas)\n",
    "# calculate the g-mean for each threshold\n",
    "gmeans = np.sqrt(tpr * (1-fpr))\n",
    "# locate the index of the largest g-mean\n",
    "ix = np.argmax(gmeans)\n",
    "print('Best Threshold=%f, G-Mean=%.3f' % (thresholds[ix], gmeans[ix]))\n",
    "# plot the roc curve for the model\n",
    "plt.axvline(x=fpr[ix], color='blue')\n",
    "plt.axhline(y=tpr[ix], color='blue')\n",
    "plt.plot(fpr, tpr, marker='.', label='Model', markersize=0.5)\n",
    "# axis labels\n",
    "plt.xlabel('False Positive Rate')\n",
    "plt.ylabel('True Positive Rate')\n",
    "plt.legend();"
   ]
  },
  {
   "cell_type": "code",
   "execution_count": 53,
   "id": "58e0f88e",
   "metadata": {},
   "outputs": [
    {
     "data": {
      "text/plain": [
       "0.49707825560208574"
      ]
     },
     "execution_count": 53,
     "metadata": {},
     "output_type": "execute_result"
    }
   ],
   "source": [
    "thresholds[ix]"
   ]
  },
  {
   "cell_type": "code",
   "execution_count": 54,
   "id": "4549319f",
   "metadata": {},
   "outputs": [
    {
     "name": "stdout",
     "output_type": "stream",
     "text": [
      "f1 score: 0.28629856850715746\n",
      "recall score: 0.6451612903225806\n",
      "precision score: 0.18396846254927726\n",
      "discrimination results:\n"
     ]
    }
   ],
   "source": [
    "y_pred = (y_pred_probas >= thresholds[ix])\n",
    "print(\"f1 score: %s\" % (f1_score(y_test, y_pred)))\n",
    "print(\"recall score: %s\" % (recall_score(y_test, y_pred)))\n",
    "print(\"precision score: %s\" % (precision_score(y_test, y_pred)))\n",
    "print(\"discrimination results:\")"
   ]
  },
  {
   "cell_type": "code",
   "execution_count": 55,
   "id": "f06c380b",
   "metadata": {},
   "outputs": [
    {
     "data": {
      "image/png": "[encoded data removed]",
      "text/plain": [
       "<Figure size 288x216 with 2 Axes>"
      ]
     },
     "metadata": {
      "needs_background": "light"
     },
     "output_type": "display_data"
    }
   ],
   "source": [
    "cm = confusion_matrix(y_true=y_test, y_pred=y_pred, labels = pipeline.classes_)\n",
    "disp = ConfusionMatrixDisplay(confusion_matrix=cm, display_labels=pipeline.classes_)\n",
    "disp.plot(cmap=\"OrRd\");"
   ]
  },
  {
   "cell_type": "code",
   "execution_count": 56,
   "id": "52c83954",
   "metadata": {},
   "outputs": [
    {
     "name": "stdout",
     "output_type": "stream",
     "text": [
      "Best Threshold=1.000000, F-Score=0.286\n"
     ]
    },
    {
     "data": {
      "image/png": "[encoded data removed]",
      "text/plain": [
       "<Figure size 288x216 with 1 Axes>"
      ]
     },
     "metadata": {
      "needs_background": "light"
     },
     "output_type": "display_data"
    }
   ],
   "source": [
    "y_pred = (y_pred_probas >= 0.5)\n",
    "precision, recall, thresholds = precision_recall_curve(y_test, y_pred)\n",
    "# convert to f score\n",
    "fscore = (2 * precision * recall) / (precision + recall)\n",
    "# locate the index of the largest f score\n",
    "ix = np.argmax(fscore)\n",
    "print('Best Threshold=%f, F-Score=%.3f' % (thresholds[ix], fscore[ix]))\n",
    "plt.plot(recall, precision, marker='.', label='Logistic')\n",
    "plt.scatter(recall[ix], precision[ix], marker='o', color='black', label='Best')\n",
    "# axis labels\n",
    "plt.xlabel('Recall')\n",
    "plt.ylabel('Precision')\n",
    "plt.legend();"
   ]
  },
  {
   "cell_type": "markdown",
   "id": "7414156a",
   "metadata": {},
   "source": [
    "# Output files (pickling)"
   ]
  },
  {
   "cell_type": "code",
   "execution_count": null,
   "id": "ccdc6411",
   "metadata": {},
   "outputs": [],
   "source": [
    "TMP_DIR = '/tmp'\n",
    "with open(os.path.join(TMP_DIR, \"columns.json\"), 'w') as fh:\n",
    "    json.dump(X_train.columns.tolist(), fh)\n",
    "\n",
    "with open(os.path.join(TMP_DIR, \"dtypes.pickle\"), 'wb') as fh:\n",
    "    pickle.dump(X_train.dtypes, fh)\n",
    "    \n",
    "joblib.dump(pipeline, os.path.join(TMP_DIR, 'pipeline.pickle')) "
   ]
  },
  {
   "cell_type": "markdown",
   "id": "d17b4ee7",
   "metadata": {},
   "source": [
    "# Alternative using additional custom transformers\n",
    "1. These transformers were very sensitive and kept breaking\n",
    "1. Somehow this also worsened the resul (even though it followed the same methodology?)"
   ]
  },
  {
   "cell_type": "code",
   "execution_count": null,
   "id": "a9f3f62d",
   "metadata": {},
   "outputs": [],
   "source": [
    "# selected_features = ['time_in_hospital', \n",
    "#                      'num_lab_procedures',\n",
    "#                      'num_procedures',\n",
    "#                      'num_medications',\n",
    "#                      'number_outpatient',\n",
    "#                      'number_emergency',\n",
    "#                      'number_inpatient',\n",
    "#                      'number_diagnoses',\n",
    "#                      'hemoglobin_level',\n",
    "                     \n",
    "#                      'has_prosthesis',\n",
    "#                      'blood_transfusion',\n",
    "#                      'diuretics',\n",
    "#                      'insulin',\n",
    "#                      'change',\n",
    "#                      'diabetesMed',\n",
    "                     \n",
    "#                       'race',\n",
    "#                       'gender',\n",
    "#                       'admission_type_code', \n",
    "#                       'discharge_disposition_code',\n",
    "#                       'admission_source_code', \n",
    "#                       'payer_code',\n",
    "#                       'medical_specialty',\n",
    "#                       'complete_vaccination_status',\n",
    "#                       'blood_type',\n",
    "#                       'diag_1',\n",
    "#                       'diag_2',\n",
    "#                       'diag_3',\n",
    "                     \n",
    "#                      'max_glu_serum',\n",
    "#                      'A1Cresult',\n",
    "#                      'age',\n",
    "#                      'weight']"
   ]
  },
  {
   "cell_type": "code",
   "execution_count": null,
   "id": "5ad7bc28",
   "metadata": {},
   "outputs": [],
   "source": [
    "# pipeline = make_pipeline(\n",
    "#     ColumnConverter(), #Does quick clean up, assigns datatypes and categories\n",
    "#     custom_oe(), #Handles encoding of ordinal variables\n",
    "#     custom_impute_scale(), #potential problem\n",
    "#     SelectColumns(cols=selected_features),\n",
    "#     custom_one_hot(), #one hot encoding for categories\n",
    "#     RandomForestClassifier(max_depth=10,\n",
    "#                            class_weight=\"balanced\",\n",
    "#                            random_state=42, n_jobs=-1,\n",
    "#                            n_estimators = 10,\n",
    "#                            criterion = 'gini',\n",
    "#                            max_features = 'auto',\n",
    "#                            bootstrap = False),\n",
    "# )\n",
    "# pipeline.fit(X_train, y_train)\n",
    "\n",
    "# y_pred = pipeline.predict(X_test)\n",
    "\n",
    "# print(\"f1 score: %s\" % (f1_score(y_test, y_pred)))\n",
    "# print(\"recall score: %s\" % (recall_score(y_test, y_pred)))\n",
    "# print(\"precision score: %s\" % (precision_score(y_test, y_pred)))\n",
    "# print(\"discrimination results:\")"
   ]
  },
  {
   "cell_type": "markdown",
   "id": "16786f55",
   "metadata": {},
   "source": [
    "# Testing for the server"
   ]
  },
  {
   "cell_type": "code",
   "execution_count": null,
   "id": "64339b14",
   "metadata": {},
   "outputs": [],
   "source": [
    "# pipeline.predict(X_test.head(2))"
   ]
  },
  {
   "cell_type": "code",
   "execution_count": null,
   "id": "29760356",
   "metadata": {},
   "outputs": [],
   "source": [
    "# t_pred_dict = X_test.iloc[0].to_dict()\n",
    "# t_pred_dict['admission_id'] = X_test.index.tolist()[0]\n",
    "# t_pred_dict"
   ]
  },
  {
   "cell_type": "code",
   "execution_count": null,
   "id": "44e3fd80",
   "metadata": {},
   "outputs": [],
   "source": [
    "# f_pred_dict = X_test.iloc[1].to_dict()\n",
    "# f_pred_dict['admission_id'] = X_test.index.tolist()[1]\n",
    "# f_pred_dict"
   ]
  },
  {
   "cell_type": "markdown",
   "id": "cd04df86",
   "metadata": {},
   "source": [
    "#### This one works local"
   ]
  },
  {
   "cell_type": "markdown",
   "id": "e07c86bc",
   "metadata": {},
   "source": [
    "~ > curl -X POST http://localhost:5000/predict -d '{\n",
    "\t\"patient_id\": 169800930,\n",
    "\t\"race\": \"Caucasian\",\n",
    "\t\"gender\": \"Male\",\n",
    "\t\"age\": \"[60-70)\",\n",
    "\t\"weight\": \"[100-125)\",\n",
    "\t\"admission_type_code\": null,\n",
    "\t\"discharge_disposition_code\": 6.0,\n",
    "\t\"admission_source_code\": 1,\n",
    "\t\"time_in_hospital\": \"2\",\n",
    "\t\"payer_code\": \"?\",\n",
    "\t\"medical_specialty\": \"Surgery-General\",\n",
    "\t\"has_prosthesis\": true,\n",
    "\t\"complete_vaccination_status\": \"Complete\",\n",
    "\t\"num_lab_procedures\": 14.0,\n",
    "\t\"num_procedures\": 1,\n",
    "\t\"num_medications\": null,\n",
    "\t\"number_outpatient\": 0,\n",
    "\t\"number_emergency\": 0,\n",
    "\t\"number_inpatient\": 0,\n",
    "\t\"diag_1\": \"715\",\n",
    "\t\"diag_2\": \"733\",\n",
    "\t\"diag_3\": \"250\",\n",
    "\t\"number_diagnoses\": 5,\n",
    "\t\"blood_type\": \"B+\",\n",
    "\t\"hemoglobin_level\": 13.2,\n",
    "\t\"blood_transfusion\": true,\n",
    "\t\"max_glu_serum\": \"None\",\n",
    "\t\"A1Cresult\": \"None\",\n",
    "\t\"diuretics\": \"No\",\n",
    "\t\"insulin\": \"No\",\n",
    "\t\"change\": \"No\",\n",
    "\t\"diabetesMed\": \"Yes\",\n",
    "\t\"admission_id\": 58776\n",
    "}' -H \"Content-Type:application/json\""
   ]
  },
  {
   "cell_type": "markdown",
   "id": "55bce960",
   "metadata": {},
   "source": [
    "##### From the testing rounds"
   ]
  },
  {
   "cell_type": "markdown",
   "id": "237a2c46",
   "metadata": {},
   "source": [
    "~ > curl -X POST http://localhost:5000/predict -d '{\"index\": 20020, \"admission_id\": 92775, \"patient_id\": 107572680, \"race\": \"Caucasian\", \"gender\": \"Female\", \"age\": \"[40-50)\", \"weight\": \"?\", \"admission_type_code\": NaN, \"discharge_disposition_code\": 1.0, \"admission_source_code\": 1, \"time_in_hospital\": 2, \"payer_code\": \"CP\", \"medical_specialty\": \"InternalMedicine\", \"has_prosthesis\": false, \"complete_vaccination_status\": \"Complete\", \"num_lab_procedures\": 61.0, \"num_procedures\": 0, \"num_medications\": 17.0, \"number_outpatient\": 0, \"number_emergency\": 0, \"number_inpatient\": 1, \"diag_1\": \"250.03\", \"diag_2\": \"276\", \"diag_3\": \"401\", \"number_diagnoses\": 8.0, \"blood_type\": \"B-\", \"hemoglobin_level\": 13.2, \"blood_transfusion\": false, \"max_glu_serum\": \"None\", \"A1Cresult\": \"None\", \"diuretics\": \"No\", \"insulin\": \"No\", \"change\": \"No\", \"diabetesMed\": \"No\"}' -H \"Content-Type:application/json\""
   ]
  },
  {
   "cell_type": "markdown",
   "id": "33e14a8d",
   "metadata": {},
   "source": [
    "~ > curl -X POST http://localhost:5000/update -d '{ \"readmitted\": \"No\", \"admission_id\": 58776 }' -H \"Content-Type:application/json\""
   ]
  },
  {
   "cell_type": "markdown",
   "id": "10acd43b",
   "metadata": {},
   "source": [
    "#### This should work online"
   ]
  },
  {
   "cell_type": "markdown",
   "id": "1799ae6d",
   "metadata": {},
   "source": [
    "curl -X POST https://app-nb-3.herokuapp.com/predict -d '{ \"patient_id\": 169800930, \"race\": \"Caucasian\", \"gender\": \"Male\", \"age\": \"[60-70)\", \"weight\": \"[100-125)\", \"admission_type_code\": null, \"discharge_disposition_code\": 6.0, \"admission_source_code\": 1, \"time_in_hospital\": \"2\", \"payer_code\": \"?\", \"medical_specialty\": \"Surgery-General\", \"has_prosthesis\": true, \"complete_vaccination_status\": \"Complete\", \"num_lab_procedures\": 14.0, \"num_procedures\": 1, \"num_medications\": null, \"number_outpatient\": 0, \"number_emergency\": 0, \"number_inpatient\": 0, \"diag_1\": \"715\", \"diag_2\": \"733\", \"diag_3\": \"250\", \"number_diagnoses\": 5, \"blood_type\": \"B+\", \"hemoglobin_level\": 13.2, \"blood_transfusion\": true, \"max_glu_serum\": \"None\", \"A1Cresult\": \"None\", \"diuretics\": \"No\", \"insulin\": \"No\", \"change\": \"No\", \"diabetesMed\": \"Yes\", \"admission_id\": 58776 }' -H \"Content-Type:application/json\"\n",
    "\n",
    "\n",
    "\n",
    "\n"
   ]
  },
  {
   "cell_type": "markdown",
   "id": "2ac34cb8",
   "metadata": {},
   "source": [
    "curl -X POST https://app-nb-3.herokuapp.com/update -d '{ \"readmitted\": \"No\", \"admission_id\": 58776 }' -H \"Content-Type:application/json\""
   ]
  },
  {
   "cell_type": "markdown",
   "id": "0cfcdf84",
   "metadata": {},
   "source": [
    "# Analysis after moment 1"
   ]
  },
  {
   "cell_type": "markdown",
   "id": "2bb64f19",
   "metadata": {},
   "source": [
    "# Loading data"
   ]
  },
  {
   "cell_type": "code",
   "execution_count": 57,
   "id": "54717f70",
   "metadata": {},
   "outputs": [],
   "source": [
    "def load_moment_1():\n",
    "    data = pd.read_csv(os.path.join(\"data\", \"moment_1_requests.csv\")).set_index('admission_id')\n",
    "    moment_1 = (data.observation.apply(json.loads)\n",
    "            .apply(pd.Series)\n",
    "            .drop('index', axis=1)\n",
    "            .drop('admission_id', axis=1))\n",
    "    moment_1['predicted_readmitted'] = data['predicted_readmitted']\n",
    "    moment_1['actual_readmitted'] = data['actual_readmitted']\n",
    "    moment_1 = moment_1.drop(index=moment_1.index[0], axis=0)\n",
    "    return moment_1"
   ]
  },
  {
   "cell_type": "code",
   "execution_count": 58,
   "id": "acd5fd2f",
   "metadata": {},
   "outputs": [
    {
     "data": {
      "text/html": [
       "<div>\n",
       "<style scoped>\n",
       "    .dataframe tbody tr th:only-of-type {\n",
       "        vertical-align: middle;\n",
       "    }\n",
       "\n",
       "    .dataframe tbody tr th {\n",
       "        vertical-align: top;\n",
       "    }\n",
       "\n",
       "    .dataframe thead th {\n",
       "        text-align: right;\n",
       "    }\n",
       "</style>\n",
       "<table border=\"1\" class=\"dataframe\">\n",
       "  <thead>\n",
       "    <tr style=\"text-align: right;\">\n",
       "      <th></th>\n",
       "      <th>patient_id</th>\n",
       "      <th>race</th>\n",
       "      <th>gender</th>\n",
       "      <th>age</th>\n",
       "      <th>weight</th>\n",
       "      <th>admission_type_code</th>\n",
       "      <th>discharge_disposition_code</th>\n",
       "      <th>admission_source_code</th>\n",
       "      <th>time_in_hospital</th>\n",
       "      <th>payer_code</th>\n",
       "      <th>...</th>\n",
       "      <th>hemoglobin_level</th>\n",
       "      <th>blood_transfusion</th>\n",
       "      <th>max_glu_serum</th>\n",
       "      <th>A1Cresult</th>\n",
       "      <th>diuretics</th>\n",
       "      <th>insulin</th>\n",
       "      <th>change</th>\n",
       "      <th>diabetesMed</th>\n",
       "      <th>predicted_readmitted</th>\n",
       "      <th>actual_readmitted</th>\n",
       "    </tr>\n",
       "    <tr>\n",
       "      <th>admission_id</th>\n",
       "      <th></th>\n",
       "      <th></th>\n",
       "      <th></th>\n",
       "      <th></th>\n",
       "      <th></th>\n",
       "      <th></th>\n",
       "      <th></th>\n",
       "      <th></th>\n",
       "      <th></th>\n",
       "      <th></th>\n",
       "      <th></th>\n",
       "      <th></th>\n",
       "      <th></th>\n",
       "      <th></th>\n",
       "      <th></th>\n",
       "      <th></th>\n",
       "      <th></th>\n",
       "      <th></th>\n",
       "      <th></th>\n",
       "      <th></th>\n",
       "      <th></th>\n",
       "    </tr>\n",
       "  </thead>\n",
       "  <tbody>\n",
       "    <tr>\n",
       "      <th>97265</th>\n",
       "      <td>215370.0</td>\n",
       "      <td>AfricanAmerican</td>\n",
       "      <td>Female</td>\n",
       "      <td>NaN</td>\n",
       "      <td>?</td>\n",
       "      <td>1.0</td>\n",
       "      <td>1.0</td>\n",
       "      <td>7.0</td>\n",
       "      <td>12</td>\n",
       "      <td>?</td>\n",
       "      <td>...</td>\n",
       "      <td>12.0</td>\n",
       "      <td>False</td>\n",
       "      <td>None</td>\n",
       "      <td>None</td>\n",
       "      <td>No</td>\n",
       "      <td>Yes</td>\n",
       "      <td>Ch</td>\n",
       "      <td>Yes</td>\n",
       "      <td>False</td>\n",
       "      <td>False</td>\n",
       "    </tr>\n",
       "    <tr>\n",
       "      <th>89653</th>\n",
       "      <td>168821964.0</td>\n",
       "      <td>Caucasian</td>\n",
       "      <td>Male</td>\n",
       "      <td>[50-60)</td>\n",
       "      <td>?</td>\n",
       "      <td>3.0</td>\n",
       "      <td>1.0</td>\n",
       "      <td>1.0</td>\n",
       "      <td>1</td>\n",
       "      <td>MC</td>\n",
       "      <td>...</td>\n",
       "      <td>15.3</td>\n",
       "      <td>False</td>\n",
       "      <td>None</td>\n",
       "      <td>None</td>\n",
       "      <td>Yes</td>\n",
       "      <td>Yes</td>\n",
       "      <td>Ch</td>\n",
       "      <td>Yes</td>\n",
       "      <td>False</td>\n",
       "      <td>False</td>\n",
       "    </tr>\n",
       "    <tr>\n",
       "      <th>99518</th>\n",
       "      <td>1020438.0</td>\n",
       "      <td>African American</td>\n",
       "      <td>Male</td>\n",
       "      <td>[60-70)</td>\n",
       "      <td>?</td>\n",
       "      <td>2.0</td>\n",
       "      <td>18.0</td>\n",
       "      <td>2.0</td>\n",
       "      <td>2</td>\n",
       "      <td>?</td>\n",
       "      <td>...</td>\n",
       "      <td>14.1</td>\n",
       "      <td>False</td>\n",
       "      <td>None</td>\n",
       "      <td>None</td>\n",
       "      <td>No</td>\n",
       "      <td>Yes</td>\n",
       "      <td>No</td>\n",
       "      <td>Yes</td>\n",
       "      <td>True</td>\n",
       "      <td>False</td>\n",
       "    </tr>\n",
       "    <tr>\n",
       "      <th>89397</th>\n",
       "      <td>141934014.0</td>\n",
       "      <td>AfricanAmerican</td>\n",
       "      <td>Female</td>\n",
       "      <td>[60-70)</td>\n",
       "      <td>?</td>\n",
       "      <td>3.0</td>\n",
       "      <td>1.0</td>\n",
       "      <td>1.0</td>\n",
       "      <td>5</td>\n",
       "      <td>BC</td>\n",
       "      <td>...</td>\n",
       "      <td>13.4</td>\n",
       "      <td>False</td>\n",
       "      <td>NONE</td>\n",
       "      <td>None</td>\n",
       "      <td>No</td>\n",
       "      <td>Yes</td>\n",
       "      <td>No</td>\n",
       "      <td>Yes</td>\n",
       "      <td>False</td>\n",
       "      <td>False</td>\n",
       "    </tr>\n",
       "    <tr>\n",
       "      <th>83278</th>\n",
       "      <td>6485868.0</td>\n",
       "      <td>Hispanic</td>\n",
       "      <td>Male</td>\n",
       "      <td>[30-40)</td>\n",
       "      <td>?</td>\n",
       "      <td>1.0</td>\n",
       "      <td>3.0</td>\n",
       "      <td>7.0</td>\n",
       "      <td>14</td>\n",
       "      <td>?</td>\n",
       "      <td>...</td>\n",
       "      <td>14.6</td>\n",
       "      <td>True</td>\n",
       "      <td>None</td>\n",
       "      <td>None</td>\n",
       "      <td>No</td>\n",
       "      <td>Yes</td>\n",
       "      <td>Ch</td>\n",
       "      <td>Yes</td>\n",
       "      <td>True</td>\n",
       "      <td>False</td>\n",
       "    </tr>\n",
       "  </tbody>\n",
       "</table>\n",
       "<p>5 rows × 34 columns</p>\n",
       "</div>"
      ],
      "text/plain": [
       "               patient_id              race  gender      age weight  \\\n",
       "admission_id                                                          \n",
       "97265            215370.0   AfricanAmerican  Female      NaN      ?   \n",
       "89653         168821964.0         Caucasian    Male  [50-60)      ?   \n",
       "99518           1020438.0  African American    Male  [60-70)      ?   \n",
       "89397         141934014.0   AfricanAmerican  Female  [60-70)      ?   \n",
       "83278           6485868.0          Hispanic    Male  [30-40)      ?   \n",
       "\n",
       "              admission_type_code  discharge_disposition_code  \\\n",
       "admission_id                                                    \n",
       "97265                         1.0                         1.0   \n",
       "89653                         3.0                         1.0   \n",
       "99518                         2.0                        18.0   \n",
       "89397                         3.0                         1.0   \n",
       "83278                         1.0                         3.0   \n",
       "\n",
       "              admission_source_code time_in_hospital payer_code  ...  \\\n",
       "admission_id                                                     ...   \n",
       "97265                           7.0               12          ?  ...   \n",
       "89653                           1.0                1         MC  ...   \n",
       "99518                           2.0                2          ?  ...   \n",
       "89397                           1.0                5         BC  ...   \n",
       "83278                           7.0               14          ?  ...   \n",
       "\n",
       "             hemoglobin_level blood_transfusion max_glu_serum  A1Cresult  \\\n",
       "admission_id                                                               \n",
       "97265                    12.0             False          None       None   \n",
       "89653                    15.3             False          None       None   \n",
       "99518                    14.1             False          None       None   \n",
       "89397                    13.4             False          NONE       None   \n",
       "83278                    14.6              True          None       None   \n",
       "\n",
       "              diuretics  insulin  change  diabetesMed  predicted_readmitted  \\\n",
       "admission_id                                                                  \n",
       "97265                No      Yes      Ch          Yes                 False   \n",
       "89653               Yes      Yes      Ch          Yes                 False   \n",
       "99518                No      Yes      No          Yes                  True   \n",
       "89397                No      Yes      No          Yes                 False   \n",
       "83278                No      Yes      Ch          Yes                  True   \n",
       "\n",
       "             actual_readmitted  \n",
       "admission_id                    \n",
       "97265                    False  \n",
       "89653                    False  \n",
       "99518                    False  \n",
       "89397                    False  \n",
       "83278                    False  \n",
       "\n",
       "[5 rows x 34 columns]"
      ]
     },
     "execution_count": 58,
     "metadata": {},
     "output_type": "execute_result"
    }
   ],
   "source": [
    "moment_1 = load_moment_1()\n",
    "moment_1 = build_target(moment_1, 'predicted_readmitted')\n",
    "moment_1 = build_target(moment_1, 'actual_readmitted')\n",
    "moment_1.head()"
   ]
  },
  {
   "cell_type": "code",
   "execution_count": null,
   "id": "51130fe2",
   "metadata": {},
   "outputs": [],
   "source": [
    "moment_1.shape"
   ]
  },
  {
   "cell_type": "markdown",
   "id": "74a2fca1",
   "metadata": {},
   "source": [
    "# Looking at model performance after moment 1"
   ]
  },
  {
   "cell_type": "code",
   "execution_count": 59,
   "id": "a4f92ec0",
   "metadata": {},
   "outputs": [
    {
     "data": {
      "text/plain": [
       "False    6174\n",
       "True     3493\n",
       "Name: predicted_readmitted, dtype: int64"
      ]
     },
     "execution_count": 59,
     "metadata": {},
     "output_type": "execute_result"
    },
    {
     "data": {
      "image/png": "[encoded data removed]",
      "text/plain": [
       "<Figure size 216x216 with 1 Axes>"
      ]
     },
     "metadata": {
      "needs_background": "light"
     },
     "output_type": "display_data"
    }
   ],
   "source": [
    "plt.rcParams[\"figure.figsize\"] = [3, 3]\n",
    "moment_1['predicted_readmitted'].value_counts().plot(kind='bar', title='Count (Predicted Readmitted)');\n",
    "moment_1['predicted_readmitted'].value_counts()"
   ]
  },
  {
   "cell_type": "code",
   "execution_count": 60,
   "id": "f5fca7ac",
   "metadata": {},
   "outputs": [
    {
     "data": {
      "text/plain": [
       "False    8570\n",
       "True     1097\n",
       "Name: actual_readmitted, dtype: int64"
      ]
     },
     "execution_count": 60,
     "metadata": {},
     "output_type": "execute_result"
    },
    {
     "data": {
      "image/png": "[encoded data removed]",
      "text/plain": [
       "<Figure size 216x216 with 1 Axes>"
      ]
     },
     "metadata": {
      "needs_background": "light"
     },
     "output_type": "display_data"
    }
   ],
   "source": [
    "plt.rcParams[\"figure.figsize\"] = [3, 3]\n",
    "moment_1['actual_readmitted'].value_counts().plot(kind='bar', title='Count (Actual Readmitted)');\n",
    "moment_1['actual_readmitted'].value_counts()"
   ]
  },
  {
   "cell_type": "code",
   "execution_count": 78,
   "id": "7b683667",
   "metadata": {},
   "outputs": [
    {
     "name": "stdout",
     "output_type": "stream",
     "text": [
      "f1 score: 0.2636165577342048\n",
      "recall score: 0.5515041020966271\n",
      "precision score: 0.17320354995705697\n",
      "discrimination results:\n"
     ]
    }
   ],
   "source": [
    "X_moment_1 = moment_1.drop(['predicted_readmitted', 'actual_readmitted'], axis=1)\n",
    "y_pred = moment_1['predicted_readmitted']\n",
    "y_test = moment_1['actual_readmitted']\n",
    "\n",
    "print(\"f1 score: %s\" % (f1_score(y_test, y_pred)))\n",
    "print(\"recall score: %s\" % (recall_score(y_test, y_pred)))\n",
    "print(\"precision score: %s\" % (precision_score(y_test, y_pred)))\n",
    "print(\"discrimination results:\")"
   ]
  },
  {
   "cell_type": "code",
   "execution_count": 79,
   "id": "1d233661",
   "metadata": {},
   "outputs": [
    {
     "data": {
      "text/plain": [
       "{'medical_specialty': [{'internalmedicine': 0.1987704918032787,\n",
       "   'radiologist': 0.11538461538461539,\n",
       "   'unknown': 0.16272677295217153,\n",
       "   'family/generalpractice': 0.17870722433460076,\n",
       "   'orthopedics': 0.1346153846153846,\n",
       "   'emergency/trauma': 0.17777777777777778,\n",
       "   'pulmonology': 0.16666666666666666,\n",
       "   'other': 0.12121212121212122,\n",
       "   'obstetricsandgynecology': 0.0,\n",
       "   'cardiology': 0.1346153846153846,\n",
       "   'surgery-general': 0.2604166666666667,\n",
       "   'psychiatry': 0.3076923076923077,\n",
       "   'orthopedics-reconstructive': 0.11764705882352941,\n",
       "   'surgery-cardiovascular/thoracic': 0.0,\n",
       "   'nephrology': 0.2641509433962264,\n",
       "   'urology': 0.3,\n",
       "   'gastroenterology': 0.125},\n",
       "  0.3076923076923077,\n",
       "  False],\n",
       " 'payer_code': [{'unknown': 0.18725718725718726,\n",
       "   'insured': 0.16626389560173996,\n",
       "   'SP': 0.145985401459854},\n",
       "  0.04127178579733326,\n",
       "  True],\n",
       " 'gender': [{'female': 0.17255096966683242, 'male': 0.17408906882591094},\n",
       "  0.0015380991590785154,\n",
       "  True],\n",
       " 'race': [{'black': 0.15981012658227847,\n",
       "   'white': 0.17833456153279292,\n",
       "   'hispanic': 0.1276595744680851,\n",
       "   'unknown/other': 0.12903225806451613,\n",
       "   'asian': 0.2857142857142857},\n",
       "  0.1580547112462006,\n",
       "  False],\n",
       " 'age': [{'unknown': 0.1348314606741573,\n",
       "   '50-60': 0.17688679245283018,\n",
       "   '60-70': 0.17679558011049723,\n",
       "   '30-40': 0.25,\n",
       "   '80-90': 0.14866581956797967,\n",
       "   '70-80': 0.18311291963377416,\n",
       "   '40-50': 0.1825726141078838,\n",
       "   '20-30': 0.3333333333333333,\n",
       "   '10-20': 0.1,\n",
       "   '90-100': 0.13821138211382114},\n",
       "  0.2333333333333333,\n",
       "  False],\n",
       " 'admission_source_code': [{'emergency': 0.17333333333333334,\n",
       "   'referral': 0.1895734597156398,\n",
       "   'transfer': 0.18579234972677597,\n",
       "   'unknown': 0.11683848797250859},\n",
       "  0.0727349717431312,\n",
       "  True]}"
      ]
     },
     "execution_count": 79,
     "metadata": {},
     "output_type": "execute_result"
    }
   ],
   "source": [
    "verify_no_discrimination_2(X_test=X_moment_1, y_true=y_test, y_pred=y_pred, sensitive_columns = ['medical_specialty', 'payer_code','gender','race', 'age', 'admission_source_code'])"
   ]
  },
  {
   "cell_type": "code",
   "execution_count": 80,
   "id": "9ec45d16",
   "metadata": {},
   "outputs": [
    {
     "data": {
      "image/png": "[encoded data removed]",
      "text/plain": [
       "<Figure size 288x216 with 2 Axes>"
      ]
     },
     "metadata": {
      "needs_background": "light"
     },
     "output_type": "display_data"
    }
   ],
   "source": [
    "cm = confusion_matrix(y_true=y_test, y_pred=y_pred, labels = pipeline.classes_)\n",
    "disp = ConfusionMatrixDisplay(confusion_matrix=cm, display_labels=pipeline.classes_)\n",
    "disp.plot(cmap=\"OrRd\");"
   ]
  },
  {
   "cell_type": "code",
   "execution_count": 81,
   "id": "049b0014",
   "metadata": {},
   "outputs": [
    {
     "data": {
      "image/png": "[encoded data removed]",
      "text/plain": [
       "<Figure size 288x216 with 1 Axes>"
      ]
     },
     "metadata": {
      "needs_background": "light"
     },
     "output_type": "display_data"
    }
   ],
   "source": [
    "# fpr, tpr, thresholds = roc_curve(y_test, y_pred)\n",
    "# roc_auc = auc(fpr, tpr)\n",
    "# display = RocCurveDisplay(fpr=fpr, tpr=tpr, roc_auc=roc_auc, estimator_name=None)\n",
    "# display.plot()\n",
    "# plt.show()"
   ]
  },
  {
   "cell_type": "code",
   "execution_count": 82,
   "id": "51b9842d",
   "metadata": {},
   "outputs": [
    {
     "data": {
      "image/png": "[encoded data removed]",
      "text/plain": [
       "<Figure size 288x216 with 2 Axes>"
      ]
     },
     "metadata": {
      "needs_background": "light"
     },
     "output_type": "display_data"
    }
   ],
   "source": [
    "y_pred_probas = pipeline.predict_proba(X_moment_1)[:,1]\n",
    "precision, recall, thresholds = precision_recall_curve(y_test, y_pred_probas)\n",
    "min_index = [i for i, prec in enumerate(precision) if prec >= 0.5][0]\n",
    "threshold_rq = thresholds[min_index]\n",
    "y_pred = (y_pred_probas >= threshold_rq)\n",
    "plt.rcParams[\"figure.figsize\"] = [4, 3]\n",
    "precision, recall, thresholds = precision_recall_curve(y_test, y_pred_probas)\n",
    "precision = precision[:-1]\n",
    "recall = recall[:-1]\n",
    "fig=plt.figure()\n",
    "ax1 = plt.subplot(211)\n",
    "ax2 = plt.subplot(212)\n",
    "ax1.hlines(y=0.5,xmin=0, xmax=1, colors='red')\n",
    "ax1.plot(thresholds,precision)\n",
    "ax2.plot(thresholds,recall)\n",
    "ax1.get_shared_x_axes().join(ax1, ax2)\n",
    "ax1.set_xticklabels([])\n",
    "plt.xlabel('Threshold')\n",
    "ax1.set_title('Precision')\n",
    "ax1.axvline(x=threshold_rq, color='blue')\n",
    "ax2.set_title('Recall')\n",
    "ax2.axvline(x=threshold_rq, color='blue')\n",
    "fig.tight_layout()\n",
    "plt.show()"
   ]
  },
  {
   "cell_type": "code",
   "execution_count": 83,
   "id": "fef79003",
   "metadata": {},
   "outputs": [
    {
     "name": "stdout",
     "output_type": "stream",
     "text": [
      "Best Threshold=0.750651, G-Mean=0.605\n"
     ]
    },
    {
     "data": {
      "image/png": "[encoded data removed]",
      "text/plain": [
       "<Figure size 288x216 with 1 Axes>"
      ]
     },
     "metadata": {
      "needs_background": "light"
     },
     "output_type": "display_data"
    }
   ],
   "source": [
    "y_pred_probas\n",
    "# calculate roc curves\n",
    "fpr_1, tpr_1, thresholds = roc_curve(y_test, y_pred_probas)\n",
    "# calculate the g-mean for each threshold\n",
    "gmeans = np.sqrt(tpr * (1-fpr))\n",
    "# locate the index of the largest g-mean\n",
    "ix = np.argmax(gmeans)\n",
    "print('Best Threshold=%f, G-Mean=%.3f' % (thresholds[ix], gmeans[ix]))\n"
   ]
  },
  {
   "cell_type": "code",
   "execution_count": 96,
   "id": "a506ab00",
   "metadata": {},
   "outputs": [
    {
     "data": {
      "image/png": "[encoded data removed]",
      "text/plain": [
       "<Figure size 288x216 with 1 Axes>"
      ]
     },
     "metadata": {
      "needs_background": "light"
     },
     "output_type": "display_data"
    }
   ],
   "source": [
    "# plot the roc curve for the model\n",
    "plt.plot(fpr, tpr, marker='.', label='Expected', markersize=0.5)\n",
    "plt.plot(fpr_1, tpr_1, marker='.', label='Actual', markersize=0.5, color='green')\n",
    "plt.plot([0, 1], [0, 1], linewidth=0.5)\n",
    "# axis labels\n",
    "plt.xlabel('False Positive Rate')\n",
    "plt.ylabel('True Positive Rate')\n",
    "plt.legend();"
   ]
  },
  {
   "cell_type": "code",
   "execution_count": null,
   "id": "8698a3c8",
   "metadata": {},
   "outputs": [],
   "source": [
    "cm = confusion_matrix(y_true=y_test, y_pred=y_pred, labels = pipeline.classes_)\n",
    "disp = ConfusionMatrixDisplay(confusion_matrix=cm, display_labels=pipeline.classes_)\n",
    "disp.plot(cmap=\"OrRd\");"
   ]
  },
  {
   "cell_type": "code",
   "execution_count": null,
   "id": "a14366ff",
   "metadata": {},
   "outputs": [],
   "source": [
    "# verify_no_discrimination_2(X_test=X_moment_1, y_true=y_test, y_pred=y_pred, sensitive_columns = ['medical_specialty', 'payer_code','gender','race', 'age', 'admission_source_code'])"
   ]
  },
  {
   "cell_type": "code",
   "execution_count": null,
   "id": "0f2df104",
   "metadata": {},
   "outputs": [],
   "source": [
    "y_pred_probas\n",
    "# calculate roc curves\n",
    "fpr, tpr, thresholds = roc_curve(y_test, y_pred_probas)\n",
    "# calculate the g-mean for each threshold\n",
    "gmeans = np.sqrt(tpr * (1-fpr))\n",
    "# locate the index of the largest g-mean\n",
    "ix = np.argmax(gmeans)\n",
    "print('Best Threshold=%f, G-Mean=%.3f' % (thresholds[ix], gmeans[ix]))\n",
    "# plot the roc curve for the model\n",
    "plt.axvline(x=fpr[ix], color='blue')\n",
    "plt.axhline(y=tpr[ix], color='blue')\n",
    "plt.plot(fpr, tpr, marker='.', label='Model')\n",
    "# axis labels\n",
    "plt.xlabel('False Positive Rate')\n",
    "plt.ylabel('True Positive Rate')\n",
    "plt.legend();"
   ]
  },
  {
   "cell_type": "code",
   "execution_count": null,
   "id": "411d03ef",
   "metadata": {},
   "outputs": [],
   "source": []
  }
 ],
 "metadata": {
  "kernelspec": {
   "display_name": "Python 3",
   "language": "python",
   "name": "python3"
  },
  "language_info": {
   "codemirror_mode": {
    "name": "ipython",
    "version": 3
   },
   "file_extension": ".py",
   "mimetype": "text/x-python",
   "name": "python",
   "nbconvert_exporter": "python",
   "pygments_lexer": "ipython3",
   "version": "3.7.12"
  }
 },
 "nbformat": 4,
 "nbformat_minor": 5
}
