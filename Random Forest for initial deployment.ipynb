{
 "cells": [
  {
   "cell_type": "markdown",
   "id": "a91d16f2",
   "metadata": {},
   "source": [
    "# Imports"
   ]
  },
  {
   "cell_type": "code",
   "execution_count": 1,
   "id": "7fff49fb",
   "metadata": {},
   "outputs": [],
   "source": [
    "import os\n",
    "import base64\n",
    "import joblib\n",
    "import pandas as pd\n",
    "import numpy as np\n",
    "import category_encoders as ce\n",
    "import json\n",
    "import joblib\n",
    "import pickle\n",
    "import math\n",
    "import requests\n",
    "from copy import deepcopy\n",
    "import seaborn as sns\n",
    "from uuid import uuid4\n",
    "\n",
    "from sklearn.model_selection import train_test_split\n",
    "from sklearn.pipeline import make_pipeline, Pipeline\n",
    "from sklearn.model_selection import cross_val_score, GridSearchCV\n",
    "from sklearn.impute import SimpleImputer, KNNImputer\n",
    "from sklearn.preprocessing import StandardScaler, power_transform, RobustScaler, MinMaxScaler\n",
    "from sklearn.compose import ColumnTransformer\n",
    "from sklearn.model_selection import cross_val_score, learning_curve\n",
    "from sklearn.ensemble import RandomForestClassifier, GradientBoostingClassifier, GradientBoostingRegressor\n",
    "from sklearn.tree import DecisionTreeClassifier, DecisionTreeRegressor\n",
    "from sklearn.linear_model import LogisticRegression\n",
    "from sklearn.metrics import (precision_score,\n",
    "                            recall_score,\n",
    "                            f1_score,\n",
    "                            accuracy_score,\n",
    "                            roc_auc_score,\n",
    "                            confusion_matrix,\n",
    "                            ConfusionMatrixDisplay,\n",
    "                            make_scorer,\n",
    "                            RocCurveDisplay,\n",
    "                            auc,\n",
    "                            roc_curve,\n",
    "                            precision_recall_curve)\n",
    "\n",
    "from sklearn.base import BaseEstimator, TransformerMixin\n",
    "\n",
    "from pandas_profiling import ProfileReport\n",
    "\n",
    "from sklearn.model_selection import GridSearchCV\n",
    "\n",
    "import matplotlib.pyplot as plt\n",
    "import matplotlib.image as mpimg\n",
    "plt.style.use('ggplot')\n",
    "%matplotlib inline"
   ]
  },
  {
   "cell_type": "markdown",
   "id": "6bacc6b7",
   "metadata": {},
   "source": [
    "# Custom transformer imports"
   ]
  },
  {
   "cell_type": "code",
   "execution_count": 2,
   "id": "bb32c8cf",
   "metadata": {},
   "outputs": [],
   "source": [
    "# WIP preprocessor which assigns categories and compresses some code\n",
    "from custom_transformers.preprocessor import ColumnConverter\n",
    "\n",
    "# WIP ordinal category preprocessor\n",
    "from custom_transformers.custom_ordinal_encoder import custom_oe\n",
    "\n",
    "#WIP column selector\n",
    "from custom_transformers.featureselector import SelectColumns\n",
    "\n",
    "# WIP onehot category preprocessor\n",
    "from custom_transformers.custom_onehot_encoder import custom_one_hot\n",
    "\n",
    "# WIP onehot category preprocessor\n",
    "from custom_transformers.custom_impute_scale import custom_impute_scale\n"
   ]
  },
  {
   "cell_type": "markdown",
   "id": "0da63fd8",
   "metadata": {},
   "source": [
    "# Functions"
   ]
  },
  {
   "cell_type": "code",
   "execution_count": 3,
   "id": "d4102f25",
   "metadata": {},
   "outputs": [],
   "source": [
    "def load_train_data():\n",
    "    df = pd.read_csv(os.path.join(\"data\", \"train_data.csv\"))\n",
    "    return df\n",
    "\n",
    "data_train = load_train_data()"
   ]
  },
  {
   "cell_type": "code",
   "execution_count": 4,
   "id": "c2ec538d",
   "metadata": {},
   "outputs": [],
   "source": [
    "def assign_index(df, indexcol: str):\n",
    "    _df = df.copy()\n",
    "    _df = _df.set_index(indexcol)\n",
    "    return _df"
   ]
  },
  {
   "cell_type": "code",
   "execution_count": 5,
   "id": "aaaf75ee",
   "metadata": {},
   "outputs": [],
   "source": [
    "def build_target(df, target: str):\n",
    "    _df = df.copy()\n",
    "    _df[target] = np.where(_df[target]== 'Yes', True, False)\n",
    "    return _df"
   ]
  },
  {
   "cell_type": "markdown",
   "id": "89231c2b",
   "metadata": {},
   "source": [
    "# Function to test if we satisfied requirements:"
   ]
  },
  {
   "cell_type": "markdown",
   "id": "a521ec1c",
   "metadata": {},
   "source": [
    "The first step will make a copy of the X_test and apply the custom converter for the columns - it will update the categories we are interested in (avoid duplicates etc)"
   ]
  },
  {
   "cell_type": "code",
   "execution_count": 6,
   "id": "e1b0a044",
   "metadata": {},
   "outputs": [],
   "source": [
    "def verify_no_discrimination(X_test,\n",
    "                             y_true,\n",
    "                             y_pred,\n",
    "                             sensitive_columns = [],\n",
    "                             max_diff=0.1,\n",
    "                             average='weighted'):    \n",
    "    # Use this as a template to get output:\n",
    "    #f1_scores, diff, is_satisfied  = verify_no_discrimination(X_test,\n",
    "    #                                                          y_test,\n",
    "    #                                                          y_pred,\n",
    "    #                                                          sensitive_column=['Self-defined ethnicity', 'race'] etc\n",
    "    #                                                          max_diff=0.15 )\n",
    "    #f1_scores, diff, is_satisfied\n",
    "    \n",
    "    _df = X_test.copy()\n",
    "    \n",
    "    results = {}\n",
    "    \n",
    "    cc = ColumnConverter()\n",
    "    _df = cc.fit_transform(_df)\n",
    "    \n",
    "    for column in sensitive_columns:  \n",
    "        sensitive_classes = _df[column].unique()\n",
    "        is_satisfied = True\n",
    "        f1_scores = {}\n",
    "        \n",
    "        for sensitive_class in sensitive_classes:\n",
    "            mask = (_df[column] == sensitive_class)\n",
    "            if mask.sum():\n",
    "                f1_scores[sensitive_class] = f1_score(y_true[mask],\n",
    "                                                      y_pred[mask],\n",
    "                                                      pos_label=1,\n",
    "                                                      labels=np.unique(y_pred[mask]))\n",
    "        \n",
    "        diff = np.max(list(f1_scores.values())) - np.min(list(f1_scores.values()))\n",
    "        if diff > max_diff:\n",
    "            is_satisfied = False\n",
    "        \n",
    "        results[column] = [f1_scores, diff, is_satisfied]\n",
    "    \n",
    "    return results"
   ]
  },
  {
   "cell_type": "markdown",
   "id": "84447972",
   "metadata": {},
   "source": [
    "# Loading data"
   ]
  },
  {
   "cell_type": "code",
   "execution_count": 7,
   "id": "517e7fa2",
   "metadata": {},
   "outputs": [],
   "source": [
    "target = 'readmitted'\n",
    "index_col = 'admission_id'"
   ]
  },
  {
   "cell_type": "code",
   "execution_count": 8,
   "id": "787600aa",
   "metadata": {},
   "outputs": [],
   "source": [
    "data_train = load_train_data()\n",
    "data_train = assign_index(data_train, index_col)\n",
    "data_train = build_target(data_train, target)"
   ]
  },
  {
   "cell_type": "code",
   "execution_count": 9,
   "id": "e51f32a0",
   "metadata": {},
   "outputs": [],
   "source": [
    "#List of all features (n=numerical, uc=unordered actegory, oc=ordered category, b=boolean)\n",
    "\n",
    "all_features = ['patient_id', #identifier\n",
    "                'race', #uc\n",
    "                'gender', #uc\n",
    "                'age', #oc\n",
    "                'weight', #oc               \n",
    "                'admission_type_code', #uc\n",
    "                'discharge_disposition_code', #uc\n",
    "                'admission_source_code', #uc\n",
    "                'time_in_hospital', #n\n",
    "                'payer_code', #uc\n",
    "                'medical_specialty', #uc\n",
    "                'has_prosthesis', #b\n",
    "                'complete_vaccination_status', #uc\n",
    "                'num_lab_procedures', #n\n",
    "                'num_procedures', #n\n",
    "                'num_medications', #n\n",
    "                'number_outpatient', #n\n",
    "                'number_emergency', #n\n",
    "                'number_inpatient', #n\n",
    "                'diag_1', #uc\n",
    "                'diag_2', #uc\n",
    "                'diag_3', #uc\n",
    "                'number_diagnoses', #n\n",
    "                'blood_type', #uc\n",
    "                'hemoglobin_level', #n\n",
    "                'blood_transfusion', #b\n",
    "                'max_glu_serum', #oc\n",
    "                'A1Cresult', #oc\n",
    "                'diuretics', #b\n",
    "                'insulin', #b\n",
    "                'change', #b\n",
    "                'diabetesMed'] #b]\n",
    "\n",
    "num_features = ['time_in_hospital', \n",
    "                'num_lab_procedures',\n",
    "                'num_procedures',\n",
    "                'num_medications',\n",
    "                'number_outpatient',\n",
    "                'number_emergency',\n",
    "                'number_inpatient',\n",
    "                'number_diagnoses',\n",
    "                'hemoglobin_level']\n",
    "\n",
    "bool_features = ['has_prosthesis',\n",
    "                 'blood_transfusion',\n",
    "                 'diuretics',\n",
    "                 'insulin',\n",
    "                 'change',\n",
    "                 'diabetesMed']\n",
    "\n",
    "cat_features = ['race',\n",
    "                'gender',\n",
    "                'admission_type_code', \n",
    "                'discharge_disposition_code',\n",
    "                'admission_source_code', \n",
    "                'payer_code',\n",
    "                'medical_specialty',\n",
    "                'diag_1',\n",
    "                'diag_2',\n",
    "                'diag_3',\n",
    "                'blood_type']\n",
    "\n",
    "ord_cat_features = ['age',\n",
    "                    'weight',\n",
    "                    'max_glu_serum',\n",
    "                    'A1Cresult',\n",
    "                    'complete_vaccination_status',]\n",
    "\n",
    "# missing features: date of admission and date of release"
   ]
  },
  {
   "cell_type": "markdown",
   "id": "c061244a",
   "metadata": {},
   "source": [
    "### Test train split"
   ]
  },
  {
   "cell_type": "code",
   "execution_count": 10,
   "id": "1cdd6e55",
   "metadata": {},
   "outputs": [],
   "source": [
    "# Convert target to boolean\n",
    "\n",
    "# We have a small portion kept aside because of our random undersampling approach where we lose a lot of train data \n",
    "#df_train, df_test = train_test_split(data_train, test_size=0.1, random_state=42, stratify=data_train[target])\n",
    "\n",
    "df_train, df_test = train_test_split(data_train, test_size=0.1, random_state=42, stratify=None, shuffle=False)"
   ]
  },
  {
   "cell_type": "markdown",
   "id": "2116e62d",
   "metadata": {},
   "source": [
    "### Dealing with unbalanced train data:\n",
    "1. Going to use random oversampling"
   ]
  },
  {
   "cell_type": "code",
   "execution_count": 11,
   "id": "04c375fb",
   "metadata": {},
   "outputs": [
    {
     "data": {
      "image/png": "[encoded data removed]",
      "text/plain": [
       "<Figure size 216x216 with 1 Axes>"
      ]
     },
     "metadata": {
      "needs_background": "light"
     },
     "output_type": "display_data"
    }
   ],
   "source": [
    "plt.rcParams[\"figure.figsize\"] = [3, 3]\n",
    "df_train[target].value_counts().plot(kind='bar', title='Count (readmitted)');"
   ]
  },
  {
   "cell_type": "code",
   "execution_count": 12,
   "id": "0b9ec947",
   "metadata": {},
   "outputs": [],
   "source": [
    "# get counts and split tables\n",
    "count_f, count_t = df_train[target].value_counts()\n",
    "df_f = df_train[df_train[target] == False]\n",
    "df_t = df_train[df_train[target] == True]"
   ]
  },
  {
   "cell_type": "markdown",
   "id": "7b6457c2",
   "metadata": {},
   "source": [
    "### Random oversampling of the positive (True) class"
   ]
  },
  {
   "cell_type": "code",
   "execution_count": 13,
   "id": "b87bdab1",
   "metadata": {},
   "outputs": [
    {
     "data": {
      "image/png": "[encoded data removed]",
      "text/plain": [
       "<Figure size 216x216 with 1 Axes>"
      ]
     },
     "metadata": {
      "needs_background": "light"
     },
     "output_type": "display_data"
    }
   ],
   "source": [
    "# oversampling (lots of duplication of positive classes)\n",
    "df_t_oversampled = df_t.sample(count_f, replace=True)\n",
    "df_train_oversampled = pd.concat([df_t_oversampled, df_f], axis=0)\n",
    "#sort it to maintain some kind of order\n",
    "df_train_oversampled = df_train_oversampled.sort_index()\n",
    "#plot it\n",
    "df_train_oversampled[target].value_counts().plot(kind='bar', title='Count (readmitted)');"
   ]
  },
  {
   "cell_type": "markdown",
   "id": "a361a0a9",
   "metadata": {},
   "source": [
    "### Test train split and selection"
   ]
  },
  {
   "cell_type": "code",
   "execution_count": 14,
   "id": "e8aa1b33",
   "metadata": {},
   "outputs": [],
   "source": [
    "# without random oversampling\n",
    "#X_train = df_train.drop(target, axis=1)\n",
    "#y_train = df_train[target]\n",
    "\n",
    "# with random oversampling\n",
    "X_train = df_train_oversampled.drop(target, axis=1)\n",
    "y_train = df_train_oversampled[target]\n",
    "\n",
    "#test data\n",
    "X_test = df_test.drop(target, axis=1)\n",
    "y_test = df_test[target]"
   ]
  },
  {
   "cell_type": "code",
   "execution_count": 15,
   "id": "2caf2a0d",
   "metadata": {},
   "outputs": [],
   "source": [
    "selected_features = ['time_in_hospital', \n",
    "                     'num_lab_procedures',\n",
    "                     'num_procedures',\n",
    "                     'num_medications',\n",
    "                     'number_outpatient',\n",
    "                     'number_emergency',\n",
    "                     'number_inpatient',\n",
    "                     'number_diagnoses',\n",
    "                     'hemoglobin_level',\n",
    "                     \n",
    "                     #'has_prosthesis',\n",
    "                     'blood_transfusion',\n",
    "                     #'diuretics',\n",
    "                     'insulin',\n",
    "                     'change',\n",
    "                     'diabetesMed',\n",
    "                     \n",
    "                     'race',\n",
    "                     'gender',\n",
    "                     'admission_type_code', \n",
    "                     'discharge_disposition_code',\n",
    "                     'admission_source_code', \n",
    "                     'payer_code',\n",
    "                     #'medical_specialty',\n",
    "                     #'complete_vaccination_status',\n",
    "                     'blood_type',\n",
    "                     'diag_1',\n",
    "                     'diag_2',\n",
    "                     'diag_3',\n",
    "                     \n",
    "                     'max_glu_serum',\n",
    "                     'A1Cresult',\n",
    "                     'age',\n",
    "                     #'weight'\n",
    "                    ]"
   ]
  },
  {
   "cell_type": "code",
   "execution_count": 16,
   "id": "c7365df9",
   "metadata": {},
   "outputs": [],
   "source": [
    "num_feats = [feat for feat in selected_features if feat in num_features]\n",
    "cat_feats = [feat for feat in selected_features if feat in cat_features+bool_features+ord_cat_features]\n",
    "bool_feats = [feat for feat in selected_features if feat in bool_features]\n",
    "ord_cat_feats = [feat for feat in selected_features if feat in ord_cat_features]"
   ]
  },
  {
   "cell_type": "code",
   "execution_count": 17,
   "id": "7a351b78",
   "metadata": {},
   "outputs": [],
   "source": [
    "ord_cat_features = ['age',\n",
    "                    'weight', #lots of missing or unknown values\n",
    "                    'max_glu_serum',\n",
    "                    'A1Cresult',\n",
    "                    'complete_vaccination_status',]"
   ]
  },
  {
   "cell_type": "code",
   "execution_count": 18,
   "id": "eda46ad8",
   "metadata": {},
   "outputs": [],
   "source": [
    "cat_features = ['race', #done\n",
    "                'gender', #done\n",
    "                'admission_type_code', #done \n",
    "                'discharge_disposition_code', #done\n",
    "                'admission_source_code', # done \n",
    "                'payer_code', #done (now the insurance column)\n",
    "                #'medical_specialty', #done (any specialty over 100 - lets see how bad it gets)\n",
    "                'diag_1',\n",
    "                'diag_2',\n",
    "                'diag_3',\n",
    "                'blood_type'\n",
    "               ] #dropping blood type"
   ]
  },
  {
   "cell_type": "markdown",
   "id": "0d29840f",
   "metadata": {},
   "source": [
    "1. Not using blood type\n",
    "1. Not using weight\n",
    "1. Not using diagnoses: probably linked to medical specialty\n",
    "    1. Will be added in the next version\n",
    "1. Admission source not yet included\n",
    "1. Race, gender and payer code (SP=uninsured) will not be used to model"
   ]
  },
  {
   "cell_type": "markdown",
   "id": "26d7c778",
   "metadata": {},
   "source": [
    "##### Processing Diagnoses:\n",
    "1. High cardinality (and possibly redundant information due to overlpa with the speecialty?)"
   ]
  },
  {
   "cell_type": "code",
   "execution_count": 19,
   "id": "71264f57",
   "metadata": {},
   "outputs": [],
   "source": [
    "# This needs to become a custom pipeline - and we need different scalers here\n",
    "\n",
    "numeric_transformer = Pipeline(steps=[\n",
    "    ('imputer', SimpleImputer(strategy='median')),\n",
    "    ('scaler', RobustScaler())]) #StandardScaler or MinMaxScaler\n",
    "categorical_transformer = Pipeline(steps=[\n",
    "    ('imputer', SimpleImputer(strategy='constant', fill_value='unknown')),\n",
    "    ('onehot', ce.OneHotEncoder(handle_unknown='ignore'))])\n",
    "preprocessor = ColumnTransformer(\n",
    "    transformers=[\n",
    "        ('num', numeric_transformer, num_feats),\n",
    "        ('cat', categorical_transformer, cat_features)],\n",
    "remainder=\"passthrough\",sparse_threshold=0)"
   ]
  },
  {
   "cell_type": "markdown",
   "id": "f7804866",
   "metadata": {},
   "source": [
    "# Random Forest"
   ]
  },
  {
   "cell_type": "code",
   "execution_count": 20,
   "id": "2f15fa1c",
   "metadata": {},
   "outputs": [
    {
     "name": "stdout",
     "output_type": "stream",
     "text": [
      "f1 score: 0.28387787895018746\n",
      "recall score: 0.6105990783410138\n",
      "precision score: 0.18492672714584787\n",
      "discrimination results:\n"
     ]
    }
   ],
   "source": [
    "pipeline = make_pipeline(\n",
    "    ColumnConverter(), #Does quick clean up, assigns datatypes and categories\n",
    "    custom_oe(), #Handles encoding of ordinal variable\n",
    "    SelectColumns(cols=selected_features),\n",
    "    preprocessor, #uses preprocessor defined above\n",
    "    RandomForestClassifier(max_depth=10,\n",
    "                           class_weight=\"balanced\",\n",
    "                           random_state=42, n_jobs=-1,\n",
    "                           n_estimators = 1000,\n",
    "                           criterion = 'gini',\n",
    "                           max_features = 'auto',\n",
    "                           bootstrap = False),\n",
    ")\n",
    "pipeline.fit(X_train, y_train)\n",
    "\n",
    "y_pred = pipeline.predict(X_test)\n",
    "\n",
    "print(\"f1 score: %s\" % (f1_score(y_test, y_pred)))\n",
    "print(\"recall score: %s\" % (recall_score(y_test, y_pred)))\n",
    "print(\"precision score: %s\" % (precision_score(y_test, y_pred)))\n",
    "print(\"discrimination results:\")"
   ]
  },
  {
   "cell_type": "code",
   "execution_count": 21,
   "id": "e1204e50",
   "metadata": {},
   "outputs": [
    {
     "name": "stderr",
     "output_type": "stream",
     "text": [
      "/home/yash/.virtualenvs/bootcamp/lib/python3.7/site-packages/sklearn/metrics/_classification.py:1496: UndefinedMetricWarning: F-score is ill-defined and being set to 0.0 due to no true nor predicted samples. Use `zero_division` parameter to control this behavior.\n",
      "  average, \"true nor predicted\", 'F-score is', len(true_sum)\n",
      "/home/yash/.virtualenvs/bootcamp/lib/python3.7/site-packages/sklearn/metrics/_classification.py:1496: UndefinedMetricWarning: F-score is ill-defined and being set to 0.0 due to no true nor predicted samples. Use `zero_division` parameter to control this behavior.\n",
      "  average, \"true nor predicted\", 'F-score is', len(true_sum)\n"
     ]
    },
    {
     "data": {
      "text/plain": [
       "{'medical_specialty': [{'cardiology': 0.17475728155339806,\n",
       "   'unknown': 0.29411764705882354,\n",
       "   'internalmedicine': 0.23046874999999997,\n",
       "   'surgery-vascular': 0.3636363636363636,\n",
       "   'emergency/trauma': 0.2865853658536585,\n",
       "   'family/generalpractice': 0.3333333333333333,\n",
       "   'obstetricsandgynecology': 0.0,\n",
       "   'nephrology': 0.34146341463414637,\n",
       "   'psychiatry': 0.2,\n",
       "   'pediatrics-endocrinology': 0.0,\n",
       "   'surgery-cardiovascular/thoracic': 0.0,\n",
       "   'pulmonology': 0.4210526315789473,\n",
       "   'other': 0.3157894736842105,\n",
       "   'surgery-general': 0.33333333333333337,\n",
       "   'orthopedics': 0.27272727272727276,\n",
       "   'urology': 0.1818181818181818,\n",
       "   'oncology': 0.16666666666666666,\n",
       "   'radiologist': 0.25,\n",
       "   'orthopedics-reconstructive': 0.23255813953488372,\n",
       "   'physicalmedicineandrehabilitation': 0.28571428571428575,\n",
       "   'neurology': 0.28571428571428575,\n",
       "   'gastroenterology': 0.25,\n",
       "   'surgery-neuro': 0.25,\n",
       "   'hematology/oncology': 0.2,\n",
       "   'pediatrics': 0.4444444444444444},\n",
       "  0.4444444444444444,\n",
       "  False],\n",
       " 'payer_code': [{'insured': 0.2732481269281622,\n",
       "   'unknown': 0.3033033033033033,\n",
       "   'SP': 0.2706766917293233},\n",
       "  0.03262661157398,\n",
       "  True],\n",
       " 'gender': [{'male': 0.29673590504451036,\n",
       "   'female': 0.2733040507564666,\n",
       "   'unknown': 0.0},\n",
       "  0.29673590504451036,\n",
       "  False],\n",
       " 'race': [{'white': 0.278236914600551,\n",
       "   'unknown/other': 0.3025210084033613,\n",
       "   'black': 0.30158730158730157,\n",
       "   'hispanic': 0.33898305084745767,\n",
       "   'asian': 0.2727272727272727},\n",
       "  0.06625577812018496,\n",
       "  True],\n",
       " 'age': [{'40-50': 0.2573529411764706,\n",
       "   '80-90': 0.2979242979242979,\n",
       "   '70-80': 0.2696177062374246,\n",
       "   '90-100': 0.2272727272727273,\n",
       "   '60-70': 0.28051948051948056,\n",
       "   '50-60': 0.291497975708502,\n",
       "   '30-40': 0.3893805309734514,\n",
       "   '20-30': 0.45,\n",
       "   'unknown': 0.2765957446808511,\n",
       "   '10-20': 0.0,\n",
       "   '0-10': 0.0},\n",
       "  0.45,\n",
       "  False],\n",
       " 'admission_source_code': [{'emergency': 0.28222409435551815,\n",
       "   'referral': 0.28444444444444444,\n",
       "   'transfer': 0.3152709359605912,\n",
       "   'unknown': 0.2723735408560311},\n",
       "  0.04289739510456009,\n",
       "  True]}"
      ]
     },
     "execution_count": 21,
     "metadata": {},
     "output_type": "execute_result"
    }
   ],
   "source": [
    "verify_no_discrimination(X_test=X_test, y_true=y_test, y_pred=y_pred, sensitive_columns = ['medical_specialty', 'payer_code','gender','race', 'age', 'admission_source_code'])"
   ]
  },
  {
   "cell_type": "code",
   "execution_count": 22,
   "id": "839ac4f6",
   "metadata": {},
   "outputs": [],
   "source": [
    "plt.rcParams[\"figure.figsize\"] = [3, 3]"
   ]
  },
  {
   "cell_type": "code",
   "execution_count": 23,
   "id": "a27ac463",
   "metadata": {},
   "outputs": [
    {
     "data": {
      "image/png": "[encoded data removed]",
      "text/plain": [
       "<Figure size 216x216 with 2 Axes>"
      ]
     },
     "metadata": {
      "needs_background": "light"
     },
     "output_type": "display_data"
    }
   ],
   "source": [
    "cm = confusion_matrix(y_true=y_test, y_pred=y_pred, labels = pipeline.classes_)\n",
    "disp = ConfusionMatrixDisplay(confusion_matrix=cm, display_labels=pipeline.classes_)\n",
    "disp.plot(cmap=\"OrRd\");"
   ]
  },
  {
   "cell_type": "code",
   "execution_count": 24,
   "id": "16a39c8b",
   "metadata": {},
   "outputs": [
    {
     "data": {
      "image/png": "[encoded data removed]",
      "text/plain": [
       "<Figure size 216x216 with 1 Axes>"
      ]
     },
     "metadata": {
      "needs_background": "light"
     },
     "output_type": "display_data"
    }
   ],
   "source": [
    "fpr, tpr, thresholds = roc_curve(y_test, y_pred)\n",
    "roc_auc = auc(fpr, tpr)\n",
    "display = RocCurveDisplay(fpr=fpr, tpr=tpr, roc_auc=roc_auc, estimator_name=None)\n",
    "display.plot()\n",
    "plt.show()"
   ]
  },
  {
   "cell_type": "markdown",
   "id": "dd50ba9f",
   "metadata": {},
   "source": [
    "### Evaluation and setting threshold:\n",
    "1. The client wants at least 50% to be correct"
   ]
  },
  {
   "cell_type": "code",
   "execution_count": 25,
   "id": "73df9e9d",
   "metadata": {},
   "outputs": [
    {
     "data": {
      "image/png": "[encoded data removed]",
      "text/plain": [
       "<Figure size 288x216 with 2 Axes>"
      ]
     },
     "metadata": {
      "needs_background": "light"
     },
     "output_type": "display_data"
    }
   ],
   "source": [
    "y_pred_probas = pipeline.predict_proba(X_test)[:,1]\n",
    "precision, recall, thresholds = precision_recall_curve(y_test, y_pred_probas)\n",
    "min_index = [i for i, prec in enumerate(precision) if prec >= 0.5][0]\n",
    "threshold_rq = thresholds[min_index]\n",
    "y_pred = (y_pred_probas >= threshold_rq)\n",
    "plt.rcParams[\"figure.figsize\"] = [4, 3]\n",
    "precision, recall, thresholds = precision_recall_curve(y_test, y_pred_probas)\n",
    "precision = precision[:-1]\n",
    "recall = recall[:-1]\n",
    "fig=plt.figure()\n",
    "ax1 = plt.subplot(211)\n",
    "ax2 = plt.subplot(212)\n",
    "ax1.hlines(y=0.5,xmin=0, xmax=1, colors='red')\n",
    "ax1.plot(thresholds,precision)\n",
    "ax2.plot(thresholds,recall)\n",
    "ax1.get_shared_x_axes().join(ax1, ax2)\n",
    "ax1.set_xticklabels([])\n",
    "plt.xlabel('Threshold')\n",
    "ax1.set_title('Precision')\n",
    "ax1.axvline(x=threshold_rq, color='blue')\n",
    "ax2.set_title('Recall')\n",
    "ax2.axvline(x=threshold_rq, color='blue')\n",
    "fig.tight_layout()\n",
    "plt.show()"
   ]
  },
  {
   "cell_type": "code",
   "execution_count": 26,
   "id": "d5fa325a",
   "metadata": {},
   "outputs": [
    {
     "name": "stdout",
     "output_type": "stream",
     "text": [
      "f1 score: 0.0091324200913242\n",
      "recall score: 0.004608294930875576\n",
      "precision score: 0.5\n",
      "discrimination results:\n"
     ]
    }
   ],
   "source": [
    "print(\"f1 score: %s\" % (f1_score(y_test, y_pred)))\n",
    "print(\"recall score: %s\" % (recall_score(y_test, y_pred)))\n",
    "print(\"precision score: %s\" % (precision_score(y_test, y_pred)))\n",
    "print(\"discrimination results:\")"
   ]
  },
  {
   "cell_type": "code",
   "execution_count": 27,
   "id": "462ce33b",
   "metadata": {},
   "outputs": [
    {
     "data": {
      "image/png": "[encoded data removed]",
      "text/plain": [
       "<Figure size 288x216 with 2 Axes>"
      ]
     },
     "metadata": {
      "needs_background": "light"
     },
     "output_type": "display_data"
    }
   ],
   "source": [
    "cm = confusion_matrix(y_true=y_test, y_pred=y_pred, labels = pipeline.classes_)\n",
    "disp = ConfusionMatrixDisplay(confusion_matrix=cm, display_labels=pipeline.classes_)\n",
    "disp.plot(cmap=\"OrRd\");"
   ]
  },
  {
   "cell_type": "code",
   "execution_count": 28,
   "id": "c6328f8a",
   "metadata": {},
   "outputs": [
    {
     "data": {
      "image/png": "[encoded data removed]",
      "text/plain": [
       "<Figure size 288x216 with 1 Axes>"
      ]
     },
     "metadata": {
      "needs_background": "light"
     },
     "output_type": "display_data"
    }
   ],
   "source": [
    "fpr, tpr, thresholds = roc_curve(y_test, y_pred)\n",
    "roc_auc = auc(fpr, tpr)\n",
    "display = RocCurveDisplay(fpr=fpr, tpr=tpr, roc_auc=roc_auc, estimator_name=None)\n",
    "display.plot()\n",
    "plt.show()"
   ]
  },
  {
   "cell_type": "markdown",
   "id": "9355aef2",
   "metadata": {},
   "source": [
    "### Feature selection\n",
    "1. Had to manually recreate the pipeline for this"
   ]
  },
  {
   "cell_type": "code",
   "execution_count": 29,
   "id": "5ef998c0",
   "metadata": {},
   "outputs": [],
   "source": [
    "# X = X_train.copy()\n",
    "# y = y_train.copy()"
   ]
  },
  {
   "cell_type": "code",
   "execution_count": 30,
   "id": "77df39b6",
   "metadata": {},
   "outputs": [],
   "source": [
    "# cc = ColumnConverter()\n",
    "# X = cc.fit_transform(X)\n",
    "# coe = custom_oe()\n",
    "# X = coe.fit_transform(X)\n",
    "# si1 = SimpleImputer(strategy='median')\n",
    "# X[num_feats]= si1.fit_transform(X[num_feats])\n",
    "# si2 = SimpleImputer(strategy='constant', fill_value='unknown')\n",
    "# X[cat_features] = si2.fit_transform(X[cat_features])\n",
    "# catenc = ce.OneHotEncoder(handle_unknown='ignore', cols=cat_features, use_cat_names=True)\n",
    "# X = catenc.fit_transform(X)"
   ]
  },
  {
   "cell_type": "code",
   "execution_count": 31,
   "id": "0332b7de",
   "metadata": {},
   "outputs": [],
   "source": [
    "# clf = RandomForestClassifier(max_depth=10,\n",
    "#                              class_weight=\"balanced\",\n",
    "#                              random_state=42, n_jobs=-1,\n",
    "#                              n_estimators = 1000,\n",
    "#                              criterion = 'gini',\n",
    "#                              max_features = 'auto',\n",
    "#                              bootstrap = False)\n",
    "# clf.fit(X, y)"
   ]
  },
  {
   "cell_type": "code",
   "execution_count": 32,
   "id": "f7719c54",
   "metadata": {},
   "outputs": [],
   "source": [
    "# feature_importances = clf.feature_importances_"
   ]
  },
  {
   "cell_type": "code",
   "execution_count": 33,
   "id": "c080b5b3",
   "metadata": {},
   "outputs": [],
   "source": [
    "# plt.rcParams[\"figure.figsize\"] = [4, 30]"
   ]
  },
  {
   "cell_type": "code",
   "execution_count": 34,
   "id": "c85ef408",
   "metadata": {},
   "outputs": [],
   "source": [
    "# pd.Series(clf.feature_importances_, index=X.columns).plot.barh(title='feature importances');\n",
    "\n",
    "# plt.title('Random Forest feature importances')\n",
    "# plt.xlabel('Importance');\n",
    "# plt.ylabel('Feature');"
   ]
  },
  {
   "cell_type": "markdown",
   "id": "7414156a",
   "metadata": {},
   "source": [
    "# Output files (pickling)"
   ]
  },
  {
   "cell_type": "code",
   "execution_count": 35,
   "id": "ccdc6411",
   "metadata": {},
   "outputs": [
    {
     "data": {
      "text/plain": [
       "['/tmp/pipeline.pickle']"
      ]
     },
     "execution_count": 35,
     "metadata": {},
     "output_type": "execute_result"
    }
   ],
   "source": [
    "TMP_DIR = '/tmp'\n",
    "with open(os.path.join(TMP_DIR, \"columns.json\"), 'w') as fh:\n",
    "    json.dump(X_train.columns.tolist(), fh)\n",
    "\n",
    "with open(os.path.join(TMP_DIR, \"dtypes.pickle\"), 'wb') as fh:\n",
    "    pickle.dump(X_train.dtypes, fh)\n",
    "    \n",
    "joblib.dump(pipeline, os.path.join(TMP_DIR, 'pipeline.pickle')) "
   ]
  },
  {
   "cell_type": "code",
   "execution_count": 36,
   "id": "04a78151",
   "metadata": {},
   "outputs": [
    {
     "ename": "NotImplementedError",
     "evalue": "",
     "output_type": "error",
     "traceback": [
      "\u001b[0;31m--------------------------------------------------------------------------\u001b[0m",
      "\u001b[0;31mNotImplementedError\u001b[0m                      Traceback (most recent call last)",
      "\u001b[0;32m<ipython-input-36-03b9be105f74>\u001b[0m in \u001b[0;36m<module>\u001b[0;34m\u001b[0m\n\u001b[0;32m----> 1\u001b[0;31m \u001b[0;32mraise\u001b[0m \u001b[0mNotImplementedError\u001b[0m\u001b[0;34m(\u001b[0m\u001b[0;34m)\u001b[0m\u001b[0;34m\u001b[0m\u001b[0;34m\u001b[0m\u001b[0m\n\u001b[0m",
      "\u001b[0;31mNotImplementedError\u001b[0m: "
     ]
    }
   ],
   "source": [
    "raise NotImplementedError()"
   ]
  },
  {
   "cell_type": "markdown",
   "id": "d17b4ee7",
   "metadata": {},
   "source": [
    "# Alternative using additional custom transformers\n",
    "1. These transformers were very sensitive and kept breaking\n",
    "1. Somehow this also worsened the resul (even though it followed the same methodology?)"
   ]
  },
  {
   "cell_type": "code",
   "execution_count": null,
   "id": "a9f3f62d",
   "metadata": {},
   "outputs": [],
   "source": [
    "selected_features = ['time_in_hospital', \n",
    "                     'num_lab_procedures',\n",
    "                     'num_procedures',\n",
    "                     'num_medications',\n",
    "                     'number_outpatient',\n",
    "                     'number_emergency',\n",
    "                     'number_inpatient',\n",
    "                     'number_diagnoses',\n",
    "                     'hemoglobin_level',\n",
    "                     \n",
    "                     'has_prosthesis',\n",
    "                     'blood_transfusion',\n",
    "                     'diuretics',\n",
    "                     'insulin',\n",
    "                     'change',\n",
    "                     'diabetesMed',\n",
    "                     \n",
    "                      'race',\n",
    "                      'gender',\n",
    "                      'admission_type_code', \n",
    "                      'discharge_disposition_code',\n",
    "                      'admission_source_code', \n",
    "                      'payer_code',\n",
    "                      'medical_specialty',\n",
    "                      'complete_vaccination_status',\n",
    "                      'blood_type',\n",
    "                      'diag_1',\n",
    "                      'diag_2',\n",
    "                      'diag_3',\n",
    "                     \n",
    "                     'max_glu_serum',\n",
    "                     'A1Cresult',\n",
    "                     'age',\n",
    "                     'weight']"
   ]
  },
  {
   "cell_type": "code",
   "execution_count": null,
   "id": "5ad7bc28",
   "metadata": {},
   "outputs": [],
   "source": [
    "pipeline = make_pipeline(\n",
    "    ColumnConverter(), #Does quick clean up, assigns datatypes and categories\n",
    "    custom_oe(), #Handles encoding of ordinal variables\n",
    "    custom_impute_scale(), #potential problem\n",
    "    SelectColumns(cols=selected_features),\n",
    "    custom_one_hot(), #one hot encoding for categories\n",
    "    RandomForestClassifier(max_depth=10,\n",
    "                           class_weight=\"balanced\",\n",
    "                           random_state=42, n_jobs=-1,\n",
    "                           n_estimators = 10,\n",
    "                           criterion = 'gini',\n",
    "                           max_features = 'auto',\n",
    "                           bootstrap = False),\n",
    ")\n",
    "pipeline.fit(X_train, y_train)\n",
    "\n",
    "y_pred = pipeline.predict(X_test)\n",
    "\n",
    "print(\"f1 score: %s\" % (f1_score(y_test, y_pred)))\n",
    "print(\"recall score: %s\" % (recall_score(y_test, y_pred)))\n",
    "print(\"precision score: %s\" % (precision_score(y_test, y_pred)))\n",
    "print(\"discrimination results:\")"
   ]
  },
  {
   "cell_type": "markdown",
   "id": "16786f55",
   "metadata": {},
   "source": [
    "# Testing for the server"
   ]
  },
  {
   "cell_type": "code",
   "execution_count": 38,
   "id": "64339b14",
   "metadata": {},
   "outputs": [
    {
     "data": {
      "text/plain": [
       "array([False,  True])"
      ]
     },
     "execution_count": 38,
     "metadata": {},
     "output_type": "execute_result"
    }
   ],
   "source": [
    "pipeline.predict(X_test.head(2))"
   ]
  },
  {
   "cell_type": "code",
   "execution_count": 39,
   "id": "c3612921",
   "metadata": {},
   "outputs": [
    {
     "data": {
      "text/html": [
       "<div>\n",
       "<style scoped>\n",
       "    .dataframe tbody tr th:only-of-type {\n",
       "        vertical-align: middle;\n",
       "    }\n",
       "\n",
       "    .dataframe tbody tr th {\n",
       "        vertical-align: top;\n",
       "    }\n",
       "\n",
       "    .dataframe thead th {\n",
       "        text-align: right;\n",
       "    }\n",
       "</style>\n",
       "<table border=\"1\" class=\"dataframe\">\n",
       "  <thead>\n",
       "    <tr style=\"text-align: right;\">\n",
       "      <th></th>\n",
       "      <th>patient_id</th>\n",
       "      <th>race</th>\n",
       "      <th>gender</th>\n",
       "      <th>age</th>\n",
       "      <th>weight</th>\n",
       "      <th>admission_type_code</th>\n",
       "      <th>discharge_disposition_code</th>\n",
       "      <th>admission_source_code</th>\n",
       "      <th>time_in_hospital</th>\n",
       "      <th>payer_code</th>\n",
       "      <th>...</th>\n",
       "      <th>number_diagnoses</th>\n",
       "      <th>blood_type</th>\n",
       "      <th>hemoglobin_level</th>\n",
       "      <th>blood_transfusion</th>\n",
       "      <th>max_glu_serum</th>\n",
       "      <th>A1Cresult</th>\n",
       "      <th>diuretics</th>\n",
       "      <th>insulin</th>\n",
       "      <th>change</th>\n",
       "      <th>diabetesMed</th>\n",
       "    </tr>\n",
       "    <tr>\n",
       "      <th>admission_id</th>\n",
       "      <th></th>\n",
       "      <th></th>\n",
       "      <th></th>\n",
       "      <th></th>\n",
       "      <th></th>\n",
       "      <th></th>\n",
       "      <th></th>\n",
       "      <th></th>\n",
       "      <th></th>\n",
       "      <th></th>\n",
       "      <th></th>\n",
       "      <th></th>\n",
       "      <th></th>\n",
       "      <th></th>\n",
       "      <th></th>\n",
       "      <th></th>\n",
       "      <th></th>\n",
       "      <th></th>\n",
       "      <th></th>\n",
       "      <th></th>\n",
       "      <th></th>\n",
       "    </tr>\n",
       "  </thead>\n",
       "  <tbody>\n",
       "    <tr>\n",
       "      <th>73270</th>\n",
       "      <td>172814040</td>\n",
       "      <td>White</td>\n",
       "      <td>Male</td>\n",
       "      <td>[40-50)</td>\n",
       "      <td>[75-100)</td>\n",
       "      <td>1.0</td>\n",
       "      <td>1.0</td>\n",
       "      <td>7</td>\n",
       "      <td>2</td>\n",
       "      <td>CP</td>\n",
       "      <td>...</td>\n",
       "      <td>4</td>\n",
       "      <td>O-</td>\n",
       "      <td>15.5</td>\n",
       "      <td>False</td>\n",
       "      <td>None</td>\n",
       "      <td>None</td>\n",
       "      <td>No</td>\n",
       "      <td>No</td>\n",
       "      <td>No</td>\n",
       "      <td>No</td>\n",
       "    </tr>\n",
       "    <tr>\n",
       "      <th>73271</th>\n",
       "      <td>172794042</td>\n",
       "      <td>WHITE</td>\n",
       "      <td>Female</td>\n",
       "      <td>[80-90)</td>\n",
       "      <td>?</td>\n",
       "      <td>1.0</td>\n",
       "      <td>3.0</td>\n",
       "      <td>7</td>\n",
       "      <td>6</td>\n",
       "      <td>MC</td>\n",
       "      <td>...</td>\n",
       "      <td>9</td>\n",
       "      <td>O+</td>\n",
       "      <td>14.8</td>\n",
       "      <td>False</td>\n",
       "      <td>None</td>\n",
       "      <td>None</td>\n",
       "      <td>No</td>\n",
       "      <td>No</td>\n",
       "      <td>Ch</td>\n",
       "      <td>Yes</td>\n",
       "    </tr>\n",
       "    <tr>\n",
       "      <th>73272</th>\n",
       "      <td>46885500</td>\n",
       "      <td>Caucasian</td>\n",
       "      <td>Male</td>\n",
       "      <td>[70-80)</td>\n",
       "      <td>?</td>\n",
       "      <td>3.0</td>\n",
       "      <td>1.0</td>\n",
       "      <td>1</td>\n",
       "      <td>3</td>\n",
       "      <td>MC</td>\n",
       "      <td>...</td>\n",
       "      <td>7</td>\n",
       "      <td>A+</td>\n",
       "      <td>15.9</td>\n",
       "      <td>False</td>\n",
       "      <td>NONE</td>\n",
       "      <td>None</td>\n",
       "      <td>No</td>\n",
       "      <td>Yes</td>\n",
       "      <td>Ch</td>\n",
       "      <td>Yes</td>\n",
       "    </tr>\n",
       "    <tr>\n",
       "      <th>73273</th>\n",
       "      <td>352024624</td>\n",
       "      <td>Caucasian</td>\n",
       "      <td>Female</td>\n",
       "      <td>[80-90)</td>\n",
       "      <td>?</td>\n",
       "      <td>1.0</td>\n",
       "      <td>6.0</td>\n",
       "      <td>7</td>\n",
       "      <td>6</td>\n",
       "      <td>?</td>\n",
       "      <td>...</td>\n",
       "      <td>9</td>\n",
       "      <td>A-</td>\n",
       "      <td>13.0</td>\n",
       "      <td>True</td>\n",
       "      <td>NONE</td>\n",
       "      <td>None</td>\n",
       "      <td>No</td>\n",
       "      <td>Yes</td>\n",
       "      <td>Ch</td>\n",
       "      <td>Yes</td>\n",
       "    </tr>\n",
       "    <tr>\n",
       "      <th>73274</th>\n",
       "      <td>212814486</td>\n",
       "      <td>WHITE</td>\n",
       "      <td>Female</td>\n",
       "      <td>[90-100)</td>\n",
       "      <td>?</td>\n",
       "      <td>1.0</td>\n",
       "      <td>22.0</td>\n",
       "      <td>7</td>\n",
       "      <td>7</td>\n",
       "      <td>?</td>\n",
       "      <td>...</td>\n",
       "      <td>8</td>\n",
       "      <td>B+</td>\n",
       "      <td>11.8</td>\n",
       "      <td>False</td>\n",
       "      <td>None</td>\n",
       "      <td>None</td>\n",
       "      <td>No</td>\n",
       "      <td>Yes</td>\n",
       "      <td>Ch</td>\n",
       "      <td>Yes</td>\n",
       "    </tr>\n",
       "  </tbody>\n",
       "</table>\n",
       "<p>5 rows × 32 columns</p>\n",
       "</div>"
      ],
      "text/plain": [
       "              patient_id       race  gender       age    weight  \\\n",
       "admission_id                                                      \n",
       "73270          172814040      White    Male   [40-50)  [75-100)   \n",
       "73271          172794042      WHITE  Female   [80-90)         ?   \n",
       "73272           46885500  Caucasian    Male   [70-80)         ?   \n",
       "73273          352024624  Caucasian  Female   [80-90)         ?   \n",
       "73274          212814486      WHITE  Female  [90-100)         ?   \n",
       "\n",
       "              admission_type_code  discharge_disposition_code  \\\n",
       "admission_id                                                    \n",
       "73270                         1.0                         1.0   \n",
       "73271                         1.0                         3.0   \n",
       "73272                         3.0                         1.0   \n",
       "73273                         1.0                         6.0   \n",
       "73274                         1.0                        22.0   \n",
       "\n",
       "              admission_source_code  time_in_hospital payer_code  ...  \\\n",
       "admission_id                                                      ...   \n",
       "73270                             7                 2         CP  ...   \n",
       "73271                             7                 6         MC  ...   \n",
       "73272                             1                 3         MC  ...   \n",
       "73273                             7                 6          ?  ...   \n",
       "73274                             7                 7          ?  ...   \n",
       "\n",
       "             number_diagnoses  blood_type hemoglobin_level  blood_transfusion  \\\n",
       "admission_id                                                                    \n",
       "73270                       4          O-             15.5              False   \n",
       "73271                       9          O+             14.8              False   \n",
       "73272                       7          A+             15.9              False   \n",
       "73273                       9          A-             13.0               True   \n",
       "73274                       8          B+             11.8              False   \n",
       "\n",
       "              max_glu_serum  A1Cresult  diuretics  insulin  change diabetesMed  \n",
       "admission_id                                                                    \n",
       "73270                  None       None         No       No      No          No  \n",
       "73271                  None       None         No       No      Ch         Yes  \n",
       "73272                  NONE       None         No      Yes      Ch         Yes  \n",
       "73273                  NONE       None         No      Yes      Ch         Yes  \n",
       "73274                  None       None         No      Yes      Ch         Yes  \n",
       "\n",
       "[5 rows x 32 columns]"
      ]
     },
     "execution_count": 39,
     "metadata": {},
     "output_type": "execute_result"
    }
   ],
   "source": [
    "X_test.head()"
   ]
  },
  {
   "cell_type": "code",
   "execution_count": 40,
   "id": "29760356",
   "metadata": {},
   "outputs": [
    {
     "data": {
      "text/plain": [
       "{'patient_id': 172814040,\n",
       " 'race': 'White',\n",
       " 'gender': 'Male',\n",
       " 'age': '[40-50)',\n",
       " 'weight': '[75-100)',\n",
       " 'admission_type_code': 1.0,\n",
       " 'discharge_disposition_code': 1.0,\n",
       " 'admission_source_code': 7,\n",
       " 'time_in_hospital': 2,\n",
       " 'payer_code': 'CP',\n",
       " 'medical_specialty': 'Cardiology',\n",
       " 'has_prosthesis': False,\n",
       " 'complete_vaccination_status': 'Complete',\n",
       " 'num_lab_procedures': 68.0,\n",
       " 'num_procedures': 6,\n",
       " 'num_medications': 10.0,\n",
       " 'number_outpatient': 3,\n",
       " 'number_emergency': 0,\n",
       " 'number_inpatient': 0,\n",
       " 'diag_1': '414',\n",
       " 'diag_2': '411',\n",
       " 'diag_3': '250.01',\n",
       " 'number_diagnoses': 4,\n",
       " 'blood_type': 'O-',\n",
       " 'hemoglobin_level': 15.5,\n",
       " 'blood_transfusion': False,\n",
       " 'max_glu_serum': 'None',\n",
       " 'A1Cresult': 'None',\n",
       " 'diuretics': 'No',\n",
       " 'insulin': 'No',\n",
       " 'change': 'No',\n",
       " 'diabetesMed': 'No',\n",
       " 'admission_id': 73270}"
      ]
     },
     "execution_count": 40,
     "metadata": {},
     "output_type": "execute_result"
    }
   ],
   "source": [
    "t_pred_dict = X_test.iloc[0].to_dict()\n",
    "t_pred_dict['admission_id'] = X_test.index.tolist()[0]\n",
    "t_pred_dict"
   ]
  },
  {
   "cell_type": "code",
   "execution_count": 41,
   "id": "44e3fd80",
   "metadata": {},
   "outputs": [
    {
     "data": {
      "text/plain": [
       "{'patient_id': 172794042,\n",
       " 'race': 'WHITE',\n",
       " 'gender': 'Female',\n",
       " 'age': '[80-90)',\n",
       " 'weight': '?',\n",
       " 'admission_type_code': 1.0,\n",
       " 'discharge_disposition_code': 3.0,\n",
       " 'admission_source_code': 7,\n",
       " 'time_in_hospital': 6,\n",
       " 'payer_code': 'MC',\n",
       " 'medical_specialty': '?',\n",
       " 'has_prosthesis': False,\n",
       " 'complete_vaccination_status': 'Complete',\n",
       " 'num_lab_procedures': 41.0,\n",
       " 'num_procedures': 0,\n",
       " 'num_medications': 11.0,\n",
       " 'number_outpatient': 1,\n",
       " 'number_emergency': 0,\n",
       " 'number_inpatient': 0,\n",
       " 'diag_1': '38',\n",
       " 'diag_2': '599',\n",
       " 'diag_3': '585',\n",
       " 'number_diagnoses': 9,\n",
       " 'blood_type': 'O+',\n",
       " 'hemoglobin_level': 14.8,\n",
       " 'blood_transfusion': False,\n",
       " 'max_glu_serum': 'None',\n",
       " 'A1Cresult': 'None',\n",
       " 'diuretics': 'No',\n",
       " 'insulin': 'No',\n",
       " 'change': 'Ch',\n",
       " 'diabetesMed': 'Yes',\n",
       " 'admission_id': 73271}"
      ]
     },
     "execution_count": 41,
     "metadata": {},
     "output_type": "execute_result"
    }
   ],
   "source": [
    "f_pred_dict = X_test.iloc[1].to_dict()\n",
    "f_pred_dict['admission_id'] = X_test.index.tolist()[1]\n",
    "f_pred_dict"
   ]
  },
  {
   "cell_type": "code",
   "execution_count": 42,
   "id": "aed70fa9",
   "metadata": {},
   "outputs": [
    {
     "data": {
      "text/plain": [
       "patient_id                       int64\n",
       "race                            object\n",
       "gender                          object\n",
       "age                             object\n",
       "weight                          object\n",
       "admission_type_code            float64\n",
       "discharge_disposition_code     float64\n",
       "admission_source_code            int64\n",
       "time_in_hospital                 int64\n",
       "payer_code                      object\n",
       "medical_specialty               object\n",
       "has_prosthesis                    bool\n",
       "complete_vaccination_status     object\n",
       "num_lab_procedures             float64\n",
       "num_procedures                   int64\n",
       "num_medications                float64\n",
       "number_outpatient                int64\n",
       "number_emergency                 int64\n",
       "number_inpatient                 int64\n",
       "diag_1                          object\n",
       "diag_2                          object\n",
       "diag_3                          object\n",
       "number_diagnoses                 int64\n",
       "blood_type                      object\n",
       "hemoglobin_level               float64\n",
       "blood_transfusion                 bool\n",
       "max_glu_serum                   object\n",
       "A1Cresult                       object\n",
       "diuretics                       object\n",
       "insulin                         object\n",
       "change                          object\n",
       "diabetesMed                     object\n",
       "dtype: object"
      ]
     },
     "execution_count": 42,
     "metadata": {},
     "output_type": "execute_result"
    }
   ],
   "source": [
    "X_test.dtypes"
   ]
  },
  {
   "cell_type": "markdown",
   "id": "cd04df86",
   "metadata": {},
   "source": [
    "#### This one works local"
   ]
  },
  {
   "cell_type": "markdown",
   "id": "e07c86bc",
   "metadata": {},
   "source": [
    "~ > curl -X POST http://localhost:5000/predict -d '{\n",
    "\t\"patient_id\": 169800930,\n",
    "\t\"race\": \"Caucasian\",\n",
    "\t\"gender\": \"Male\",\n",
    "\t\"age\": \"[60-70)\",\n",
    "\t\"weight\": \"[100-125)\",\n",
    "\t\"admission_type_code\": null,\n",
    "\t\"discharge_disposition_code\": 6.0,\n",
    "\t\"admission_source_code\": 1,\n",
    "\t\"time_in_hospital\": \"2\",\n",
    "\t\"payer_code\": \"?\",\n",
    "\t\"medical_specialty\": \"Surgery-General\",\n",
    "\t\"has_prosthesis\": true,\n",
    "\t\"complete_vaccination_status\": \"Complete\",\n",
    "\t\"num_lab_procedures\": 14.0,\n",
    "\t\"num_procedures\": 1,\n",
    "\t\"num_medications\": null,\n",
    "\t\"number_outpatient\": 0,\n",
    "\t\"number_emergency\": 0,\n",
    "\t\"number_inpatient\": 0,\n",
    "\t\"diag_1\": \"715\",\n",
    "\t\"diag_2\": \"733\",\n",
    "\t\"diag_3\": \"250\",\n",
    "\t\"number_diagnoses\": 5,\n",
    "\t\"blood_type\": \"B+\",\n",
    "\t\"hemoglobin_level\": 13.2,\n",
    "\t\"blood_transfusion\": true,\n",
    "\t\"max_glu_serum\": \"None\",\n",
    "\t\"A1Cresult\": \"None\",\n",
    "\t\"diuretics\": \"No\",\n",
    "\t\"insulin\": \"No\",\n",
    "\t\"change\": \"No\",\n",
    "\t\"diabetesMed\": \"Yes\",\n",
    "\t\"admission_id\": 58776\n",
    "}' -H \"Content-Type:application/json\""
   ]
  },
  {
   "cell_type": "markdown",
   "id": "33e14a8d",
   "metadata": {},
   "source": [
    "~ > curl -X POST http://localhost:5000/update -d '{ \"readmitted\": \"No\", \"admission_id\": 58776 }' -H \"Content-Type:application/json\""
   ]
  },
  {
   "cell_type": "markdown",
   "id": "10acd43b",
   "metadata": {},
   "source": [
    "#### This should work online"
   ]
  },
  {
   "cell_type": "markdown",
   "id": "1799ae6d",
   "metadata": {},
   "source": [
    "curl -X POST https://app-nb-3.herokuapp.com/predict -d '{ \"patient_id\": 169800930, \"race\": \"Caucasian\", \"gender\": \"Male\", \"age\": \"[60-70)\", \"weight\": \"[100-125)\", \"admission_type_code\": null, \"discharge_disposition_code\": 6.0, \"admission_source_code\": 1, \"time_in_hospital\": \"2\", \"payer_code\": \"?\", \"medical_specialty\": \"Surgery-General\", \"has_prosthesis\": true, \"complete_vaccination_status\": \"Complete\", \"num_lab_procedures\": 14.0, \"num_procedures\": 1, \"num_medications\": null, \"number_outpatient\": 0, \"number_emergency\": 0, \"number_inpatient\": 0, \"diag_1\": \"715\", \"diag_2\": \"733\", \"diag_3\": \"250\", \"number_diagnoses\": 5, \"blood_type\": \"B+\", \"hemoglobin_level\": 13.2, \"blood_transfusion\": true, \"max_glu_serum\": \"None\", \"A1Cresult\": \"None\", \"diuretics\": \"No\", \"insulin\": \"No\", \"change\": \"No\", \"diabetesMed\": \"Yes\", \"admission_id\": 58776 }' -H \"Content-Type:application/json\"\n",
    "\n",
    "\n",
    "\n",
    "\n"
   ]
  },
  {
   "cell_type": "markdown",
   "id": "2ac34cb8",
   "metadata": {},
   "source": [
    "curl -X POST https://app-nb-3.herokuapp.com/update -d '{ \"readmitted\": \"No\", \"admission_id\": 58776 }' -H \"Content-Type:application/json\""
   ]
  },
  {
   "cell_type": "markdown",
   "id": "e2aab02d",
   "metadata": {},
   "source": [
    "#### Trying to butcher it for unit testing"
   ]
  },
  {
   "cell_type": "markdown",
   "id": "ebe6281f",
   "metadata": {},
   "source": [
    "curl -X POST http://localhost:5000/predict -d '{\"admission_id\": 58776, \"patient_id\": 169800930, \"race\": \"Caucasian\", \"gender\": \"Male\", \"age\": \"[60-70)\", \"weight\": \"[100-125)\", \"admission_type_code\": null, \"discharge_disposition_code\": 6.0, \"admission_source_code\": 1, \"time_in_hospital\": \"2\", \"payer_code\": \"?\", \"medical_specialty\": \"Surgery-General\", \"has_prosthesis\": true, \"complete_vaccination_status\": \"Complete\", \"num_lab_procedures\": 14.0, \"num_procedures\": 1, \"num_medications\": null, \"number_outpatient\": 0, \"number_emergency\": 0, \"number_inpatient\": 0, \"diag_1\": \"715\", \"diag_2\": \"733\", \"diag_3\": \"250\", \"number_diagnoses\": 5, \"blood_type\": \"B+\", \"hemoglobin_level\": 13.2, \"max_glu_serum\": \"None\", \"A1Cresult\": \"None\", \"diuretics\": \"No\", \"insulin\": \"No\", \"change\": \"No\", \"diabetesMed\": \"Yes\", \"blood_transfusion\": true}' -H \"Content-Type:application/json\""
   ]
  },
  {
   "cell_type": "code",
   "execution_count": null,
   "id": "ff7ffe80",
   "metadata": {},
   "outputs": [],
   "source": [
    "X_train.diag_2.unique()"
   ]
  },
  {
   "cell_type": "code",
   "execution_count": null,
   "id": "705bd7f5",
   "metadata": {},
   "outputs": [],
   "source": [
    "X_train.blood_type.unique().tolist()"
   ]
  },
  {
   "cell_type": "markdown",
   "id": "7f4f3925",
   "metadata": {},
   "source": [
    "#### Unit tested:\n",
    "1. \"admission_id\": done \n",
    "1. \"patient_id\": done \n",
    "1. \"race\": done (values which dont meet preprocessor standards will become unknown)\n",
    "1. \"gender\": done (values which dont meet preprocessor standards will become unknown)\n",
    "1. \"age\": done (values which dont meet preprocessor standards will become unknown)\n",
    "1. \"weight\": done (values which dont meet preprocessor standards will become unknown)\n",
    "1. \"admission_type_code\": done \n",
    "1. \"discharge_disposition_code\": done\n",
    "1. \"admission_source_code\": done\n",
    "1. \"time_in_hospital\": done\n",
    "1. \"payer_code\":\n",
    "1. \"medical_specialty\": done\n",
    "1. \"has_prosthesis\": done\n",
    "1. \"complete_vaccination_status\": done\n",
    "1. \"num_lab_procedures\": done\n",
    "1. \"num_procedures\": done\n",
    "1. \"num_medications\": done\n",
    "1. \"number_outpatient\": done\n",
    "1. \"number_emergency\": done\n",
    "1. \"number_inpatient\": done\n",
    "1. \"diag_1\": done, but sometimes it breaks\n",
    "1. \"diag_2\": done, but sometimes it breaks\n",
    "1. \"diag_3\": done, but sometimes it breaks\n",
    "1. \"number_diagnoses\": done\n",
    "1. \"blood_type\":\n",
    "1. \"hemoglobin_level\": done\n",
    "1. \"max_glu_serum\": done (new values strings will become unknown)\n",
    "1. \"A1Cresult\": done (new values strings will become unknown) \n",
    "1. \"diuretics\": done\n",
    "1. \"insulin\": done\n",
    "1. \"change\": done\n",
    "1. \"diabetesMed\": done\n",
    "1. \"blood_transfusion\": done"
   ]
  },
  {
   "cell_type": "code",
   "execution_count": null,
   "id": "4ac1b316",
   "metadata": {},
   "outputs": [],
   "source": []
  }
 ],
 "metadata": {
  "kernelspec": {
   "display_name": "Python 3",
   "language": "python",
   "name": "python3"
  },
  "language_info": {
   "codemirror_mode": {
    "name": "ipython",
    "version": 3
   },
   "file_extension": ".py",
   "mimetype": "text/x-python",
   "name": "python",
   "nbconvert_exporter": "python",
   "pygments_lexer": "ipython3",
   "version": "3.7.12"
  }
 },
 "nbformat": 4,
 "nbformat_minor": 5
}
