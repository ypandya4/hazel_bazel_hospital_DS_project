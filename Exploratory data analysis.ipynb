{
 "cells": [
  {
   "cell_type": "markdown",
   "id": "a91d16f2",
   "metadata": {},
   "source": [
    "# Imports"
   ]
  },
  {
   "cell_type": "code",
   "execution_count": 1,
   "id": "7fff49fb",
   "metadata": {},
   "outputs": [],
   "source": [
    "import os\n",
    "import base64\n",
    "import joblib\n",
    "import pandas as pd\n",
    "import numpy as np\n",
    "import category_encoders as ce\n",
    "import json\n",
    "import joblib\n",
    "import pickle\n",
    "import math\n",
    "import requests\n",
    "from copy import deepcopy\n",
    "import seaborn as sns\n",
    "from uuid import uuid4\n",
    "\n",
    "from sklearn.model_selection import train_test_split\n",
    "from sklearn.pipeline import make_pipeline, Pipeline\n",
    "from sklearn.model_selection import cross_val_score\n",
    "from category_encoders import OneHotEncoder\n",
    "from sklearn.impute import SimpleImputer\n",
    "from sklearn.preprocessing import StandardScaler, OneHotEncoder\n",
    "from sklearn.compose import ColumnTransformer\n",
    "from sklearn.model_selection import cross_val_score\n",
    "from sklearn.ensemble import RandomForestClassifier, GradientBoostingClassifier, GradientBoostingRegressor\n",
    "from sklearn.tree import DecisionTreeClassifier, DecisionTreeRegressor\n",
    "from sklearn.linear_model import LogisticRegression\n",
    "from sklearn.metrics import precision_score, recall_score, f1_score, accuracy_score, roc_auc_score\n",
    "\n",
    "from sklearn.base import BaseEstimator, TransformerMixin\n",
    "\n",
    "from pandas_profiling import ProfileReport\n",
    "\n",
    "import matplotlib.pyplot as plt\n",
    "import matplotlib.image as mpimg\n",
    "plt.style.use('ggplot')\n",
    "%matplotlib inline"
   ]
  },
  {
   "cell_type": "markdown",
   "id": "9b97a2d1",
   "metadata": {},
   "source": [
    "# Custom transformer imports"
   ]
  },
  {
   "cell_type": "code",
   "execution_count": 2,
   "id": "78aeb7e9",
   "metadata": {},
   "outputs": [],
   "source": [
    "# WIP preprocessor which assigns categories and compresses some code\n",
    "from custom_transformers.preprocessor import ColumnConverter\n",
    "\n",
    "# WIP ordinal category preprocessor\n",
    "from custom_transformers.custom_ordinal_encoder import custom_oe\n",
    "\n",
    "#WIP column selector\n",
    "from custom_transformers.featureselector import SelectColumns"
   ]
  },
  {
   "cell_type": "markdown",
   "id": "a1637c29",
   "metadata": {},
   "source": [
    "# Functions"
   ]
  },
  {
   "cell_type": "code",
   "execution_count": 3,
   "id": "d4102f25",
   "metadata": {},
   "outputs": [],
   "source": [
    "def load_train_data():\n",
    "    df = pd.read_csv(os.path.join(\"data\", \"train_data.csv\"))\n",
    "    return df\n",
    "\n",
    "data_train = load_train_data()"
   ]
  },
  {
   "cell_type": "code",
   "execution_count": 4,
   "id": "c2ec538d",
   "metadata": {},
   "outputs": [],
   "source": [
    "def assign_index(df, indexcol: str):\n",
    "    _df = df.copy()\n",
    "    _df = _df.set_index(indexcol)\n",
    "    return _df"
   ]
  },
  {
   "cell_type": "markdown",
   "id": "5a5fc9b8",
   "metadata": {},
   "source": [
    "### These function will be replaced by the preprocessors\n",
    "They have been left here in case I need to come back to them"
   ]
  },
  {
   "cell_type": "code",
   "execution_count": 5,
   "id": "93d93026",
   "metadata": {},
   "outputs": [],
   "source": [
    "def assign_categorical(df, column_list: []):\n",
    "    _df = df.copy()\n",
    "    for column in column_list:\n",
    "        _df[column] = _df[column].astype('category')\n",
    "    return _df"
   ]
  },
  {
   "cell_type": "code",
   "execution_count": 6,
   "id": "66624bdf",
   "metadata": {},
   "outputs": [],
   "source": [
    "def encode_unordered_categorical(df, column_list: []):\n",
    "    _df = df.copy()\n",
    "    ohe = ce.OneHotEncoder(verbose=1,\n",
    "                           cols=column_list,\n",
    "                           handle_missing=\"indicator\",\n",
    "                           use_cat_names=True)\n",
    "    _df = ohe.fit_transform(_df)\n",
    "    return _df"
   ]
  },
  {
   "cell_type": "code",
   "execution_count": 7,
   "id": "f57b0aaf",
   "metadata": {},
   "outputs": [],
   "source": [
    "def encode_ordinal_categorical(df, column_list: []):\n",
    "    _df = df.copy()\n",
    "    orde = ce.OrdinalEncoder(verbose=1,\n",
    "                             cols=column_list,\n",
    "                             handle_unknown='value',\n",
    "                             handle_missing='value')\n",
    "    _df = orde.fit_transform(_df)\n",
    "    return _df"
   ]
  },
  {
   "cell_type": "code",
   "execution_count": 8,
   "id": "aaaf75ee",
   "metadata": {},
   "outputs": [],
   "source": [
    "def build_target(df, target: str):\n",
    "    _df = df.copy()\n",
    "    _df[target] = np.where(_df[target]== 'Yes', True, False)\n",
    "    return _df[target]"
   ]
  },
  {
   "cell_type": "markdown",
   "id": "2790e772",
   "metadata": {},
   "source": [
    "# Feature, index and targets\n",
    "The features are listed as their intended category type (based on the provided data dictionary):\n",
    "\n",
    "   1. numerical features\n",
    "   2. boolean/binary features (mostly treated as categorical)\n",
    "   3. unordered categories\n",
    "   4. ordinal categories\n",
    "   \n",
    "Times and dates were requested but are unavailable"
   ]
  },
  {
   "cell_type": "code",
   "execution_count": 9,
   "id": "e51f32a0",
   "metadata": {},
   "outputs": [],
   "source": [
    "target = 'readmitted'\n",
    "\n",
    "index_col = 'admission_id'\n",
    "\n",
    "all_features = ['patient_id',\n",
    "                'race',\n",
    "                'gender',\n",
    "                'age',\n",
    "                'weight',                \n",
    "                'admission_type_code', \n",
    "                'discharge_disposition_code',\n",
    "                'admission_source_code', \n",
    "                'time_in_hospital', \n",
    "                'payer_code',\n",
    "                'medical_specialty',\n",
    "                'has_prosthesis',\n",
    "                'complete_vaccination_status',\n",
    "                'num_lab_procedures',\n",
    "                'num_procedures',\n",
    "                'num_medications',\n",
    "                'number_outpatient',\n",
    "                'number_emergency',\n",
    "                'number_inpatient',\n",
    "                'diag_1',\n",
    "                'diag_2',\n",
    "                'diag_3',\n",
    "                'number_diagnoses',\n",
    "                'blood_type',\n",
    "                'hemoglobin_level',\n",
    "                'blood_transfusion',\n",
    "                'max_glu_serum',\n",
    "                'A1Cresult',\n",
    "                'diuretics',\n",
    "                'insulin',\n",
    "                'change',\n",
    "                'diabetesMed']\n",
    "\n",
    "num_features = ['time_in_hospital', \n",
    "                'num_lab_procedures',\n",
    "                'num_procedures',\n",
    "                'num_medications',\n",
    "                'number_outpatient',\n",
    "                'number_emergency',\n",
    "                'number_inpatient',\n",
    "                'number_diagnoses',\n",
    "                'hemoglobin_level']\n",
    "\n",
    "bool_features = ['has_prosthesis',\n",
    "                 'blood_transfusion',\n",
    "                 'diuretics',\n",
    "                 'insulin',\n",
    "                 'change',\n",
    "                 'diabetesMed']\n",
    "\n",
    "cat_features = ['race',\n",
    "                'gender',\n",
    "                'admission_type_code', \n",
    "                'discharge_disposition_code',\n",
    "                'admission_source_code', \n",
    "                'payer_code',\n",
    "                'medical_specialty',\n",
    "                #'diag_1',\n",
    "                #'diag_2',\n",
    "                #'diag_3',\n",
    "                #'blood_type',\n",
    "                ]\n",
    "\n",
    "ord_cat_features = ['age',\n",
    "                    'weight', #lots of missing or unknown values\n",
    "                    'max_glu_serum',\n",
    "                    'A1Cresult',\n",
    "                    'complete_vaccination_status',]\n",
    "# missing features: date of admission and date of release"
   ]
  },
  {
   "cell_type": "markdown",
   "id": "b7a9e426",
   "metadata": {},
   "source": [
    "# Profile report\n",
    "Generated using the data as originally provided, with no data cleaning or processing"
   ]
  },
  {
   "cell_type": "code",
   "execution_count": 10,
   "id": "21714edb",
   "metadata": {},
   "outputs": [],
   "source": [
    "# initial_profile = ProfileReport(data_train)\n",
    "# initial_profile.to_file(\"initial_profile.html\")"
   ]
  },
  {
   "cell_type": "markdown",
   "id": "590e5337",
   "metadata": {},
   "source": [
    "# Visualizations 1\n",
    "Prepared before applying transformation to whole dataset"
   ]
  },
  {
   "cell_type": "code",
   "execution_count": 11,
   "id": "1cdd6e55",
   "metadata": {},
   "outputs": [],
   "source": [
    "# Assigning categorical variables, but no encoding yet\n",
    "testdf = assign_categorical(data_train, (cat_features + ord_cat_features + bool_features))\n",
    "\n",
    "# Convert target to boolean\n",
    "testdf['readmitted'] = build_target(testdf, 'readmitted')"
   ]
  },
  {
   "cell_type": "code",
   "execution_count": 12,
   "id": "141dcd96",
   "metadata": {},
   "outputs": [],
   "source": [
    "# data = testdf.pivot_table(values=['readmitted'], index='gender', aggfunc=np.mean)*100\n",
    "# plt.rcParams[\"figure.figsize\"] = [3, 1]\n",
    "# data.plot.barh(stacked=True, legend=None);\n",
    "# plt.rcParams.update({'font.size': 12})\n",
    "# plt.xlabel(\"% of patients readmitted\", size=10)\n",
    "# plt.ylabel(\"Gender\", size=10)\n",
    "# plt.title(\"Readmission and Gender\", size=10);"
   ]
  },
  {
   "cell_type": "code",
   "execution_count": 13,
   "id": "4336b40e",
   "metadata": {},
   "outputs": [],
   "source": [
    "# data = testdf.pivot_table(values=['readmitted'], index='race', aggfunc=np.mean)*100\n",
    "# plt.rcParams[\"figure.figsize\"] = [3, 15/3]\n",
    "# data.plot.barh(stacked=True, legend=None).invert_yaxis();\n",
    "# plt.rcParams.update({'font.size': 12})\n",
    "# plt.xlabel(\"% of patients readmitted\", size=10)\n",
    "# plt.ylabel(\"Ethnicity\", size=10)\n",
    "# plt.title(\"Readmissions and Ethnicity\", size=10);"
   ]
  },
  {
   "cell_type": "code",
   "execution_count": 14,
   "id": "c17c3ef3",
   "metadata": {},
   "outputs": [],
   "source": [
    "# data = testdf.pivot_table(values=['readmitted'], index='age', aggfunc=np.mean)*100\n",
    "# plt.rcParams[\"figure.figsize\"] = [3, 10/3]\n",
    "# data.plot.barh(stacked=True, legend=None);\n",
    "# plt.rcParams.update({'font.size': 12})\n",
    "# plt.xlabel(\"% of patients readmitted\", size=10)\n",
    "# plt.ylabel(\"Age\", size=10)\n",
    "# plt.title(\"Readmission and Age\", size=10);"
   ]
  },
  {
   "cell_type": "code",
   "execution_count": 15,
   "id": "39bf1e3a",
   "metadata": {},
   "outputs": [
    {
     "data": {
      "text/plain": [
       "18"
      ]
     },
     "execution_count": 15,
     "metadata": {},
     "output_type": "execute_result"
    }
   ],
   "source": [
    "testdf.payer_code.nunique()"
   ]
  },
  {
   "cell_type": "code",
   "execution_count": 16,
   "id": "f11c6c2d",
   "metadata": {},
   "outputs": [],
   "source": [
    "# data = testdf.pivot_table(values=['readmitted'], index='payer_code', aggfunc=np.mean)*100\n",
    "# plt.rcParams[\"figure.figsize\"] = [3, 18/3]\n",
    "# data.plot.barh(stacked=True, legend=None);\n",
    "# plt.rcParams.update({'font.size': 12})\n",
    "# plt.xlabel(\"% of patients readmitted\", size=10)\n",
    "# plt.ylabel(\"Payer Code\", size=10)\n",
    "# plt.title(\"Readmission and Payer\", size=10);"
   ]
  },
  {
   "cell_type": "code",
   "execution_count": 17,
   "id": "79119518",
   "metadata": {},
   "outputs": [],
   "source": [
    "# specialty_summary = testdf.pivot_table(values=['readmitted'],\n",
    "#                                        index='medical_specialty',\n",
    "#                                        aggfunc=('count','mean'))\n",
    "# specialty_summary = (specialty_summary[specialty_summary['readmitted']['count']>100].\n",
    "#                      droplevel(0, axis=1)\n",
    "#                     .rename(columns={'mean': '% readmitted'})\n",
    "#                     .sort_values(by='% readmitted', ascending=False))"
   ]
  },
  {
   "cell_type": "code",
   "execution_count": 18,
   "id": "be5f709f",
   "metadata": {},
   "outputs": [],
   "source": [
    "# data = specialty_summary.drop('count', axis=1).head(5)*100\n",
    "# plt.rcParams[\"figure.figsize\"] = [3, 5/3]\n",
    "# data.plot.barh(stacked=True, legend=None).invert_yaxis();\n",
    "# plt.rcParams.update({'font.size': 12})\n",
    "# plt.xlabel(\"% of patients readmitted\", size=10)\n",
    "# plt.ylabel(\"Medical specialty\", size=10)\n",
    "# plt.title(\"Specialties with highest readmission rate\", size=10);"
   ]
  },
  {
   "cell_type": "code",
   "execution_count": 19,
   "id": "921bb1fc",
   "metadata": {},
   "outputs": [],
   "source": [
    "# data = specialty_summary.drop('count', axis=1).tail(5)*100\n",
    "# plt.rcParams[\"figure.figsize\"] = [3, 5/3]\n",
    "# data.plot.barh(stacked=True, legend=None).invert_yaxis();\n",
    "# plt.rcParams.update({'font.size': 12})\n",
    "# plt.xlabel(\"% of patients readmitted\", size=10)\n",
    "# plt.ylabel(\"Medical specialty\", size=10)\n",
    "# plt.title(\"Specialties with lowest readmission rate\", size=10);"
   ]
  },
  {
   "cell_type": "code",
   "execution_count": 20,
   "id": "35b7b47a",
   "metadata": {},
   "outputs": [],
   "source": [
    "# data = (specialty_summary.drop('count', axis=1)\n",
    "#         .drop('?', axis=0))*100\n",
    "# plt.rcParams[\"figure.figsize\"] = [3, 24/3]\n",
    "# data.plot.barh(stacked=True, legend=None).invert_yaxis();\n",
    "# plt.rcParams.update({'font.size': 12})\n",
    "# plt.xlabel(\"% of patients readmitted\", size=10)\n",
    "# plt.ylabel(\"Medical specialty\", size=10)\n",
    "# plt.title(\"Specialties with at least 100 admissions\", size=10);"
   ]
  },
  {
   "cell_type": "code",
   "execution_count": 21,
   "id": "a4971e22",
   "metadata": {},
   "outputs": [],
   "source": [
    "# data = testdf.pivot_table(values=['readmitted'], index='weight', aggfunc=np.mean)*100\n",
    "# plt.rcParams[\"figure.figsize\"] = [3, 10/3]\n",
    "# data.plot.barh(stacked=True, legend=None);\n",
    "# plt.rcParams.update({'font.size': 12})\n",
    "# plt.xlabel(\"% of patients readmitted\", size=10)\n",
    "# plt.ylabel(\"Weight\", size=10)\n",
    "# plt.title(\"Readmission and Weight\", size=10);"
   ]
  },
  {
   "cell_type": "code",
   "execution_count": 22,
   "id": "cb0fadc1",
   "metadata": {},
   "outputs": [],
   "source": [
    "# data = testdf.pivot_table(values=['readmitted'], index='blood_type', aggfunc=np.mean)*100\n",
    "# plt.rcParams[\"figure.figsize\"] = [3, 8/3]\n",
    "# data.plot.barh(stacked=True, legend=None);\n",
    "# plt.rcParams.update({'font.size': 12})\n",
    "# plt.xlabel(\"% of patients readmitted\", size=10)\n",
    "# plt.ylabel(\"Blood type\", size=10)\n",
    "# plt.title(\"Blood Type and Weight\", size=10);"
   ]
  },
  {
   "cell_type": "code",
   "execution_count": 23,
   "id": "bc18f043",
   "metadata": {},
   "outputs": [],
   "source": [
    "# data = testdf.pivot_table(values=['readmitted'], index='max_glu_serum', aggfunc=np.mean)*100\n",
    "# plt.rcParams[\"figure.figsize\"] = [3, 6/3]\n",
    "# data.plot.barh(stacked=True, legend=None);\n",
    "# plt.rcParams.update({'font.size': 12})\n",
    "# plt.xlabel(\"% of patients readmitted\", size=10)\n",
    "# plt.ylabel(\"Maximum Serum Glucose\", size=10)\n",
    "# plt.title(\"Readmission and Serum Glucose\", size=10);"
   ]
  },
  {
   "cell_type": "code",
   "execution_count": 24,
   "id": "27e4630b",
   "metadata": {},
   "outputs": [],
   "source": [
    "# data = testdf.pivot_table(values=['readmitted'], index='A1Cresult', aggfunc=np.mean)*100\n",
    "# plt.rcParams[\"figure.figsize\"] = [3, 4/3]\n",
    "# data.plot.barh(stacked=True, legend=None);\n",
    "# plt.rcParams.update({'font.size': 12})\n",
    "# plt.xlabel(\"% of patients readmitted\", size=10)\n",
    "# plt.ylabel(\"A1C test result\", size=10)\n",
    "# plt.title(\"Readmission and A1C level\", size=10);"
   ]
  },
  {
   "cell_type": "code",
   "execution_count": 25,
   "id": "fa0ffa83",
   "metadata": {},
   "outputs": [],
   "source": [
    "# data = testdf.pivot_table(values=['readmitted'], index='admission_type_code', aggfunc=np.mean)*100\n",
    "# plt.rcParams[\"figure.figsize\"] = [3, 8/3]\n",
    "# data.plot.barh(stacked=True, legend=None);\n",
    "# plt.rcParams.update({'font.size': 12})\n",
    "# plt.xlabel(\"% of patients readmitted\", size=10)\n",
    "# plt.ylabel(\"Admission type\", size=10)\n",
    "# plt.title(\"Readmission and Admission type\", size=10);"
   ]
  },
  {
   "cell_type": "code",
   "execution_count": 26,
   "id": "847d7eb0",
   "metadata": {},
   "outputs": [],
   "source": [
    "# data = testdf.pivot_table(values=['readmitted'], index='admission_source_code', aggfunc=np.mean)*100\n",
    "# plt.rcParams[\"figure.figsize\"] = [3, 25/3]\n",
    "# data.plot.barh(stacked=True, legend=None);\n",
    "# plt.rcParams.update({'font.size': 12})\n",
    "# plt.xlabel(\"% of patients readmitted\", size=10)\n",
    "# plt.ylabel(\"Admission source\", size=10)\n",
    "# plt.title(\"Readmission and Admission source\", size=10);"
   ]
  },
  {
   "cell_type": "code",
   "execution_count": 27,
   "id": "3705f891",
   "metadata": {},
   "outputs": [],
   "source": [
    "# data = testdf.pivot_table(values=['readmitted'], index='discharge_disposition_code', aggfunc=np.mean)*100\n",
    "# plt.rcParams[\"figure.figsize\"] = [3, 28/3]\n",
    "# data.plot.barh(stacked=True, legend=None);\n",
    "# plt.rcParams.update({'font.size': 12})\n",
    "# plt.xlabel(\"% of patients readmitted\", size=10)\n",
    "# plt.ylabel(\"Discharge Disposition\", size=10)\n",
    "# plt.title(\"Readmission and Discharge Disposition\", size=10);"
   ]
  },
  {
   "cell_type": "code",
   "execution_count": 28,
   "id": "39cd0b7b",
   "metadata": {},
   "outputs": [],
   "source": [
    "# fig, axes = plt.subplots(1,len(num_features), sharex=True) # create figure and axes\n",
    "# plt.rcParams[\"figure.figsize\"] = [15, 5]\n",
    "# for i, ax in enumerate(axes.flat):\n",
    "#     testdf.boxplot(column=num_features[i], by=\"readmitted\", ax=axes.flatten()[i])\n",
    "#     ax.set_title(str(num_features[i]), fontsize=10)\n",
    "#     ax.xaxis.label.set_visible(False)\n",
    "# fig.suptitle(\"Continuous features and readmission\", size=12)\n",
    "# plt.xlabel(\"% of patients readmitted\", size=10)\n",
    "# plt.tight_layout() \n",
    "# plt.show();"
   ]
  },
  {
   "cell_type": "code",
   "execution_count": 29,
   "id": "b22668c6",
   "metadata": {},
   "outputs": [],
   "source": [
    "# fig, axes = plt.subplots(3,2, sharex=True) # create figure and axes\n",
    "# plt.rcParams[\"figure.figsize\"] = [6, 4]\n",
    "# for i, ax in enumerate(axes.flat):\n",
    "#     data = testdf.pivot_table(values=['readmitted'], index=bool_features[i], aggfunc=np.mean)*100\n",
    "#     data.plot.barh(stacked=True, legend=None, ax=axes.flatten()[i]).invert_yaxis()\n",
    "#     ax.set_title(str(bool_features[i]), fontsize=9)\n",
    "#     ax.yaxis.label.set_visible(False)\n",
    "# fig.suptitle(\"Binary features and readmission\", size=10)\n",
    "# plt.xlabel(\"% of patients readmitted\", size=10)\n",
    "# plt.show();"
   ]
  },
  {
   "cell_type": "markdown",
   "id": "997fefd9",
   "metadata": {},
   "source": [
    "# Profile report after transforming data\n",
    "Transformation done using the same functions applied for model development\n",
    "No imputation or scaling "
   ]
  },
  {
   "cell_type": "code",
   "execution_count": 30,
   "id": "0d461a3b",
   "metadata": {},
   "outputs": [],
   "source": [
    "numeric_transformer = Pipeline(steps=[\n",
    "    ('imputer', SimpleImputer(strategy='median')),\n",
    "    ('scaler', StandardScaler())])\n",
    "categorical_transformer = Pipeline(steps=[\n",
    "    ('imputer', SimpleImputer(strategy='constant', fill_value='unknown')),\n",
    "    ('onehot', OneHotEncoder(handle_unknown='ignore', sparse=False))])\n",
    "preprocessor = ColumnTransformer(\n",
    "    transformers=[\n",
    "        ('num', numeric_transformer, num_features),\n",
    "        ('cat', categorical_transformer, cat_features)],\n",
    "remainder=\"passthrough\",sparse_threshold=0)"
   ]
  },
  {
   "cell_type": "code",
   "execution_count": 31,
   "id": "55ed3842",
   "metadata": {},
   "outputs": [],
   "source": [
    "numeric_transformer = Pipeline(steps=[\n",
    "    ('imputer', SimpleImputer(strategy='median')),\n",
    "    ('scaler', StandardScaler())])\n",
    "\n",
    "preprocessor = ColumnTransformer(\n",
    "    transformers=[\n",
    "        ('num', numeric_transformer, num_features)],\n",
    "remainder=\"passthrough\",sparse_threshold=0)"
   ]
  },
  {
   "cell_type": "code",
   "execution_count": 32,
   "id": "b47e5b8d",
   "metadata": {},
   "outputs": [],
   "source": [
    "_df = data_train.copy()\n",
    "_df['readmitted'] = build_target(_df, 'readmitted')\n",
    "_df = _df.set_index('admission_id')"
   ]
  },
  {
   "cell_type": "code",
   "execution_count": 33,
   "id": "0c5e8eb5",
   "metadata": {},
   "outputs": [],
   "source": [
    "cc = ColumnConverter()\n",
    "_df = cc.fit_transform(_df)"
   ]
  },
  {
   "cell_type": "code",
   "execution_count": 34,
   "id": "28ac2615",
   "metadata": {},
   "outputs": [
    {
     "data": {
      "text/plain": [
       "(81412, 33)"
      ]
     },
     "execution_count": 34,
     "metadata": {},
     "output_type": "execute_result"
    }
   ],
   "source": [
    "preprocessor.fit_transform(_df).shape"
   ]
  },
  {
   "cell_type": "code",
   "execution_count": 35,
   "id": "90309fbc",
   "metadata": {},
   "outputs": [],
   "source": [
    "# ProfileReport(_df)"
   ]
  },
  {
   "cell_type": "code",
   "execution_count": 36,
   "id": "1aabee74",
   "metadata": {},
   "outputs": [],
   "source": [
    "# profile_processed = ProfileReport(_df)\n",
    "# profile_processed.to_file(\"processed_profile.html\")"
   ]
  },
  {
   "cell_type": "markdown",
   "id": "cb214d2c",
   "metadata": {},
   "source": [
    "# Data technical summary"
   ]
  },
  {
   "cell_type": "code",
   "execution_count": 89,
   "id": "d7a33aef",
   "metadata": {},
   "outputs": [
    {
     "data": {
      "text/plain": [
       "count    8.141200e+04\n",
       "mean     1.086395e+08\n",
       "std      7.732453e+07\n",
       "min      1.980000e+02\n",
       "25%      4.683906e+07\n",
       "50%      9.083437e+07\n",
       "75%      1.751117e+08\n",
       "max      3.790052e+08\n",
       "Name: patient_id, dtype: float64"
      ]
     },
     "execution_count": 89,
     "metadata": {},
     "output_type": "execute_result"
    }
   ],
   "source": [
    "_df.patient_id.describe()"
   ]
  },
  {
   "cell_type": "code",
   "execution_count": 91,
   "id": "a9eb5beb",
   "metadata": {},
   "outputs": [
    {
     "name": "stdout",
     "output_type": "stream",
     "text": [
      "count    8.141200e+04\n",
      "mean     1.086395e+08\n",
      "std      7.732453e+07\n",
      "min      1.980000e+02\n",
      "25%      4.683906e+07\n",
      "50%      9.083437e+07\n",
      "75%      1.751117e+08\n",
      "max      3.790052e+08\n",
      "Name: patient_id, dtype: float64\n",
      "count     81412\n",
      "unique        5\n",
      "top       white\n",
      "freq      60873\n",
      "Name: race, dtype: object\n",
      "count      81412\n",
      "unique         3\n",
      "top       female\n",
      "freq       43719\n",
      "Name: gender, dtype: object\n",
      "count     81412\n",
      "unique       11\n",
      "top       70-80\n",
      "freq      20261\n",
      "Name: age, dtype: object\n",
      "count       81412\n",
      "unique         10\n",
      "top       unknown\n",
      "freq        78913\n",
      "Name: weight, dtype: object\n",
      "count         80250\n",
      "unique            6\n",
      "top       emergency\n",
      "freq          42562\n",
      "Name: admission_type_code, dtype: object\n",
      "count               81412\n",
      "unique                  7\n",
      "top       discharged_home\n",
      "freq                47854\n",
      "Name: discharge_disposition_code, dtype: object\n",
      "count         81412\n",
      "unique            4\n",
      "top       emergency\n",
      "freq          45942\n",
      "Name: admission_source_code, dtype: object\n",
      "count    81412.000000\n",
      "mean         4.395924\n",
      "std          2.975844\n",
      "min          1.000000\n",
      "25%          2.000000\n",
      "50%          4.000000\n",
      "75%          6.000000\n",
      "max         14.000000\n",
      "Name: time_in_hospital, dtype: float64\n",
      "count       81412\n",
      "unique          3\n",
      "top       insured\n",
      "freq        45131\n",
      "Name: payer_code, dtype: object\n",
      "count       81412\n",
      "unique         25\n",
      "top       unknown\n",
      "freq        40020\n",
      "Name: medical_specialty, dtype: object\n",
      "count     81412\n",
      "unique        2\n",
      "top       False\n",
      "freq      80550\n",
      "Name: has_prosthesis, dtype: object\n",
      "count     81412\n",
      "unique        2\n",
      "top        True\n",
      "freq      67434\n",
      "Name: complete_vaccination_status, dtype: object\n",
      "count    79919.000000\n",
      "mean        43.071197\n",
      "std         19.630405\n",
      "min          1.000000\n",
      "25%         32.000000\n",
      "50%         44.000000\n",
      "75%         57.000000\n",
      "max        132.000000\n",
      "Name: num_lab_procedures, dtype: float64\n",
      "count    81412.000000\n",
      "mean         1.341768\n",
      "std          1.708465\n",
      "min          0.000000\n",
      "25%          0.000000\n",
      "50%          1.000000\n",
      "75%          2.000000\n",
      "max          6.000000\n",
      "Name: num_procedures, dtype: float64\n",
      "count    78734.000000\n",
      "mean        16.024424\n",
      "std          8.107235\n",
      "min          1.000000\n",
      "25%         10.000000\n",
      "50%         15.000000\n",
      "75%         20.000000\n",
      "max         81.000000\n",
      "Name: num_medications, dtype: float64\n",
      "count    81412.000000\n",
      "mean         0.370953\n",
      "std          1.278538\n",
      "min          0.000000\n",
      "25%          0.000000\n",
      "50%          0.000000\n",
      "75%          0.000000\n",
      "max         42.000000\n",
      "Name: number_outpatient, dtype: float64\n",
      "count    81412.000000\n",
      "mean         0.197588\n",
      "std          0.881290\n",
      "min          0.000000\n",
      "25%          0.000000\n",
      "50%          0.000000\n",
      "75%          0.000000\n",
      "max         64.000000\n",
      "Name: number_emergency, dtype: float64\n",
      "count    81412.000000\n",
      "mean         0.637793\n",
      "std          1.265472\n",
      "min          0.000000\n",
      "25%          0.000000\n",
      "50%          0.000000\n",
      "75%          1.000000\n",
      "max         21.000000\n",
      "Name: number_inpatient, dtype: float64\n",
      "count           81412\n",
      "unique             17\n",
      "top       circulatory\n",
      "freq            24193\n",
      "Name: diag_1, dtype: object\n",
      "count           81412\n",
      "unique             17\n",
      "top       circulatory\n",
      "freq            24666\n",
      "Name: diag_2, dtype: object\n",
      "count           81412\n",
      "unique             17\n",
      "top       circulatory\n",
      "freq            23979\n",
      "Name: diag_3, dtype: object\n",
      "count    81412.000000\n",
      "mean         7.421965\n",
      "std          1.931480\n",
      "min          1.000000\n",
      "25%          6.000000\n",
      "50%          8.000000\n",
      "75%          9.000000\n",
      "max         16.000000\n",
      "Name: number_diagnoses, dtype: float64\n",
      "count     81412\n",
      "unique        8\n",
      "top          O+\n",
      "freq      32053\n",
      "Name: blood_type, dtype: object\n",
      "count    81412.000000\n",
      "mean        14.192328\n",
      "std          1.060000\n",
      "min         10.500000\n",
      "25%         13.400000\n",
      "50%         14.100000\n",
      "75%         15.000000\n",
      "max         18.600000\n",
      "Name: hemoglobin_level, dtype: float64\n",
      "count     81412\n",
      "unique        2\n",
      "top       False\n",
      "freq      71697\n",
      "Name: blood_transfusion, dtype: object\n",
      "count       81412\n",
      "unique          4\n",
      "top       unknown\n",
      "freq        77159\n",
      "Name: max_glu_serum, dtype: object\n",
      "count       81412\n",
      "unique          4\n",
      "top       unknown\n",
      "freq        67807\n",
      "Name: A1Cresult, dtype: object\n",
      "count     81412\n",
      "unique        2\n",
      "top       False\n",
      "freq      79893\n",
      "Name: diuretics, dtype: object\n",
      "count     81412\n",
      "unique        2\n",
      "top        True\n",
      "freq      44360\n",
      "Name: insulin, dtype: object\n",
      "count     81412\n",
      "unique        2\n",
      "top       False\n",
      "freq      43772\n",
      "Name: change, dtype: object\n",
      "count     81412\n",
      "unique        2\n",
      "top        True\n",
      "freq      62718\n",
      "Name: diabetesMed, dtype: object\n",
      "count     81412\n",
      "unique        2\n",
      "top       False\n",
      "freq      72340\n",
      "Name: readmitted, dtype: object\n"
     ]
    }
   ],
   "source": [
    "for column in _df.columns.tolist():\n",
    "    print(_df[column].describe())"
   ]
  },
  {
   "cell_type": "markdown",
   "id": "81e58def",
   "metadata": {},
   "source": [
    "### correlations between numerical features"
   ]
  },
  {
   "cell_type": "code",
   "execution_count": 98,
   "id": "a5293670",
   "metadata": {},
   "outputs": [],
   "source": [
    "cor_mat = _df.corr()\n",
    "lower_triangle_mask = np.triu(np.ones(cor_mat.shape)).astype(bool)\n",
    "cor_mat_lower = cor_mat.mask(lower_triangle_mask)"
   ]
  },
  {
   "cell_type": "code",
   "execution_count": 100,
   "id": "008e18cf",
   "metadata": {},
   "outputs": [
    {
     "data": {
      "image/png": "[encoded data removed]",
      "text/plain": [
       "<Figure size 864x576 with 2 Axes>"
      ]
     },
     "metadata": {
      "needs_background": "light"
     },
     "output_type": "display_data"
    }
   ],
   "source": [
    "plt.figure(figsize = (12,8)) # <-- just sets the figure size \n",
    "\n",
    "sns.heatmap(cor_mat_lower, \n",
    "            annot=False,     # <-- write the numbers on the squares\n",
    "            cmap='inferno'); # <-- use a \"red into blue, reversed\" colormap "
   ]
  },
  {
   "cell_type": "code",
   "execution_count": 106,
   "id": "3f3c7f5f",
   "metadata": {},
   "outputs": [
    {
     "data": {
      "text/plain": [
       "insulin             diabetesMed           0.574090\n",
       "change              diabetesMed           0.506269\n",
       "insulin             change                0.505491\n",
       "time_in_hospital    num_medications       0.464316\n",
       "num_procedures      num_medications       0.386588\n",
       "time_in_hospital    num_lab_procedures    0.315046\n",
       "number_emergency    number_inpatient      0.281446\n",
       "num_lab_procedures  num_medications       0.268071\n",
       "num_medications     number_diagnoses      0.261044\n",
       "                    change                0.247635\n",
       "dtype: float64"
      ]
     },
     "execution_count": 106,
     "metadata": {},
     "output_type": "execute_result"
    }
   ],
   "source": [
    "cor_mat_lower.unstack().dropna().nlargest(10)"
   ]
  },
  {
   "cell_type": "code",
   "execution_count": 107,
   "id": "292deebf",
   "metadata": {},
   "outputs": [
    {
     "data": {
      "text/plain": [
       "num_procedures    number_inpatient    -0.065887\n",
       "                  number_emergency    -0.041881\n",
       "                  number_outpatient   -0.024351\n",
       "patient_id        time_in_hospital    -0.023890\n",
       "number_emergency  hemoglobin_level    -0.020732\n",
       "time_in_hospital  hemoglobin_level    -0.018590\n",
       "num_medications   hemoglobin_level    -0.018230\n",
       "patient_id        num_procedures      -0.014419\n",
       "number_inpatient  hemoglobin_level    -0.011542\n",
       "num_procedures    readmitted          -0.011276\n",
       "dtype: float64"
      ]
     },
     "execution_count": 107,
     "metadata": {},
     "output_type": "execute_result"
    }
   ],
   "source": [
    "cor_mat_lower.unstack().dropna().nsmallest(10)"
   ]
  },
  {
   "cell_type": "code",
   "execution_count": 113,
   "id": "f3510698",
   "metadata": {},
   "outputs": [
    {
     "data": {
      "text/plain": [
       "number_inpatient               0.164781\n",
       "number_emergency               0.065709\n",
       "number_diagnoses               0.049817\n",
       "time_in_hospital               0.042647\n",
       "num_medications                0.039105\n",
       "insulin                        0.033144\n",
       "diabetesMed                    0.027206\n",
       "change                         0.019311\n",
       "num_lab_procedures             0.019160\n",
       "number_outpatient              0.017730\n",
       "patient_id                     0.008108\n",
       "blood_transfusion              0.005350\n",
       "diuretics                      0.001942\n",
       "hemoglobin_level              -0.000169\n",
       "complete_vaccination_status   -0.000558\n",
       "has_prosthesis                -0.008412\n",
       "num_procedures                -0.011276\n",
       "readmitted                          NaN\n",
       "Name: readmitted, dtype: float64"
      ]
     },
     "execution_count": 113,
     "metadata": {},
     "output_type": "execute_result"
    }
   ],
   "source": [
    "cor_mat_lower.loc['readmitted'].sort_values(ascending = False)"
   ]
  },
  {
   "cell_type": "markdown",
   "id": "32a69667",
   "metadata": {},
   "source": [
    "# Plots for data description"
   ]
  },
  {
   "cell_type": "code",
   "execution_count": 37,
   "id": "4804c53c",
   "metadata": {},
   "outputs": [
    {
     "data": {
      "image/png": "[encoded data removed]",
      "text/plain": [
       "<Figure size 216x120 with 1 Axes>"
      ]
     },
     "metadata": {
      "needs_background": "light"
     },
     "output_type": "display_data"
    }
   ],
   "source": [
    "data = _df.race.value_counts()\n",
    "plt.rcParams[\"figure.figsize\"] = [3, 5/3]\n",
    "data.plot.barh(stacked=True, legend=None);\n",
    "plt.rcParams.update({'font.size': 12})\n",
    "plt.xlabel(\"Number of patients\", size=10)\n",
    "plt.ylabel(\"Race\", size=10)\n",
    "plt.xticks(fontsize=9, rotation=0)\n",
    "plt.yticks(fontsize=9, rotation=0);"
   ]
  },
  {
   "cell_type": "code",
   "execution_count": 38,
   "id": "ab867c36",
   "metadata": {},
   "outputs": [
    {
     "data": {
      "image/png": "[encoded data removed]",
      "text/plain": [
       "<Figure size 216x48 with 1 Axes>"
      ]
     },
     "metadata": {
      "needs_background": "light"
     },
     "output_type": "display_data"
    }
   ],
   "source": [
    "data = _df.gender.value_counts().nlargest(2) #this will exclude unknown values\n",
    "plt.rcParams[\"figure.figsize\"] = [3, 2/3]\n",
    "data.plot.barh(stacked=True, legend=None);\n",
    "plt.rcParams.update({'font.size': 12})\n",
    "plt.xlabel(\"Number of patients\", size=10)\n",
    "plt.ylabel(\"Gender\", size=10)\n",
    "plt.xticks(fontsize=9, rotation=0)\n",
    "plt.yticks(fontsize=9, rotation=0);"
   ]
  },
  {
   "cell_type": "code",
   "execution_count": 39,
   "id": "649a0f33",
   "metadata": {},
   "outputs": [
    {
     "data": {
      "image/png": "[encoded data removed]",
      "text/plain": [
       "<Figure size 216x264 with 1 Axes>"
      ]
     },
     "metadata": {
      "needs_background": "light"
     },
     "output_type": "display_data"
    }
   ],
   "source": [
    "data = _df.age.value_counts().sort_index()\n",
    "plt.rcParams[\"figure.figsize\"] = [3, 11/3]\n",
    "data.plot.barh(stacked=True, legend=None);\n",
    "plt.rcParams.update({'font.size': 12})\n",
    "plt.xlabel(\"Number of patients\", size=10)\n",
    "plt.ylabel(\"Age range\", size=10)\n",
    "plt.xticks(fontsize=9, rotation=0)\n",
    "plt.yticks(fontsize=9, rotation=0);"
   ]
  },
  {
   "cell_type": "code",
   "execution_count": 40,
   "id": "69893d96",
   "metadata": {},
   "outputs": [
    {
     "data": {
      "image/png": "[encoded data removed]",
      "text/plain": [
       "<Figure size 216x144 with 1 Axes>"
      ]
     },
     "metadata": {
      "needs_background": "light"
     },
     "output_type": "display_data"
    }
   ],
   "source": [
    "data = _df.admission_type_code.value_counts().sort_index(ascending=False)\n",
    "plt.rcParams[\"figure.figsize\"] = [3, 6/3]\n",
    "data.plot.barh(stacked=True, legend=None);\n",
    "plt.rcParams.update({'font.size': 12})\n",
    "plt.xlabel(\"Number of patients\", size=10)\n",
    "plt.ylabel(\"Admission type\", size=10)\n",
    "plt.xticks(fontsize=9, rotation=0)\n",
    "plt.yticks(fontsize=9, rotation=0);"
   ]
  },
  {
   "cell_type": "code",
   "execution_count": 41,
   "id": "64160142",
   "metadata": {},
   "outputs": [
    {
     "data": {
      "image/png": "[encoded data removed]",
      "text/plain": [
       "<Figure size 216x96 with 1 Axes>"
      ]
     },
     "metadata": {
      "needs_background": "light"
     },
     "output_type": "display_data"
    }
   ],
   "source": [
    "data = _df.admission_source_code.value_counts().sort_index(ascending=False)\n",
    "plt.rcParams[\"figure.figsize\"] = [3, 4/3]\n",
    "data.plot.barh(stacked=True, legend=None);\n",
    "plt.rcParams.update({'font.size': 12})\n",
    "plt.xlabel(\"Number of patients\", size=10)\n",
    "plt.ylabel(\"Admission source\", size=10)\n",
    "plt.xticks(fontsize=9, rotation=0)\n",
    "plt.yticks(fontsize=9, rotation=0);"
   ]
  },
  {
   "cell_type": "code",
   "execution_count": 42,
   "id": "cbb9ed3e",
   "metadata": {},
   "outputs": [
    {
     "data": {
      "image/png": "[encoded data removed]",
      "text/plain": [
       "<Figure size 216x72 with 1 Axes>"
      ]
     },
     "metadata": {
      "needs_background": "light"
     },
     "output_type": "display_data"
    }
   ],
   "source": [
    "data = _df.payer_code.value_counts().sort_index(ascending=False)\n",
    "plt.rcParams[\"figure.figsize\"] = [3, 3/3]\n",
    "data.plot.barh(stacked=True, legend=None);\n",
    "plt.rcParams.update({'font.size': 12})\n",
    "plt.xlabel(\"Number of patients\", size=10)\n",
    "plt.ylabel(\"Insurance status\", size=10)\n",
    "plt.xticks(fontsize=9, rotation=0)\n",
    "plt.yticks(fontsize=9, rotation=0);"
   ]
  },
  {
   "cell_type": "code",
   "execution_count": 43,
   "id": "2c8f651f",
   "metadata": {},
   "outputs": [
    {
     "data": {
      "image/png": "[encoded data removed]",
      "text/plain": [
       "<Figure size 216x240 with 1 Axes>"
      ]
     },
     "metadata": {
      "needs_background": "light"
     },
     "output_type": "display_data"
    }
   ],
   "source": [
    "data = _df.weight.value_counts().sort_index(ascending=False)\n",
    "plt.rcParams[\"figure.figsize\"] = [3, 10/3]\n",
    "data.plot.barh(stacked=True, legend=None);\n",
    "plt.rcParams.update({'font.size': 12})\n",
    "plt.xlabel(\"Number of patients\", size=10)\n",
    "plt.ylabel(\"weight\", size=10)\n",
    "plt.xticks(fontsize=9, rotation=0)\n",
    "plt.yticks(fontsize=9, rotation=0);"
   ]
  },
  {
   "cell_type": "code",
   "execution_count": 44,
   "id": "a5ea07a4",
   "metadata": {},
   "outputs": [
    {
     "data": {
      "text/plain": [
       "internalmedicine                     11712\n",
       "emergency/trauma                      6021\n",
       "family/generalpractice                5939\n",
       "cardiology                            4273\n",
       "surgery-general                       2473\n",
       "nephrology                            1299\n",
       "other                                 1187\n",
       "orthopedics                           1100\n",
       "orthopedics-reconstructive             981\n",
       "radiologist                            913\n",
       "pulmonology                            700\n",
       "psychiatry                             674\n",
       "urology                                539\n",
       "obstetricsandgynecology                531\n",
       "surgery-cardiovascular/thoracic        527\n",
       "gastroenterology                       465\n",
       "surgery-vascular                       438\n",
       "surgery-neuro                          373\n",
       "physicalmedicineandrehabilitation      298\n",
       "oncology                               280\n",
       "pediatrics                             211\n",
       "neurology                              171\n",
       "hematology/oncology                    165\n",
       "pediatrics-endocrinology               122\n",
       "unknown                                  0\n",
       "Name: medical_specialty, dtype: int64"
      ]
     },
     "execution_count": 44,
     "metadata": {},
     "output_type": "execute_result"
    }
   ],
   "source": [
    "_df[_df.medical_specialty != 'unknown'].medical_specialty.value_counts()"
   ]
  },
  {
   "cell_type": "code",
   "execution_count": 45,
   "id": "482c3d14",
   "metadata": {},
   "outputs": [
    {
     "data": {
      "text/plain": [
       "unknown    40020\n",
       "Name: medical_specialty, dtype: int64"
      ]
     },
     "execution_count": 45,
     "metadata": {},
     "output_type": "execute_result"
    }
   ],
   "source": [
    "_df.medical_specialty.value_counts().nlargest(1).sort_values()"
   ]
  },
  {
   "cell_type": "code",
   "execution_count": 46,
   "id": "e4d0a0af",
   "metadata": {},
   "outputs": [
    {
     "data": {
      "image/png": "[encoded data removed]",
      "text/plain": [
       "<Figure size 216x120 with 1 Axes>"
      ]
     },
     "metadata": {
      "needs_background": "light"
     },
     "output_type": "display_data"
    }
   ],
   "source": [
    "data = _df[_df.medical_specialty != 'unknown'].medical_specialty.value_counts().nlargest(5).sort_values()\n",
    "plt.rcParams[\"figure.figsize\"] = [3, 5/3]\n",
    "data.plot.barh(stacked=True, legend=None);\n",
    "plt.rcParams.update({'font.size': 12})\n",
    "plt.xlabel(\"Number of patients\", size=10)\n",
    "plt.ylabel(\"Specialty\", size=10)\n",
    "plt.xticks(fontsize=9, rotation=0)\n",
    "plt.yticks(fontsize=9, rotation=0);"
   ]
  },
  {
   "cell_type": "code",
   "execution_count": 47,
   "id": "42a40be8",
   "metadata": {},
   "outputs": [
    {
     "data": {
      "image/png": "[encoded data removed]",
      "text/plain": [
       "<Figure size 216x108 with 1 Axes>"
      ]
     },
     "metadata": {
      "needs_background": "light"
     },
     "output_type": "display_data"
    }
   ],
   "source": [
    "x = _df.time_in_hospital.value_counts().sort_index(ascending=True).index.tolist()\n",
    "y = _df.time_in_hospital.value_counts().sort_index(ascending=True).values.tolist()\n",
    "plt.rcParams[\"figure.figsize\"] = [3, 1.5]\n",
    "plt.plot(x, y);\n",
    "plt.rcParams.update({'font.size': 12})\n",
    "plt.xlabel(\"Length of hospital stay\", size=10)\n",
    "plt.ylabel(\"Number of patients\", size=10)\n",
    "plt.xticks(fontsize=9, rotation=0)\n",
    "plt.yticks(fontsize=9, rotation=0);"
   ]
  },
  {
   "cell_type": "code",
   "execution_count": 48,
   "id": "eebee8e5",
   "metadata": {},
   "outputs": [
    {
     "data": {
      "image/png": "[encoded data removed]",
      "text/plain": [
       "<Figure size 216x108 with 1 Axes>"
      ]
     },
     "metadata": {
      "needs_background": "light"
     },
     "output_type": "display_data"
    }
   ],
   "source": [
    "x = _df.number_outpatient.value_counts().sort_index(ascending=True).index.tolist()\n",
    "y = _df.number_outpatient.value_counts().sort_index(ascending=True).values.tolist()\n",
    "plt.rcParams[\"figure.figsize\"] = [3, 1.5]\n",
    "plt.plot(x, y);\n",
    "plt.rcParams.update({'font.size': 12})\n",
    "plt.xlabel(\"Number of outpatient visits\", size=10)\n",
    "plt.ylabel(\"Number of patients\", size=10)\n",
    "plt.xticks(fontsize=9, rotation=0)\n",
    "plt.yticks(fontsize=9, rotation=0);"
   ]
  },
  {
   "cell_type": "code",
   "execution_count": 49,
   "id": "712ba17e",
   "metadata": {},
   "outputs": [
    {
     "data": {
      "image/png": "[encoded data removed]",
      "text/plain": [
       "<Figure size 216x108 with 1 Axes>"
      ]
     },
     "metadata": {
      "needs_background": "light"
     },
     "output_type": "display_data"
    }
   ],
   "source": [
    "x = _df.number_inpatient.value_counts().sort_index(ascending=True).index.tolist()\n",
    "y = _df.number_inpatient.value_counts().sort_index(ascending=True).values.tolist()\n",
    "plt.rcParams[\"figure.figsize\"] = [3, 1.5]\n",
    "plt.plot(x, y);\n",
    "plt.rcParams.update({'font.size': 12})\n",
    "plt.xlabel(\"Number of inpatient visits\", size=10)\n",
    "plt.ylabel(\"Number of patients\", size=10)\n",
    "plt.xticks(fontsize=9, rotation=0)\n",
    "plt.yticks(fontsize=9, rotation=0);"
   ]
  },
  {
   "cell_type": "code",
   "execution_count": 50,
   "id": "9e6c8c76",
   "metadata": {},
   "outputs": [
    {
     "data": {
      "image/png": "[encoded data removed]",
      "text/plain": [
       "<Figure size 216x108 with 1 Axes>"
      ]
     },
     "metadata": {
      "needs_background": "light"
     },
     "output_type": "display_data"
    }
   ],
   "source": [
    "x = _df.number_emergency.value_counts().sort_index(ascending=True).index.tolist()\n",
    "y = _df.number_emergency.value_counts().sort_index(ascending=True).values.tolist()\n",
    "plt.rcParams[\"figure.figsize\"] = [3, 1.5]\n",
    "plt.plot(x, y);\n",
    "plt.rcParams.update({'font.size': 12})\n",
    "plt.xlabel(\"Number of emergency visits\", size=10)\n",
    "plt.ylabel(\"Number of patients\", size=10)\n",
    "plt.xticks(fontsize=9, rotation=0)\n",
    "plt.yticks(fontsize=9, rotation=0);"
   ]
  },
  {
   "cell_type": "code",
   "execution_count": 51,
   "id": "dd13de0d",
   "metadata": {},
   "outputs": [
    {
     "data": {
      "image/png": "[encoded data removed]",
      "text/plain": [
       "<Figure size 216x108 with 1 Axes>"
      ]
     },
     "metadata": {
      "needs_background": "light"
     },
     "output_type": "display_data"
    }
   ],
   "source": [
    "x = _df.num_procedures.value_counts().sort_index(ascending=True).index.tolist()\n",
    "y = _df.num_procedures.value_counts().sort_index(ascending=True).values.tolist()\n",
    "plt.rcParams[\"figure.figsize\"] = [3, 1.5]\n",
    "plt.plot(x, y);\n",
    "plt.rcParams.update({'font.size': 12})\n",
    "plt.xlabel(\"Number of medical procedures\", size=10)\n",
    "plt.ylabel(\"Number of patients\", size=10)\n",
    "plt.xticks(fontsize=9, rotation=0)\n",
    "plt.yticks(fontsize=9, rotation=0);"
   ]
  },
  {
   "cell_type": "code",
   "execution_count": 52,
   "id": "81235e53",
   "metadata": {},
   "outputs": [
    {
     "data": {
      "image/png": "[encoded data removed]",
      "text/plain": [
       "<Figure size 216x108 with 1 Axes>"
      ]
     },
     "metadata": {
      "needs_background": "light"
     },
     "output_type": "display_data"
    }
   ],
   "source": [
    "x = _df.num_lab_procedures.value_counts().sort_index(ascending=True).index.tolist()\n",
    "y = _df.num_lab_procedures.value_counts().sort_index(ascending=True).values.tolist()\n",
    "plt.rcParams[\"figure.figsize\"] = [3, 1.5]\n",
    "plt.plot(x, y);\n",
    "plt.rcParams.update({'font.size': 12})\n",
    "plt.xlabel(\"Number of lab procedures\", size=10)\n",
    "plt.ylabel(\"Number of patients\", size=10)\n",
    "plt.xticks(fontsize=9, rotation=0)\n",
    "plt.yticks(fontsize=9, rotation=0);"
   ]
  },
  {
   "cell_type": "code",
   "execution_count": 53,
   "id": "2a818264",
   "metadata": {},
   "outputs": [
    {
     "data": {
      "image/png": "[encoded data removed]",
      "text/plain": [
       "<Figure size 216x108 with 1 Axes>"
      ]
     },
     "metadata": {
      "needs_background": "light"
     },
     "output_type": "display_data"
    }
   ],
   "source": [
    "x = _df.num_medications.value_counts().sort_index(ascending=True).index.tolist()\n",
    "y = _df.num_medications.value_counts().sort_index(ascending=True).values.tolist()\n",
    "plt.rcParams[\"figure.figsize\"] = [3, 1.5]\n",
    "plt.plot(x, y);\n",
    "plt.rcParams.update({'font.size': 12})\n",
    "plt.xlabel(\"Number of medications\", size=10)\n",
    "plt.ylabel(\"Number of patients\", size=10)\n",
    "plt.xticks(fontsize=9, rotation=0)\n",
    "plt.yticks(fontsize=9, rotation=0);"
   ]
  },
  {
   "cell_type": "code",
   "execution_count": 54,
   "id": "3d28df02",
   "metadata": {},
   "outputs": [
    {
     "data": {
      "text/plain": [
       "circulatory                               23979\n",
       "endocrine_nutritional_metabolic_immune    16475\n",
       "unknown                                   10822\n",
       "respiratory                                5447\n",
       "genitourinary                              5065\n",
       "Name: diag_3, dtype: int64"
      ]
     },
     "execution_count": 54,
     "metadata": {},
     "output_type": "execute_result"
    }
   ],
   "source": [
    "_df.diag_3.value_counts().nlargest(5).sort_values(ascending=False)"
   ]
  },
  {
   "cell_type": "code",
   "execution_count": 55,
   "id": "a48baca7",
   "metadata": {},
   "outputs": [
    {
     "name": "stdout",
     "output_type": "stream",
     "text": [
      "False    80550\n",
      "True       862\n",
      "Name: has_prosthesis, dtype: int64\n",
      "False    71697\n",
      "True      9715\n",
      "Name: blood_transfusion, dtype: int64\n",
      "False    79893\n",
      "True      1519\n",
      "Name: diuretics, dtype: int64\n",
      "True     44360\n",
      "False    37052\n",
      "Name: insulin, dtype: int64\n",
      "False    43772\n",
      "True     37640\n",
      "Name: change, dtype: int64\n",
      "True     62718\n",
      "False    18694\n",
      "Name: diabetesMed, dtype: int64\n"
     ]
    }
   ],
   "source": [
    "for feature in bool_features:\n",
    "    print(_df[feature].value_counts())"
   ]
  },
  {
   "cell_type": "code",
   "execution_count": 56,
   "id": "5d43d09c",
   "metadata": {},
   "outputs": [
    {
     "data": {
      "image/png": "[encoded data removed]",
      "text/plain": [
       "<Figure size 216x216 with 1 Axes>"
      ]
     },
     "metadata": {},
     "output_type": "display_data"
    }
   ],
   "source": [
    "labels = ['Insulin prescribed', 'Insulin not prescribed']\n",
    "values = testdf['insulin'].value_counts().values.tolist()[0:2]\n",
    "colors = ['firebrick', 'lightgrey']\n",
    "plt.rcParams[\"figure.figsize\"] = [3, 3]\n",
    "patches, texts = plt.pie(values, colors=colors, startangle=0)\n",
    "plt.legend(patches, labels, loc=\"lower center\");"
   ]
  },
  {
   "cell_type": "code",
   "execution_count": 57,
   "id": "1c594a9a",
   "metadata": {},
   "outputs": [
    {
     "data": {
      "image/png": "[encoded data removed]",
      "text/plain": [
       "<Figure size 216x216 with 1 Axes>"
      ]
     },
     "metadata": {},
     "output_type": "display_data"
    }
   ],
   "source": [
    "labels = ['Medicine changed', 'Medicine unchanged']\n",
    "values = sorted(testdf['change'].value_counts().values.tolist())\n",
    "colors = ['firebrick', 'lightgrey']\n",
    "plt.rcParams[\"figure.figsize\"] = [3, 3]\n",
    "patches, texts = plt.pie(values, colors=colors, startangle=0)\n",
    "plt.legend(patches, labels, loc=\"lower center\");"
   ]
  },
  {
   "cell_type": "code",
   "execution_count": 58,
   "id": "c2e9cc23",
   "metadata": {},
   "outputs": [
    {
     "data": {
      "image/png": "[encoded data removed]",
      "text/plain": [
       "<Figure size 216x216 with 1 Axes>"
      ]
     },
     "metadata": {},
     "output_type": "display_data"
    }
   ],
   "source": [
    "labels = ['Diabetes medicine prescribed', 'No diabetes medicine prescribed']\n",
    "values = testdf['diabetesMed'].value_counts().values.tolist()[0:2]\n",
    "colors = ['firebrick', 'lightgrey']\n",
    "plt.rcParams[\"figure.figsize\"] = [3, 3]\n",
    "patches, texts = plt.pie(values, colors=colors, startangle=0)\n",
    "plt.legend(patches, labels, loc=\"lower center\");"
   ]
  },
  {
   "cell_type": "code",
   "execution_count": 59,
   "id": "7c384495",
   "metadata": {},
   "outputs": [
    {
     "data": {
      "image/png": "[encoded data removed]",
      "text/plain": [
       "<Figure size 216x192 with 1 Axes>"
      ]
     },
     "metadata": {
      "needs_background": "light"
     },
     "output_type": "display_data"
    }
   ],
   "source": [
    "data = _df.discharge_disposition_code.value_counts().sort_values()\n",
    "plt.rcParams[\"figure.figsize\"] = [3, 8/3]\n",
    "data.plot.barh(stacked=True, legend=None);\n",
    "plt.rcParams.update({'font.size': 12})\n",
    "plt.xlabel(\"Number of patients\", size=10)\n",
    "plt.ylabel(\"Type of discharge\", size=10)\n",
    "plt.xticks(fontsize=9, rotation=0)\n",
    "plt.yticks(fontsize=9, rotation=0);"
   ]
  },
  {
   "cell_type": "code",
   "execution_count": 60,
   "id": "d8923d93",
   "metadata": {},
   "outputs": [
    {
     "data": {
      "text/plain": [
       "False    72340\n",
       "True      9072\n",
       "Name: readmitted, dtype: int64"
      ]
     },
     "execution_count": 60,
     "metadata": {},
     "output_type": "execute_result"
    }
   ],
   "source": [
    "_df.readmitted.value_counts()"
   ]
  },
  {
   "cell_type": "code",
   "execution_count": 61,
   "id": "f556e8a6",
   "metadata": {},
   "outputs": [],
   "source": [
    "#total_readmission \n",
    "pop_readmission = (_df.readmitted.value_counts()[1]/(_df.readmitted.value_counts()[0]+_df.readmitted.value_counts()[1]))*100"
   ]
  },
  {
   "cell_type": "code",
   "execution_count": 62,
   "id": "c7552e42",
   "metadata": {},
   "outputs": [
    {
     "data": {
      "text/plain": [
       "11.14332039502776"
      ]
     },
     "execution_count": 62,
     "metadata": {},
     "output_type": "execute_result"
    }
   ],
   "source": [
    "pop_readmission"
   ]
  },
  {
   "cell_type": "code",
   "execution_count": 63,
   "id": "41ef96b7",
   "metadata": {},
   "outputs": [
    {
     "data": {
      "image/png": "[encoded data removed]",
      "text/plain": [
       "<Figure size 216x48 with 1 Axes>"
      ]
     },
     "metadata": {
      "needs_background": "light"
     },
     "output_type": "display_data"
    }
   ],
   "source": [
    "data = _df.readmitted.value_counts()\n",
    "plt.rcParams[\"figure.figsize\"] = [3, 2/3]\n",
    "data.plot.barh(stacked=True, legend=None);\n",
    "plt.rcParams.update({'font.size': 12})\n",
    "plt.xlabel(\"Number of patients\", size=10)\n",
    "plt.ylabel(\"Readmitted\", size=10)\n",
    "plt.xticks(fontsize=9, rotation=0)\n",
    "plt.yticks(fontsize=9, rotation=0);"
   ]
  },
  {
   "cell_type": "markdown",
   "id": "cc96bb46",
   "metadata": {},
   "source": [
    "# Answering the business questions"
   ]
  },
  {
   "cell_type": "markdown",
   "id": "0ebbe07c",
   "metadata": {},
   "source": [
    "1. Investigate the provided data and determine if there is evidence of discrimination based on gender, ethnicity or age when dismissing patients from care.\n",
    "2. Determine if the Medical Specialty the patient is under the care of, the admission source, or their insurance status is a potential source of this discrimination\n"
   ]
  },
  {
   "cell_type": "markdown",
   "id": "6031ef56",
   "metadata": {},
   "source": [
    "#### Checking the overall rates\n",
    "1. comparing gender\n",
    "1. comparing race\n",
    "1. comparing age\n",
    "1. comparing ionsurance\n",
    "1. comparing specialty\n",
    "1. comparing admission source"
   ]
  },
  {
   "cell_type": "code",
   "execution_count": 64,
   "id": "ad79873a",
   "metadata": {},
   "outputs": [
    {
     "data": {
      "text/html": [
       "<div>\n",
       "<style scoped>\n",
       "    .dataframe tbody tr th:only-of-type {\n",
       "        vertical-align: middle;\n",
       "    }\n",
       "\n",
       "    .dataframe tbody tr th {\n",
       "        vertical-align: top;\n",
       "    }\n",
       "\n",
       "    .dataframe thead th {\n",
       "        text-align: right;\n",
       "    }\n",
       "</style>\n",
       "<table border=\"1\" class=\"dataframe\">\n",
       "  <thead>\n",
       "    <tr style=\"text-align: right;\">\n",
       "      <th></th>\n",
       "      <th>readmitted</th>\n",
       "    </tr>\n",
       "    <tr>\n",
       "      <th>gender</th>\n",
       "      <th></th>\n",
       "    </tr>\n",
       "  </thead>\n",
       "  <tbody>\n",
       "    <tr>\n",
       "      <th>female</th>\n",
       "      <td>1.009289</td>\n",
       "    </tr>\n",
       "    <tr>\n",
       "      <th>male</th>\n",
       "      <td>0.989279</td>\n",
       "    </tr>\n",
       "  </tbody>\n",
       "</table>\n",
       "</div>"
      ],
      "text/plain": [
       "        readmitted\n",
       "gender            \n",
       "female    1.009289\n",
       "male      0.989279"
      ]
     },
     "execution_count": 64,
     "metadata": {},
     "output_type": "execute_result"
    }
   ],
   "source": [
    "_df[_df.gender != 'unknown'].pivot_table(values=['readmitted'], index='gender', aggfunc=np.mean)*(100/pop_readmission)"
   ]
  },
  {
   "cell_type": "code",
   "execution_count": 65,
   "id": "80645b94",
   "metadata": {},
   "outputs": [
    {
     "data": {
      "image/png": "[encoded data removed]",
      "text/plain": [
       "<Figure size 216x48 with 1 Axes>"
      ]
     },
     "metadata": {
      "needs_background": "light"
     },
     "output_type": "display_data"
    }
   ],
   "source": [
    "data = _df[_df.gender != 'unknown'].pivot_table(values=['readmitted'], index='gender', aggfunc=np.mean)*100\n",
    "plt.rcParams[\"figure.figsize\"] = [3, 2/3]\n",
    "data.plot.barh(stacked=True, legend=None);\n",
    "plt.rcParams.update({'font.size': 12})\n",
    "plt.xlabel(\"Readmission rate (%)\", size=10)\n",
    "plt.ylabel(\"Gender\", size=10)\n",
    "plt.xticks(fontsize=9, rotation=0)\n",
    "plt.yticks(fontsize=9, rotation=0)\n",
    "plt.axvline(x=12, color='blue');"
   ]
  },
  {
   "cell_type": "code",
   "execution_count": 66,
   "id": "0253fdc0",
   "metadata": {},
   "outputs": [
    {
     "data": {
      "image/png": "[encoded data removed]",
      "text/plain": [
       "<Figure size 216x120 with 1 Axes>"
      ]
     },
     "metadata": {
      "needs_background": "light"
     },
     "output_type": "display_data"
    }
   ],
   "source": [
    "data = _df.pivot_table(values=['readmitted'], index='race', aggfunc=np.mean)*100\n",
    "plt.rcParams[\"figure.figsize\"] = [3, 5/3]\n",
    "data.plot.barh(stacked=True, legend=None);\n",
    "plt.rcParams.update({'font.size': 12})\n",
    "plt.xlabel(\"Readmission rate (%)\", size=10)\n",
    "plt.ylabel(\"Race\", size=10)\n",
    "plt.xticks(fontsize=9, rotation=0)\n",
    "plt.yticks(fontsize=9, rotation=0)\n",
    "plt.axvline(x=12, color='blue');"
   ]
  },
  {
   "cell_type": "code",
   "execution_count": 67,
   "id": "37305570",
   "metadata": {},
   "outputs": [
    {
     "data": {
      "image/png": "[encoded data removed]",
      "text/plain": [
       "<Figure size 216x264 with 1 Axes>"
      ]
     },
     "metadata": {
      "needs_background": "light"
     },
     "output_type": "display_data"
    }
   ],
   "source": [
    "data = _df.pivot_table(values=['readmitted'], index='age', aggfunc=np.mean)*100\n",
    "plt.rcParams[\"figure.figsize\"] = [3, 11/3]\n",
    "data.plot.barh(stacked=True, legend=None);\n",
    "plt.rcParams.update({'font.size': 12})\n",
    "plt.xlabel(\"Readmission rate (%)\", size=10)\n",
    "plt.ylabel(\"Age\", size=10)\n",
    "plt.xticks(fontsize=9, rotation=0)\n",
    "plt.yticks(fontsize=9, rotation=0)\n",
    "plt.axvline(x=12, color='blue');"
   ]
  },
  {
   "cell_type": "code",
   "execution_count": 68,
   "id": "8f36baf0",
   "metadata": {},
   "outputs": [
    {
     "data": {
      "image/png": "[encoded data removed]",
      "text/plain": [
       "<Figure size 216x72 with 1 Axes>"
      ]
     },
     "metadata": {
      "needs_background": "light"
     },
     "output_type": "display_data"
    }
   ],
   "source": [
    "data = _df.pivot_table(values=['readmitted'], index='payer_code', aggfunc=np.mean)*100\n",
    "plt.rcParams[\"figure.figsize\"] = [3, 3/3]\n",
    "data.plot.barh(stacked=True, legend=None);\n",
    "plt.rcParams.update({'font.size': 12})\n",
    "plt.xlabel(\"Readmission rate (%)\", size=10)\n",
    "plt.ylabel(\"Insurance status\", size=10)\n",
    "plt.xticks(fontsize=9, rotation=0)\n",
    "plt.yticks(fontsize=9, rotation=0)\n",
    "plt.axvline(x=12, color='blue');"
   ]
  },
  {
   "cell_type": "code",
   "execution_count": 69,
   "id": "babe3369",
   "metadata": {},
   "outputs": [
    {
     "data": {
      "image/png": "[encoded data removed]",
      "text/plain": [
       "<Figure size 216x96 with 1 Axes>"
      ]
     },
     "metadata": {
      "needs_background": "light"
     },
     "output_type": "display_data"
    }
   ],
   "source": [
    "data = _df.pivot_table(values=['readmitted'], index='admission_source_code', aggfunc=np.mean)*100\n",
    "plt.rcParams[\"figure.figsize\"] = [3, 4/3]\n",
    "data.plot.barh(stacked=True, legend=None);\n",
    "plt.rcParams.update({'font.size': 12})\n",
    "plt.xlabel(\"Readmission rate (%)\", size=10)\n",
    "plt.ylabel(\"Admission source\", size=10)\n",
    "plt.xticks(fontsize=9, rotation=0)\n",
    "plt.yticks(fontsize=9, rotation=0)\n",
    "plt.axvline(x=12, color='blue');"
   ]
  },
  {
   "cell_type": "code",
   "execution_count": 70,
   "id": "13170ac4",
   "metadata": {},
   "outputs": [
    {
     "data": {
      "image/png": "[encoded data removed]",
      "text/plain": [
       "<Figure size 216x576 with 1 Axes>"
      ]
     },
     "metadata": {
      "needs_background": "light"
     },
     "output_type": "display_data"
    }
   ],
   "source": [
    "data = _df[_df.medical_specialty != 'unknown']\n",
    "data = data[data.medical_specialty != 'unknown'].pivot_table(values=['readmitted'], index='medical_specialty', aggfunc=np.mean)*100\n",
    "plt.rcParams[\"figure.figsize\"] = [3, 24/3]\n",
    "data.plot.barh(stacked=True, legend=None);\n",
    "plt.rcParams.update({'font.size': 12})\n",
    "plt.xlabel(\"Readmission rate (%)\", size=10)\n",
    "plt.ylabel(\"Medical Specialty\", size=10)\n",
    "plt.xticks(fontsize=9, rotation=0)\n",
    "plt.yticks(fontsize=9, rotation=0)\n",
    "plt.axvline(x=12, color='blue');"
   ]
  },
  {
   "cell_type": "markdown",
   "id": "3161e58a",
   "metadata": {},
   "source": [
    "## Checking rates within admission source\n",
    "#### comparing race"
   ]
  },
  {
   "cell_type": "code",
   "execution_count": 71,
   "id": "aadfa272",
   "metadata": {},
   "outputs": [],
   "source": [
    "admission_types = _df.admission_source_code.unique().tolist()"
   ]
  },
  {
   "cell_type": "code",
   "execution_count": 72,
   "id": "60e96fae",
   "metadata": {},
   "outputs": [],
   "source": [
    "# for admission in admission_types:\n",
    "#     data = _df[_df.admission_source_code == admission]\n",
    "#     data = data.pivot_table(values=['readmitted'], index='race', aggfunc=np.mean)*100\n",
    "#     plt.rcParams[\"figure.figsize\"] = [2, 5/3]\n",
    "#     data.plot.barh(stacked=True, legend=None);\n",
    "#     plt.rcParams.update({'font.size': 12})\n",
    "#     plt.xlabel(\"Readmission rate (%)\", size=10)\n",
    "#     plt.ylabel(\"Race\", size=10)\n",
    "#     plt.xticks(fontsize=9, rotation=0)\n",
    "#     plt.yticks(fontsize=9, rotation=0)\n",
    "#     plt.title(admission, size=10)\n",
    "#     plt.axvline(x=12, color='blue');\n",
    "#     plt.show"
   ]
  },
  {
   "cell_type": "markdown",
   "id": "9875fe86",
   "metadata": {},
   "source": [
    "#### comparing gender"
   ]
  },
  {
   "cell_type": "code",
   "execution_count": 73,
   "id": "3d776228",
   "metadata": {},
   "outputs": [],
   "source": [
    "# for admission in admission_types:\n",
    "#     data = _df[_df.admission_source_code == admission]\n",
    "#     data = data.pivot_table(values=['readmitted'], index='gender', aggfunc=np.mean)*100\n",
    "#     plt.rcParams[\"figure.figsize\"] = [2, 2/3]\n",
    "#     data.plot.barh(stacked=True, legend=None);\n",
    "#     plt.rcParams.update({'font.size': 12})\n",
    "#     plt.xlabel(\"Readmission rate (%)\", size=10)\n",
    "#     plt.ylabel(\"Gender\", size=10)\n",
    "#     plt.xticks(fontsize=9, rotation=0)\n",
    "#     plt.yticks(fontsize=9, rotation=0)\n",
    "#     plt.title(admission, size=10)\n",
    "#     plt.axvline(x=12, color='blue');\n",
    "#     plt.show"
   ]
  },
  {
   "cell_type": "code",
   "execution_count": 74,
   "id": "72a33c84",
   "metadata": {},
   "outputs": [],
   "source": [
    "# for admission in admission_types:\n",
    "#     data = _df[_df.admission_source_code == admission]\n",
    "#     data = data.pivot_table(values=['readmitted'], index='payer_code', aggfunc=np.mean)*100\n",
    "#     plt.rcParams[\"figure.figsize\"] = [2, 3/3]\n",
    "#     data.plot.barh(stacked=True, legend=None);\n",
    "#     plt.rcParams.update({'font.size': 12})\n",
    "#     plt.xlabel(\"Readmission rate (%)\", size=10)\n",
    "#     plt.ylabel(\"Insurance status\", size=10)\n",
    "#     plt.xticks(fontsize=9, rotation=0)\n",
    "#     plt.yticks(fontsize=9, rotation=0)\n",
    "#     plt.title(admission, size=10)\n",
    "#     plt.axvline(x=12, color='blue');\n",
    "#     plt.show"
   ]
  },
  {
   "cell_type": "code",
   "execution_count": 75,
   "id": "1482a9ee",
   "metadata": {},
   "outputs": [],
   "source": [
    "# for admission in admission_types:\n",
    "#     data = _df[_df.admission_source_code == admission]\n",
    "#     data = data.pivot_table(values=['readmitted'], index='age', aggfunc=np.mean)*100\n",
    "#     plt.rcParams[\"figure.figsize\"] = [2, 11/3]\n",
    "#     data.plot.barh(stacked=True, legend=None);\n",
    "#     plt.rcParams.update({'font.size': 12})\n",
    "#     plt.xlabel(\"Readmission rate (%)\", size=10)\n",
    "#     plt.ylabel(\"Age\", size=10)\n",
    "#     plt.xticks(fontsize=9, rotation=0)\n",
    "#     plt.yticks(fontsize=9, rotation=0)\n",
    "#     plt.title(admission, size=10)\n",
    "#     plt.axvline(x=12, color='blue');\n",
    "#     plt.show"
   ]
  },
  {
   "cell_type": "markdown",
   "id": "b5fffa8a",
   "metadata": {},
   "source": [
    "## Checking rates within medical specialty\n",
    "#### comparing race"
   ]
  },
  {
   "cell_type": "code",
   "execution_count": 76,
   "id": "fe05ba94",
   "metadata": {},
   "outputs": [],
   "source": [
    "medical_specialties = _df.medical_specialty.unique().tolist()"
   ]
  },
  {
   "cell_type": "code",
   "execution_count": 77,
   "id": "78593299",
   "metadata": {},
   "outputs": [],
   "source": [
    "# for specialty in medical_specialties:\n",
    "#     data = _df[_df.medical_specialty == specialty]\n",
    "#     data = data.pivot_table(values=['readmitted'], index='race', aggfunc=np.mean)*100\n",
    "#     plt.rcParams[\"figure.figsize\"] = [1, 1]\n",
    "#     data.plot.barh(stacked=True, legend=None);\n",
    "#     plt.rcParams.update({'font.size': 12})\n",
    "#     plt.xlabel(\"Readmission rate (%)\", size=10)\n",
    "#     plt.ylabel(\"Race\", size=10)\n",
    "#     plt.xticks(fontsize=9, rotation=0)\n",
    "#     plt.yticks(fontsize=9, rotation=0)\n",
    "#     plt.title(specialty, size=10)\n",
    "#     plt.axvline(x=12, color='blue');\n",
    "#     plt.show"
   ]
  },
  {
   "cell_type": "code",
   "execution_count": 78,
   "id": "d0dcbba0",
   "metadata": {},
   "outputs": [],
   "source": [
    "# for specialty in medical_specialties:\n",
    "#     data = _df[_df.medical_specialty == specialty]\n",
    "#     data = data.pivot_table(values=['readmitted'], index='gender', aggfunc=np.mean)*100\n",
    "#     plt.rcParams[\"figure.figsize\"] = [2, 2/3]\n",
    "#     data.plot.barh(stacked=True, legend=None);\n",
    "#     plt.rcParams.update({'font.size': 12})\n",
    "#     plt.xlabel(\"Readmission rate (%)\", size=10)\n",
    "#     plt.ylabel(\"Gender\", size=10)\n",
    "#     plt.xticks(fontsize=9, rotation=0)\n",
    "#     plt.yticks(fontsize=9, rotation=0)\n",
    "#     plt.title(specialty, size=10)\n",
    "#     plt.axvline(x=12, color='blue');\n",
    "#     plt.show"
   ]
  },
  {
   "cell_type": "code",
   "execution_count": 79,
   "id": "95f4f729",
   "metadata": {},
   "outputs": [],
   "source": [
    "# for specialty in medical_specialties:\n",
    "#     data = _df[_df.medical_specialty == specialty]\n",
    "#     data = data.pivot_table(values=['readmitted'], index='age', aggfunc=np.mean)*100\n",
    "#     plt.rcParams[\"figure.figsize\"] = [2, 11/6]\n",
    "#     data.plot.barh(stacked=True, legend=None);\n",
    "#     plt.rcParams.update({'font.size': 12})\n",
    "#     plt.xlabel(\"Readmission rate (%)\", size=10)\n",
    "#     plt.ylabel(\"Age\", size=10)\n",
    "#     plt.xticks(fontsize=9, rotation=0)\n",
    "#     plt.yticks(fontsize=9, rotation=0)\n",
    "#     plt.title(specialty, size=10)\n",
    "#     plt.axvline(x=12, color='blue');\n",
    "#     plt.show"
   ]
  },
  {
   "cell_type": "code",
   "execution_count": 80,
   "id": "f900b8ae",
   "metadata": {},
   "outputs": [],
   "source": [
    "# for specialty in medical_specialties:\n",
    "#     data = _df[_df.medical_specialty == specialty]\n",
    "#     data = data.pivot_table(values=['readmitted'], index='payer_code', aggfunc=np.mean)*100\n",
    "#     plt.rcParams[\"figure.figsize\"] = [1, 1]\n",
    "#     data.plot.barh(stacked=True, legend=None);\n",
    "#     plt.rcParams.update({'font.size': 12})\n",
    "#     plt.xlabel(\"Readmission rate (%)\", size=10)\n",
    "#     plt.ylabel(\"Insurance status\", size=10)\n",
    "#     plt.xticks(fontsize=9, rotation=0)\n",
    "#     plt.yticks(fontsize=9, rotation=0)\n",
    "#     plt.title(specialty, size=10)\n",
    "#     plt.axvline(x=12, color='blue');\n",
    "#     plt.show"
   ]
  },
  {
   "cell_type": "code",
   "execution_count": null,
   "id": "37c24665",
   "metadata": {},
   "outputs": [],
   "source": []
  }
 ],
 "metadata": {
  "kernelspec": {
   "display_name": "Python 3",
   "language": "python",
   "name": "python3"
  },
  "language_info": {
   "codemirror_mode": {
    "name": "ipython",
    "version": 3
   },
   "file_extension": ".py",
   "mimetype": "text/x-python",
   "name": "python",
   "nbconvert_exporter": "python",
   "pygments_lexer": "ipython3",
   "version": "3.7.12"
  }
 },
 "nbformat": 4,
 "nbformat_minor": 5
}
